{
 "cells": [
  {
   "cell_type": "markdown",
   "id": "8d54d0eb",
   "metadata": {},
   "source": [
    "# PRACTICE PROJECT 5- ADVERTISING STRATEGY"
   ]
  },
  {
   "cell_type": "code",
   "execution_count": 3,
   "id": "646b0cf9",
   "metadata": {},
   "outputs": [],
   "source": [
    "import pandas as pd\n",
    "import numpy as np"
   ]
  },
  {
   "cell_type": "code",
   "execution_count": 4,
   "id": "50244fb6",
   "metadata": {},
   "outputs": [],
   "source": [
    "dd=pd.read_csv('advertising.csv')"
   ]
  },
  {
   "cell_type": "code",
   "execution_count": 5,
   "id": "ffd65364",
   "metadata": {},
   "outputs": [],
   "source": [
    "df=pd.DataFrame(data=dd)"
   ]
  },
  {
   "cell_type": "code",
   "execution_count": 6,
   "id": "9460cfec",
   "metadata": {},
   "outputs": [
    {
     "data": {
      "text/html": [
       "<div>\n",
       "<style scoped>\n",
       "    .dataframe tbody tr th:only-of-type {\n",
       "        vertical-align: middle;\n",
       "    }\n",
       "\n",
       "    .dataframe tbody tr th {\n",
       "        vertical-align: top;\n",
       "    }\n",
       "\n",
       "    .dataframe thead th {\n",
       "        text-align: right;\n",
       "    }\n",
       "</style>\n",
       "<table border=\"1\" class=\"dataframe\">\n",
       "  <thead>\n",
       "    <tr style=\"text-align: right;\">\n",
       "      <th></th>\n",
       "      <th>SR</th>\n",
       "      <th>TV</th>\n",
       "      <th>radio</th>\n",
       "      <th>newspaper</th>\n",
       "      <th>sales</th>\n",
       "    </tr>\n",
       "  </thead>\n",
       "  <tbody>\n",
       "    <tr>\n",
       "      <th>0</th>\n",
       "      <td>1</td>\n",
       "      <td>230.1</td>\n",
       "      <td>37.8</td>\n",
       "      <td>69.2</td>\n",
       "      <td>22.1</td>\n",
       "    </tr>\n",
       "    <tr>\n",
       "      <th>1</th>\n",
       "      <td>2</td>\n",
       "      <td>44.5</td>\n",
       "      <td>39.3</td>\n",
       "      <td>45.1</td>\n",
       "      <td>10.4</td>\n",
       "    </tr>\n",
       "    <tr>\n",
       "      <th>2</th>\n",
       "      <td>3</td>\n",
       "      <td>17.2</td>\n",
       "      <td>45.9</td>\n",
       "      <td>69.3</td>\n",
       "      <td>9.3</td>\n",
       "    </tr>\n",
       "    <tr>\n",
       "      <th>3</th>\n",
       "      <td>4</td>\n",
       "      <td>151.5</td>\n",
       "      <td>41.3</td>\n",
       "      <td>58.5</td>\n",
       "      <td>18.5</td>\n",
       "    </tr>\n",
       "    <tr>\n",
       "      <th>4</th>\n",
       "      <td>5</td>\n",
       "      <td>180.8</td>\n",
       "      <td>10.8</td>\n",
       "      <td>58.4</td>\n",
       "      <td>12.9</td>\n",
       "    </tr>\n",
       "    <tr>\n",
       "      <th>...</th>\n",
       "      <td>...</td>\n",
       "      <td>...</td>\n",
       "      <td>...</td>\n",
       "      <td>...</td>\n",
       "      <td>...</td>\n",
       "    </tr>\n",
       "    <tr>\n",
       "      <th>195</th>\n",
       "      <td>196</td>\n",
       "      <td>38.2</td>\n",
       "      <td>3.7</td>\n",
       "      <td>13.8</td>\n",
       "      <td>7.6</td>\n",
       "    </tr>\n",
       "    <tr>\n",
       "      <th>196</th>\n",
       "      <td>197</td>\n",
       "      <td>94.2</td>\n",
       "      <td>4.9</td>\n",
       "      <td>8.1</td>\n",
       "      <td>9.7</td>\n",
       "    </tr>\n",
       "    <tr>\n",
       "      <th>197</th>\n",
       "      <td>198</td>\n",
       "      <td>177.0</td>\n",
       "      <td>9.3</td>\n",
       "      <td>6.4</td>\n",
       "      <td>12.8</td>\n",
       "    </tr>\n",
       "    <tr>\n",
       "      <th>198</th>\n",
       "      <td>199</td>\n",
       "      <td>283.6</td>\n",
       "      <td>42.0</td>\n",
       "      <td>66.2</td>\n",
       "      <td>25.5</td>\n",
       "    </tr>\n",
       "    <tr>\n",
       "      <th>199</th>\n",
       "      <td>200</td>\n",
       "      <td>232.1</td>\n",
       "      <td>8.6</td>\n",
       "      <td>8.7</td>\n",
       "      <td>13.4</td>\n",
       "    </tr>\n",
       "  </tbody>\n",
       "</table>\n",
       "<p>200 rows × 5 columns</p>\n",
       "</div>"
      ],
      "text/plain": [
       "      SR     TV  radio  newspaper  sales\n",
       "0      1  230.1   37.8       69.2   22.1\n",
       "1      2   44.5   39.3       45.1   10.4\n",
       "2      3   17.2   45.9       69.3    9.3\n",
       "3      4  151.5   41.3       58.5   18.5\n",
       "4      5  180.8   10.8       58.4   12.9\n",
       "..   ...    ...    ...        ...    ...\n",
       "195  196   38.2    3.7       13.8    7.6\n",
       "196  197   94.2    4.9        8.1    9.7\n",
       "197  198  177.0    9.3        6.4   12.8\n",
       "198  199  283.6   42.0       66.2   25.5\n",
       "199  200  232.1    8.6        8.7   13.4\n",
       "\n",
       "[200 rows x 5 columns]"
      ]
     },
     "execution_count": 6,
     "metadata": {},
     "output_type": "execute_result"
    }
   ],
   "source": [
    "df"
   ]
  },
  {
   "cell_type": "markdown",
   "id": "00410646",
   "metadata": {},
   "source": [
    "# DUPLICATE VALUES CHECK "
   ]
  },
  {
   "cell_type": "code",
   "execution_count": 7,
   "id": "58e8d430",
   "metadata": {},
   "outputs": [],
   "source": [
    "newdf=df.drop_duplicates()"
   ]
  },
  {
   "cell_type": "code",
   "execution_count": 8,
   "id": "c282592f",
   "metadata": {},
   "outputs": [
    {
     "data": {
      "text/html": [
       "<div>\n",
       "<style scoped>\n",
       "    .dataframe tbody tr th:only-of-type {\n",
       "        vertical-align: middle;\n",
       "    }\n",
       "\n",
       "    .dataframe tbody tr th {\n",
       "        vertical-align: top;\n",
       "    }\n",
       "\n",
       "    .dataframe thead th {\n",
       "        text-align: right;\n",
       "    }\n",
       "</style>\n",
       "<table border=\"1\" class=\"dataframe\">\n",
       "  <thead>\n",
       "    <tr style=\"text-align: right;\">\n",
       "      <th></th>\n",
       "      <th>SR</th>\n",
       "      <th>TV</th>\n",
       "      <th>radio</th>\n",
       "      <th>newspaper</th>\n",
       "      <th>sales</th>\n",
       "    </tr>\n",
       "  </thead>\n",
       "  <tbody>\n",
       "    <tr>\n",
       "      <th>0</th>\n",
       "      <td>1</td>\n",
       "      <td>230.1</td>\n",
       "      <td>37.8</td>\n",
       "      <td>69.2</td>\n",
       "      <td>22.1</td>\n",
       "    </tr>\n",
       "    <tr>\n",
       "      <th>1</th>\n",
       "      <td>2</td>\n",
       "      <td>44.5</td>\n",
       "      <td>39.3</td>\n",
       "      <td>45.1</td>\n",
       "      <td>10.4</td>\n",
       "    </tr>\n",
       "    <tr>\n",
       "      <th>2</th>\n",
       "      <td>3</td>\n",
       "      <td>17.2</td>\n",
       "      <td>45.9</td>\n",
       "      <td>69.3</td>\n",
       "      <td>9.3</td>\n",
       "    </tr>\n",
       "    <tr>\n",
       "      <th>3</th>\n",
       "      <td>4</td>\n",
       "      <td>151.5</td>\n",
       "      <td>41.3</td>\n",
       "      <td>58.5</td>\n",
       "      <td>18.5</td>\n",
       "    </tr>\n",
       "    <tr>\n",
       "      <th>4</th>\n",
       "      <td>5</td>\n",
       "      <td>180.8</td>\n",
       "      <td>10.8</td>\n",
       "      <td>58.4</td>\n",
       "      <td>12.9</td>\n",
       "    </tr>\n",
       "    <tr>\n",
       "      <th>...</th>\n",
       "      <td>...</td>\n",
       "      <td>...</td>\n",
       "      <td>...</td>\n",
       "      <td>...</td>\n",
       "      <td>...</td>\n",
       "    </tr>\n",
       "    <tr>\n",
       "      <th>195</th>\n",
       "      <td>196</td>\n",
       "      <td>38.2</td>\n",
       "      <td>3.7</td>\n",
       "      <td>13.8</td>\n",
       "      <td>7.6</td>\n",
       "    </tr>\n",
       "    <tr>\n",
       "      <th>196</th>\n",
       "      <td>197</td>\n",
       "      <td>94.2</td>\n",
       "      <td>4.9</td>\n",
       "      <td>8.1</td>\n",
       "      <td>9.7</td>\n",
       "    </tr>\n",
       "    <tr>\n",
       "      <th>197</th>\n",
       "      <td>198</td>\n",
       "      <td>177.0</td>\n",
       "      <td>9.3</td>\n",
       "      <td>6.4</td>\n",
       "      <td>12.8</td>\n",
       "    </tr>\n",
       "    <tr>\n",
       "      <th>198</th>\n",
       "      <td>199</td>\n",
       "      <td>283.6</td>\n",
       "      <td>42.0</td>\n",
       "      <td>66.2</td>\n",
       "      <td>25.5</td>\n",
       "    </tr>\n",
       "    <tr>\n",
       "      <th>199</th>\n",
       "      <td>200</td>\n",
       "      <td>232.1</td>\n",
       "      <td>8.6</td>\n",
       "      <td>8.7</td>\n",
       "      <td>13.4</td>\n",
       "    </tr>\n",
       "  </tbody>\n",
       "</table>\n",
       "<p>200 rows × 5 columns</p>\n",
       "</div>"
      ],
      "text/plain": [
       "      SR     TV  radio  newspaper  sales\n",
       "0      1  230.1   37.8       69.2   22.1\n",
       "1      2   44.5   39.3       45.1   10.4\n",
       "2      3   17.2   45.9       69.3    9.3\n",
       "3      4  151.5   41.3       58.5   18.5\n",
       "4      5  180.8   10.8       58.4   12.9\n",
       "..   ...    ...    ...        ...    ...\n",
       "195  196   38.2    3.7       13.8    7.6\n",
       "196  197   94.2    4.9        8.1    9.7\n",
       "197  198  177.0    9.3        6.4   12.8\n",
       "198  199  283.6   42.0       66.2   25.5\n",
       "199  200  232.1    8.6        8.7   13.4\n",
       "\n",
       "[200 rows x 5 columns]"
      ]
     },
     "execution_count": 8,
     "metadata": {},
     "output_type": "execute_result"
    }
   ],
   "source": [
    "newdf"
   ]
  },
  {
   "cell_type": "markdown",
   "id": "462dbd7b",
   "metadata": {},
   "source": [
    "### NO DUPLICATE VALUES"
   ]
  },
  {
   "cell_type": "markdown",
   "id": "476f400c",
   "metadata": {},
   "source": [
    "# CHECKING THE COUNT OF TARGET COLUMN"
   ]
  },
  {
   "cell_type": "code",
   "execution_count": 9,
   "id": "d9c76348",
   "metadata": {},
   "outputs": [
    {
     "data": {
      "text/plain": [
       "9.7     5\n",
       "11.7    4\n",
       "12.9    4\n",
       "15.9    4\n",
       "20.7    3\n",
       "       ..\n",
       "17.0    1\n",
       "18.3    1\n",
       "22.3    1\n",
       "14.0    1\n",
       "25.5    1\n",
       "Name: sales, Length: 121, dtype: int64"
      ]
     },
     "execution_count": 9,
     "metadata": {},
     "output_type": "execute_result"
    }
   ],
   "source": [
    "newdf['sales'].value_counts()"
   ]
  },
  {
   "cell_type": "code",
   "execution_count": 18,
   "id": "f9daa4cc",
   "metadata": {},
   "outputs": [
    {
     "data": {
      "text/plain": [
       "199.8    2\n",
       "109.8    2\n",
       "17.2     2\n",
       "177.0    2\n",
       "222.4    2\n",
       "        ..\n",
       "139.3    1\n",
       "216.8    1\n",
       "199.1    1\n",
       "26.8     1\n",
       "232.1    1\n",
       "Name: TV, Length: 190, dtype: int64"
      ]
     },
     "execution_count": 18,
     "metadata": {},
     "output_type": "execute_result"
    }
   ],
   "source": [
    "newdf['TV'].value_counts()"
   ]
  },
  {
   "cell_type": "code",
   "execution_count": 19,
   "id": "0d8bfa65",
   "metadata": {},
   "outputs": [
    {
     "data": {
      "text/plain": [
       "4.1     3\n",
       "5.7     3\n",
       "13.9    2\n",
       "14.3    2\n",
       "36.9    2\n",
       "       ..\n",
       "42.8    1\n",
       "14.5    1\n",
       "30.6    1\n",
       "33.0    1\n",
       "8.6     1\n",
       "Name: radio, Length: 167, dtype: int64"
      ]
     },
     "execution_count": 19,
     "metadata": {},
     "output_type": "execute_result"
    }
   ],
   "source": [
    "newdf['radio'].value_counts()"
   ]
  },
  {
   "cell_type": "code",
   "execution_count": 20,
   "id": "72c0a2d0",
   "metadata": {},
   "outputs": [
    {
     "data": {
      "text/plain": [
       "9.3     3\n",
       "25.6    3\n",
       "8.7     3\n",
       "34.6    2\n",
       "8.5     2\n",
       "       ..\n",
       "27.2    1\n",
       "31.7    1\n",
       "19.3    1\n",
       "31.3    1\n",
       "66.2    1\n",
       "Name: newspaper, Length: 172, dtype: int64"
      ]
     },
     "execution_count": 20,
     "metadata": {},
     "output_type": "execute_result"
    }
   ],
   "source": [
    "newdf['newspaper'].value_counts()"
   ]
  },
  {
   "cell_type": "markdown",
   "id": "5d78d08b",
   "metadata": {},
   "source": [
    "## CHECKING THE UNIQUE VALUES IN THE TARGET COLUMN "
   ]
  },
  {
   "cell_type": "code",
   "execution_count": 10,
   "id": "b1ef707f",
   "metadata": {},
   "outputs": [
    {
     "data": {
      "text/plain": [
       "array([22.1, 10.4,  9.3, 18.5, 12.9,  7.2, 11.8, 13.2,  4.8, 10.6,  8.6,\n",
       "       17.4,  9.2,  9.7, 19. , 22.4, 12.5, 24.4, 11.3, 14.6, 18. ,  5.6,\n",
       "       15.5, 12. , 15. , 15.9, 18.9, 10.5, 21.4, 11.9,  9.6,  9.5, 12.8,\n",
       "       25.4, 14.7, 10.1, 21.5, 16.6, 17.1, 20.7,  8.5, 14.9, 23.2, 14.8,\n",
       "       11.4, 10.7, 22.6, 21.2, 20.2, 23.7,  5.5, 23.8, 18.4,  8.1, 24.2,\n",
       "       15.7, 14. , 13.4, 22.3, 18.3, 12.4,  8.8, 11. , 17. ,  8.7,  6.9,\n",
       "       14.2,  5.3, 12.3, 13.6, 21.7, 15.2, 16. , 16.7, 11.2,  7.3, 19.4,\n",
       "       22.2, 11.5, 16.9, 11.7, 17.2, 19.2, 19.8, 21.8, 14.1, 12.6, 12.2,\n",
       "        9.4,  6.6,  7. , 11.6, 19.7, 24.7,  1.6, 12.7,  5.7, 19.6, 10.8,\n",
       "       20.8, 10.9, 20.1, 10.3, 16.1, 15.6,  3.2, 15.3, 14.4, 13.3,  8. ,\n",
       "        8.4, 14.5,  7.6, 27. , 26.2, 17.6, 17.3,  6.7,  9.9,  5.9, 25.5])"
      ]
     },
     "execution_count": 10,
     "metadata": {},
     "output_type": "execute_result"
    }
   ],
   "source": [
    "newdf['sales'].unique()"
   ]
  },
  {
   "cell_type": "code",
   "execution_count": 15,
   "id": "023a21ea",
   "metadata": {},
   "outputs": [
    {
     "data": {
      "text/plain": [
       "array([ 69.2,  45.1,  69.3,  58.5,  58.4,  75. ,  23.5,  11.6,   1. ,\n",
       "        21.2,  24.2,   4. ,  65.9,   7.2,  46. ,  52.9, 114. ,  55.8,\n",
       "        18.3,  19.1,  53.4,  49.6,  26.2,  19.5,  12.6,  22.9,  40.8,\n",
       "        43.2,  38.6,  30. ,   0.3,   7.4,   8.5,   5. ,  45.7,  35.1,\n",
       "        32. ,  31.6,  38.7,   1.8,  26.4,  43.3,  31.5,  35.7,  18.5,\n",
       "        49.9,  36.8,  34.6,   3.6,  39.6,  58.7,  15.9,  60. ,  41.4,\n",
       "        16.6,  37.7,   9.3,  21.4,  54.7,  27.3,   8.4,  28.9,   0.9,\n",
       "         2.2,  10.2,  11. ,  27.2,  31.7,  19.3,  31.3,  13.1,  89.4,\n",
       "        20.7,  14.2,   9.4,  23.1,  22.3,  36.9,  32.5,  35.6,  33.8,\n",
       "        65.7,  16. ,  63.2,  73.4,  51.4,  33. ,  59. ,  72.3,  10.9,\n",
       "         5.9,  22. ,  51.2,  45.9,  49.8, 100.9,  17.9,   5.3,  29.7,\n",
       "        23.2,  25.6,   5.5,  56.5,   2.4,  10.7,  34.5,  52.7,  14.8,\n",
       "        79.2,  46.2,  50.4,  15.6,  12.4,  74.2,  25.9,  50.6,   9.2,\n",
       "         3.2,  43.1,   8.7,  43. ,   2.1,  65.6,  59.7,  20.5,   1.7,\n",
       "        12.9,  75.6,  37.9,  34.4,  38.9,   9. ,  44.3,  11.9,  20.6,\n",
       "        37. ,  48.7,   9.5,   5.7,  50.5,  24.3,  45.2,  30.7,  49.3,\n",
       "         5.4,  84.8,  21.6,  19.4,  57.6,   6.4,  18.4,  47.4,  17. ,\n",
       "        12.8,  41.8,  20.3,  35.2,  23.7,  17.6,   8.3,  27.4,  71.8,\n",
       "        19.6,  26.6,  18.2,   3.7,  23.4,   5.8,   6. ,  13.8,   8.1,\n",
       "        66.2])"
      ]
     },
     "execution_count": 15,
     "metadata": {},
     "output_type": "execute_result"
    }
   ],
   "source": [
    "newdf['newspaper'].unique()"
   ]
  },
  {
   "cell_type": "code",
   "execution_count": 16,
   "id": "af804492",
   "metadata": {},
   "outputs": [
    {
     "data": {
      "text/plain": [
       "array([230.1,  44.5,  17.2, 151.5, 180.8,   8.7,  57.5, 120.2,   8.6,\n",
       "       199.8,  66.1, 214.7,  23.8,  97.5, 204.1, 195.4,  67.8, 281.4,\n",
       "        69.2, 147.3, 218.4, 237.4,  13.2, 228.3,  62.3, 262.9, 142.9,\n",
       "       240.1, 248.8,  70.6, 292.9, 112.9,  97.2, 265.6,  95.7, 290.7,\n",
       "       266.9,  74.7,  43.1, 228. , 202.5, 177. , 293.6, 206.9,  25.1,\n",
       "       175.1,  89.7, 239.9, 227.2,  66.9, 100.4, 216.4, 182.6, 262.7,\n",
       "       198.9,   7.3, 136.2, 210.8, 210.7,  53.5, 261.3, 239.3, 102.7,\n",
       "       131.1,  69. ,  31.5, 139.3, 216.8, 199.1, 109.8,  26.8, 129.4,\n",
       "       213.4,  16.9,  27.5, 120.5,   5.4, 116. ,  76.4, 239.8,  75.3,\n",
       "        68.4, 213.5, 193.2,  76.3, 110.7,  88.3, 134.3,  28.6, 217.7,\n",
       "       250.9, 107.4, 163.3, 197.6, 184.9, 289.7, 135.2, 222.4, 296.4,\n",
       "       280.2, 187.9, 238.2, 137.9,  25. ,  90.4,  13.1, 255.4, 225.8,\n",
       "       241.7, 175.7, 209.6,  78.2,  75.1, 139.2, 125.7,  19.4, 141.3,\n",
       "        18.8, 224. , 123.1, 229.5,  87.2,   7.8,  80.2, 220.3,  59.6,\n",
       "         0.7, 265.2,   8.4, 219.8,  36.9,  48.3,  25.6, 273.7,  43. ,\n",
       "        73.4, 193.7, 220.5, 104.6,  96.2, 140.3, 243.2,  38. ,  44.7,\n",
       "       280.7, 121. , 171.3, 187.8,   4.1,  93.9, 149.8,  11.7, 131.7,\n",
       "       172.5,  85.7, 188.4, 163.5, 117.2, 234.5,  17.9, 206.8, 215.4,\n",
       "       284.3,  50. , 164.5,  19.6, 168.4, 276.9, 248.4, 170.2, 276.7,\n",
       "       165.6, 156.6, 218.5,  56.2, 287.6, 253.8, 205. , 139.5, 191.1,\n",
       "       286. ,  18.7,  39.5,  75.5, 166.8, 149.7,  38.2,  94.2, 283.6,\n",
       "       232.1])"
      ]
     },
     "execution_count": 16,
     "metadata": {},
     "output_type": "execute_result"
    }
   ],
   "source": [
    "newdf['TV'].unique()"
   ]
  },
  {
   "cell_type": "code",
   "execution_count": 17,
   "id": "d233c627",
   "metadata": {},
   "outputs": [
    {
     "data": {
      "text/plain": [
       "array([37.8, 39.3, 45.9, 41.3, 10.8, 48.9, 32.8, 19.6,  2.1,  2.6,  5.8,\n",
       "       24. , 35.1,  7.6, 32.9, 47.7, 36.6, 39.6, 20.5, 23.9, 27.7,  5.1,\n",
       "       15.9, 16.9, 12.6,  3.5, 29.3, 16.7, 27.1, 16. , 28.3, 17.4,  1.5,\n",
       "       20. ,  1.4,  4.1, 43.8, 49.4, 26.7, 37.7, 22.3, 33.4,  8.4, 25.7,\n",
       "       22.5,  9.9, 41.5, 15.8, 11.7,  3.1,  9.6, 41.7, 46.2, 28.8, 28.1,\n",
       "       19.2, 49.6, 29.5,  2. , 42.7, 15.5, 29.6, 42.8,  9.3, 24.6, 14.5,\n",
       "       27.5, 43.9, 30.6, 14.3, 33. ,  5.7, 43.7,  1.6, 28.5, 29.9,  7.7,\n",
       "       20.3, 44.5, 43. , 18.4, 40.6, 25.5, 47.8,  4.9, 33.5, 36.5, 14. ,\n",
       "       31.6, 21. , 42.3,  4.3, 36.3, 10.1, 17.2, 34.3, 46.4, 11. ,  0.3,\n",
       "        0.4, 26.9,  8.2, 38. , 15.4, 20.6, 46.8, 35. ,  0.8, 36.9, 26.8,\n",
       "       21.7,  2.4, 34.6, 32.3, 11.8, 38.9,  0. , 49. , 12. ,  2.9, 27.2,\n",
       "       38.6, 47. , 39. , 28.9, 25.9, 17. , 35.4, 33.2, 14.8,  1.9,  7.3,\n",
       "       40.3, 25.8, 13.9, 23.3, 39.7, 21.1, 11.6, 43.5,  1.3, 18.1, 35.8,\n",
       "       36.8, 14.7,  3.4, 37.6,  5.2, 23.6, 10.6, 20.9, 20.1,  7.1, 30.2,\n",
       "        7.8,  2.3, 10. ,  5.4, 21.3, 45.1, 28.7, 12.1, 41.1, 42. , 35.6,\n",
       "        3.7,  8.6])"
      ]
     },
     "execution_count": 17,
     "metadata": {},
     "output_type": "execute_result"
    }
   ],
   "source": [
    "newdf['radio'].unique()"
   ]
  },
  {
   "cell_type": "markdown",
   "id": "f7faac81",
   "metadata": {},
   "source": [
    "## IDENTIFICATION OF VARIABLES & DATA TYPES"
   ]
  },
  {
   "cell_type": "code",
   "execution_count": 11,
   "id": "4ffeb7a8",
   "metadata": {},
   "outputs": [
    {
     "name": "stdout",
     "output_type": "stream",
     "text": [
      "<class 'pandas.core.frame.DataFrame'>\n",
      "Int64Index: 200 entries, 0 to 199\n",
      "Data columns (total 5 columns):\n",
      " #   Column     Non-Null Count  Dtype  \n",
      "---  ------     --------------  -----  \n",
      " 0   SR         200 non-null    int64  \n",
      " 1   TV         200 non-null    float64\n",
      " 2   radio      200 non-null    float64\n",
      " 3   newspaper  200 non-null    float64\n",
      " 4   sales      200 non-null    float64\n",
      "dtypes: float64(4), int64(1)\n",
      "memory usage: 9.4 KB\n"
     ]
    }
   ],
   "source": [
    "newdf.info()"
   ]
  },
  {
   "cell_type": "code",
   "execution_count": 12,
   "id": "6ee782bc",
   "metadata": {},
   "outputs": [
    {
     "data": {
      "text/plain": [
       "SR             int64\n",
       "TV           float64\n",
       "radio        float64\n",
       "newspaper    float64\n",
       "sales        float64\n",
       "dtype: object"
      ]
     },
     "execution_count": 12,
     "metadata": {},
     "output_type": "execute_result"
    }
   ],
   "source": [
    "newdf.dtypes"
   ]
  },
  {
   "cell_type": "markdown",
   "id": "c37dea3f",
   "metadata": {},
   "source": [
    "### WE HAVE BOTH FLOAT & INTEGAR VALUES AND NO CATEGORICAL VALUES HENCE NO NEED FOR ONEHOT ENCODER OR LABEL ENCODER TO CONVERT THEM "
   ]
  },
  {
   "cell_type": "markdown",
   "id": "289fae2c",
   "metadata": {},
   "source": [
    "## CHECKING FOR NULL/ MISSING VALUES"
   ]
  },
  {
   "cell_type": "code",
   "execution_count": 13,
   "id": "86bc3eb3",
   "metadata": {},
   "outputs": [
    {
     "data": {
      "text/plain": [
       "SR           0\n",
       "TV           0\n",
       "radio        0\n",
       "newspaper    0\n",
       "sales        0\n",
       "dtype: int64"
      ]
     },
     "execution_count": 13,
     "metadata": {},
     "output_type": "execute_result"
    }
   ],
   "source": [
    "newdf.isnull().sum()"
   ]
  },
  {
   "cell_type": "markdown",
   "id": "18f25230",
   "metadata": {},
   "source": [
    "### NO NULL & MISSING VALUES ARE FOUND- HENCE NO NEED FOR IMPUTATION"
   ]
  },
  {
   "cell_type": "markdown",
   "id": "895321c7",
   "metadata": {},
   "source": [
    "## FIRST 5 COLUMN CHECK"
   ]
  },
  {
   "cell_type": "code",
   "execution_count": 14,
   "id": "d5fe5de6",
   "metadata": {},
   "outputs": [
    {
     "data": {
      "text/html": [
       "<div>\n",
       "<style scoped>\n",
       "    .dataframe tbody tr th:only-of-type {\n",
       "        vertical-align: middle;\n",
       "    }\n",
       "\n",
       "    .dataframe tbody tr th {\n",
       "        vertical-align: top;\n",
       "    }\n",
       "\n",
       "    .dataframe thead th {\n",
       "        text-align: right;\n",
       "    }\n",
       "</style>\n",
       "<table border=\"1\" class=\"dataframe\">\n",
       "  <thead>\n",
       "    <tr style=\"text-align: right;\">\n",
       "      <th></th>\n",
       "      <th>SR</th>\n",
       "      <th>TV</th>\n",
       "      <th>radio</th>\n",
       "      <th>newspaper</th>\n",
       "      <th>sales</th>\n",
       "    </tr>\n",
       "  </thead>\n",
       "  <tbody>\n",
       "    <tr>\n",
       "      <th>0</th>\n",
       "      <td>1</td>\n",
       "      <td>230.1</td>\n",
       "      <td>37.8</td>\n",
       "      <td>69.2</td>\n",
       "      <td>22.1</td>\n",
       "    </tr>\n",
       "    <tr>\n",
       "      <th>1</th>\n",
       "      <td>2</td>\n",
       "      <td>44.5</td>\n",
       "      <td>39.3</td>\n",
       "      <td>45.1</td>\n",
       "      <td>10.4</td>\n",
       "    </tr>\n",
       "    <tr>\n",
       "      <th>2</th>\n",
       "      <td>3</td>\n",
       "      <td>17.2</td>\n",
       "      <td>45.9</td>\n",
       "      <td>69.3</td>\n",
       "      <td>9.3</td>\n",
       "    </tr>\n",
       "    <tr>\n",
       "      <th>3</th>\n",
       "      <td>4</td>\n",
       "      <td>151.5</td>\n",
       "      <td>41.3</td>\n",
       "      <td>58.5</td>\n",
       "      <td>18.5</td>\n",
       "    </tr>\n",
       "    <tr>\n",
       "      <th>4</th>\n",
       "      <td>5</td>\n",
       "      <td>180.8</td>\n",
       "      <td>10.8</td>\n",
       "      <td>58.4</td>\n",
       "      <td>12.9</td>\n",
       "    </tr>\n",
       "  </tbody>\n",
       "</table>\n",
       "</div>"
      ],
      "text/plain": [
       "   SR     TV  radio  newspaper  sales\n",
       "0   1  230.1   37.8       69.2   22.1\n",
       "1   2   44.5   39.3       45.1   10.4\n",
       "2   3   17.2   45.9       69.3    9.3\n",
       "3   4  151.5   41.3       58.5   18.5\n",
       "4   5  180.8   10.8       58.4   12.9"
      ]
     },
     "execution_count": 14,
     "metadata": {},
     "output_type": "execute_result"
    }
   ],
   "source": [
    "newdf.head()"
   ]
  },
  {
   "cell_type": "markdown",
   "id": "6824f3ac",
   "metadata": {},
   "source": [
    "## LAST 5 COLUMN CHECK"
   ]
  },
  {
   "cell_type": "code",
   "execution_count": 18,
   "id": "69c96cb3",
   "metadata": {},
   "outputs": [
    {
     "data": {
      "text/html": [
       "<div>\n",
       "<style scoped>\n",
       "    .dataframe tbody tr th:only-of-type {\n",
       "        vertical-align: middle;\n",
       "    }\n",
       "\n",
       "    .dataframe tbody tr th {\n",
       "        vertical-align: top;\n",
       "    }\n",
       "\n",
       "    .dataframe thead th {\n",
       "        text-align: right;\n",
       "    }\n",
       "</style>\n",
       "<table border=\"1\" class=\"dataframe\">\n",
       "  <thead>\n",
       "    <tr style=\"text-align: right;\">\n",
       "      <th></th>\n",
       "      <th>SR</th>\n",
       "      <th>TV</th>\n",
       "      <th>radio</th>\n",
       "      <th>newspaper</th>\n",
       "      <th>sales</th>\n",
       "    </tr>\n",
       "  </thead>\n",
       "  <tbody>\n",
       "    <tr>\n",
       "      <th>195</th>\n",
       "      <td>196</td>\n",
       "      <td>38.2</td>\n",
       "      <td>3.7</td>\n",
       "      <td>13.8</td>\n",
       "      <td>7.6</td>\n",
       "    </tr>\n",
       "    <tr>\n",
       "      <th>196</th>\n",
       "      <td>197</td>\n",
       "      <td>94.2</td>\n",
       "      <td>4.9</td>\n",
       "      <td>8.1</td>\n",
       "      <td>9.7</td>\n",
       "    </tr>\n",
       "    <tr>\n",
       "      <th>197</th>\n",
       "      <td>198</td>\n",
       "      <td>177.0</td>\n",
       "      <td>9.3</td>\n",
       "      <td>6.4</td>\n",
       "      <td>12.8</td>\n",
       "    </tr>\n",
       "    <tr>\n",
       "      <th>198</th>\n",
       "      <td>199</td>\n",
       "      <td>283.6</td>\n",
       "      <td>42.0</td>\n",
       "      <td>66.2</td>\n",
       "      <td>25.5</td>\n",
       "    </tr>\n",
       "    <tr>\n",
       "      <th>199</th>\n",
       "      <td>200</td>\n",
       "      <td>232.1</td>\n",
       "      <td>8.6</td>\n",
       "      <td>8.7</td>\n",
       "      <td>13.4</td>\n",
       "    </tr>\n",
       "  </tbody>\n",
       "</table>\n",
       "</div>"
      ],
      "text/plain": [
       "      SR     TV  radio  newspaper  sales\n",
       "195  196   38.2    3.7       13.8    7.6\n",
       "196  197   94.2    4.9        8.1    9.7\n",
       "197  198  177.0    9.3        6.4   12.8\n",
       "198  199  283.6   42.0       66.2   25.5\n",
       "199  200  232.1    8.6        8.7   13.4"
      ]
     },
     "execution_count": 18,
     "metadata": {},
     "output_type": "execute_result"
    }
   ],
   "source": [
    "newdf.tail()"
   ]
  },
  {
   "cell_type": "markdown",
   "id": "842fd971",
   "metadata": {},
   "source": [
    "## CHECKING A SAMPLE ROW"
   ]
  },
  {
   "cell_type": "code",
   "execution_count": 19,
   "id": "c088404c",
   "metadata": {},
   "outputs": [
    {
     "data": {
      "text/html": [
       "<div>\n",
       "<style scoped>\n",
       "    .dataframe tbody tr th:only-of-type {\n",
       "        vertical-align: middle;\n",
       "    }\n",
       "\n",
       "    .dataframe tbody tr th {\n",
       "        vertical-align: top;\n",
       "    }\n",
       "\n",
       "    .dataframe thead th {\n",
       "        text-align: right;\n",
       "    }\n",
       "</style>\n",
       "<table border=\"1\" class=\"dataframe\">\n",
       "  <thead>\n",
       "    <tr style=\"text-align: right;\">\n",
       "      <th></th>\n",
       "      <th>SR</th>\n",
       "      <th>TV</th>\n",
       "      <th>radio</th>\n",
       "      <th>newspaper</th>\n",
       "      <th>sales</th>\n",
       "    </tr>\n",
       "  </thead>\n",
       "  <tbody>\n",
       "    <tr>\n",
       "      <th>157</th>\n",
       "      <td>158</td>\n",
       "      <td>149.8</td>\n",
       "      <td>1.3</td>\n",
       "      <td>24.3</td>\n",
       "      <td>10.1</td>\n",
       "    </tr>\n",
       "  </tbody>\n",
       "</table>\n",
       "</div>"
      ],
      "text/plain": [
       "      SR     TV  radio  newspaper  sales\n",
       "157  158  149.8    1.3       24.3   10.1"
      ]
     },
     "execution_count": 19,
     "metadata": {},
     "output_type": "execute_result"
    }
   ],
   "source": [
    "newdf.sample()"
   ]
  },
  {
   "cell_type": "markdown",
   "id": "f8e8a2c2",
   "metadata": {},
   "source": [
    "## NON GRAPHICAL UNIVARIATE ANALYSIS"
   ]
  },
  {
   "cell_type": "code",
   "execution_count": 20,
   "id": "e5e1dbcd",
   "metadata": {},
   "outputs": [
    {
     "data": {
      "text/html": [
       "<div>\n",
       "<style scoped>\n",
       "    .dataframe tbody tr th:only-of-type {\n",
       "        vertical-align: middle;\n",
       "    }\n",
       "\n",
       "    .dataframe tbody tr th {\n",
       "        vertical-align: top;\n",
       "    }\n",
       "\n",
       "    .dataframe thead th {\n",
       "        text-align: right;\n",
       "    }\n",
       "</style>\n",
       "<table border=\"1\" class=\"dataframe\">\n",
       "  <thead>\n",
       "    <tr style=\"text-align: right;\">\n",
       "      <th></th>\n",
       "      <th>SR</th>\n",
       "      <th>TV</th>\n",
       "      <th>radio</th>\n",
       "      <th>newspaper</th>\n",
       "      <th>sales</th>\n",
       "    </tr>\n",
       "  </thead>\n",
       "  <tbody>\n",
       "    <tr>\n",
       "      <th>count</th>\n",
       "      <td>200.000000</td>\n",
       "      <td>200.000000</td>\n",
       "      <td>200.000000</td>\n",
       "      <td>200.000000</td>\n",
       "      <td>200.000000</td>\n",
       "    </tr>\n",
       "    <tr>\n",
       "      <th>mean</th>\n",
       "      <td>100.500000</td>\n",
       "      <td>147.042500</td>\n",
       "      <td>23.264000</td>\n",
       "      <td>30.554000</td>\n",
       "      <td>14.022500</td>\n",
       "    </tr>\n",
       "    <tr>\n",
       "      <th>std</th>\n",
       "      <td>57.879185</td>\n",
       "      <td>85.854236</td>\n",
       "      <td>14.846809</td>\n",
       "      <td>21.778621</td>\n",
       "      <td>5.217457</td>\n",
       "    </tr>\n",
       "    <tr>\n",
       "      <th>min</th>\n",
       "      <td>1.000000</td>\n",
       "      <td>0.700000</td>\n",
       "      <td>0.000000</td>\n",
       "      <td>0.300000</td>\n",
       "      <td>1.600000</td>\n",
       "    </tr>\n",
       "    <tr>\n",
       "      <th>25%</th>\n",
       "      <td>50.750000</td>\n",
       "      <td>74.375000</td>\n",
       "      <td>9.975000</td>\n",
       "      <td>12.750000</td>\n",
       "      <td>10.375000</td>\n",
       "    </tr>\n",
       "    <tr>\n",
       "      <th>50%</th>\n",
       "      <td>100.500000</td>\n",
       "      <td>149.750000</td>\n",
       "      <td>22.900000</td>\n",
       "      <td>25.750000</td>\n",
       "      <td>12.900000</td>\n",
       "    </tr>\n",
       "    <tr>\n",
       "      <th>75%</th>\n",
       "      <td>150.250000</td>\n",
       "      <td>218.825000</td>\n",
       "      <td>36.525000</td>\n",
       "      <td>45.100000</td>\n",
       "      <td>17.400000</td>\n",
       "    </tr>\n",
       "    <tr>\n",
       "      <th>max</th>\n",
       "      <td>200.000000</td>\n",
       "      <td>296.400000</td>\n",
       "      <td>49.600000</td>\n",
       "      <td>114.000000</td>\n",
       "      <td>27.000000</td>\n",
       "    </tr>\n",
       "  </tbody>\n",
       "</table>\n",
       "</div>"
      ],
      "text/plain": [
       "               SR          TV       radio   newspaper       sales\n",
       "count  200.000000  200.000000  200.000000  200.000000  200.000000\n",
       "mean   100.500000  147.042500   23.264000   30.554000   14.022500\n",
       "std     57.879185   85.854236   14.846809   21.778621    5.217457\n",
       "min      1.000000    0.700000    0.000000    0.300000    1.600000\n",
       "25%     50.750000   74.375000    9.975000   12.750000   10.375000\n",
       "50%    100.500000  149.750000   22.900000   25.750000   12.900000\n",
       "75%    150.250000  218.825000   36.525000   45.100000   17.400000\n",
       "max    200.000000  296.400000   49.600000  114.000000   27.000000"
      ]
     },
     "execution_count": 20,
     "metadata": {},
     "output_type": "execute_result"
    }
   ],
   "source": [
    "newdf.describe()"
   ]
  },
  {
   "cell_type": "markdown",
   "id": "e3d4e959",
   "metadata": {},
   "source": [
    "### SKEWNESS CHECK -NEWSPAPER COLUMN HAS SOME SKEWNESS AS THE MEAN IS HIGHER THAN THE MEDIAN "
   ]
  },
  {
   "cell_type": "markdown",
   "id": "0cecf8a2",
   "metadata": {},
   "source": [
    "### OUTLIERS CHECK OUTLIERS ARE PRESENT IN TV,NEWSPAPER AND RADIO COLUMNS WHICH WE WILL TREAT LATER"
   ]
  },
  {
   "cell_type": "markdown",
   "id": "8f04fcb7",
   "metadata": {},
   "source": [
    "## EDA"
   ]
  },
  {
   "cell_type": "code",
   "execution_count": 21,
   "id": "2364067e",
   "metadata": {},
   "outputs": [],
   "source": [
    "import seaborn as sns\n",
    "import matplotlib.pyplot as plt"
   ]
  },
  {
   "cell_type": "markdown",
   "id": "91e63387",
   "metadata": {},
   "source": [
    "## GRAPHICAL UNIVARIATE ANALYSIS"
   ]
  },
  {
   "cell_type": "code",
   "execution_count": 23,
   "id": "7d3a76d0",
   "metadata": {},
   "outputs": [
    {
     "data": {
      "text/plain": [
       "Index(['SR', 'TV', 'radio', 'newspaper', 'sales'], dtype='object')"
      ]
     },
     "execution_count": 23,
     "metadata": {},
     "output_type": "execute_result"
    }
   ],
   "source": [
    "newdf.columns"
   ]
  },
  {
   "cell_type": "code",
   "execution_count": 30,
   "id": "ab8c9e8b",
   "metadata": {},
   "outputs": [
    {
     "data": {
      "text/plain": [
       "<AxesSubplot:xlabel='TV', ylabel='Count'>"
      ]
     },
     "execution_count": 30,
     "metadata": {},
     "output_type": "execute_result"
    },
    {
     "data": {
      "image/png": "[encoded data removed]",
      "text/plain": [
       "<Figure size 432x288 with 1 Axes>"
      ]
     },
     "metadata": {
      "needs_background": "light"
     },
     "output_type": "display_data"
    }
   ],
   "source": [
    "sns.histplot(newdf['TV'],bins=25)"
   ]
  },
  {
   "cell_type": "markdown",
   "id": "da1bab8a",
   "metadata": {},
   "source": [
    "### HIGHEST EXPENSE ON TV ADS RANGE BETWEEN 200-250"
   ]
  },
  {
   "cell_type": "code",
   "execution_count": 31,
   "id": "422474b6",
   "metadata": {},
   "outputs": [
    {
     "data": {
      "text/plain": [
       "<AxesSubplot:xlabel='radio', ylabel='Count'>"
      ]
     },
     "execution_count": 31,
     "metadata": {},
     "output_type": "execute_result"
    },
    {
     "data": {
      "image/png": "[encoded data removed]",
      "text/plain": [
       "<Figure size 432x288 with 1 Axes>"
      ]
     },
     "metadata": {
      "needs_background": "light"
     },
     "output_type": "display_data"
    }
   ],
   "source": [
    "sns.histplot(newdf['radio'],bins=25)"
   ]
  },
  {
   "cell_type": "markdown",
   "id": "e4a39023",
   "metadata": {},
   "source": [
    "### HIGHEST EXPENSE ON RADIO ADS RANGE BETWEEN 5-7"
   ]
  },
  {
   "cell_type": "code",
   "execution_count": 26,
   "id": "d8c2a356",
   "metadata": {},
   "outputs": [
    {
     "data": {
      "text/plain": [
       "<AxesSubplot:xlabel='newspaper', ylabel='Count'>"
      ]
     },
     "execution_count": 26,
     "metadata": {},
     "output_type": "execute_result"
    },
    {
     "data": {
      "image/png": "[encoded data removed]",
      "text/plain": [
       "<Figure size 432x288 with 1 Axes>"
      ]
     },
     "metadata": {
      "needs_background": "light"
     },
     "output_type": "display_data"
    }
   ],
   "source": [
    "sns.histplot(newdf['newspaper'],bins=25)"
   ]
  },
  {
   "cell_type": "markdown",
   "id": "5bb1d24c",
   "metadata": {},
   "source": [
    "### HIGHEST EXPENSE ON NEWPAPER ADS RANGE BETWEEN 10-15"
   ]
  },
  {
   "cell_type": "code",
   "execution_count": 27,
   "id": "713ebe6c",
   "metadata": {},
   "outputs": [
    {
     "data": {
      "text/plain": [
       "<AxesSubplot:xlabel='sales', ylabel='Count'>"
      ]
     },
     "execution_count": 27,
     "metadata": {},
     "output_type": "execute_result"
    },
    {
     "data": {
      "image/png": "[encoded data removed]",
      "text/plain": [
       "<Figure size 432x288 with 1 Axes>"
      ]
     },
     "metadata": {
      "needs_background": "light"
     },
     "output_type": "display_data"
    }
   ],
   "source": [
    "sns.histplot(newdf['sales'],bins=25)"
   ]
  },
  {
   "cell_type": "markdown",
   "id": "c8ccb480",
   "metadata": {},
   "source": [
    "## BIVARIATE ANALYSIS"
   ]
  },
  {
   "cell_type": "code",
   "execution_count": 32,
   "id": "2fd9dde5",
   "metadata": {},
   "outputs": [
    {
     "data": {
      "text/plain": [
       "<AxesSubplot:xlabel='newspaper', ylabel='sales'>"
      ]
     },
     "execution_count": 32,
     "metadata": {},
     "output_type": "execute_result"
    },
    {
     "data": {
      "image/png": "[encoded data removed]",
      "text/plain": [
       "<Figure size 432x288 with 1 Axes>"
      ]
     },
     "metadata": {
      "needs_background": "light"
     },
     "output_type": "display_data"
    }
   ],
   "source": [
    "sns.scatterplot(x='newspaper',y='sales',data=newdf)"
   ]
  },
  {
   "cell_type": "markdown",
   "id": "fc31f0e5",
   "metadata": {},
   "source": [
    "### THERES A SLIGHT INCREASE IN SALES WHEN THERES AN INCREASE IN NEWSPAPER ADS AND THEN ITS CONSTANT"
   ]
  },
  {
   "cell_type": "code",
   "execution_count": 33,
   "id": "8e6e9120",
   "metadata": {},
   "outputs": [
    {
     "data": {
      "text/plain": [
       "<AxesSubplot:xlabel='radio', ylabel='sales'>"
      ]
     },
     "execution_count": 33,
     "metadata": {},
     "output_type": "execute_result"
    },
    {
     "data": {
      "image/png": "[encoded data removed]",
      "text/plain": [
       "<Figure size 432x288 with 1 Axes>"
      ]
     },
     "metadata": {
      "needs_background": "light"
     },
     "output_type": "display_data"
    }
   ],
   "source": [
    "sns.scatterplot(x='radio',y='sales',data=newdf)"
   ]
  },
  {
   "cell_type": "markdown",
   "id": "a89211f8",
   "metadata": {},
   "source": [
    "### INCREASE IN RADIO ADS HAVE A POSIITVE IMPACT WRT SALES "
   ]
  },
  {
   "cell_type": "code",
   "execution_count": 34,
   "id": "42d41663",
   "metadata": {},
   "outputs": [
    {
     "data": {
      "text/plain": [
       "<AxesSubplot:xlabel='TV', ylabel='sales'>"
      ]
     },
     "execution_count": 34,
     "metadata": {},
     "output_type": "execute_result"
    },
    {
     "data": {
      "image/png": "[encoded data removed]",
      "text/plain": [
       "<Figure size 432x288 with 1 Axes>"
      ]
     },
     "metadata": {
      "needs_background": "light"
     },
     "output_type": "display_data"
    }
   ],
   "source": [
    "sns.scatterplot(x='TV',y='sales',data=newdf)"
   ]
  },
  {
   "cell_type": "markdown",
   "id": "5bbf4f37",
   "metadata": {},
   "source": [
    "### INCREASE IN TV ADS HAVE A DIRECT INCREASE WRT SALES "
   ]
  },
  {
   "cell_type": "code",
   "execution_count": 35,
   "id": "1d70b3fa",
   "metadata": {},
   "outputs": [
    {
     "data": {
      "text/plain": [
       "<AxesSubplot:xlabel='newspaper', ylabel='radio'>"
      ]
     },
     "execution_count": 35,
     "metadata": {},
     "output_type": "execute_result"
    },
    {
     "data": {
      "image/png": "[encoded data removed]",
      "text/plain": [
       "<Figure size 432x288 with 1 Axes>"
      ]
     },
     "metadata": {
      "needs_background": "light"
     },
     "output_type": "display_data"
    }
   ],
   "source": [
    "sns.scatterplot(x='newspaper',y='radio',data=newdf)"
   ]
  },
  {
   "cell_type": "markdown",
   "id": "352f6112",
   "metadata": {},
   "source": [
    "### THERES A RISE IN RADIO WHEN NEWPAPER RISES"
   ]
  },
  {
   "cell_type": "code",
   "execution_count": 38,
   "id": "fb006d11",
   "metadata": {},
   "outputs": [
    {
     "data": {
      "text/plain": [
       "<AxesSubplot:xlabel='newspaper', ylabel='TV'>"
      ]
     },
     "execution_count": 38,
     "metadata": {},
     "output_type": "execute_result"
    },
    {
     "data": {
      "image/png": "[encoded data removed]",
      "text/plain": [
       "<Figure size 432x288 with 1 Axes>"
      ]
     },
     "metadata": {
      "needs_background": "light"
     },
     "output_type": "display_data"
    }
   ],
   "source": [
    "sns.swarmplot(x='newspaper',y='TV',data=newdf)"
   ]
  },
  {
   "cell_type": "markdown",
   "id": "6eae4b9d",
   "metadata": {},
   "source": [
    "### THERES A POSITIVE IMPACT TO AN EXTENT AND THEN ITS CONSTANT BETWEEN THE TWO VARIABLES "
   ]
  },
  {
   "cell_type": "code",
   "execution_count": 37,
   "id": "209cd661",
   "metadata": {},
   "outputs": [
    {
     "data": {
      "text/plain": [
       "<AxesSubplot:xlabel='TV', ylabel='radio'>"
      ]
     },
     "execution_count": 37,
     "metadata": {},
     "output_type": "execute_result"
    },
    {
     "data": {
      "image/png": "[encoded data removed]",
      "text/plain": [
       "<Figure size 432x288 with 1 Axes>"
      ]
     },
     "metadata": {
      "needs_background": "light"
     },
     "output_type": "display_data"
    }
   ],
   "source": [
    "sns.scatterplot(x='TV',y='radio',data=newdf)"
   ]
  },
  {
   "cell_type": "markdown",
   "id": "b96a47f6",
   "metadata": {},
   "source": [
    "### TV AND RADIO ARE DEPENDENT ON EACH OTHER "
   ]
  },
  {
   "cell_type": "markdown",
   "id": "926e1be3",
   "metadata": {},
   "source": [
    "## CORRELATION ANALYSIS "
   ]
  },
  {
   "cell_type": "code",
   "execution_count": 22,
   "id": "8b67caea",
   "metadata": {},
   "outputs": [
    {
     "data": {
      "text/html": [
       "<div>\n",
       "<style scoped>\n",
       "    .dataframe tbody tr th:only-of-type {\n",
       "        vertical-align: middle;\n",
       "    }\n",
       "\n",
       "    .dataframe tbody tr th {\n",
       "        vertical-align: top;\n",
       "    }\n",
       "\n",
       "    .dataframe thead th {\n",
       "        text-align: right;\n",
       "    }\n",
       "</style>\n",
       "<table border=\"1\" class=\"dataframe\">\n",
       "  <thead>\n",
       "    <tr style=\"text-align: right;\">\n",
       "      <th></th>\n",
       "      <th>SR</th>\n",
       "      <th>TV</th>\n",
       "      <th>radio</th>\n",
       "      <th>newspaper</th>\n",
       "      <th>sales</th>\n",
       "    </tr>\n",
       "  </thead>\n",
       "  <tbody>\n",
       "    <tr>\n",
       "      <th>SR</th>\n",
       "      <td>1.000000</td>\n",
       "      <td>0.017715</td>\n",
       "      <td>-0.110680</td>\n",
       "      <td>-0.154944</td>\n",
       "      <td>-0.051616</td>\n",
       "    </tr>\n",
       "    <tr>\n",
       "      <th>TV</th>\n",
       "      <td>0.017715</td>\n",
       "      <td>1.000000</td>\n",
       "      <td>0.054809</td>\n",
       "      <td>0.056648</td>\n",
       "      <td>0.782224</td>\n",
       "    </tr>\n",
       "    <tr>\n",
       "      <th>radio</th>\n",
       "      <td>-0.110680</td>\n",
       "      <td>0.054809</td>\n",
       "      <td>1.000000</td>\n",
       "      <td>0.354104</td>\n",
       "      <td>0.576223</td>\n",
       "    </tr>\n",
       "    <tr>\n",
       "      <th>newspaper</th>\n",
       "      <td>-0.154944</td>\n",
       "      <td>0.056648</td>\n",
       "      <td>0.354104</td>\n",
       "      <td>1.000000</td>\n",
       "      <td>0.228299</td>\n",
       "    </tr>\n",
       "    <tr>\n",
       "      <th>sales</th>\n",
       "      <td>-0.051616</td>\n",
       "      <td>0.782224</td>\n",
       "      <td>0.576223</td>\n",
       "      <td>0.228299</td>\n",
       "      <td>1.000000</td>\n",
       "    </tr>\n",
       "  </tbody>\n",
       "</table>\n",
       "</div>"
      ],
      "text/plain": [
       "                 SR        TV     radio  newspaper     sales\n",
       "SR         1.000000  0.017715 -0.110680  -0.154944 -0.051616\n",
       "TV         0.017715  1.000000  0.054809   0.056648  0.782224\n",
       "radio     -0.110680  0.054809  1.000000   0.354104  0.576223\n",
       "newspaper -0.154944  0.056648  0.354104   1.000000  0.228299\n",
       "sales     -0.051616  0.782224  0.576223   0.228299  1.000000"
      ]
     },
     "execution_count": 22,
     "metadata": {},
     "output_type": "execute_result"
    }
   ],
   "source": [
    "newdf.corr()"
   ]
  },
  {
   "cell_type": "code",
   "execution_count": 23,
   "id": "b406bb96",
   "metadata": {},
   "outputs": [
    {
     "data": {
      "text/plain": [
       "<AxesSubplot:>"
      ]
     },
     "execution_count": 23,
     "metadata": {},
     "output_type": "execute_result"
    },
    {
     "data": {
      "image/png": "[encoded data removed]",
      "text/plain": [
       "<Figure size 720x720 with 2 Axes>"
      ]
     },
     "metadata": {
      "needs_background": "light"
     },
     "output_type": "display_data"
    }
   ],
   "source": [
    "plt.figure(figsize=(10,10))\n",
    "sns.heatmap(newdf.corr(),annot=True)"
   ]
  },
  {
   "cell_type": "markdown",
   "id": "3bd32c3b",
   "metadata": {},
   "source": [
    "### TV AND NEWSPAPER HAVE A HIGH CORRELATION WHERE AS OTHER COLUMNS HAVE MODERATE TO LOW CORRELATION WITH EACH OTHER"
   ]
  },
  {
   "cell_type": "markdown",
   "id": "c8ae65f2",
   "metadata": {},
   "source": [
    "## CORRELATION WRT TARGET COLUMN"
   ]
  },
  {
   "cell_type": "code",
   "execution_count": 24,
   "id": "2923883a",
   "metadata": {},
   "outputs": [
    {
     "data": {
      "text/plain": [
       "SR          -0.051616\n",
       "newspaper    0.228299\n",
       "radio        0.576223\n",
       "TV           0.782224\n",
       "sales        1.000000\n",
       "Name: sales, dtype: float64"
      ]
     },
     "execution_count": 24,
     "metadata": {},
     "output_type": "execute_result"
    }
   ],
   "source": [
    "newdf.corr()['sales'].sort_values()"
   ]
  },
  {
   "cell_type": "markdown",
   "id": "8607b182",
   "metadata": {},
   "source": [
    "### TV & RADIO HAVE HIGH CORRELATION WRT TARGET COLUMN WHERE NEWSPAPER HAS A MODERATE CORRELATION WRT TARGET COLUMN"
   ]
  },
  {
   "cell_type": "markdown",
   "id": "0dc6d9e8",
   "metadata": {},
   "source": [
    "## OUTLIERS"
   ]
  },
  {
   "cell_type": "code",
   "execution_count": 25,
   "id": "750a990a",
   "metadata": {},
   "outputs": [],
   "source": [
    "from scipy.stats import zscore"
   ]
  },
  {
   "cell_type": "markdown",
   "id": "b0a645d2",
   "metadata": {},
   "source": [
    "### BOXPLOTS"
   ]
  },
  {
   "cell_type": "code",
   "execution_count": 26,
   "id": "51221126",
   "metadata": {},
   "outputs": [
    {
     "name": "stderr",
     "output_type": "stream",
     "text": [
      "C:\\Users\\DELL\\anaconda3\\lib\\site-packages\\seaborn\\_decorators.py:36: FutureWarning: Pass the following variable as a keyword arg: x. From version 0.12, the only valid positional argument will be `data`, and passing other arguments without an explicit keyword will result in an error or misinterpretation.\n",
      "  warnings.warn(\n"
     ]
    },
    {
     "data": {
      "text/plain": [
       "<AxesSubplot:xlabel='TV'>"
      ]
     },
     "execution_count": 26,
     "metadata": {},
     "output_type": "execute_result"
    },
    {
     "data": {
      "image/png": "[encoded data removed]",
      "text/plain": [
       "<Figure size 432x288 with 1 Axes>"
      ]
     },
     "metadata": {
      "needs_background": "light"
     },
     "output_type": "display_data"
    }
   ],
   "source": [
    "sns.boxplot(newdf['TV'])"
   ]
  },
  {
   "cell_type": "markdown",
   "id": "1f73e12b",
   "metadata": {},
   "source": [
    "### NO OUTLIERS PRESENT"
   ]
  },
  {
   "cell_type": "code",
   "execution_count": 27,
   "id": "d0d6bbb4",
   "metadata": {},
   "outputs": [
    {
     "name": "stderr",
     "output_type": "stream",
     "text": [
      "C:\\Users\\DELL\\anaconda3\\lib\\site-packages\\seaborn\\_decorators.py:36: FutureWarning: Pass the following variable as a keyword arg: x. From version 0.12, the only valid positional argument will be `data`, and passing other arguments without an explicit keyword will result in an error or misinterpretation.\n",
      "  warnings.warn(\n"
     ]
    },
    {
     "data": {
      "text/plain": [
       "<AxesSubplot:xlabel='radio'>"
      ]
     },
     "execution_count": 27,
     "metadata": {},
     "output_type": "execute_result"
    },
    {
     "data": {
      "image/png": "[encoded data removed]",
      "text/plain": [
       "<Figure size 432x288 with 1 Axes>"
      ]
     },
     "metadata": {
      "needs_background": "light"
     },
     "output_type": "display_data"
    }
   ],
   "source": [
    "sns.boxplot(newdf['radio'])"
   ]
  },
  {
   "cell_type": "markdown",
   "id": "9dd63bbe",
   "metadata": {},
   "source": [
    "### NO OUTLIERS PRESENT"
   ]
  },
  {
   "cell_type": "code",
   "execution_count": 28,
   "id": "fe49793f",
   "metadata": {},
   "outputs": [
    {
     "name": "stderr",
     "output_type": "stream",
     "text": [
      "C:\\Users\\DELL\\anaconda3\\lib\\site-packages\\seaborn\\_decorators.py:36: FutureWarning: Pass the following variable as a keyword arg: x. From version 0.12, the only valid positional argument will be `data`, and passing other arguments without an explicit keyword will result in an error or misinterpretation.\n",
      "  warnings.warn(\n"
     ]
    },
    {
     "data": {
      "text/plain": [
       "<AxesSubplot:xlabel='newspaper'>"
      ]
     },
     "execution_count": 28,
     "metadata": {},
     "output_type": "execute_result"
    },
    {
     "data": {
      "image/png": "[encoded data removed]",
      "text/plain": [
       "<Figure size 432x288 with 1 Axes>"
      ]
     },
     "metadata": {
      "needs_background": "light"
     },
     "output_type": "display_data"
    }
   ],
   "source": [
    "sns.boxplot(newdf['newspaper'])"
   ]
  },
  {
   "cell_type": "markdown",
   "id": "210b509b",
   "metadata": {},
   "source": [
    "### OUTLIERS PRESENT"
   ]
  },
  {
   "cell_type": "code",
   "execution_count": 29,
   "id": "2986b621",
   "metadata": {},
   "outputs": [
    {
     "name": "stderr",
     "output_type": "stream",
     "text": [
      "C:\\Users\\DELL\\anaconda3\\lib\\site-packages\\seaborn\\_decorators.py:36: FutureWarning: Pass the following variable as a keyword arg: x. From version 0.12, the only valid positional argument will be `data`, and passing other arguments without an explicit keyword will result in an error or misinterpretation.\n",
      "  warnings.warn(\n"
     ]
    },
    {
     "data": {
      "text/plain": [
       "<AxesSubplot:xlabel='sales'>"
      ]
     },
     "execution_count": 29,
     "metadata": {},
     "output_type": "execute_result"
    },
    {
     "data": {
      "image/png": "[encoded data removed]",
      "text/plain": [
       "<Figure size 432x288 with 1 Axes>"
      ]
     },
     "metadata": {
      "needs_background": "light"
     },
     "output_type": "display_data"
    }
   ],
   "source": [
    "sns.boxplot(newdf['sales'])"
   ]
  },
  {
   "cell_type": "markdown",
   "id": "f2023570",
   "metadata": {},
   "source": [
    "### NO OUTLIERS PRESENT"
   ]
  },
  {
   "cell_type": "code",
   "execution_count": 30,
   "id": "66651a5b",
   "metadata": {},
   "outputs": [],
   "source": [
    "z=np.abs(zscore(newdf))"
   ]
  },
  {
   "cell_type": "code",
   "execution_count": 31,
   "id": "55c3fe27",
   "metadata": {},
   "outputs": [
    {
     "name": "stdout",
     "output_type": "stream",
     "text": [
      "(array([ 16, 101], dtype=int64), array([3, 3], dtype=int64))\n"
     ]
    }
   ],
   "source": [
    "print(np.where(z>3))"
   ]
  },
  {
   "cell_type": "code",
   "execution_count": 32,
   "id": "f9692fac",
   "metadata": {},
   "outputs": [],
   "source": [
    "df2=newdf[(z<3).all(axis=1)]"
   ]
  },
  {
   "cell_type": "code",
   "execution_count": 33,
   "id": "9843917c",
   "metadata": {},
   "outputs": [
    {
     "data": {
      "text/html": [
       "<div>\n",
       "<style scoped>\n",
       "    .dataframe tbody tr th:only-of-type {\n",
       "        vertical-align: middle;\n",
       "    }\n",
       "\n",
       "    .dataframe tbody tr th {\n",
       "        vertical-align: top;\n",
       "    }\n",
       "\n",
       "    .dataframe thead th {\n",
       "        text-align: right;\n",
       "    }\n",
       "</style>\n",
       "<table border=\"1\" class=\"dataframe\">\n",
       "  <thead>\n",
       "    <tr style=\"text-align: right;\">\n",
       "      <th></th>\n",
       "      <th>SR</th>\n",
       "      <th>TV</th>\n",
       "      <th>radio</th>\n",
       "      <th>newspaper</th>\n",
       "      <th>sales</th>\n",
       "    </tr>\n",
       "  </thead>\n",
       "  <tbody>\n",
       "    <tr>\n",
       "      <th>0</th>\n",
       "      <td>1</td>\n",
       "      <td>230.1</td>\n",
       "      <td>37.8</td>\n",
       "      <td>69.2</td>\n",
       "      <td>22.1</td>\n",
       "    </tr>\n",
       "    <tr>\n",
       "      <th>1</th>\n",
       "      <td>2</td>\n",
       "      <td>44.5</td>\n",
       "      <td>39.3</td>\n",
       "      <td>45.1</td>\n",
       "      <td>10.4</td>\n",
       "    </tr>\n",
       "    <tr>\n",
       "      <th>2</th>\n",
       "      <td>3</td>\n",
       "      <td>17.2</td>\n",
       "      <td>45.9</td>\n",
       "      <td>69.3</td>\n",
       "      <td>9.3</td>\n",
       "    </tr>\n",
       "    <tr>\n",
       "      <th>3</th>\n",
       "      <td>4</td>\n",
       "      <td>151.5</td>\n",
       "      <td>41.3</td>\n",
       "      <td>58.5</td>\n",
       "      <td>18.5</td>\n",
       "    </tr>\n",
       "    <tr>\n",
       "      <th>4</th>\n",
       "      <td>5</td>\n",
       "      <td>180.8</td>\n",
       "      <td>10.8</td>\n",
       "      <td>58.4</td>\n",
       "      <td>12.9</td>\n",
       "    </tr>\n",
       "    <tr>\n",
       "      <th>...</th>\n",
       "      <td>...</td>\n",
       "      <td>...</td>\n",
       "      <td>...</td>\n",
       "      <td>...</td>\n",
       "      <td>...</td>\n",
       "    </tr>\n",
       "    <tr>\n",
       "      <th>195</th>\n",
       "      <td>196</td>\n",
       "      <td>38.2</td>\n",
       "      <td>3.7</td>\n",
       "      <td>13.8</td>\n",
       "      <td>7.6</td>\n",
       "    </tr>\n",
       "    <tr>\n",
       "      <th>196</th>\n",
       "      <td>197</td>\n",
       "      <td>94.2</td>\n",
       "      <td>4.9</td>\n",
       "      <td>8.1</td>\n",
       "      <td>9.7</td>\n",
       "    </tr>\n",
       "    <tr>\n",
       "      <th>197</th>\n",
       "      <td>198</td>\n",
       "      <td>177.0</td>\n",
       "      <td>9.3</td>\n",
       "      <td>6.4</td>\n",
       "      <td>12.8</td>\n",
       "    </tr>\n",
       "    <tr>\n",
       "      <th>198</th>\n",
       "      <td>199</td>\n",
       "      <td>283.6</td>\n",
       "      <td>42.0</td>\n",
       "      <td>66.2</td>\n",
       "      <td>25.5</td>\n",
       "    </tr>\n",
       "    <tr>\n",
       "      <th>199</th>\n",
       "      <td>200</td>\n",
       "      <td>232.1</td>\n",
       "      <td>8.6</td>\n",
       "      <td>8.7</td>\n",
       "      <td>13.4</td>\n",
       "    </tr>\n",
       "  </tbody>\n",
       "</table>\n",
       "<p>198 rows × 5 columns</p>\n",
       "</div>"
      ],
      "text/plain": [
       "      SR     TV  radio  newspaper  sales\n",
       "0      1  230.1   37.8       69.2   22.1\n",
       "1      2   44.5   39.3       45.1   10.4\n",
       "2      3   17.2   45.9       69.3    9.3\n",
       "3      4  151.5   41.3       58.5   18.5\n",
       "4      5  180.8   10.8       58.4   12.9\n",
       "..   ...    ...    ...        ...    ...\n",
       "195  196   38.2    3.7       13.8    7.6\n",
       "196  197   94.2    4.9        8.1    9.7\n",
       "197  198  177.0    9.3        6.4   12.8\n",
       "198  199  283.6   42.0       66.2   25.5\n",
       "199  200  232.1    8.6        8.7   13.4\n",
       "\n",
       "[198 rows x 5 columns]"
      ]
     },
     "execution_count": 33,
     "metadata": {},
     "output_type": "execute_result"
    }
   ],
   "source": [
    "df2"
   ]
  },
  {
   "cell_type": "markdown",
   "id": "3a4a80a0",
   "metadata": {},
   "source": [
    "## DATA LOSS"
   ]
  },
  {
   "cell_type": "code",
   "execution_count": 34,
   "id": "a34fa844",
   "metadata": {},
   "outputs": [
    {
     "data": {
      "text/plain": [
       "(200, 5)"
      ]
     },
     "execution_count": 34,
     "metadata": {},
     "output_type": "execute_result"
    }
   ],
   "source": [
    "newdf.shape"
   ]
  },
  {
   "cell_type": "code",
   "execution_count": 35,
   "id": "ab9fd1f0",
   "metadata": {},
   "outputs": [
    {
     "data": {
      "text/plain": [
       "(198, 5)"
      ]
     },
     "execution_count": 35,
     "metadata": {},
     "output_type": "execute_result"
    }
   ],
   "source": [
    "df2.shape"
   ]
  },
  {
   "cell_type": "code",
   "execution_count": 36,
   "id": "fd9b8ffb",
   "metadata": {},
   "outputs": [
    {
     "data": {
      "text/plain": [
       "0.01"
      ]
     },
     "execution_count": 36,
     "metadata": {},
     "output_type": "execute_result"
    }
   ],
   "source": [
    "(200-198)/200"
   ]
  },
  {
   "cell_type": "markdown",
   "id": "ec59368e",
   "metadata": {},
   "source": [
    "### THIS FALLS IN THE ACCEPTABLE RANGE, HENCE WE WILL GO AHEAD WITH THE NEW DATA SET DF2"
   ]
  },
  {
   "cell_type": "markdown",
   "id": "b023e30c",
   "metadata": {},
   "source": [
    "### CHECKING IF OUTLIERS ARE PRESENT OR NOT THROUGH BOX PLOTS"
   ]
  },
  {
   "cell_type": "code",
   "execution_count": 37,
   "id": "c9a14ba2",
   "metadata": {},
   "outputs": [
    {
     "name": "stderr",
     "output_type": "stream",
     "text": [
      "C:\\Users\\DELL\\anaconda3\\lib\\site-packages\\seaborn\\_decorators.py:36: FutureWarning: Pass the following variable as a keyword arg: x. From version 0.12, the only valid positional argument will be `data`, and passing other arguments without an explicit keyword will result in an error or misinterpretation.\n",
      "  warnings.warn(\n"
     ]
    },
    {
     "data": {
      "text/plain": [
       "<AxesSubplot:xlabel='TV'>"
      ]
     },
     "execution_count": 37,
     "metadata": {},
     "output_type": "execute_result"
    },
    {
     "data": {
      "image/png": "[encoded data removed]",
      "text/plain": [
       "<Figure size 432x288 with 1 Axes>"
      ]
     },
     "metadata": {
      "needs_background": "light"
     },
     "output_type": "display_data"
    }
   ],
   "source": [
    "sns.boxplot(df2['TV'])"
   ]
  },
  {
   "cell_type": "markdown",
   "id": "466617d3",
   "metadata": {},
   "source": [
    "#### NO OUTLIERS PRESENT"
   ]
  },
  {
   "cell_type": "code",
   "execution_count": 38,
   "id": "fddc9326",
   "metadata": {},
   "outputs": [
    {
     "name": "stderr",
     "output_type": "stream",
     "text": [
      "C:\\Users\\DELL\\anaconda3\\lib\\site-packages\\seaborn\\_decorators.py:36: FutureWarning: Pass the following variable as a keyword arg: x. From version 0.12, the only valid positional argument will be `data`, and passing other arguments without an explicit keyword will result in an error or misinterpretation.\n",
      "  warnings.warn(\n"
     ]
    },
    {
     "data": {
      "text/plain": [
       "<AxesSubplot:xlabel='radio'>"
      ]
     },
     "execution_count": 38,
     "metadata": {},
     "output_type": "execute_result"
    },
    {
     "data": {
      "image/png": "[encoded data removed]",
      "text/plain": [
       "<Figure size 432x288 with 1 Axes>"
      ]
     },
     "metadata": {
      "needs_background": "light"
     },
     "output_type": "display_data"
    }
   ],
   "source": [
    "sns.boxplot(df2['radio'])"
   ]
  },
  {
   "cell_type": "markdown",
   "id": "14d59a39",
   "metadata": {},
   "source": [
    "#### NO OUTLIERS PRESENT"
   ]
  },
  {
   "cell_type": "code",
   "execution_count": 39,
   "id": "7f1f4c39",
   "metadata": {},
   "outputs": [
    {
     "name": "stderr",
     "output_type": "stream",
     "text": [
      "C:\\Users\\DELL\\anaconda3\\lib\\site-packages\\seaborn\\_decorators.py:36: FutureWarning: Pass the following variable as a keyword arg: x. From version 0.12, the only valid positional argument will be `data`, and passing other arguments without an explicit keyword will result in an error or misinterpretation.\n",
      "  warnings.warn(\n"
     ]
    },
    {
     "data": {
      "text/plain": [
       "<AxesSubplot:xlabel='newspaper'>"
      ]
     },
     "execution_count": 39,
     "metadata": {},
     "output_type": "execute_result"
    },
    {
     "data": {
      "image/png": "[encoded data removed]",
      "text/plain": [
       "<Figure size 432x288 with 1 Axes>"
      ]
     },
     "metadata": {
      "needs_background": "light"
     },
     "output_type": "display_data"
    }
   ],
   "source": [
    "sns.boxplot(df2['newspaper'])"
   ]
  },
  {
   "cell_type": "markdown",
   "id": "f35d6e3d",
   "metadata": {},
   "source": [
    "#### NO OUTLIERS PRESENT"
   ]
  },
  {
   "cell_type": "code",
   "execution_count": 40,
   "id": "e5239730",
   "metadata": {},
   "outputs": [
    {
     "name": "stderr",
     "output_type": "stream",
     "text": [
      "C:\\Users\\DELL\\anaconda3\\lib\\site-packages\\seaborn\\_decorators.py:36: FutureWarning: Pass the following variable as a keyword arg: x. From version 0.12, the only valid positional argument will be `data`, and passing other arguments without an explicit keyword will result in an error or misinterpretation.\n",
      "  warnings.warn(\n"
     ]
    },
    {
     "data": {
      "text/plain": [
       "<AxesSubplot:xlabel='sales'>"
      ]
     },
     "execution_count": 40,
     "metadata": {},
     "output_type": "execute_result"
    },
    {
     "data": {
      "image/png": "[encoded data removed]",
      "text/plain": [
       "<Figure size 432x288 with 1 Axes>"
      ]
     },
     "metadata": {
      "needs_background": "light"
     },
     "output_type": "display_data"
    }
   ],
   "source": [
    "sns.boxplot(df2['sales'])"
   ]
  },
  {
   "cell_type": "markdown",
   "id": "c4f28395",
   "metadata": {},
   "source": [
    "#### NO OUTLIERS PRESENT"
   ]
  },
  {
   "cell_type": "markdown",
   "id": "f40bd4ab",
   "metadata": {},
   "source": [
    "## SKEWNESS CHECK - VISUAL"
   ]
  },
  {
   "cell_type": "code",
   "execution_count": 41,
   "id": "11df103e",
   "metadata": {},
   "outputs": [
    {
     "data": {
      "image/png": "[encoded data removed]",
      "text/plain": [
       "<Figure size 1296x720 with 12 Axes>"
      ]
     },
     "metadata": {
      "needs_background": "light"
     },
     "output_type": "display_data"
    }
   ],
   "source": [
    "df2.plot(kind='density',subplots=True,figsize=(18,10),sharex=False,layout=(3,4))\n",
    "plt.show()"
   ]
  },
  {
   "cell_type": "markdown",
   "id": "31d28bbe",
   "metadata": {},
   "source": [
    "### SKEWNESS IS PRESENT IN SOME COLUMNS WHICH WE WILL TREAT LATER"
   ]
  },
  {
   "cell_type": "code",
   "execution_count": 42,
   "id": "bbc23174",
   "metadata": {},
   "outputs": [
    {
     "data": {
      "text/plain": [
       "SR          -0.006283\n",
       "TV          -0.082332\n",
       "radio        0.114842\n",
       "newspaper    0.650112\n",
       "sales        0.407130\n",
       "dtype: float64"
      ]
     },
     "execution_count": 42,
     "metadata": {},
     "output_type": "execute_result"
    }
   ],
   "source": [
    "df2.skew()"
   ]
  },
  {
   "cell_type": "code",
   "execution_count": 43,
   "id": "0d161846",
   "metadata": {},
   "outputs": [
    {
     "name": "stderr",
     "output_type": "stream",
     "text": [
      "C:\\Users\\DELL\\AppData\\Local\\Temp/ipykernel_14144/894374802.py:1: SettingWithCopyWarning: \n",
      "A value is trying to be set on a copy of a slice from a DataFrame.\n",
      "Try using .loc[row_indexer,col_indexer] = value instead\n",
      "\n",
      "See the caveats in the documentation: https://pandas.pydata.org/pandas-docs/stable/user_guide/indexing.html#returning-a-view-versus-a-copy\n",
      "  df2['newspaper']=np.sqrt(df2['newspaper'])\n"
     ]
    }
   ],
   "source": [
    "df2['newspaper']=np.sqrt(df2['newspaper'])"
   ]
  },
  {
   "cell_type": "code",
   "execution_count": 44,
   "id": "430823f9",
   "metadata": {},
   "outputs": [
    {
     "data": {
      "text/plain": [
       "SR          -0.006283\n",
       "TV          -0.082332\n",
       "radio        0.114842\n",
       "newspaper   -0.040649\n",
       "sales        0.407130\n",
       "dtype: float64"
      ]
     },
     "execution_count": 44,
     "metadata": {},
     "output_type": "execute_result"
    }
   ],
   "source": [
    "df2.skew()"
   ]
  },
  {
   "cell_type": "markdown",
   "id": "4a9e5159",
   "metadata": {},
   "source": [
    "### SKEWNESS IS CONTROLLED AS OUR ACCEPTABLE RANGE IS +- 0.50 AND ALL THE COLUMNS ARE WITHIN THE SAID RANGE"
   ]
  },
  {
   "cell_type": "markdown",
   "id": "ae0bb2a2",
   "metadata": {},
   "source": [
    "### SEPARATING X & Y "
   ]
  },
  {
   "cell_type": "code",
   "execution_count": 45,
   "id": "7b0f766c",
   "metadata": {},
   "outputs": [],
   "source": [
    "x=df2.iloc[:,1:4]"
   ]
  },
  {
   "cell_type": "code",
   "execution_count": 46,
   "id": "04836211",
   "metadata": {},
   "outputs": [],
   "source": [
    "y=df2.iloc[:,-1]"
   ]
  },
  {
   "cell_type": "markdown",
   "id": "9c833b5c",
   "metadata": {},
   "source": [
    "## VIF CHECK "
   ]
  },
  {
   "cell_type": "code",
   "execution_count": 47,
   "id": "d1d10a73",
   "metadata": {},
   "outputs": [],
   "source": [
    "from scipy import stats"
   ]
  },
  {
   "cell_type": "code",
   "execution_count": 48,
   "id": "dfd7a453",
   "metadata": {},
   "outputs": [],
   "source": [
    "from statsmodels.stats.outliers_influence import variance_inflation_factor"
   ]
  },
  {
   "cell_type": "code",
   "execution_count": 49,
   "id": "a33a3810",
   "metadata": {},
   "outputs": [],
   "source": [
    "def cal_vif(x):\n",
    "    vif=pd.DataFrame()\n",
    "    vif['Variables']=x.columns\n",
    "    vif['VIF_FACTOR']=[variance_inflation_factor(x.values,i)for i in range(x.shape[1])]\n",
    "    return(vif)"
   ]
  },
  {
   "cell_type": "code",
   "execution_count": 50,
   "id": "76b58e98",
   "metadata": {},
   "outputs": [
    {
     "data": {
      "text/html": [
       "<div>\n",
       "<style scoped>\n",
       "    .dataframe tbody tr th:only-of-type {\n",
       "        vertical-align: middle;\n",
       "    }\n",
       "\n",
       "    .dataframe tbody tr th {\n",
       "        vertical-align: top;\n",
       "    }\n",
       "\n",
       "    .dataframe thead th {\n",
       "        text-align: right;\n",
       "    }\n",
       "</style>\n",
       "<table border=\"1\" class=\"dataframe\">\n",
       "  <thead>\n",
       "    <tr style=\"text-align: right;\">\n",
       "      <th></th>\n",
       "      <th>Variables</th>\n",
       "      <th>VIF_FACTOR</th>\n",
       "    </tr>\n",
       "  </thead>\n",
       "  <tbody>\n",
       "    <tr>\n",
       "      <th>0</th>\n",
       "      <td>TV</td>\n",
       "      <td>3.049871</td>\n",
       "    </tr>\n",
       "    <tr>\n",
       "      <th>1</th>\n",
       "      <td>radio</td>\n",
       "      <td>3.587039</td>\n",
       "    </tr>\n",
       "    <tr>\n",
       "      <th>2</th>\n",
       "      <td>newspaper</td>\n",
       "      <td>4.758310</td>\n",
       "    </tr>\n",
       "  </tbody>\n",
       "</table>\n",
       "</div>"
      ],
      "text/plain": [
       "   Variables  VIF_FACTOR\n",
       "0         TV    3.049871\n",
       "1      radio    3.587039\n",
       "2  newspaper    4.758310"
      ]
     },
     "execution_count": 50,
     "metadata": {},
     "output_type": "execute_result"
    }
   ],
   "source": [
    "cal_vif(x)"
   ]
  },
  {
   "cell_type": "markdown",
   "id": "aefdaa48",
   "metadata": {},
   "source": [
    "### VIF WITHIN THE RANGE OF 10 IS ACCEPTABLE, NO MULTICOLINEARITY IS PRESENT IN THE DATA SET "
   ]
  },
  {
   "cell_type": "markdown",
   "id": "bd306e88",
   "metadata": {},
   "source": [
    "## SCALING THE DATASET"
   ]
  },
  {
   "cell_type": "code",
   "execution_count": 1,
   "id": "2cdc9a99",
   "metadata": {},
   "outputs": [],
   "source": [
    "from sklearn.preprocessing import StandardScaler\n",
    "import warnings\n",
    "warnings.filterwarnings('ignore')\n",
    "from sklearn.model_selection import train_test_split\n",
    "from sklearn.metrics import accuracy_score,r2_score\n",
    "from sklearn.model_selection import GridSearchCV\n",
    "from sklearn.svm import SVR\n",
    "from sklearn.tree import DecisionTreeRegressor\n",
    "from sklearn.neighbors import KNeighborsRegressor\n",
    "from sklearn.ensemble import RandomForestRegressor\n",
    "from sklearn.model_selection import cross_val_score\n",
    "from sklearn.linear_model import LinearRegression"
   ]
  },
  {
   "cell_type": "code",
   "execution_count": 52,
   "id": "d1ce23a6",
   "metadata": {},
   "outputs": [],
   "source": [
    "scale=StandardScaler()"
   ]
  },
  {
   "cell_type": "code",
   "execution_count": 53,
   "id": "cb9e2852",
   "metadata": {},
   "outputs": [],
   "source": [
    "x1=scale.fit_transform(x)"
   ]
  },
  {
   "cell_type": "code",
   "execution_count": 169,
   "id": "b8adcc08",
   "metadata": {},
   "outputs": [],
   "source": [
    "from math import sqrt"
   ]
  },
  {
   "cell_type": "markdown",
   "id": "1343f05b",
   "metadata": {},
   "source": [
    "## LINEAR REGRESSION"
   ]
  },
  {
   "cell_type": "code",
   "execution_count": 55,
   "id": "3fad0db7",
   "metadata": {},
   "outputs": [],
   "source": [
    "lr=LinearRegression()"
   ]
  },
  {
   "cell_type": "code",
   "execution_count": 56,
   "id": "c9aa7a30",
   "metadata": {},
   "outputs": [
    {
     "name": "stdout",
     "output_type": "stream",
     "text": [
      "At random_state {0} the training accuracy test is 0.8899808679263099\n",
      "At random_state {0} the testing accuracy test is 0.9104353676454641\n",
      "\n",
      "\n",
      "At random_state {1} the training accuracy test is 0.8945018460466634\n",
      "At random_state {1} the testing accuracy test is 0.8915808201402335\n",
      "\n",
      "\n",
      "At random_state {2} the training accuracy test is 0.9104895320853252\n",
      "At random_state {2} the testing accuracy test is 0.8385093780102322\n",
      "\n",
      "\n",
      "At random_state {3} the training accuracy test is 0.8945008732306111\n",
      "At random_state {3} the testing accuracy test is 0.8977495614063602\n",
      "\n",
      "\n",
      "At random_state {4} the training accuracy test is 0.8980063011610756\n",
      "At random_state {4} the testing accuracy test is 0.8726744168845624\n",
      "\n",
      "\n",
      "At random_state {5} the training accuracy test is 0.8993019881675024\n",
      "At random_state {5} the testing accuracy test is 0.8622409600064913\n",
      "\n",
      "\n",
      "At random_state {6} the training accuracy test is 0.8991574664390982\n",
      "At random_state {6} the testing accuracy test is 0.8766949131606819\n",
      "\n",
      "\n",
      "At random_state {7} the training accuracy test is 0.8909446091016879\n",
      "At random_state {7} the testing accuracy test is 0.9063807263429217\n",
      "\n",
      "\n",
      "At random_state {8} the training accuracy test is 0.9023892159093364\n",
      "At random_state {8} the testing accuracy test is 0.8653415977754739\n",
      "\n",
      "\n",
      "At random_state {9} the training accuracy test is 0.8894121458179546\n",
      "At random_state {9} the testing accuracy test is 0.9151924962930182\n",
      "\n",
      "\n",
      "At random_state {10} the training accuracy test is 0.9234817137067555\n",
      "At random_state {10} the testing accuracy test is 0.7845167673812317\n",
      "\n",
      "\n",
      "At random_state {11} the training accuracy test is 0.8847579028807493\n",
      "At random_state {11} the testing accuracy test is 0.9259845612237145\n",
      "\n",
      "\n",
      "At random_state {12} the training accuracy test is 0.8931848342049384\n",
      "At random_state {12} the testing accuracy test is 0.9003144586779663\n",
      "\n",
      "\n",
      "At random_state {13} the training accuracy test is 0.9072955780343295\n",
      "At random_state {13} the testing accuracy test is 0.8382064807676584\n",
      "\n",
      "\n",
      "At random_state {14} the training accuracy test is 0.8855713645648353\n",
      "At random_state {14} the testing accuracy test is 0.9139620728175997\n",
      "\n",
      "\n",
      "At random_state {15} the training accuracy test is 0.8912146118345223\n",
      "At random_state {15} the testing accuracy test is 0.9079583268637839\n",
      "\n",
      "\n",
      "At random_state {16} the training accuracy test is 0.8902875167485287\n",
      "At random_state {16} the testing accuracy test is 0.9096736262327478\n",
      "\n",
      "\n",
      "At random_state {17} the training accuracy test is 0.8886354795189352\n",
      "At random_state {17} the testing accuracy test is 0.9172247053570081\n",
      "\n",
      "\n",
      "At random_state {18} the training accuracy test is 0.9106177526588422\n",
      "At random_state {18} the testing accuracy test is 0.8353660876793957\n",
      "\n",
      "\n",
      "At random_state {19} the training accuracy test is 0.8951754779937969\n",
      "At random_state {19} the testing accuracy test is 0.8783473492701437\n",
      "\n",
      "\n",
      "At random_state {20} the training accuracy test is 0.8863601802303691\n",
      "At random_state {20} the testing accuracy test is 0.9130903566365755\n",
      "\n",
      "\n",
      "At random_state {21} the training accuracy test is 0.884474753346419\n",
      "At random_state {21} the testing accuracy test is 0.9280981225653249\n",
      "\n",
      "\n",
      "At random_state {22} the training accuracy test is 0.8861759776656968\n",
      "At random_state {22} the testing accuracy test is 0.9278015581594276\n",
      "\n",
      "\n",
      "At random_state {23} the training accuracy test is 0.8848527733114713\n",
      "At random_state {23} the testing accuracy test is 0.9292418223308446\n",
      "\n",
      "\n",
      "At random_state {24} the training accuracy test is 0.8807167144986324\n",
      "At random_state {24} the testing accuracy test is 0.9470588911088108\n",
      "\n",
      "\n",
      "At random_state {25} the training accuracy test is 0.8828726818254515\n",
      "At random_state {25} the testing accuracy test is 0.9374877000743008\n",
      "\n",
      "\n",
      "At random_state {26} the training accuracy test is 0.9048386945259568\n",
      "At random_state {26} the testing accuracy test is 0.820020580612527\n",
      "\n",
      "\n",
      "At random_state {27} the training accuracy test is 0.9093877544856234\n",
      "At random_state {27} the testing accuracy test is 0.82200382276998\n",
      "\n",
      "\n",
      "At random_state {28} the training accuracy test is 0.9149923897944576\n",
      "At random_state {28} the testing accuracy test is 0.8246571372339889\n",
      "\n",
      "\n",
      "At random_state {29} the training accuracy test is 0.9079850559017626\n",
      "At random_state {29} the testing accuracy test is 0.84287219190218\n",
      "\n",
      "\n",
      "At random_state {30} the training accuracy test is 0.9124839582885386\n",
      "At random_state {30} the testing accuracy test is 0.8252542820487997\n",
      "\n",
      "\n",
      "At random_state {31} the training accuracy test is 0.8807813164903344\n",
      "At random_state {31} the testing accuracy test is 0.9322410961977345\n",
      "\n",
      "\n",
      "At random_state {32} the training accuracy test is 0.8878745837425007\n",
      "At random_state {32} the testing accuracy test is 0.9175537182776695\n",
      "\n",
      "\n",
      "At random_state {33} the training accuracy test is 0.8879882989708496\n",
      "At random_state {33} the testing accuracy test is 0.9168810654061036\n",
      "\n",
      "\n",
      "At random_state {34} the training accuracy test is 0.8963326815087105\n",
      "At random_state {34} the testing accuracy test is 0.8827613135562806\n",
      "\n",
      "\n",
      "At random_state {35} the training accuracy test is 0.890330086541364\n",
      "At random_state {35} the testing accuracy test is 0.9152274156114042\n",
      "\n",
      "\n",
      "At random_state {36} the training accuracy test is 0.889604776334499\n",
      "At random_state {36} the testing accuracy test is 0.9128607101892307\n",
      "\n",
      "\n",
      "At random_state {37} the training accuracy test is 0.8928000346196905\n",
      "At random_state {37} the testing accuracy test is 0.9088278324221779\n",
      "\n",
      "\n",
      "At random_state {38} the training accuracy test is 0.8897992521999325\n",
      "At random_state {38} the testing accuracy test is 0.9171487919237081\n",
      "\n",
      "\n",
      "At random_state {39} the training accuracy test is 0.9036070955828279\n",
      "At random_state {39} the testing accuracy test is 0.8557691443734092\n",
      "\n",
      "\n",
      "At random_state {40} the training accuracy test is 0.8938831948100018\n",
      "At random_state {40} the testing accuracy test is 0.8932663650180768\n",
      "\n",
      "\n",
      "At random_state {41} the training accuracy test is 0.8988787589416551\n",
      "At random_state {41} the testing accuracy test is 0.8664155228386854\n",
      "\n",
      "\n",
      "At random_state {42} the training accuracy test is 0.8939442665762621\n",
      "At random_state {42} the testing accuracy test is 0.8973506561453755\n",
      "\n",
      "\n",
      "At random_state {43} the training accuracy test is 0.9001636599429672\n",
      "At random_state {43} the testing accuracy test is 0.8753517136188681\n",
      "\n",
      "\n",
      "At random_state {44} the training accuracy test is 0.9029550404208073\n",
      "At random_state {44} the testing accuracy test is 0.8129261407044058\n",
      "\n",
      "\n",
      "At random_state {45} the training accuracy test is 0.8977442277455933\n",
      "At random_state {45} the testing accuracy test is 0.8752250488622104\n",
      "\n",
      "\n",
      "At random_state {46} the training accuracy test is 0.8990385584067329\n",
      "At random_state {46} the testing accuracy test is 0.8747213040260013\n",
      "\n",
      "\n",
      "At random_state {47} the training accuracy test is 0.8948665010955633\n",
      "At random_state {47} the testing accuracy test is 0.8922417237310007\n",
      "\n",
      "\n",
      "At random_state {48} the training accuracy test is 0.9015776846896191\n",
      "At random_state {48} the testing accuracy test is 0.8680086528232099\n",
      "\n",
      "\n",
      "At random_state {49} the training accuracy test is 0.9105423653107543\n",
      "At random_state {49} the testing accuracy test is 0.8350653342955413\n",
      "\n",
      "\n",
      "At random_state {50} the training accuracy test is 0.9009852860973523\n",
      "At random_state {50} the testing accuracy test is 0.8423100031908728\n",
      "\n",
      "\n",
      "At random_state {51} the training accuracy test is 0.8931532403468286\n",
      "At random_state {51} the testing accuracy test is 0.8957875198770014\n",
      "\n",
      "\n",
      "At random_state {52} the training accuracy test is 0.8947509459615383\n",
      "At random_state {52} the testing accuracy test is 0.8925915186724517\n",
      "\n",
      "\n",
      "At random_state {53} the training accuracy test is 0.904874673000394\n",
      "At random_state {53} the testing accuracy test is 0.8523547724792292\n",
      "\n",
      "\n",
      "At random_state {54} the training accuracy test is 0.898221004570017\n",
      "At random_state {54} the testing accuracy test is 0.8776353009952889\n",
      "\n",
      "\n",
      "At random_state {55} the training accuracy test is 0.8931964541935601\n",
      "At random_state {55} the testing accuracy test is 0.8987976261667096\n",
      "\n",
      "\n",
      "At random_state {56} the training accuracy test is 0.9060692378798125\n",
      "At random_state {56} the testing accuracy test is 0.8449970932688172\n",
      "\n",
      "\n",
      "At random_state {57} the training accuracy test is 0.9029895636543817\n",
      "At random_state {57} the testing accuracy test is 0.8659209846255536\n",
      "\n",
      "\n",
      "At random_state {58} the training accuracy test is 0.8814905568092585\n",
      "At random_state {58} the testing accuracy test is 0.9301081927084237\n",
      "\n",
      "\n",
      "At random_state {59} the training accuracy test is 0.8874616860462764\n",
      "At random_state {59} the testing accuracy test is 0.917710329070742\n",
      "\n",
      "\n",
      "At random_state {60} the training accuracy test is 0.8983883112872219\n",
      "At random_state {60} the testing accuracy test is 0.8827022031179699\n",
      "\n",
      "\n",
      "At random_state {61} the training accuracy test is 0.9043643738374806\n",
      "At random_state {61} the testing accuracy test is 0.8544776294432312\n",
      "\n",
      "\n",
      "At random_state {62} the training accuracy test is 0.900641456423033\n",
      "At random_state {62} the testing accuracy test is 0.8570993690354571\n",
      "\n",
      "\n",
      "At random_state {63} the training accuracy test is 0.8940434059974829\n",
      "At random_state {63} the testing accuracy test is 0.8964376150854272\n",
      "\n",
      "\n",
      "At random_state {64} the training accuracy test is 0.886133112177135\n",
      "At random_state {64} the testing accuracy test is 0.9265085008144279\n",
      "\n",
      "\n",
      "At random_state {65} the training accuracy test is 0.8978432738005422\n",
      "At random_state {65} the testing accuracy test is 0.8828637466180442\n",
      "\n",
      "\n",
      "At random_state {66} the training accuracy test is 0.9001082700395925\n",
      "At random_state {66} the testing accuracy test is 0.876330270283092\n",
      "\n",
      "\n",
      "At random_state {67} the training accuracy test is 0.8915025477235988\n",
      "At random_state {67} the testing accuracy test is 0.9058168794622784\n",
      "\n",
      "\n",
      "At random_state {68} the training accuracy test is 0.9028493757450913\n",
      "At random_state {68} the testing accuracy test is 0.8641483684931222\n",
      "\n",
      "\n",
      "At random_state {69} the training accuracy test is 0.8915063040754967\n",
      "At random_state {69} the testing accuracy test is 0.9060630749933307\n",
      "\n",
      "\n",
      "At random_state {70} the training accuracy test is 0.8834039435694677\n",
      "At random_state {70} the testing accuracy test is 0.9232879755887871\n",
      "\n",
      "\n",
      "At random_state {71} the training accuracy test is 0.9093852989222346\n",
      "At random_state {71} the testing accuracy test is 0.8075682042626336\n",
      "\n",
      "\n",
      "At random_state {72} the training accuracy test is 0.887909641380888\n",
      "At random_state {72} the testing accuracy test is 0.9204939440753833\n",
      "\n",
      "\n",
      "At random_state {73} the training accuracy test is 0.8960910447264088\n",
      "At random_state {73} the testing accuracy test is 0.8848284915077834\n",
      "\n",
      "\n",
      "At random_state {74} the training accuracy test is 0.8738718540420292\n",
      "At random_state {74} the testing accuracy test is 0.9302643275474216\n",
      "\n",
      "\n",
      "At random_state {75} the training accuracy test is 0.8953946547741162\n",
      "At random_state {75} the testing accuracy test is 0.8756530010156298\n",
      "\n",
      "\n",
      "At random_state {76} the training accuracy test is 0.9038753805919301\n",
      "At random_state {76} the testing accuracy test is 0.8517080643619265\n",
      "\n",
      "\n",
      "At random_state {77} the training accuracy test is 0.8889513987941758\n",
      "At random_state {77} the testing accuracy test is 0.916845267970456\n",
      "\n",
      "\n",
      "At random_state {78} the training accuracy test is 0.9135381248514395\n",
      "At random_state {78} the testing accuracy test is 0.7899873713177684\n",
      "\n",
      "\n",
      "At random_state {79} the training accuracy test is 0.8920179616099255\n",
      "At random_state {79} the testing accuracy test is 0.9004279725235953\n",
      "\n",
      "\n",
      "At random_state {80} the training accuracy test is 0.892726634902634\n",
      "At random_state {80} the testing accuracy test is 0.9035040850720206\n",
      "\n",
      "\n",
      "At random_state {81} the training accuracy test is 0.8877972939748031\n",
      "At random_state {81} the testing accuracy test is 0.9199819618982279\n",
      "\n",
      "\n",
      "At random_state {82} the training accuracy test is 0.9088225935331654\n",
      "At random_state {82} the testing accuracy test is 0.840722645720096\n",
      "\n",
      "\n",
      "At random_state {83} the training accuracy test is 0.9004411052929164\n",
      "At random_state {83} the testing accuracy test is 0.8790442238369577\n",
      "\n",
      "\n",
      "At random_state {84} the training accuracy test is 0.8837031763075623\n",
      "At random_state {84} the testing accuracy test is 0.9284526387270741\n",
      "\n",
      "\n",
      "At random_state {85} the training accuracy test is 0.913142456288272\n",
      "At random_state {85} the testing accuracy test is 0.7700764934265757\n",
      "\n",
      "\n",
      "At random_state {86} the training accuracy test is 0.8924092314996968\n",
      "At random_state {86} the testing accuracy test is 0.9056257429769184\n",
      "\n",
      "\n",
      "At random_state {87} the training accuracy test is 0.9138331281311072\n",
      "At random_state {87} the testing accuracy test is 0.8105298937240415\n",
      "\n",
      "\n",
      "At random_state {88} the training accuracy test is 0.8973336703431843\n",
      "At random_state {88} the testing accuracy test is 0.883601280770308\n",
      "\n",
      "\n",
      "At random_state {89} the training accuracy test is 0.9032240895674261\n",
      "At random_state {89} the testing accuracy test is 0.8457607864614859\n",
      "\n",
      "\n",
      "At random_state {90} the training accuracy test is 0.8793112686032555\n",
      "At random_state {90} the testing accuracy test is 0.9468304700964035\n",
      "\n",
      "\n",
      "At random_state {91} the training accuracy test is 0.8927178994151133\n",
      "At random_state {91} the testing accuracy test is 0.8977596185481715\n",
      "\n",
      "\n",
      "At random_state {92} the training accuracy test is 0.8937657169365189\n",
      "At random_state {92} the testing accuracy test is 0.8934151292076533\n",
      "\n",
      "\n",
      "At random_state {93} the training accuracy test is 0.9081892173335392\n",
      "At random_state {93} the testing accuracy test is 0.8443176859670056\n",
      "\n",
      "\n",
      "At random_state {94} the training accuracy test is 0.9033986835736001\n",
      "At random_state {94} the testing accuracy test is 0.8683982189350958\n",
      "\n",
      "\n",
      "At random_state {95} the training accuracy test is 0.9081649716354206\n",
      "At random_state {95} the testing accuracy test is 0.8477779307074431\n",
      "\n",
      "\n",
      "At random_state {96} the training accuracy test is 0.9027836209567596\n",
      "At random_state {96} the testing accuracy test is 0.85390947283825\n",
      "\n",
      "\n",
      "At random_state {97} the training accuracy test is 0.894327930195089\n",
      "At random_state {97} the testing accuracy test is 0.8974093864265151\n",
      "\n",
      "\n",
      "At random_state {98} the training accuracy test is 0.9084859758312095\n",
      "At random_state {98} the testing accuracy test is 0.8406615841001427\n",
      "\n",
      "\n",
      "At random_state {99} the training accuracy test is 0.8832335445293644\n",
      "At random_state {99} the testing accuracy test is 0.9298618955109363\n",
      "\n",
      "\n"
     ]
    }
   ],
   "source": [
    "for i in range(0,100):\n",
    "    x_train,x_test,y_train,y_test=train_test_split(x1,y,test_size=0.20,random_state=i)\n",
    "    lr.fit(x_train,y_train)\n",
    "    predr=lr.predict(x_train)\n",
    "    pred=lr.predict(x_test)\n",
    "    print('At random_state' ,{i}, 'the training accuracy test is', r2_score(y_train,predr))\n",
    "    print('At random_state' ,{i}, 'the testing accuracy test is', r2_score(y_test,pred))\n",
    "    print('\\n')"
   ]
  },
  {
   "cell_type": "markdown",
   "id": "a4e22927",
   "metadata": {},
   "source": [
    "## AT RANDOM_STATE 24 WE HAVE ACHIEVED THE HIGHEST R2_SCORE OF 94.70%,HENCE WE WILL PROCEED WITH THAT "
   ]
  },
  {
   "cell_type": "code",
   "execution_count": 57,
   "id": "961e0737",
   "metadata": {},
   "outputs": [],
   "source": [
    "x_train,x_test,y_train,y_test=train_test_split(x1,y,test_size=0.2,random_state=24)"
   ]
  },
  {
   "cell_type": "code",
   "execution_count": 58,
   "id": "a4bc7326",
   "metadata": {},
   "outputs": [],
   "source": [
    "LR=LinearRegression()"
   ]
  },
  {
   "cell_type": "code",
   "execution_count": 59,
   "id": "c3e54d62",
   "metadata": {},
   "outputs": [
    {
     "data": {
      "text/html": [
       "<style>#sk-container-id-1 {color: black;background-color: white;}#sk-container-id-1 pre{padding: 0;}#sk-container-id-1 div.sk-toggleable {background-color: white;}#sk-container-id-1 label.sk-toggleable__label {cursor: pointer;display: block;width: 100%;margin-bottom: 0;padding: 0.3em;box-sizing: border-box;text-align: center;}#sk-container-id-1 label.sk-toggleable__label-arrow:before {content: \"▸\";float: left;margin-right: 0.25em;color: #696969;}#sk-container-id-1 label.sk-toggleable__label-arrow:hover:before {color: black;}#sk-container-id-1 div.sk-estimator:hover label.sk-toggleable__label-arrow:before {color: black;}#sk-container-id-1 div.sk-toggleable__content {max-height: 0;max-width: 0;overflow: hidden;text-align: left;background-color: #f0f8ff;}#sk-container-id-1 div.sk-toggleable__content pre {margin: 0.2em;color: black;border-radius: 0.25em;background-color: #f0f8ff;}#sk-container-id-1 input.sk-toggleable__control:checked~div.sk-toggleable__content {max-height: 200px;max-width: 100%;overflow: auto;}#sk-container-id-1 input.sk-toggleable__control:checked~label.sk-toggleable__label-arrow:before {content: \"▾\";}#sk-container-id-1 div.sk-estimator input.sk-toggleable__control:checked~label.sk-toggleable__label {background-color: #d4ebff;}#sk-container-id-1 div.sk-label input.sk-toggleable__control:checked~label.sk-toggleable__label {background-color: #d4ebff;}#sk-container-id-1 input.sk-hidden--visually {border: 0;clip: rect(1px 1px 1px 1px);clip: rect(1px, 1px, 1px, 1px);height: 1px;margin: -1px;overflow: hidden;padding: 0;position: absolute;width: 1px;}#sk-container-id-1 div.sk-estimator {font-family: monospace;background-color: #f0f8ff;border: 1px dotted black;border-radius: 0.25em;box-sizing: border-box;margin-bottom: 0.5em;}#sk-container-id-1 div.sk-estimator:hover {background-color: #d4ebff;}#sk-container-id-1 div.sk-parallel-item::after {content: \"\";width: 100%;border-bottom: 1px solid gray;flex-grow: 1;}#sk-container-id-1 div.sk-label:hover label.sk-toggleable__label {background-color: #d4ebff;}#sk-container-id-1 div.sk-serial::before {content: \"\";position: absolute;border-left: 1px solid gray;box-sizing: border-box;top: 0;bottom: 0;left: 50%;z-index: 0;}#sk-container-id-1 div.sk-serial {display: flex;flex-direction: column;align-items: center;background-color: white;padding-right: 0.2em;padding-left: 0.2em;position: relative;}#sk-container-id-1 div.sk-item {position: relative;z-index: 1;}#sk-container-id-1 div.sk-parallel {display: flex;align-items: stretch;justify-content: center;background-color: white;position: relative;}#sk-container-id-1 div.sk-item::before, #sk-container-id-1 div.sk-parallel-item::before {content: \"\";position: absolute;border-left: 1px solid gray;box-sizing: border-box;top: 0;bottom: 0;left: 50%;z-index: -1;}#sk-container-id-1 div.sk-parallel-item {display: flex;flex-direction: column;z-index: 1;position: relative;background-color: white;}#sk-container-id-1 div.sk-parallel-item:first-child::after {align-self: flex-end;width: 50%;}#sk-container-id-1 div.sk-parallel-item:last-child::after {align-self: flex-start;width: 50%;}#sk-container-id-1 div.sk-parallel-item:only-child::after {width: 0;}#sk-container-id-1 div.sk-dashed-wrapped {border: 1px dashed gray;margin: 0 0.4em 0.5em 0.4em;box-sizing: border-box;padding-bottom: 0.4em;background-color: white;}#sk-container-id-1 div.sk-label label {font-family: monospace;font-weight: bold;display: inline-block;line-height: 1.2em;}#sk-container-id-1 div.sk-label-container {text-align: center;}#sk-container-id-1 div.sk-container {/* jupyter's `normalize.less` sets `[hidden] { display: none; }` but bootstrap.min.css set `[hidden] { display: none !important; }` so we also need the `!important` here to be able to override the default hidden behavior on the sphinx rendered scikit-learn.org. See: https://github.com/scikit-learn/scikit-learn/issues/21755 */display: inline-block !important;position: relative;}#sk-container-id-1 div.sk-text-repr-fallback {display: none;}</style><div id=\"sk-container-id-1\" class=\"sk-top-container\"><div class=\"sk-text-repr-fallback\"><pre>LinearRegression()</pre><b>In a Jupyter environment, please rerun this cell to show the HTML representation or trust the notebook. <br />On GitHub, the HTML representation is unable to render, please try loading this page with nbviewer.org.</b></div><div class=\"sk-container\" hidden><div class=\"sk-item\"><div class=\"sk-estimator sk-toggleable\"><input class=\"sk-toggleable__control sk-hidden--visually\" id=\"sk-estimator-id-1\" type=\"checkbox\" checked><label for=\"sk-estimator-id-1\" class=\"sk-toggleable__label sk-toggleable__label-arrow\">LinearRegression</label><div class=\"sk-toggleable__content\"><pre>LinearRegression()</pre></div></div></div></div></div>"
      ],
      "text/plain": [
       "LinearRegression()"
      ]
     },
     "execution_count": 59,
     "metadata": {},
     "output_type": "execute_result"
    }
   ],
   "source": [
    "LR.fit(x_train,y_train)"
   ]
  },
  {
   "cell_type": "code",
   "execution_count": 60,
   "id": "b1b9d6fa",
   "metadata": {},
   "outputs": [],
   "source": [
    "PRELR=LR.predict(x_test)"
   ]
  },
  {
   "cell_type": "code",
   "execution_count": 61,
   "id": "185496c6",
   "metadata": {},
   "outputs": [
    {
     "name": "stdout",
     "output_type": "stream",
     "text": [
      "0.9470588911088108\n"
     ]
    }
   ],
   "source": [
    "print(r2_score(y_test,PRELR))"
   ]
  },
  {
   "cell_type": "code",
   "execution_count": 62,
   "id": "bcd3fd81",
   "metadata": {},
   "outputs": [],
   "source": [
    "from sklearn.metrics import mean_squared_error,mean_absolute_error"
   ]
  },
  {
   "cell_type": "code",
   "execution_count": 63,
   "id": "7ce5ccf1",
   "metadata": {},
   "outputs": [
    {
     "name": "stdout",
     "output_type": "stream",
     "text": [
      "1.3622670478289263\n"
     ]
    }
   ],
   "source": [
    "print(mean_squared_error(y_test,PRELR))"
   ]
  },
  {
   "cell_type": "code",
   "execution_count": 64,
   "id": "aaef1a1f",
   "metadata": {},
   "outputs": [
    {
     "name": "stdout",
     "output_type": "stream",
     "text": [
      "0.93735598308437\n"
     ]
    }
   ],
   "source": [
    "print(mean_absolute_error(y_test,PRELR))"
   ]
  },
  {
   "cell_type": "code",
   "execution_count": 223,
   "id": "3c430867",
   "metadata": {},
   "outputs": [
    {
     "name": "stdout",
     "output_type": "stream",
     "text": [
      "RMSE- 1.1671332400373147\n"
     ]
    }
   ],
   "source": [
    "print('RMSE-',(sqrt(1.3622)))"
   ]
  },
  {
   "cell_type": "markdown",
   "id": "c504d533",
   "metadata": {},
   "source": [
    "## SVR"
   ]
  },
  {
   "cell_type": "code",
   "execution_count": 65,
   "id": "a70dc29f",
   "metadata": {},
   "outputs": [],
   "source": [
    "svr=SVR()"
   ]
  },
  {
   "cell_type": "code",
   "execution_count": 66,
   "id": "804c6e44",
   "metadata": {},
   "outputs": [
    {
     "name": "stdout",
     "output_type": "stream",
     "text": [
      "At random_state {0} the training accuracy test is 0.9175666898495088\n",
      "At random_state {0} the testing accuracy test is 0.9140915148234893\n",
      "\n",
      "\n",
      "At random_state {1} the training accuracy test is 0.9188441233185339\n",
      "At random_state {1} the testing accuracy test is 0.9445701837507757\n",
      "\n",
      "\n",
      "At random_state {2} the training accuracy test is 0.9281946673228587\n",
      "At random_state {2} the testing accuracy test is 0.8879307582989064\n",
      "\n",
      "\n",
      "At random_state {3} the training accuracy test is 0.9198670530037149\n",
      "At random_state {3} the testing accuracy test is 0.9427259655379069\n",
      "\n",
      "\n",
      "At random_state {4} the training accuracy test is 0.9306192581725908\n",
      "At random_state {4} the testing accuracy test is 0.9396708337390287\n",
      "\n",
      "\n",
      "At random_state {5} the training accuracy test is 0.9286752157444629\n",
      "At random_state {5} the testing accuracy test is 0.892585117631498\n",
      "\n",
      "\n",
      "At random_state {6} the training accuracy test is 0.9307020943244737\n",
      "At random_state {6} the testing accuracy test is 0.9136543094345912\n",
      "\n",
      "\n",
      "At random_state {7} the training accuracy test is 0.9182848538916317\n",
      "At random_state {7} the testing accuracy test is 0.8876092176127695\n",
      "\n",
      "\n",
      "At random_state {8} the training accuracy test is 0.9287140982211675\n",
      "At random_state {8} the testing accuracy test is 0.8627852203742186\n",
      "\n",
      "\n",
      "At random_state {9} the training accuracy test is 0.9188798672934863\n",
      "At random_state {9} the testing accuracy test is 0.9516938959490988\n",
      "\n",
      "\n",
      "At random_state {10} the training accuracy test is 0.9328955136517912\n",
      "At random_state {10} the testing accuracy test is 0.83202967277631\n",
      "\n",
      "\n",
      "At random_state {11} the training accuracy test is 0.9137449668604051\n",
      "At random_state {11} the testing accuracy test is 0.9314711294733486\n",
      "\n",
      "\n",
      "At random_state {12} the training accuracy test is 0.9200086908847447\n",
      "At random_state {12} the testing accuracy test is 0.9022767830710094\n",
      "\n",
      "\n",
      "At random_state {13} the training accuracy test is 0.9311421652583398\n",
      "At random_state {13} the testing accuracy test is 0.9102392657793574\n",
      "\n",
      "\n",
      "At random_state {14} the training accuracy test is 0.9149470964277013\n",
      "At random_state {14} the testing accuracy test is 0.8540784069186058\n",
      "\n",
      "\n",
      "At random_state {15} the training accuracy test is 0.9238167956947605\n",
      "At random_state {15} the testing accuracy test is 0.8980245929529862\n",
      "\n",
      "\n",
      "At random_state {16} the training accuracy test is 0.9163578143439614\n",
      "At random_state {16} the testing accuracy test is 0.9052972903335179\n",
      "\n",
      "\n",
      "At random_state {17} the training accuracy test is 0.9112388146856246\n",
      "At random_state {17} the testing accuracy test is 0.9506046705011835\n",
      "\n",
      "\n",
      "At random_state {18} the training accuracy test is 0.9352254872295654\n",
      "At random_state {18} the testing accuracy test is 0.8455364087261549\n",
      "\n",
      "\n",
      "At random_state {19} the training accuracy test is 0.9277236728722681\n",
      "At random_state {19} the testing accuracy test is 0.9094899910952979\n",
      "\n",
      "\n",
      "At random_state {20} the training accuracy test is 0.9178896183035883\n",
      "At random_state {20} the testing accuracy test is 0.8863762060367579\n",
      "\n",
      "\n",
      "At random_state {21} the training accuracy test is 0.917161401084991\n",
      "At random_state {21} the testing accuracy test is 0.9111759372939192\n",
      "\n",
      "\n",
      "At random_state {22} the training accuracy test is 0.9162180701588407\n",
      "At random_state {22} the testing accuracy test is 0.9403511917907834\n",
      "\n",
      "\n",
      "At random_state {23} the training accuracy test is 0.9213729361642429\n",
      "At random_state {23} the testing accuracy test is 0.9127025778551148\n",
      "\n",
      "\n",
      "At random_state {24} the training accuracy test is 0.918057385638051\n",
      "At random_state {24} the testing accuracy test is 0.9515272495678433\n",
      "\n",
      "\n",
      "At random_state {25} the training accuracy test is 0.9226010488074958\n",
      "At random_state {25} the testing accuracy test is 0.9059425341185423\n",
      "\n",
      "\n",
      "At random_state {26} the training accuracy test is 0.9279839719535727\n",
      "At random_state {26} the testing accuracy test is 0.9383072930081121\n",
      "\n",
      "\n",
      "At random_state {27} the training accuracy test is 0.9291517116666644\n",
      "At random_state {27} the testing accuracy test is 0.84336695294538\n",
      "\n",
      "\n",
      "At random_state {28} the training accuracy test is 0.9355176680190265\n",
      "At random_state {28} the testing accuracy test is 0.8653264681061711\n",
      "\n",
      "\n",
      "At random_state {29} the training accuracy test is 0.9446127149921125\n",
      "At random_state {29} the testing accuracy test is 0.8368631685313586\n",
      "\n",
      "\n",
      "At random_state {30} the training accuracy test is 0.9355629600101839\n",
      "At random_state {30} the testing accuracy test is 0.8669946715758714\n",
      "\n",
      "\n",
      "At random_state {31} the training accuracy test is 0.916357833469867\n",
      "At random_state {31} the testing accuracy test is 0.8977009625828541\n",
      "\n",
      "\n",
      "At random_state {32} the training accuracy test is 0.9235113065494152\n",
      "At random_state {32} the testing accuracy test is 0.9172285355015836\n",
      "\n",
      "\n",
      "At random_state {33} the training accuracy test is 0.9235785375485116\n",
      "At random_state {33} the testing accuracy test is 0.9202461074596147\n",
      "\n",
      "\n",
      "At random_state {34} the training accuracy test is 0.9251663207820028\n",
      "At random_state {34} the testing accuracy test is 0.9295794509776931\n",
      "\n",
      "\n",
      "At random_state {35} the training accuracy test is 0.9303341001792488\n",
      "At random_state {35} the testing accuracy test is 0.9149122905672198\n",
      "\n",
      "\n",
      "At random_state {36} the training accuracy test is 0.9143958421327247\n",
      "At random_state {36} the testing accuracy test is 0.9034982747411577\n",
      "\n",
      "\n",
      "At random_state {37} the training accuracy test is 0.9298394423752655\n",
      "At random_state {37} the testing accuracy test is 0.9312657912493443\n",
      "\n",
      "\n",
      "At random_state {38} the training accuracy test is 0.918549961570859\n",
      "At random_state {38} the testing accuracy test is 0.9344932327854218\n",
      "\n",
      "\n",
      "At random_state {39} the training accuracy test is 0.9343965586952317\n",
      "At random_state {39} the testing accuracy test is 0.8828036578540126\n",
      "\n",
      "\n",
      "At random_state {40} the training accuracy test is 0.9293752738981659\n",
      "At random_state {40} the testing accuracy test is 0.9146245955781499\n",
      "\n",
      "\n",
      "At random_state {41} the training accuracy test is 0.9253747924029585\n",
      "At random_state {41} the testing accuracy test is 0.8683612201519351\n",
      "\n",
      "\n",
      "At random_state {42} the training accuracy test is 0.9203622115733918\n",
      "At random_state {42} the testing accuracy test is 0.914574318459153\n",
      "\n",
      "\n",
      "At random_state {43} the training accuracy test is 0.9228339482136012\n",
      "At random_state {43} the testing accuracy test is 0.9076536778719531\n",
      "\n",
      "\n",
      "At random_state {44} the training accuracy test is 0.9223531989326739\n",
      "At random_state {44} the testing accuracy test is 0.9384761607518567\n",
      "\n",
      "\n",
      "At random_state {45} the training accuracy test is 0.9250300532160868\n",
      "At random_state {45} the testing accuracy test is 0.9409794693781736\n",
      "\n",
      "\n",
      "At random_state {46} the training accuracy test is 0.9331781549958185\n",
      "At random_state {46} the testing accuracy test is 0.8679388190296593\n",
      "\n",
      "\n",
      "At random_state {47} the training accuracy test is 0.9276806006187518\n",
      "At random_state {47} the testing accuracy test is 0.9375207438288861\n",
      "\n",
      "\n",
      "At random_state {48} the training accuracy test is 0.9313747464159108\n",
      "At random_state {48} the testing accuracy test is 0.878110594800394\n",
      "\n",
      "\n",
      "At random_state {49} the training accuracy test is 0.9282587010562026\n",
      "At random_state {49} the testing accuracy test is 0.8925182239641395\n",
      "\n",
      "\n",
      "At random_state {50} the training accuracy test is 0.9279678355930595\n",
      "At random_state {50} the testing accuracy test is 0.9375323522716826\n",
      "\n",
      "\n",
      "At random_state {51} the training accuracy test is 0.9293027984857016\n",
      "At random_state {51} the testing accuracy test is 0.8817487897741224\n",
      "\n",
      "\n",
      "At random_state {52} the training accuracy test is 0.9286041186799128\n",
      "At random_state {52} the testing accuracy test is 0.9278914972666232\n",
      "\n",
      "\n",
      "At random_state {53} the training accuracy test is 0.9353395459049865\n",
      "At random_state {53} the testing accuracy test is 0.8478721861836525\n",
      "\n",
      "\n",
      "At random_state {54} the training accuracy test is 0.9224528611774173\n",
      "At random_state {54} the testing accuracy test is 0.8933725659112883\n",
      "\n",
      "\n",
      "At random_state {55} the training accuracy test is 0.9157445883529844\n",
      "At random_state {55} the testing accuracy test is 0.9045901742734253\n",
      "\n",
      "\n",
      "At random_state {56} the training accuracy test is 0.9411034928223686\n",
      "At random_state {56} the testing accuracy test is 0.8436238916688978\n",
      "\n",
      "\n",
      "At random_state {57} the training accuracy test is 0.9420931669806878\n",
      "At random_state {57} the testing accuracy test is 0.8254254556308838\n",
      "\n",
      "\n",
      "At random_state {58} the training accuracy test is 0.915666507184899\n",
      "At random_state {58} the testing accuracy test is 0.9011139908248871\n",
      "\n",
      "\n",
      "At random_state {59} the training accuracy test is 0.9201183137193297\n",
      "At random_state {59} the testing accuracy test is 0.9025214980138023\n",
      "\n",
      "\n",
      "At random_state {60} the training accuracy test is 0.9175191593640429\n",
      "At random_state {60} the testing accuracy test is 0.9094601722888644\n",
      "\n",
      "\n",
      "At random_state {61} the training accuracy test is 0.9385318204136883\n",
      "At random_state {61} the testing accuracy test is 0.8775571971964861\n",
      "\n",
      "\n",
      "At random_state {62} the training accuracy test is 0.9321950732106349\n",
      "At random_state {62} the testing accuracy test is 0.9065189664843086\n",
      "\n",
      "\n",
      "At random_state {63} the training accuracy test is 0.9151209006554224\n",
      "At random_state {63} the testing accuracy test is 0.9705273328795185\n",
      "\n",
      "\n",
      "At random_state {64} the training accuracy test is 0.9152016820937353\n",
      "At random_state {64} the testing accuracy test is 0.8983158790475368\n",
      "\n",
      "\n",
      "At random_state {65} the training accuracy test is 0.9120652632855615\n",
      "At random_state {65} the testing accuracy test is 0.9051609105144907\n",
      "\n",
      "\n",
      "At random_state {66} the training accuracy test is 0.9371358672348536\n",
      "At random_state {66} the testing accuracy test is 0.8762968309996942\n",
      "\n",
      "\n",
      "At random_state {67} the training accuracy test is 0.9174944685521806\n",
      "At random_state {67} the testing accuracy test is 0.939870746436661\n",
      "\n",
      "\n",
      "At random_state {68} the training accuracy test is 0.9312866723963437\n",
      "At random_state {68} the testing accuracy test is 0.8754091401556173\n",
      "\n",
      "\n",
      "At random_state {69} the training accuracy test is 0.9206461495154118\n",
      "At random_state {69} the testing accuracy test is 0.9318175837260627\n",
      "\n",
      "\n",
      "At random_state {70} the training accuracy test is 0.9204457711247549\n",
      "At random_state {70} the testing accuracy test is 0.8869916461365709\n",
      "\n",
      "\n",
      "At random_state {71} the training accuracy test is 0.9297329946063706\n",
      "At random_state {71} the testing accuracy test is 0.8802342470473202\n",
      "\n",
      "\n",
      "At random_state {72} the training accuracy test is 0.9258838110082476\n",
      "At random_state {72} the testing accuracy test is 0.9143632589272321\n",
      "\n",
      "\n",
      "At random_state {73} the training accuracy test is 0.9178001333322439\n",
      "At random_state {73} the testing accuracy test is 0.9340619651530201\n",
      "\n",
      "\n",
      "At random_state {74} the training accuracy test is 0.9012819787672386\n",
      "At random_state {74} the testing accuracy test is 0.8960877707635067\n",
      "\n",
      "\n",
      "At random_state {75} the training accuracy test is 0.9223119116328359\n",
      "At random_state {75} the testing accuracy test is 0.896058378533679\n",
      "\n",
      "\n",
      "At random_state {76} the training accuracy test is 0.9259596254042302\n",
      "At random_state {76} the testing accuracy test is 0.922371660249011\n",
      "\n",
      "\n",
      "At random_state {77} the training accuracy test is 0.9284262343657131\n",
      "At random_state {77} the testing accuracy test is 0.918243927224857\n",
      "\n",
      "\n",
      "At random_state {78} the training accuracy test is 0.9372606774709589\n",
      "At random_state {78} the testing accuracy test is 0.8450495803279772\n",
      "\n",
      "\n",
      "At random_state {79} the training accuracy test is 0.9254774922988993\n",
      "At random_state {79} the testing accuracy test is 0.8910862019807728\n",
      "\n",
      "\n",
      "At random_state {80} the training accuracy test is 0.9187929282913034\n",
      "At random_state {80} the testing accuracy test is 0.9039035791814898\n",
      "\n",
      "\n",
      "At random_state {81} the training accuracy test is 0.9235802503366762\n",
      "At random_state {81} the testing accuracy test is 0.907115990222287\n",
      "\n",
      "\n",
      "At random_state {82} the training accuracy test is 0.9407071415062491\n",
      "At random_state {82} the testing accuracy test is 0.8706140588519525\n",
      "\n",
      "\n",
      "At random_state {83} the training accuracy test is 0.9292433579641431\n",
      "At random_state {83} the testing accuracy test is 0.8736188551660854\n",
      "\n",
      "\n",
      "At random_state {84} the training accuracy test is 0.935569038606374\n",
      "At random_state {84} the testing accuracy test is 0.825115990453338\n",
      "\n",
      "\n",
      "At random_state {85} the training accuracy test is 0.9296054508733742\n",
      "At random_state {85} the testing accuracy test is 0.8250862635644545\n",
      "\n",
      "\n",
      "At random_state {86} the training accuracy test is 0.9284622878215174\n",
      "At random_state {86} the testing accuracy test is 0.9160908869154204\n",
      "\n",
      "\n",
      "At random_state {87} the training accuracy test is 0.9326712935803311\n",
      "At random_state {87} the testing accuracy test is 0.8845193038100843\n",
      "\n",
      "\n",
      "At random_state {88} the training accuracy test is 0.92222768435922\n",
      "At random_state {88} the testing accuracy test is 0.9284072532801759\n",
      "\n",
      "\n",
      "At random_state {89} the training accuracy test is 0.9304019924463369\n",
      "At random_state {89} the testing accuracy test is 0.880360135920359\n",
      "\n",
      "\n",
      "At random_state {90} the training accuracy test is 0.9167270341200012\n",
      "At random_state {90} the testing accuracy test is 0.9215560415646732\n",
      "\n",
      "\n",
      "At random_state {91} the training accuracy test is 0.920117416880781\n",
      "At random_state {91} the testing accuracy test is 0.9167382846077492\n",
      "\n",
      "\n",
      "At random_state {92} the training accuracy test is 0.9291973177304095\n",
      "At random_state {92} the testing accuracy test is 0.8979953727919331\n",
      "\n",
      "\n",
      "At random_state {93} the training accuracy test is 0.9321051026871832\n",
      "At random_state {93} the testing accuracy test is 0.8697047691613897\n",
      "\n",
      "\n",
      "At random_state {94} the training accuracy test is 0.9350866225239849\n",
      "At random_state {94} the testing accuracy test is 0.8825235512871391\n",
      "\n",
      "\n",
      "At random_state {95} the training accuracy test is 0.9327766107656585\n",
      "At random_state {95} the testing accuracy test is 0.8711536675626431\n",
      "\n",
      "\n",
      "At random_state {96} the training accuracy test is 0.9241868581014141\n",
      "At random_state {96} the testing accuracy test is 0.9011567749747694\n",
      "\n",
      "\n",
      "At random_state {97} the training accuracy test is 0.9190119193083358\n",
      "At random_state {97} the testing accuracy test is 0.9297864031395103\n",
      "\n",
      "\n",
      "At random_state {98} the training accuracy test is 0.9345848686355213\n",
      "At random_state {98} the testing accuracy test is 0.8637218154770547\n",
      "\n",
      "\n",
      "At random_state {99} the training accuracy test is 0.9127884827164916\n",
      "At random_state {99} the testing accuracy test is 0.9106248050405725\n",
      "\n",
      "\n"
     ]
    }
   ],
   "source": [
    "for i in range(0,100):\n",
    "    x_train,x_test,y_train,y_test=train_test_split(x1,y,test_size=0.20,random_state=i)\n",
    "    svr.fit(x_train,y_train)\n",
    "    presvr=svr.predict(x_train)\n",
    "    presvr1=svr.predict(x_test)\n",
    "    print('At random_state' ,{i}, 'the training accuracy test is', r2_score(y_train,presvr))\n",
    "    print('At random_state' ,{i}, 'the testing accuracy test is', r2_score(y_test,presvr1))\n",
    "    print('\\n')"
   ]
  },
  {
   "cell_type": "markdown",
   "id": "6c516301",
   "metadata": {},
   "source": [
    "## AT RANDOM_STATE 9 WE HAVE ACHIEVED THE HIGHEST R2_SCORE OF 95.16%,HENCE WE WILL PROCEED WITH THAT "
   ]
  },
  {
   "cell_type": "code",
   "execution_count": 67,
   "id": "4184670c",
   "metadata": {},
   "outputs": [],
   "source": [
    "SVR=SVR()"
   ]
  },
  {
   "cell_type": "code",
   "execution_count": 68,
   "id": "4a872fa5",
   "metadata": {},
   "outputs": [],
   "source": [
    "x_train,x_test,y_train,y_test=train_test_split(x1,y,test_size=0.2,random_state=9)"
   ]
  },
  {
   "cell_type": "code",
   "execution_count": 69,
   "id": "8a8387d5",
   "metadata": {},
   "outputs": [
    {
     "data": {
      "text/html": [
       "<style>#sk-container-id-2 {color: black;background-color: white;}#sk-container-id-2 pre{padding: 0;}#sk-container-id-2 div.sk-toggleable {background-color: white;}#sk-container-id-2 label.sk-toggleable__label {cursor: pointer;display: block;width: 100%;margin-bottom: 0;padding: 0.3em;box-sizing: border-box;text-align: center;}#sk-container-id-2 label.sk-toggleable__label-arrow:before {content: \"▸\";float: left;margin-right: 0.25em;color: #696969;}#sk-container-id-2 label.sk-toggleable__label-arrow:hover:before {color: black;}#sk-container-id-2 div.sk-estimator:hover label.sk-toggleable__label-arrow:before {color: black;}#sk-container-id-2 div.sk-toggleable__content {max-height: 0;max-width: 0;overflow: hidden;text-align: left;background-color: #f0f8ff;}#sk-container-id-2 div.sk-toggleable__content pre {margin: 0.2em;color: black;border-radius: 0.25em;background-color: #f0f8ff;}#sk-container-id-2 input.sk-toggleable__control:checked~div.sk-toggleable__content {max-height: 200px;max-width: 100%;overflow: auto;}#sk-container-id-2 input.sk-toggleable__control:checked~label.sk-toggleable__label-arrow:before {content: \"▾\";}#sk-container-id-2 div.sk-estimator input.sk-toggleable__control:checked~label.sk-toggleable__label {background-color: #d4ebff;}#sk-container-id-2 div.sk-label input.sk-toggleable__control:checked~label.sk-toggleable__label {background-color: #d4ebff;}#sk-container-id-2 input.sk-hidden--visually {border: 0;clip: rect(1px 1px 1px 1px);clip: rect(1px, 1px, 1px, 1px);height: 1px;margin: -1px;overflow: hidden;padding: 0;position: absolute;width: 1px;}#sk-container-id-2 div.sk-estimator {font-family: monospace;background-color: #f0f8ff;border: 1px dotted black;border-radius: 0.25em;box-sizing: border-box;margin-bottom: 0.5em;}#sk-container-id-2 div.sk-estimator:hover {background-color: #d4ebff;}#sk-container-id-2 div.sk-parallel-item::after {content: \"\";width: 100%;border-bottom: 1px solid gray;flex-grow: 1;}#sk-container-id-2 div.sk-label:hover label.sk-toggleable__label {background-color: #d4ebff;}#sk-container-id-2 div.sk-serial::before {content: \"\";position: absolute;border-left: 1px solid gray;box-sizing: border-box;top: 0;bottom: 0;left: 50%;z-index: 0;}#sk-container-id-2 div.sk-serial {display: flex;flex-direction: column;align-items: center;background-color: white;padding-right: 0.2em;padding-left: 0.2em;position: relative;}#sk-container-id-2 div.sk-item {position: relative;z-index: 1;}#sk-container-id-2 div.sk-parallel {display: flex;align-items: stretch;justify-content: center;background-color: white;position: relative;}#sk-container-id-2 div.sk-item::before, #sk-container-id-2 div.sk-parallel-item::before {content: \"\";position: absolute;border-left: 1px solid gray;box-sizing: border-box;top: 0;bottom: 0;left: 50%;z-index: -1;}#sk-container-id-2 div.sk-parallel-item {display: flex;flex-direction: column;z-index: 1;position: relative;background-color: white;}#sk-container-id-2 div.sk-parallel-item:first-child::after {align-self: flex-end;width: 50%;}#sk-container-id-2 div.sk-parallel-item:last-child::after {align-self: flex-start;width: 50%;}#sk-container-id-2 div.sk-parallel-item:only-child::after {width: 0;}#sk-container-id-2 div.sk-dashed-wrapped {border: 1px dashed gray;margin: 0 0.4em 0.5em 0.4em;box-sizing: border-box;padding-bottom: 0.4em;background-color: white;}#sk-container-id-2 div.sk-label label {font-family: monospace;font-weight: bold;display: inline-block;line-height: 1.2em;}#sk-container-id-2 div.sk-label-container {text-align: center;}#sk-container-id-2 div.sk-container {/* jupyter's `normalize.less` sets `[hidden] { display: none; }` but bootstrap.min.css set `[hidden] { display: none !important; }` so we also need the `!important` here to be able to override the default hidden behavior on the sphinx rendered scikit-learn.org. See: https://github.com/scikit-learn/scikit-learn/issues/21755 */display: inline-block !important;position: relative;}#sk-container-id-2 div.sk-text-repr-fallback {display: none;}</style><div id=\"sk-container-id-2\" class=\"sk-top-container\"><div class=\"sk-text-repr-fallback\"><pre>SVR()</pre><b>In a Jupyter environment, please rerun this cell to show the HTML representation or trust the notebook. <br />On GitHub, the HTML representation is unable to render, please try loading this page with nbviewer.org.</b></div><div class=\"sk-container\" hidden><div class=\"sk-item\"><div class=\"sk-estimator sk-toggleable\"><input class=\"sk-toggleable__control sk-hidden--visually\" id=\"sk-estimator-id-2\" type=\"checkbox\" checked><label for=\"sk-estimator-id-2\" class=\"sk-toggleable__label sk-toggleable__label-arrow\">SVR</label><div class=\"sk-toggleable__content\"><pre>SVR()</pre></div></div></div></div></div>"
      ],
      "text/plain": [
       "SVR()"
      ]
     },
     "execution_count": 69,
     "metadata": {},
     "output_type": "execute_result"
    }
   ],
   "source": [
    "SVR.fit(x_train,y_train)"
   ]
  },
  {
   "cell_type": "code",
   "execution_count": 70,
   "id": "47ac0676",
   "metadata": {},
   "outputs": [],
   "source": [
    "PRESVR=SVR.predict(x_test)"
   ]
  },
  {
   "cell_type": "code",
   "execution_count": 71,
   "id": "53575771",
   "metadata": {},
   "outputs": [
    {
     "name": "stdout",
     "output_type": "stream",
     "text": [
      "0.9516938959490988\n"
     ]
    }
   ],
   "source": [
    "print(r2_score(y_test,PRESVR))"
   ]
  },
  {
   "cell_type": "code",
   "execution_count": 72,
   "id": "e1e64c4b",
   "metadata": {},
   "outputs": [
    {
     "name": "stdout",
     "output_type": "stream",
     "text": [
      "1.2903765025465463\n"
     ]
    }
   ],
   "source": [
    "print(mean_squared_error(y_test,PRESVR))"
   ]
  },
  {
   "cell_type": "code",
   "execution_count": 73,
   "id": "cfd05053",
   "metadata": {},
   "outputs": [
    {
     "name": "stdout",
     "output_type": "stream",
     "text": [
      "0.749709549744946\n"
     ]
    }
   ],
   "source": [
    "print(mean_absolute_error(y_test,PRESVR))"
   ]
  },
  {
   "cell_type": "code",
   "execution_count": 222,
   "id": "bb67e27c",
   "metadata": {},
   "outputs": [
    {
     "name": "stdout",
     "output_type": "stream",
     "text": [
      "RMSE- 1.1359137291185453\n"
     ]
    }
   ],
   "source": [
    "print('RMSE-',(sqrt(1.2903)))"
   ]
  },
  {
   "cell_type": "markdown",
   "id": "04c6f426",
   "metadata": {},
   "source": [
    "## DECISION TREE REGRESSOR"
   ]
  },
  {
   "cell_type": "code",
   "execution_count": 74,
   "id": "c024c965",
   "metadata": {},
   "outputs": [],
   "source": [
    "dtc=DecisionTreeRegressor()"
   ]
  },
  {
   "cell_type": "code",
   "execution_count": 75,
   "id": "4a6e0d53",
   "metadata": {},
   "outputs": [
    {
     "name": "stdout",
     "output_type": "stream",
     "text": [
      "At random_state {0} the training accuracy test is 1.0\n",
      "At random_state {0} the testing accuracy test is 0.956903059206657\n",
      "\n",
      "\n",
      "At random_state {1} the training accuracy test is 1.0\n",
      "At random_state {1} the testing accuracy test is 0.9524627015042572\n",
      "\n",
      "\n",
      "At random_state {2} the training accuracy test is 1.0\n",
      "At random_state {2} the testing accuracy test is 0.9493446958770232\n",
      "\n",
      "\n",
      "At random_state {3} the training accuracy test is 1.0\n",
      "At random_state {3} the testing accuracy test is 0.9225389355678922\n",
      "\n",
      "\n",
      "At random_state {4} the training accuracy test is 1.0\n",
      "At random_state {4} the testing accuracy test is 0.9255206418546311\n",
      "\n",
      "\n",
      "At random_state {5} the training accuracy test is 1.0\n",
      "At random_state {5} the testing accuracy test is 0.9679346042929423\n",
      "\n",
      "\n",
      "At random_state {6} the training accuracy test is 1.0\n",
      "At random_state {6} the testing accuracy test is 0.9464258127621397\n",
      "\n",
      "\n",
      "At random_state {7} the training accuracy test is 1.0\n",
      "At random_state {7} the testing accuracy test is 0.9428342430645534\n",
      "\n",
      "\n",
      "At random_state {8} the training accuracy test is 1.0\n",
      "At random_state {8} the testing accuracy test is 0.9549169552602845\n",
      "\n",
      "\n",
      "At random_state {9} the training accuracy test is 1.0\n",
      "At random_state {9} the testing accuracy test is 0.9687880132868538\n",
      "\n",
      "\n",
      "At random_state {10} the training accuracy test is 1.0\n",
      "At random_state {10} the testing accuracy test is 0.9675125704815906\n",
      "\n",
      "\n",
      "At random_state {11} the training accuracy test is 1.0\n",
      "At random_state {11} the testing accuracy test is 0.9484874906564261\n",
      "\n",
      "\n",
      "At random_state {12} the training accuracy test is 1.0\n",
      "At random_state {12} the testing accuracy test is 0.913880636305517\n",
      "\n",
      "\n",
      "At random_state {13} the training accuracy test is 1.0\n",
      "At random_state {13} the testing accuracy test is 0.941382270873578\n",
      "\n",
      "\n",
      "At random_state {14} the training accuracy test is 1.0\n",
      "At random_state {14} the testing accuracy test is 0.9678260735676782\n",
      "\n",
      "\n",
      "At random_state {15} the training accuracy test is 1.0\n",
      "At random_state {15} the testing accuracy test is 0.9536033986907947\n",
      "\n",
      "\n",
      "At random_state {16} the training accuracy test is 1.0\n",
      "At random_state {16} the testing accuracy test is 0.9540157136087551\n",
      "\n",
      "\n",
      "At random_state {17} the training accuracy test is 1.0\n",
      "At random_state {17} the testing accuracy test is 0.9774805819555195\n",
      "\n",
      "\n",
      "At random_state {18} the training accuracy test is 1.0\n",
      "At random_state {18} the testing accuracy test is 0.92316842503557\n",
      "\n",
      "\n",
      "At random_state {19} the training accuracy test is 1.0\n",
      "At random_state {19} the testing accuracy test is 0.9356182529289203\n",
      "\n",
      "\n",
      "At random_state {20} the training accuracy test is 1.0\n",
      "At random_state {20} the testing accuracy test is 0.9436917713072356\n",
      "\n",
      "\n",
      "At random_state {21} the training accuracy test is 1.0\n",
      "At random_state {21} the testing accuracy test is 0.9766857458776678\n",
      "\n",
      "\n",
      "At random_state {22} the training accuracy test is 1.0\n",
      "At random_state {22} the testing accuracy test is 0.9585637237709419\n",
      "\n",
      "\n",
      "At random_state {23} the training accuracy test is 1.0\n",
      "At random_state {23} the testing accuracy test is 0.9582571581427606\n",
      "\n",
      "\n",
      "At random_state {24} the training accuracy test is 1.0\n",
      "At random_state {24} the testing accuracy test is 0.9756623567339854\n",
      "\n",
      "\n",
      "At random_state {25} the training accuracy test is 1.0\n",
      "At random_state {25} the testing accuracy test is 0.9610317694479356\n",
      "\n",
      "\n",
      "At random_state {26} the training accuracy test is 1.0\n",
      "At random_state {26} the testing accuracy test is 0.8581271618230135\n",
      "\n",
      "\n",
      "At random_state {27} the training accuracy test is 1.0\n",
      "At random_state {27} the testing accuracy test is 0.9380605746507183\n",
      "\n",
      "\n",
      "At random_state {28} the training accuracy test is 1.0\n",
      "At random_state {28} the testing accuracy test is 0.9512867500828038\n",
      "\n",
      "\n",
      "At random_state {29} the training accuracy test is 1.0\n",
      "At random_state {29} the testing accuracy test is 0.961268960447741\n",
      "\n",
      "\n",
      "At random_state {30} the training accuracy test is 1.0\n",
      "At random_state {30} the testing accuracy test is 0.9351886879373046\n",
      "\n",
      "\n",
      "At random_state {31} the training accuracy test is 1.0\n",
      "At random_state {31} the testing accuracy test is 0.9595631473953309\n",
      "\n",
      "\n",
      "At random_state {32} the training accuracy test is 1.0\n",
      "At random_state {32} the testing accuracy test is 0.9715821611316032\n",
      "\n",
      "\n",
      "At random_state {33} the training accuracy test is 1.0\n",
      "At random_state {33} the testing accuracy test is 0.966413617783124\n",
      "\n",
      "\n",
      "At random_state {34} the training accuracy test is 1.0\n",
      "At random_state {34} the testing accuracy test is 0.9458655610745674\n",
      "\n",
      "\n",
      "At random_state {35} the training accuracy test is 1.0\n",
      "At random_state {35} the testing accuracy test is 0.937507005941038\n",
      "\n",
      "\n",
      "At random_state {36} the training accuracy test is 1.0\n",
      "At random_state {36} the testing accuracy test is 0.9579299193264962\n",
      "\n",
      "\n",
      "At random_state {37} the training accuracy test is 1.0\n",
      "At random_state {37} the testing accuracy test is 0.9204279142228914\n",
      "\n",
      "\n",
      "At random_state {38} the training accuracy test is 1.0\n",
      "At random_state {38} the testing accuracy test is 0.9811775951497795\n",
      "\n",
      "\n",
      "At random_state {39} the training accuracy test is 1.0\n",
      "At random_state {39} the testing accuracy test is 0.9562027832424842\n",
      "\n",
      "\n",
      "At random_state {40} the training accuracy test is 1.0\n",
      "At random_state {40} the testing accuracy test is 0.9413399513900995\n",
      "\n",
      "\n",
      "At random_state {41} the training accuracy test is 1.0\n",
      "At random_state {41} the testing accuracy test is 0.9522294512555349\n",
      "\n",
      "\n",
      "At random_state {42} the training accuracy test is 1.0\n",
      "At random_state {42} the testing accuracy test is 0.9617208209975998\n",
      "\n",
      "\n",
      "At random_state {43} the training accuracy test is 1.0\n",
      "At random_state {43} the testing accuracy test is 0.9543472384846942\n",
      "\n",
      "\n",
      "At random_state {44} the training accuracy test is 1.0\n",
      "At random_state {44} the testing accuracy test is 0.9044984039176236\n",
      "\n",
      "\n",
      "At random_state {45} the training accuracy test is 1.0\n",
      "At random_state {45} the testing accuracy test is 0.9462279903705516\n",
      "\n",
      "\n",
      "At random_state {46} the training accuracy test is 1.0\n",
      "At random_state {46} the testing accuracy test is 0.9639467146707438\n",
      "\n",
      "\n",
      "At random_state {47} the training accuracy test is 1.0\n",
      "At random_state {47} the testing accuracy test is 0.9442304570661345\n",
      "\n",
      "\n",
      "At random_state {48} the training accuracy test is 1.0\n",
      "At random_state {48} the testing accuracy test is 0.9370544483041681\n",
      "\n",
      "\n",
      "At random_state {49} the training accuracy test is 1.0\n",
      "At random_state {49} the testing accuracy test is 0.9505910778078959\n",
      "\n",
      "\n",
      "At random_state {50} the training accuracy test is 1.0\n",
      "At random_state {50} the testing accuracy test is 0.9310378424032744\n",
      "\n",
      "\n",
      "At random_state {51} the training accuracy test is 1.0\n",
      "At random_state {51} the testing accuracy test is 0.9615456440628227\n",
      "\n",
      "\n",
      "At random_state {52} the training accuracy test is 1.0\n",
      "At random_state {52} the testing accuracy test is 0.9779110302942299\n",
      "\n",
      "\n",
      "At random_state {53} the training accuracy test is 1.0\n",
      "At random_state {53} the testing accuracy test is 0.9365066815594343\n",
      "\n",
      "\n",
      "At random_state {54} the training accuracy test is 1.0\n",
      "At random_state {54} the testing accuracy test is 0.9754110283638628\n",
      "\n",
      "\n",
      "At random_state {55} the training accuracy test is 1.0\n",
      "At random_state {55} the testing accuracy test is 0.9605685407354264\n",
      "\n",
      "\n",
      "At random_state {56} the training accuracy test is 1.0\n",
      "At random_state {56} the testing accuracy test is 0.9649512267070652\n",
      "\n",
      "\n",
      "At random_state {57} the training accuracy test is 1.0\n",
      "At random_state {57} the testing accuracy test is 0.9306365486281049\n",
      "\n",
      "\n",
      "At random_state {58} the training accuracy test is 1.0\n",
      "At random_state {58} the testing accuracy test is 0.9699228695601229\n",
      "\n",
      "\n",
      "At random_state {59} the training accuracy test is 1.0\n",
      "At random_state {59} the testing accuracy test is 0.9489645228302106\n",
      "\n",
      "\n",
      "At random_state {60} the training accuracy test is 1.0\n",
      "At random_state {60} the testing accuracy test is 0.9756661523020557\n",
      "\n",
      "\n",
      "At random_state {61} the training accuracy test is 1.0\n",
      "At random_state {61} the testing accuracy test is 0.9353496944494024\n",
      "\n",
      "\n",
      "At random_state {62} the training accuracy test is 1.0\n",
      "At random_state {62} the testing accuracy test is 0.9311693448247317\n",
      "\n",
      "\n",
      "At random_state {63} the training accuracy test is 1.0\n",
      "At random_state {63} the testing accuracy test is 0.9594183705082507\n",
      "\n",
      "\n",
      "At random_state {64} the training accuracy test is 1.0\n",
      "At random_state {64} the testing accuracy test is 0.9134061974190659\n",
      "\n",
      "\n",
      "At random_state {65} the training accuracy test is 1.0\n",
      "At random_state {65} the testing accuracy test is 0.9703005602222351\n",
      "\n",
      "\n",
      "At random_state {66} the training accuracy test is 1.0\n",
      "At random_state {66} the testing accuracy test is 0.9759112630755781\n",
      "\n",
      "\n",
      "At random_state {67} the training accuracy test is 1.0\n",
      "At random_state {67} the testing accuracy test is 0.9205993005750225\n",
      "\n",
      "\n",
      "At random_state {68} the training accuracy test is 1.0\n",
      "At random_state {68} the testing accuracy test is 0.9383910430871342\n",
      "\n",
      "\n",
      "At random_state {69} the training accuracy test is 1.0\n",
      "At random_state {69} the testing accuracy test is 0.9546709052231609\n",
      "\n",
      "\n",
      "At random_state {70} the training accuracy test is 1.0\n",
      "At random_state {70} the testing accuracy test is 0.9637339402479461\n",
      "\n",
      "\n",
      "At random_state {71} the training accuracy test is 1.0\n",
      "At random_state {71} the testing accuracy test is 0.9457890816637666\n",
      "\n",
      "\n",
      "At random_state {72} the training accuracy test is 1.0\n",
      "At random_state {72} the testing accuracy test is 0.9710074918442178\n",
      "\n",
      "\n",
      "At random_state {73} the training accuracy test is 1.0\n",
      "At random_state {73} the testing accuracy test is 0.9454039444337742\n",
      "\n",
      "\n",
      "At random_state {74} the training accuracy test is 1.0\n",
      "At random_state {74} the testing accuracy test is 0.9719960549712402\n",
      "\n",
      "\n",
      "At random_state {75} the training accuracy test is 1.0\n",
      "At random_state {75} the testing accuracy test is 0.9299570589331818\n",
      "\n",
      "\n",
      "At random_state {76} the training accuracy test is 1.0\n",
      "At random_state {76} the testing accuracy test is 0.9736637584205945\n",
      "\n",
      "\n",
      "At random_state {77} the training accuracy test is 1.0\n",
      "At random_state {77} the testing accuracy test is 0.9547038081307018\n",
      "\n",
      "\n",
      "At random_state {78} the training accuracy test is 1.0\n",
      "At random_state {78} the testing accuracy test is 0.9282573795015872\n",
      "\n",
      "\n",
      "At random_state {79} the training accuracy test is 1.0\n",
      "At random_state {79} the testing accuracy test is 0.9717821742245415\n",
      "\n",
      "\n",
      "At random_state {80} the training accuracy test is 1.0\n",
      "At random_state {80} the testing accuracy test is 0.9565144367688511\n",
      "\n",
      "\n",
      "At random_state {81} the training accuracy test is 1.0\n",
      "At random_state {81} the testing accuracy test is 0.9745409001604558\n",
      "\n",
      "\n",
      "At random_state {82} the training accuracy test is 1.0\n",
      "At random_state {82} the testing accuracy test is 0.9614144386041081\n",
      "\n",
      "\n",
      "At random_state {83} the training accuracy test is 1.0\n",
      "At random_state {83} the testing accuracy test is 0.9635692427259921\n",
      "\n",
      "\n",
      "At random_state {84} the training accuracy test is 1.0\n",
      "At random_state {84} the testing accuracy test is 0.971333043330978\n",
      "\n",
      "\n",
      "At random_state {85} the training accuracy test is 1.0\n",
      "At random_state {85} the testing accuracy test is 0.9210505976331091\n",
      "\n",
      "\n",
      "At random_state {86} the training accuracy test is 1.0\n",
      "At random_state {86} the testing accuracy test is 0.9389197153664426\n",
      "\n",
      "\n",
      "At random_state {87} the training accuracy test is 1.0\n",
      "At random_state {87} the testing accuracy test is 0.9479540860010316\n",
      "\n",
      "\n",
      "At random_state {88} the training accuracy test is 1.0\n",
      "At random_state {88} the testing accuracy test is 0.9482175763849812\n",
      "\n",
      "\n",
      "At random_state {89} the training accuracy test is 1.0\n",
      "At random_state {89} the testing accuracy test is 0.9308702361196028\n",
      "\n",
      "\n",
      "At random_state {90} the training accuracy test is 1.0\n",
      "At random_state {90} the testing accuracy test is 0.9787372373667346\n",
      "\n",
      "\n",
      "At random_state {91} the training accuracy test is 1.0\n",
      "At random_state {91} the testing accuracy test is 0.9616616345956435\n",
      "\n",
      "\n",
      "At random_state {92} the training accuracy test is 1.0\n",
      "At random_state {92} the testing accuracy test is 0.9626150375091902\n",
      "\n",
      "\n",
      "At random_state {93} the training accuracy test is 1.0\n",
      "At random_state {93} the testing accuracy test is 0.9389563552337007\n",
      "\n",
      "\n",
      "At random_state {94} the training accuracy test is 1.0\n",
      "At random_state {94} the testing accuracy test is 0.9749103343963994\n",
      "\n",
      "\n",
      "At random_state {95} the training accuracy test is 1.0\n",
      "At random_state {95} the testing accuracy test is 0.9343039458999106\n",
      "\n",
      "\n",
      "At random_state {96} the training accuracy test is 1.0\n",
      "At random_state {96} the testing accuracy test is 0.9215358900103046\n",
      "\n",
      "\n",
      "At random_state {97} the training accuracy test is 1.0\n",
      "At random_state {97} the testing accuracy test is 0.9511663384613699\n",
      "\n",
      "\n",
      "At random_state {98} the training accuracy test is 1.0\n",
      "At random_state {98} the testing accuracy test is 0.9468162835873699\n",
      "\n",
      "\n",
      "At random_state {99} the training accuracy test is 1.0\n",
      "At random_state {99} the testing accuracy test is 0.9503127785068735\n",
      "\n",
      "\n"
     ]
    }
   ],
   "source": [
    "for i in range(0,100):\n",
    "    x_train,x_test,y_train,y_test=train_test_split(x1,y,test_size=0.20,random_state=i)\n",
    "    dtc.fit(x_train,y_train)\n",
    "    predtc=dtc.predict(x_train)\n",
    "    predtc1=dtc.predict(x_test)\n",
    "    print('At random_state' ,{i}, 'the training accuracy test is', r2_score(y_train,predtc))\n",
    "    print('At random_state' ,{i}, 'the testing accuracy test is', r2_score(y_test,predtc1))\n",
    "    print('\\n')"
   ]
  },
  {
   "cell_type": "markdown",
   "id": "a1d8a650",
   "metadata": {},
   "source": [
    "## AT RANDOM_STATE 21 WE HAVE ACHIEVED THE HIGHEST R2_SCORE OF 97.75%,HENCE WE WILL PROCEED WITH THAT \n"
   ]
  },
  {
   "cell_type": "code",
   "execution_count": 213,
   "id": "76d53eac",
   "metadata": {},
   "outputs": [],
   "source": [
    "DTC=DecisionTreeRegressor()"
   ]
  },
  {
   "cell_type": "code",
   "execution_count": 214,
   "id": "70ab616e",
   "metadata": {},
   "outputs": [],
   "source": [
    "x_train,x_test,y_train,y_test=train_test_split(x1,y,test_size=0.2,random_state=21)"
   ]
  },
  {
   "cell_type": "code",
   "execution_count": 215,
   "id": "1e1cfcc1",
   "metadata": {},
   "outputs": [
    {
     "data": {
      "text/html": [
       "<style>#sk-container-id-16 {color: black;background-color: white;}#sk-container-id-16 pre{padding: 0;}#sk-container-id-16 div.sk-toggleable {background-color: white;}#sk-container-id-16 label.sk-toggleable__label {cursor: pointer;display: block;width: 100%;margin-bottom: 0;padding: 0.3em;box-sizing: border-box;text-align: center;}#sk-container-id-16 label.sk-toggleable__label-arrow:before {content: \"▸\";float: left;margin-right: 0.25em;color: #696969;}#sk-container-id-16 label.sk-toggleable__label-arrow:hover:before {color: black;}#sk-container-id-16 div.sk-estimator:hover label.sk-toggleable__label-arrow:before {color: black;}#sk-container-id-16 div.sk-toggleable__content {max-height: 0;max-width: 0;overflow: hidden;text-align: left;background-color: #f0f8ff;}#sk-container-id-16 div.sk-toggleable__content pre {margin: 0.2em;color: black;border-radius: 0.25em;background-color: #f0f8ff;}#sk-container-id-16 input.sk-toggleable__control:checked~div.sk-toggleable__content {max-height: 200px;max-width: 100%;overflow: auto;}#sk-container-id-16 input.sk-toggleable__control:checked~label.sk-toggleable__label-arrow:before {content: \"▾\";}#sk-container-id-16 div.sk-estimator input.sk-toggleable__control:checked~label.sk-toggleable__label {background-color: #d4ebff;}#sk-container-id-16 div.sk-label input.sk-toggleable__control:checked~label.sk-toggleable__label {background-color: #d4ebff;}#sk-container-id-16 input.sk-hidden--visually {border: 0;clip: rect(1px 1px 1px 1px);clip: rect(1px, 1px, 1px, 1px);height: 1px;margin: -1px;overflow: hidden;padding: 0;position: absolute;width: 1px;}#sk-container-id-16 div.sk-estimator {font-family: monospace;background-color: #f0f8ff;border: 1px dotted black;border-radius: 0.25em;box-sizing: border-box;margin-bottom: 0.5em;}#sk-container-id-16 div.sk-estimator:hover {background-color: #d4ebff;}#sk-container-id-16 div.sk-parallel-item::after {content: \"\";width: 100%;border-bottom: 1px solid gray;flex-grow: 1;}#sk-container-id-16 div.sk-label:hover label.sk-toggleable__label {background-color: #d4ebff;}#sk-container-id-16 div.sk-serial::before {content: \"\";position: absolute;border-left: 1px solid gray;box-sizing: border-box;top: 0;bottom: 0;left: 50%;z-index: 0;}#sk-container-id-16 div.sk-serial {display: flex;flex-direction: column;align-items: center;background-color: white;padding-right: 0.2em;padding-left: 0.2em;position: relative;}#sk-container-id-16 div.sk-item {position: relative;z-index: 1;}#sk-container-id-16 div.sk-parallel {display: flex;align-items: stretch;justify-content: center;background-color: white;position: relative;}#sk-container-id-16 div.sk-item::before, #sk-container-id-16 div.sk-parallel-item::before {content: \"\";position: absolute;border-left: 1px solid gray;box-sizing: border-box;top: 0;bottom: 0;left: 50%;z-index: -1;}#sk-container-id-16 div.sk-parallel-item {display: flex;flex-direction: column;z-index: 1;position: relative;background-color: white;}#sk-container-id-16 div.sk-parallel-item:first-child::after {align-self: flex-end;width: 50%;}#sk-container-id-16 div.sk-parallel-item:last-child::after {align-self: flex-start;width: 50%;}#sk-container-id-16 div.sk-parallel-item:only-child::after {width: 0;}#sk-container-id-16 div.sk-dashed-wrapped {border: 1px dashed gray;margin: 0 0.4em 0.5em 0.4em;box-sizing: border-box;padding-bottom: 0.4em;background-color: white;}#sk-container-id-16 div.sk-label label {font-family: monospace;font-weight: bold;display: inline-block;line-height: 1.2em;}#sk-container-id-16 div.sk-label-container {text-align: center;}#sk-container-id-16 div.sk-container {/* jupyter's `normalize.less` sets `[hidden] { display: none; }` but bootstrap.min.css set `[hidden] { display: none !important; }` so we also need the `!important` here to be able to override the default hidden behavior on the sphinx rendered scikit-learn.org. See: https://github.com/scikit-learn/scikit-learn/issues/21755 */display: inline-block !important;position: relative;}#sk-container-id-16 div.sk-text-repr-fallback {display: none;}</style><div id=\"sk-container-id-16\" class=\"sk-top-container\"><div class=\"sk-text-repr-fallback\"><pre>DecisionTreeRegressor()</pre><b>In a Jupyter environment, please rerun this cell to show the HTML representation or trust the notebook. <br />On GitHub, the HTML representation is unable to render, please try loading this page with nbviewer.org.</b></div><div class=\"sk-container\" hidden><div class=\"sk-item\"><div class=\"sk-estimator sk-toggleable\"><input class=\"sk-toggleable__control sk-hidden--visually\" id=\"sk-estimator-id-20\" type=\"checkbox\" checked><label for=\"sk-estimator-id-20\" class=\"sk-toggleable__label sk-toggleable__label-arrow\">DecisionTreeRegressor</label><div class=\"sk-toggleable__content\"><pre>DecisionTreeRegressor()</pre></div></div></div></div></div>"
      ],
      "text/plain": [
       "DecisionTreeRegressor()"
      ]
     },
     "execution_count": 215,
     "metadata": {},
     "output_type": "execute_result"
    }
   ],
   "source": [
    "DTC.fit(x_train,y_train)"
   ]
  },
  {
   "cell_type": "code",
   "execution_count": 216,
   "id": "5ae2c78f",
   "metadata": {},
   "outputs": [],
   "source": [
    "PREDTC=DTC.predict(x_test)"
   ]
  },
  {
   "cell_type": "code",
   "execution_count": 217,
   "id": "f6211c65",
   "metadata": {},
   "outputs": [
    {
     "name": "stdout",
     "output_type": "stream",
     "text": [
      "0.9769667320022691\n"
     ]
    }
   ],
   "source": [
    "print(r2_score(y_test,PREDTC))"
   ]
  },
  {
   "cell_type": "code",
   "execution_count": 218,
   "id": "0dfc3fd6",
   "metadata": {},
   "outputs": [
    {
     "name": "stdout",
     "output_type": "stream",
     "text": [
      "0.7582500000000002\n"
     ]
    }
   ],
   "source": [
    "print(mean_squared_error(y_test,PREDTC))"
   ]
  },
  {
   "cell_type": "code",
   "execution_count": 219,
   "id": "b36b9786",
   "metadata": {},
   "outputs": [
    {
     "name": "stdout",
     "output_type": "stream",
     "text": [
      "0.6725000000000001\n"
     ]
    }
   ],
   "source": [
    "print(mean_absolute_error(y_test,PREDTC))"
   ]
  },
  {
   "cell_type": "code",
   "execution_count": 220,
   "id": "9c5553b3",
   "metadata": {},
   "outputs": [
    {
     "name": "stdout",
     "output_type": "stream",
     "text": [
      "0.8707755164219997\n"
     ]
    }
   ],
   "source": [
    "print(sqrt(mean_squared_error(y_test,PREDTC)))"
   ]
  },
  {
   "cell_type": "markdown",
   "id": "62dee3af",
   "metadata": {},
   "source": [
    "## KNN REGRESSOR"
   ]
  },
  {
   "cell_type": "code",
   "execution_count": 83,
   "id": "ab4bb6a4",
   "metadata": {},
   "outputs": [],
   "source": [
    "knn=KNeighborsRegressor()"
   ]
  },
  {
   "cell_type": "code",
   "execution_count": 84,
   "id": "f87ae30d",
   "metadata": {},
   "outputs": [
    {
     "name": "stdout",
     "output_type": "stream",
     "text": [
      "At random_state {0} the training accuracy test is 0.9502365765574046\n",
      "At random_state {0} the testing accuracy test is 0.9562532243977033\n",
      "\n",
      "\n",
      "At random_state {1} the training accuracy test is 0.9513796505967891\n",
      "At random_state {1} the testing accuracy test is 0.9595551894563427\n",
      "\n",
      "\n",
      "At random_state {2} the training accuracy test is 0.9648075873217151\n",
      "At random_state {2} the testing accuracy test is 0.9141410841451505\n",
      "\n",
      "\n",
      "At random_state {3} the training accuracy test is 0.9533110205856049\n",
      "At random_state {3} the testing accuracy test is 0.9671761921057023\n",
      "\n",
      "\n",
      "At random_state {4} the training accuracy test is 0.9571545649077985\n",
      "At random_state {4} the testing accuracy test is 0.9486429791743258\n",
      "\n",
      "\n",
      "At random_state {5} the training accuracy test is 0.9662293139087056\n",
      "At random_state {5} the testing accuracy test is 0.8907091298416481\n",
      "\n",
      "\n",
      "At random_state {6} the training accuracy test is 0.9629982151765644\n",
      "At random_state {6} the testing accuracy test is 0.9169906590079399\n",
      "\n",
      "\n",
      "At random_state {7} the training accuracy test is 0.9461161578127468\n",
      "At random_state {7} the testing accuracy test is 0.9236741314258017\n",
      "\n",
      "\n",
      "At random_state {8} the training accuracy test is 0.9658837301933104\n",
      "At random_state {8} the testing accuracy test is 0.8975432779257057\n",
      "\n",
      "\n",
      "At random_state {9} the training accuracy test is 0.9558612381691901\n",
      "At random_state {9} the testing accuracy test is 0.9527565635836601\n",
      "\n",
      "\n",
      "At random_state {10} the training accuracy test is 0.9592583284924182\n",
      "At random_state {10} the testing accuracy test is 0.8780707771954377\n",
      "\n",
      "\n",
      "At random_state {11} the training accuracy test is 0.9508456384830111\n",
      "At random_state {11} the testing accuracy test is 0.9648510302952704\n",
      "\n",
      "\n",
      "At random_state {12} the training accuracy test is 0.9542008675918285\n",
      "At random_state {12} the testing accuracy test is 0.9384310480989808\n",
      "\n",
      "\n",
      "At random_state {13} the training accuracy test is 0.9625583324643009\n",
      "At random_state {13} the testing accuracy test is 0.9101167632539171\n",
      "\n",
      "\n",
      "At random_state {14} the training accuracy test is 0.9463284671447273\n",
      "At random_state {14} the testing accuracy test is 0.9326384898455664\n",
      "\n",
      "\n",
      "At random_state {15} the training accuracy test is 0.9561817275893046\n",
      "At random_state {15} the testing accuracy test is 0.9135893659837929\n",
      "\n",
      "\n",
      "At random_state {16} the training accuracy test is 0.9621094056766349\n",
      "At random_state {16} the testing accuracy test is 0.9244976840656047\n",
      "\n",
      "\n",
      "At random_state {17} the training accuracy test is 0.9529012264761122\n",
      "At random_state {17} the testing accuracy test is 0.9599767741579771\n",
      "\n",
      "\n",
      "At random_state {18} the training accuracy test is 0.9654916080045322\n",
      "At random_state {18} the testing accuracy test is 0.8968106313280513\n",
      "\n",
      "\n",
      "At random_state {19} the training accuracy test is 0.9518085018545601\n",
      "At random_state {19} the testing accuracy test is 0.9253518520903493\n",
      "\n",
      "\n",
      "At random_state {20} the training accuracy test is 0.9461023348197227\n",
      "At random_state {20} the testing accuracy test is 0.9341476122150717\n",
      "\n",
      "\n",
      "At random_state {21} the training accuracy test is 0.9493305092243413\n",
      "At random_state {21} the testing accuracy test is 0.9572603397198188\n",
      "\n",
      "\n",
      "At random_state {22} the training accuracy test is 0.9474564704904042\n",
      "At random_state {22} the testing accuracy test is 0.9698387432304286\n",
      "\n",
      "\n",
      "At random_state {23} the training accuracy test is 0.9480080256265879\n",
      "At random_state {23} the testing accuracy test is 0.9656837821196139\n",
      "\n",
      "\n",
      "At random_state {24} the training accuracy test is 0.9499408751531777\n",
      "At random_state {24} the testing accuracy test is 0.9657963327883676\n",
      "\n",
      "\n",
      "At random_state {25} the training accuracy test is 0.9537148165144057\n",
      "At random_state {25} the testing accuracy test is 0.9438990364041924\n",
      "\n",
      "\n",
      "At random_state {26} the training accuracy test is 0.9593891025811235\n",
      "At random_state {26} the testing accuracy test is 0.9366298368048694\n",
      "\n",
      "\n",
      "At random_state {27} the training accuracy test is 0.963597780505692\n",
      "At random_state {27} the testing accuracy test is 0.8670152072636088\n",
      "\n",
      "\n",
      "At random_state {28} the training accuracy test is 0.9669769370658046\n",
      "At random_state {28} the testing accuracy test is 0.8893172809923485\n",
      "\n",
      "\n",
      "At random_state {29} the training accuracy test is 0.9589852507374631\n",
      "At random_state {29} the testing accuracy test is 0.898709922480493\n",
      "\n",
      "\n",
      "At random_state {30} the training accuracy test is 0.9664561513867145\n",
      "At random_state {30} the testing accuracy test is 0.884176618196205\n",
      "\n",
      "\n",
      "At random_state {31} the training accuracy test is 0.945970880211329\n",
      "At random_state {31} the testing accuracy test is 0.9454939014561572\n",
      "\n",
      "\n",
      "At random_state {32} the training accuracy test is 0.9532996893395657\n",
      "At random_state {32} the testing accuracy test is 0.9483627393813919\n",
      "\n",
      "\n",
      "At random_state {33} the training accuracy test is 0.9511645284844443\n",
      "At random_state {33} the testing accuracy test is 0.9546155486941349\n",
      "\n",
      "\n",
      "At random_state {34} the training accuracy test is 0.9569785601923226\n",
      "At random_state {34} the testing accuracy test is 0.9566397336756817\n",
      "\n",
      "\n",
      "At random_state {35} the training accuracy test is 0.9558492867726502\n",
      "At random_state {35} the testing accuracy test is 0.9441066023988341\n",
      "\n",
      "\n",
      "At random_state {36} the training accuracy test is 0.9570415364805354\n",
      "At random_state {36} the testing accuracy test is 0.9395523309884914\n",
      "\n",
      "\n",
      "At random_state {37} the training accuracy test is 0.960802813349035\n",
      "At random_state {37} the testing accuracy test is 0.9237728113470531\n",
      "\n",
      "\n",
      "At random_state {38} the training accuracy test is 0.9559002034136275\n",
      "At random_state {38} the testing accuracy test is 0.9459746521139741\n",
      "\n",
      "\n",
      "At random_state {39} the training accuracy test is 0.9592386112580191\n",
      "At random_state {39} the testing accuracy test is 0.920932766530643\n",
      "\n",
      "\n",
      "At random_state {40} the training accuracy test is 0.9535931403533513\n",
      "At random_state {40} the testing accuracy test is 0.9542209496814743\n",
      "\n",
      "\n",
      "At random_state {41} the training accuracy test is 0.9585424417494212\n",
      "At random_state {41} the testing accuracy test is 0.9029231904435161\n",
      "\n",
      "\n",
      "At random_state {42} the training accuracy test is 0.9531506786542611\n",
      "At random_state {42} the testing accuracy test is 0.9251892298446711\n",
      "\n",
      "\n",
      "At random_state {43} the training accuracy test is 0.9589271031641\n",
      "At random_state {43} the testing accuracy test is 0.9201066554370474\n",
      "\n",
      "\n",
      "At random_state {44} the training accuracy test is 0.9598825173818013\n",
      "At random_state {44} the testing accuracy test is 0.9255058379868011\n",
      "\n",
      "\n",
      "At random_state {45} the training accuracy test is 0.9566399045785139\n",
      "At random_state {45} the testing accuracy test is 0.9146194895956228\n",
      "\n",
      "\n",
      "At random_state {46} the training accuracy test is 0.9580668282178221\n",
      "At random_state {46} the testing accuracy test is 0.8960821560849086\n",
      "\n",
      "\n",
      "At random_state {47} the training accuracy test is 0.9560268656416542\n",
      "At random_state {47} the testing accuracy test is 0.9384646513963149\n",
      "\n",
      "\n",
      "At random_state {48} the training accuracy test is 0.9587991740283355\n",
      "At random_state {48} the testing accuracy test is 0.9103806120197688\n",
      "\n",
      "\n",
      "At random_state {49} the training accuracy test is 0.9618557208343272\n",
      "At random_state {49} the testing accuracy test is 0.9106661763384056\n",
      "\n",
      "\n",
      "At random_state {50} the training accuracy test is 0.956407006220671\n",
      "At random_state {50} the testing accuracy test is 0.9387119471711675\n",
      "\n",
      "\n",
      "At random_state {51} the training accuracy test is 0.9511044034824625\n",
      "At random_state {51} the testing accuracy test is 0.9180937463079626\n",
      "\n",
      "\n",
      "At random_state {52} the training accuracy test is 0.9552145707582571\n",
      "At random_state {52} the testing accuracy test is 0.9642545907765351\n",
      "\n",
      "\n",
      "At random_state {53} the training accuracy test is 0.9656051603206004\n",
      "At random_state {53} the testing accuracy test is 0.8722086153763339\n",
      "\n",
      "\n",
      "At random_state {54} the training accuracy test is 0.9484353934300884\n",
      "At random_state {54} the testing accuracy test is 0.9180032695476958\n",
      "\n",
      "\n",
      "At random_state {55} the training accuracy test is 0.9508550371803816\n",
      "At random_state {55} the testing accuracy test is 0.9427770030350754\n",
      "\n",
      "\n",
      "At random_state {56} the training accuracy test is 0.9679562552379382\n",
      "At random_state {56} the testing accuracy test is 0.8735348262810801\n",
      "\n",
      "\n",
      "At random_state {57} the training accuracy test is 0.9638469187856173\n",
      "At random_state {57} the testing accuracy test is 0.8960459505464426\n",
      "\n",
      "\n",
      "At random_state {58} the training accuracy test is 0.9494086575644121\n",
      "At random_state {58} the testing accuracy test is 0.9571740061876584\n",
      "\n",
      "\n",
      "At random_state {59} the training accuracy test is 0.9512840439696842\n",
      "At random_state {59} the testing accuracy test is 0.9268450703908528\n",
      "\n",
      "\n",
      "At random_state {60} the training accuracy test is 0.9561653171013419\n",
      "At random_state {60} the testing accuracy test is 0.912341296592154\n",
      "\n",
      "\n",
      "At random_state {61} the training accuracy test is 0.9644911759054845\n",
      "At random_state {61} the testing accuracy test is 0.8946235519998106\n",
      "\n",
      "\n",
      "At random_state {62} the training accuracy test is 0.9560233522109512\n",
      "At random_state {62} the testing accuracy test is 0.9275360516561043\n",
      "\n",
      "\n",
      "At random_state {63} the training accuracy test is 0.9547016779592534\n",
      "At random_state {63} the testing accuracy test is 0.9617926744839078\n",
      "\n",
      "\n",
      "At random_state {64} the training accuracy test is 0.9481060696097356\n",
      "At random_state {64} the testing accuracy test is 0.9261371924579533\n",
      "\n",
      "\n",
      "At random_state {65} the training accuracy test is 0.9506895918943867\n",
      "At random_state {65} the testing accuracy test is 0.9485026091052429\n",
      "\n",
      "\n",
      "At random_state {66} the training accuracy test is 0.9643189542326863\n",
      "At random_state {66} the testing accuracy test is 0.908324695171672\n",
      "\n",
      "\n",
      "At random_state {67} the training accuracy test is 0.949729336907409\n",
      "At random_state {67} the testing accuracy test is 0.9636564082328525\n",
      "\n",
      "\n",
      "At random_state {68} the training accuracy test is 0.9625516775281375\n",
      "At random_state {68} the testing accuracy test is 0.915422558863374\n",
      "\n",
      "\n",
      "At random_state {69} the training accuracy test is 0.955901369712058\n",
      "At random_state {69} the testing accuracy test is 0.9616348352054073\n",
      "\n",
      "\n",
      "At random_state {70} the training accuracy test is 0.9482571290052462\n",
      "At random_state {70} the testing accuracy test is 0.9336143467691239\n",
      "\n",
      "\n",
      "At random_state {71} the training accuracy test is 0.9579347717794402\n",
      "At random_state {71} the testing accuracy test is 0.9329799166569327\n",
      "\n",
      "\n",
      "At random_state {72} the training accuracy test is 0.9599569915590384\n",
      "At random_state {72} the testing accuracy test is 0.924453007939934\n",
      "\n",
      "\n",
      "At random_state {73} the training accuracy test is 0.9527009770457281\n",
      "At random_state {73} the testing accuracy test is 0.9533651961755503\n",
      "\n",
      "\n",
      "At random_state {74} the training accuracy test is 0.9445990090220728\n",
      "At random_state {74} the testing accuracy test is 0.9480279764580998\n",
      "\n",
      "\n",
      "At random_state {75} the training accuracy test is 0.952953612831009\n",
      "At random_state {75} the testing accuracy test is 0.9380001093897725\n",
      "\n",
      "\n",
      "At random_state {76} the training accuracy test is 0.9603319422390482\n",
      "At random_state {76} the testing accuracy test is 0.9388808790830557\n",
      "\n",
      "\n",
      "At random_state {77} the training accuracy test is 0.9632538723854461\n",
      "At random_state {77} the testing accuracy test is 0.8961739002272381\n",
      "\n",
      "\n",
      "At random_state {78} the training accuracy test is 0.9657864894867679\n",
      "At random_state {78} the testing accuracy test is 0.8678220892472726\n",
      "\n",
      "\n",
      "At random_state {79} the training accuracy test is 0.9560613365182962\n",
      "At random_state {79} the testing accuracy test is 0.9147806017602897\n",
      "\n",
      "\n",
      "At random_state {80} the training accuracy test is 0.9581946885975651\n",
      "At random_state {80} the testing accuracy test is 0.9590987425333353\n",
      "\n",
      "\n",
      "At random_state {81} the training accuracy test is 0.9554345806589539\n",
      "At random_state {81} the testing accuracy test is 0.943385135808662\n",
      "\n",
      "\n",
      "At random_state {82} the training accuracy test is 0.9627252520113663\n",
      "At random_state {82} the testing accuracy test is 0.8920103355687724\n",
      "\n",
      "\n",
      "At random_state {83} the training accuracy test is 0.9559437222816114\n",
      "At random_state {83} the testing accuracy test is 0.9063191435270903\n",
      "\n",
      "\n",
      "At random_state {84} the training accuracy test is 0.9556691132005468\n",
      "At random_state {84} the testing accuracy test is 0.8717179804196179\n",
      "\n",
      "\n",
      "At random_state {85} the training accuracy test is 0.9619095120943957\n",
      "At random_state {85} the testing accuracy test is 0.8851194129601593\n",
      "\n",
      "\n",
      "At random_state {86} the training accuracy test is 0.9488024372869676\n",
      "At random_state {86} the testing accuracy test is 0.9406843201428147\n",
      "\n",
      "\n",
      "At random_state {87} the training accuracy test is 0.966590454682303\n",
      "At random_state {87} the testing accuracy test is 0.9155662351384285\n",
      "\n",
      "\n",
      "At random_state {88} the training accuracy test is 0.9562728101971247\n",
      "At random_state {88} the testing accuracy test is 0.9451071945567243\n",
      "\n",
      "\n",
      "At random_state {89} the training accuracy test is 0.9554175456900292\n",
      "At random_state {89} the testing accuracy test is 0.9411726206073311\n",
      "\n",
      "\n",
      "At random_state {90} the training accuracy test is 0.9514451931899106\n",
      "At random_state {90} the testing accuracy test is 0.928209482993107\n",
      "\n",
      "\n",
      "At random_state {91} the training accuracy test is 0.9549337527163202\n",
      "At random_state {91} the testing accuracy test is 0.9444584384758937\n",
      "\n",
      "\n",
      "At random_state {92} the training accuracy test is 0.9534512636610664\n",
      "At random_state {92} the testing accuracy test is 0.947663817928492\n",
      "\n",
      "\n",
      "At random_state {93} the training accuracy test is 0.9654861986531756\n",
      "At random_state {93} the testing accuracy test is 0.9091576264963972\n",
      "\n",
      "\n",
      "At random_state {94} the training accuracy test is 0.9699798487418158\n",
      "At random_state {94} the testing accuracy test is 0.9095285243271648\n",
      "\n",
      "\n",
      "At random_state {95} the training accuracy test is 0.9651477249660184\n",
      "At random_state {95} the testing accuracy test is 0.900216499304978\n",
      "\n",
      "\n",
      "At random_state {96} the training accuracy test is 0.9544017558627302\n",
      "At random_state {96} the testing accuracy test is 0.9362280227964667\n",
      "\n",
      "\n",
      "At random_state {97} the training accuracy test is 0.9485573555754805\n",
      "At random_state {97} the testing accuracy test is 0.9657596514724504\n",
      "\n",
      "\n",
      "At random_state {98} the training accuracy test is 0.9604689258510452\n",
      "At random_state {98} the testing accuracy test is 0.8865662343996371\n",
      "\n",
      "\n",
      "At random_state {99} the training accuracy test is 0.9491766990099686\n",
      "At random_state {99} the testing accuracy test is 0.9319829583039981\n",
      "\n",
      "\n"
     ]
    }
   ],
   "source": [
    "for i in range(0,100):\n",
    "    x_train,x_test,y_train,y_test=train_test_split(x1,y,test_size=0.20,random_state=i)\n",
    "    knn.fit(x_train,y_train)\n",
    "    preknn=knn.predict(x_train)\n",
    "    preknn1=knn.predict(x_test)\n",
    "    print('At random_state' ,{i}, 'the training accuracy test is', r2_score(y_train,preknn))\n",
    "    print('At random_state' ,{i}, 'the testing accuracy test is', r2_score(y_test,preknn1))\n",
    "    print('\\n')"
   ]
  },
  {
   "cell_type": "markdown",
   "id": "23db8f9f",
   "metadata": {},
   "source": [
    "## AT RANDOM_STATE 22  WE HAVE ACHIEVED THE HIGHEST R2_SCORE OF 96.98%,HENCE WE WILL PROCEED WITH THAT "
   ]
  },
  {
   "cell_type": "code",
   "execution_count": 85,
   "id": "ce67e5ae",
   "metadata": {},
   "outputs": [],
   "source": [
    "KNN=KNeighborsRegressor()"
   ]
  },
  {
   "cell_type": "code",
   "execution_count": 86,
   "id": "e4b94952",
   "metadata": {},
   "outputs": [],
   "source": [
    "x_train,x_test,y_train,y_test=train_test_split(x1,y,test_size=0.2,random_state=22)"
   ]
  },
  {
   "cell_type": "code",
   "execution_count": 87,
   "id": "5a87258a",
   "metadata": {},
   "outputs": [
    {
     "data": {
      "text/html": [
       "<style>#sk-container-id-4 {color: black;background-color: white;}#sk-container-id-4 pre{padding: 0;}#sk-container-id-4 div.sk-toggleable {background-color: white;}#sk-container-id-4 label.sk-toggleable__label {cursor: pointer;display: block;width: 100%;margin-bottom: 0;padding: 0.3em;box-sizing: border-box;text-align: center;}#sk-container-id-4 label.sk-toggleable__label-arrow:before {content: \"▸\";float: left;margin-right: 0.25em;color: #696969;}#sk-container-id-4 label.sk-toggleable__label-arrow:hover:before {color: black;}#sk-container-id-4 div.sk-estimator:hover label.sk-toggleable__label-arrow:before {color: black;}#sk-container-id-4 div.sk-toggleable__content {max-height: 0;max-width: 0;overflow: hidden;text-align: left;background-color: #f0f8ff;}#sk-container-id-4 div.sk-toggleable__content pre {margin: 0.2em;color: black;border-radius: 0.25em;background-color: #f0f8ff;}#sk-container-id-4 input.sk-toggleable__control:checked~div.sk-toggleable__content {max-height: 200px;max-width: 100%;overflow: auto;}#sk-container-id-4 input.sk-toggleable__control:checked~label.sk-toggleable__label-arrow:before {content: \"▾\";}#sk-container-id-4 div.sk-estimator input.sk-toggleable__control:checked~label.sk-toggleable__label {background-color: #d4ebff;}#sk-container-id-4 div.sk-label input.sk-toggleable__control:checked~label.sk-toggleable__label {background-color: #d4ebff;}#sk-container-id-4 input.sk-hidden--visually {border: 0;clip: rect(1px 1px 1px 1px);clip: rect(1px, 1px, 1px, 1px);height: 1px;margin: -1px;overflow: hidden;padding: 0;position: absolute;width: 1px;}#sk-container-id-4 div.sk-estimator {font-family: monospace;background-color: #f0f8ff;border: 1px dotted black;border-radius: 0.25em;box-sizing: border-box;margin-bottom: 0.5em;}#sk-container-id-4 div.sk-estimator:hover {background-color: #d4ebff;}#sk-container-id-4 div.sk-parallel-item::after {content: \"\";width: 100%;border-bottom: 1px solid gray;flex-grow: 1;}#sk-container-id-4 div.sk-label:hover label.sk-toggleable__label {background-color: #d4ebff;}#sk-container-id-4 div.sk-serial::before {content: \"\";position: absolute;border-left: 1px solid gray;box-sizing: border-box;top: 0;bottom: 0;left: 50%;z-index: 0;}#sk-container-id-4 div.sk-serial {display: flex;flex-direction: column;align-items: center;background-color: white;padding-right: 0.2em;padding-left: 0.2em;position: relative;}#sk-container-id-4 div.sk-item {position: relative;z-index: 1;}#sk-container-id-4 div.sk-parallel {display: flex;align-items: stretch;justify-content: center;background-color: white;position: relative;}#sk-container-id-4 div.sk-item::before, #sk-container-id-4 div.sk-parallel-item::before {content: \"\";position: absolute;border-left: 1px solid gray;box-sizing: border-box;top: 0;bottom: 0;left: 50%;z-index: -1;}#sk-container-id-4 div.sk-parallel-item {display: flex;flex-direction: column;z-index: 1;position: relative;background-color: white;}#sk-container-id-4 div.sk-parallel-item:first-child::after {align-self: flex-end;width: 50%;}#sk-container-id-4 div.sk-parallel-item:last-child::after {align-self: flex-start;width: 50%;}#sk-container-id-4 div.sk-parallel-item:only-child::after {width: 0;}#sk-container-id-4 div.sk-dashed-wrapped {border: 1px dashed gray;margin: 0 0.4em 0.5em 0.4em;box-sizing: border-box;padding-bottom: 0.4em;background-color: white;}#sk-container-id-4 div.sk-label label {font-family: monospace;font-weight: bold;display: inline-block;line-height: 1.2em;}#sk-container-id-4 div.sk-label-container {text-align: center;}#sk-container-id-4 div.sk-container {/* jupyter's `normalize.less` sets `[hidden] { display: none; }` but bootstrap.min.css set `[hidden] { display: none !important; }` so we also need the `!important` here to be able to override the default hidden behavior on the sphinx rendered scikit-learn.org. See: https://github.com/scikit-learn/scikit-learn/issues/21755 */display: inline-block !important;position: relative;}#sk-container-id-4 div.sk-text-repr-fallback {display: none;}</style><div id=\"sk-container-id-4\" class=\"sk-top-container\"><div class=\"sk-text-repr-fallback\"><pre>KNeighborsRegressor()</pre><b>In a Jupyter environment, please rerun this cell to show the HTML representation or trust the notebook. <br />On GitHub, the HTML representation is unable to render, please try loading this page with nbviewer.org.</b></div><div class=\"sk-container\" hidden><div class=\"sk-item\"><div class=\"sk-estimator sk-toggleable\"><input class=\"sk-toggleable__control sk-hidden--visually\" id=\"sk-estimator-id-4\" type=\"checkbox\" checked><label for=\"sk-estimator-id-4\" class=\"sk-toggleable__label sk-toggleable__label-arrow\">KNeighborsRegressor</label><div class=\"sk-toggleable__content\"><pre>KNeighborsRegressor()</pre></div></div></div></div></div>"
      ],
      "text/plain": [
       "KNeighborsRegressor()"
      ]
     },
     "execution_count": 87,
     "metadata": {},
     "output_type": "execute_result"
    }
   ],
   "source": [
    "KNN.fit(x_train,y_train)"
   ]
  },
  {
   "cell_type": "code",
   "execution_count": 88,
   "id": "6ce7ca1c",
   "metadata": {},
   "outputs": [],
   "source": [
    "PREKNN=KNN.predict(x_test)"
   ]
  },
  {
   "cell_type": "code",
   "execution_count": 89,
   "id": "62c3754b",
   "metadata": {},
   "outputs": [
    {
     "name": "stdout",
     "output_type": "stream",
     "text": [
      "0.9698387432304286\n"
     ]
    }
   ],
   "source": [
    "print(r2_score(y_test,PREKNN))"
   ]
  },
  {
   "cell_type": "code",
   "execution_count": 90,
   "id": "6b19b0fc",
   "metadata": {},
   "outputs": [
    {
     "name": "stdout",
     "output_type": "stream",
     "text": [
      "0.8454500000000001\n"
     ]
    }
   ],
   "source": [
    "print(mean_squared_error(y_test,PREKNN))"
   ]
  },
  {
   "cell_type": "code",
   "execution_count": 91,
   "id": "c0637932",
   "metadata": {},
   "outputs": [
    {
     "name": "stdout",
     "output_type": "stream",
     "text": [
      "0.7735000000000003\n"
     ]
    }
   ],
   "source": [
    "print(mean_absolute_error(y_test,PREKNN))"
   ]
  },
  {
   "cell_type": "markdown",
   "id": "9ef52e26",
   "metadata": {},
   "source": [
    "## RANDOM FOREST REGRESSOR"
   ]
  },
  {
   "cell_type": "code",
   "execution_count": 92,
   "id": "07165b69",
   "metadata": {},
   "outputs": [],
   "source": [
    "rm=RandomForestRegressor()"
   ]
  },
  {
   "cell_type": "code",
   "execution_count": 93,
   "id": "531a1690",
   "metadata": {},
   "outputs": [
    {
     "name": "stdout",
     "output_type": "stream",
     "text": [
      "At random_state {0} the training accuracy test is 0.9969341308597521\n",
      "At random_state {0} the testing accuracy test is 0.9787900161069376\n",
      "\n",
      "\n",
      "At random_state {1} the training accuracy test is 0.9968974753080834\n",
      "At random_state {1} the testing accuracy test is 0.9833357345763599\n",
      "\n",
      "\n",
      "At random_state {2} the training accuracy test is 0.9973559349142728\n",
      "At random_state {2} the testing accuracy test is 0.9726653795759205\n",
      "\n",
      "\n",
      "At random_state {3} the training accuracy test is 0.9966066901460007\n",
      "At random_state {3} the testing accuracy test is 0.9754717291153489\n",
      "\n",
      "\n",
      "At random_state {4} the training accuracy test is 0.9969775769594007\n",
      "At random_state {4} the testing accuracy test is 0.9701626118235623\n",
      "\n",
      "\n",
      "At random_state {5} the training accuracy test is 0.996564040624499\n",
      "At random_state {5} the testing accuracy test is 0.9814481503306913\n",
      "\n",
      "\n",
      "At random_state {6} the training accuracy test is 0.9966250361051595\n",
      "At random_state {6} the testing accuracy test is 0.9698081614512039\n",
      "\n",
      "\n",
      "At random_state {7} the training accuracy test is 0.9963641252899018\n",
      "At random_state {7} the testing accuracy test is 0.9835602410497338\n",
      "\n",
      "\n",
      "At random_state {8} the training accuracy test is 0.9970818304910842\n",
      "At random_state {8} the testing accuracy test is 0.9710033682585499\n",
      "\n",
      "\n",
      "At random_state {9} the training accuracy test is 0.9965800727665184\n",
      "At random_state {9} the testing accuracy test is 0.9858586340333726\n",
      "\n",
      "\n",
      "At random_state {10} the training accuracy test is 0.997353493640591\n",
      "At random_state {10} the testing accuracy test is 0.9782495279053466\n",
      "\n",
      "\n",
      "At random_state {11} the training accuracy test is 0.9971238445801675\n",
      "At random_state {11} the testing accuracy test is 0.9846642652141335\n",
      "\n",
      "\n",
      "At random_state {12} the training accuracy test is 0.9970037909872133\n",
      "At random_state {12} the testing accuracy test is 0.9828268352074011\n",
      "\n",
      "\n",
      "At random_state {13} the training accuracy test is 0.9976602614247556\n",
      "At random_state {13} the testing accuracy test is 0.9636188012449025\n",
      "\n",
      "\n",
      "At random_state {14} the training accuracy test is 0.9959942950467603\n",
      "At random_state {14} the testing accuracy test is 0.9843934672887124\n",
      "\n",
      "\n",
      "At random_state {15} the training accuracy test is 0.9970996638504022\n",
      "At random_state {15} the testing accuracy test is 0.9688098365806457\n",
      "\n",
      "\n",
      "At random_state {16} the training accuracy test is 0.9969396402185491\n",
      "At random_state {16} the testing accuracy test is 0.9837137025506679\n",
      "\n",
      "\n",
      "At random_state {17} the training accuracy test is 0.9967896345814888\n",
      "At random_state {17} the testing accuracy test is 0.9850173926752449\n",
      "\n",
      "\n",
      "At random_state {18} the training accuracy test is 0.9969937779248962\n",
      "At random_state {18} the testing accuracy test is 0.9601201482328463\n",
      "\n",
      "\n",
      "At random_state {19} the training accuracy test is 0.9969663606234406\n",
      "At random_state {19} the testing accuracy test is 0.9812503729373009\n",
      "\n",
      "\n",
      "At random_state {20} the training accuracy test is 0.995551666244072\n",
      "At random_state {20} the testing accuracy test is 0.9830044422134662\n",
      "\n",
      "\n",
      "At random_state {21} the training accuracy test is 0.9968084132726879\n",
      "At random_state {21} the testing accuracy test is 0.9848094139464806\n",
      "\n",
      "\n",
      "At random_state {22} the training accuracy test is 0.9967715251197681\n",
      "At random_state {22} the testing accuracy test is 0.9840950581711003\n",
      "\n",
      "\n",
      "At random_state {23} the training accuracy test is 0.9962441787468324\n",
      "At random_state {23} the testing accuracy test is 0.9839727618867646\n",
      "\n",
      "\n",
      "At random_state {24} the training accuracy test is 0.9966423807884739\n",
      "At random_state {24} the testing accuracy test is 0.980615238133638\n",
      "\n",
      "\n",
      "At random_state {25} the training accuracy test is 0.9971684188356886\n",
      "At random_state {25} the testing accuracy test is 0.9792015798245559\n",
      "\n",
      "\n",
      "At random_state {26} the training accuracy test is 0.9972520022828524\n",
      "At random_state {26} the testing accuracy test is 0.955511288478834\n",
      "\n",
      "\n",
      "At random_state {27} the training accuracy test is 0.9970669249224704\n",
      "At random_state {27} the testing accuracy test is 0.9659567770336032\n",
      "\n",
      "\n",
      "At random_state {28} the training accuracy test is 0.9973038124724984\n",
      "At random_state {28} the testing accuracy test is 0.9656198940813276\n",
      "\n",
      "\n",
      "At random_state {29} the training accuracy test is 0.9971846873675922\n",
      "At random_state {29} the testing accuracy test is 0.9710174269168009\n",
      "\n",
      "\n",
      "At random_state {30} the training accuracy test is 0.9971000484578055\n",
      "At random_state {30} the testing accuracy test is 0.9641236531155325\n",
      "\n",
      "\n",
      "At random_state {31} the training accuracy test is 0.9955765623546831\n",
      "At random_state {31} the testing accuracy test is 0.9804289816017026\n",
      "\n",
      "\n",
      "At random_state {32} the training accuracy test is 0.9961563513878194\n",
      "At random_state {32} the testing accuracy test is 0.9799108040201006\n",
      "\n",
      "\n",
      "At random_state {33} the training accuracy test is 0.9967163081830867\n",
      "At random_state {33} the testing accuracy test is 0.9831277917259661\n",
      "\n",
      "\n",
      "At random_state {34} the training accuracy test is 0.9969929930793268\n",
      "At random_state {34} the testing accuracy test is 0.9840658455450743\n",
      "\n",
      "\n",
      "At random_state {35} the training accuracy test is 0.9962465443485804\n",
      "At random_state {35} the testing accuracy test is 0.9834182044707246\n",
      "\n",
      "\n",
      "At random_state {36} the training accuracy test is 0.9961821500742258\n",
      "At random_state {36} the testing accuracy test is 0.9834743009106551\n",
      "\n",
      "\n",
      "At random_state {37} the training accuracy test is 0.9968735850973369\n",
      "At random_state {37} the testing accuracy test is 0.9661379471684267\n",
      "\n",
      "\n",
      "At random_state {38} the training accuracy test is 0.9966663352524467\n",
      "At random_state {38} the testing accuracy test is 0.9853721904442735\n",
      "\n",
      "\n",
      "At random_state {39} the training accuracy test is 0.996749330970008\n",
      "At random_state {39} the testing accuracy test is 0.9827919148363798\n",
      "\n",
      "\n",
      "At random_state {40} the training accuracy test is 0.9967576115986023\n",
      "At random_state {40} the testing accuracy test is 0.9888067912788325\n",
      "\n",
      "\n",
      "At random_state {41} the training accuracy test is 0.997154469232867\n",
      "At random_state {41} the testing accuracy test is 0.9704878476141543\n",
      "\n",
      "\n",
      "At random_state {42} the training accuracy test is 0.9971705907962171\n",
      "At random_state {42} the testing accuracy test is 0.9862001338342593\n",
      "\n",
      "\n",
      "At random_state {43} the training accuracy test is 0.9968051387486523\n",
      "At random_state {43} the testing accuracy test is 0.9728131165482309\n",
      "\n",
      "\n",
      "At random_state {44} the training accuracy test is 0.9976534437230492\n",
      "At random_state {44} the testing accuracy test is 0.9642480788872678\n",
      "\n",
      "\n",
      "At random_state {45} the training accuracy test is 0.997348328839488\n",
      "At random_state {45} the testing accuracy test is 0.9738261895469752\n",
      "\n",
      "\n",
      "At random_state {46} the training accuracy test is 0.9965028343210756\n",
      "At random_state {46} the testing accuracy test is 0.9780551929689565\n",
      "\n",
      "\n",
      "At random_state {47} the training accuracy test is 0.9965338993611216\n",
      "At random_state {47} the testing accuracy test is 0.9756620083830482\n",
      "\n",
      "\n",
      "At random_state {48} the training accuracy test is 0.9971993707223351\n",
      "At random_state {48} the testing accuracy test is 0.9782815194468437\n",
      "\n",
      "\n",
      "At random_state {49} the training accuracy test is 0.9970184006070091\n",
      "At random_state {49} the testing accuracy test is 0.976128333528749\n",
      "\n",
      "\n",
      "At random_state {50} the training accuracy test is 0.9967264096307086\n",
      "At random_state {50} the testing accuracy test is 0.9875374954309668\n",
      "\n",
      "\n",
      "At random_state {51} the training accuracy test is 0.9970148543716494\n",
      "At random_state {51} the testing accuracy test is 0.9725107054792693\n",
      "\n",
      "\n",
      "At random_state {52} the training accuracy test is 0.9970017431194347\n",
      "At random_state {52} the testing accuracy test is 0.9861916823148538\n",
      "\n",
      "\n",
      "At random_state {53} the training accuracy test is 0.9971739502360697\n",
      "At random_state {53} the testing accuracy test is 0.9585794175335425\n",
      "\n",
      "\n",
      "At random_state {54} the training accuracy test is 0.9956657684720333\n",
      "At random_state {54} the testing accuracy test is 0.980297846249965\n",
      "\n",
      "\n",
      "At random_state {55} the training accuracy test is 0.9962011633916801\n",
      "At random_state {55} the testing accuracy test is 0.9840538514292223\n",
      "\n",
      "\n",
      "At random_state {56} the training accuracy test is 0.9971873163280486\n",
      "At random_state {56} the testing accuracy test is 0.9682981005664802\n",
      "\n",
      "\n",
      "At random_state {57} the training accuracy test is 0.9975100311205524\n",
      "At random_state {57} the testing accuracy test is 0.9605275207909314\n",
      "\n",
      "\n",
      "At random_state {58} the training accuracy test is 0.996546079586107\n",
      "At random_state {58} the testing accuracy test is 0.9841706970680271\n",
      "\n",
      "\n",
      "At random_state {59} the training accuracy test is 0.996814062719801\n",
      "At random_state {59} the testing accuracy test is 0.9775328188845662\n",
      "\n",
      "\n",
      "At random_state {60} the training accuracy test is 0.9967831330636164\n",
      "At random_state {60} the testing accuracy test is 0.9818922346368624\n",
      "\n",
      "\n",
      "At random_state {61} the training accuracy test is 0.9975289015820078\n",
      "At random_state {61} the testing accuracy test is 0.9652000057195208\n",
      "\n",
      "\n",
      "At random_state {62} the training accuracy test is 0.9971120737784583\n",
      "At random_state {62} the testing accuracy test is 0.9598675867143736\n",
      "\n",
      "\n",
      "At random_state {63} the training accuracy test is 0.9971637537454154\n",
      "At random_state {63} the testing accuracy test is 0.9823670529858782\n",
      "\n",
      "\n",
      "At random_state {64} the training accuracy test is 0.996653533102449\n",
      "At random_state {64} the testing accuracy test is 0.9811846082742984\n",
      "\n",
      "\n",
      "At random_state {65} the training accuracy test is 0.9967051054586695\n",
      "At random_state {65} the testing accuracy test is 0.9826927441620267\n",
      "\n",
      "\n",
      "At random_state {66} the training accuracy test is 0.9969867120936868\n",
      "At random_state {66} the testing accuracy test is 0.975806756302013\n",
      "\n",
      "\n",
      "At random_state {67} the training accuracy test is 0.9971042289981467\n",
      "At random_state {67} the testing accuracy test is 0.9767604681462273\n",
      "\n",
      "\n",
      "At random_state {68} the training accuracy test is 0.9973242723731836\n",
      "At random_state {68} the testing accuracy test is 0.9741354278256066\n",
      "\n",
      "\n",
      "At random_state {69} the training accuracy test is 0.995993365718046\n",
      "At random_state {69} the testing accuracy test is 0.9882964555047604\n",
      "\n",
      "\n",
      "At random_state {70} the training accuracy test is 0.9963815623846092\n",
      "At random_state {70} the testing accuracy test is 0.9838094567956501\n",
      "\n",
      "\n",
      "At random_state {71} the training accuracy test is 0.9966714203174948\n",
      "At random_state {71} the testing accuracy test is 0.9760621222900988\n",
      "\n",
      "\n",
      "At random_state {72} the training accuracy test is 0.9961096563554369\n",
      "At random_state {72} the testing accuracy test is 0.9803417557472991\n",
      "\n",
      "\n",
      "At random_state {73} the training accuracy test is 0.9965335827380917\n",
      "At random_state {73} the testing accuracy test is 0.9762949812363917\n",
      "\n",
      "\n",
      "At random_state {74} the training accuracy test is 0.9959192446417496\n",
      "At random_state {74} the testing accuracy test is 0.9871817455377915\n",
      "\n",
      "\n",
      "At random_state {75} the training accuracy test is 0.9969755405480399\n",
      "At random_state {75} the testing accuracy test is 0.9667451787573992\n",
      "\n",
      "\n",
      "At random_state {76} the training accuracy test is 0.9963666751554746\n",
      "At random_state {76} the testing accuracy test is 0.9808006849070543\n",
      "\n",
      "\n",
      "At random_state {77} the training accuracy test is 0.9962527268259074\n",
      "At random_state {77} the testing accuracy test is 0.9808871118352579\n",
      "\n",
      "\n",
      "At random_state {78} the training accuracy test is 0.9972239220006714\n",
      "At random_state {78} the testing accuracy test is 0.9379737681066881\n",
      "\n",
      "\n",
      "At random_state {79} the training accuracy test is 0.9969376867526745\n",
      "At random_state {79} the testing accuracy test is 0.9784320353475688\n",
      "\n",
      "\n",
      "At random_state {80} the training accuracy test is 0.9968475963633168\n",
      "At random_state {80} the testing accuracy test is 0.9824365935943686\n",
      "\n",
      "\n",
      "At random_state {81} the training accuracy test is 0.9963359690751826\n",
      "At random_state {81} the testing accuracy test is 0.9882595976063462\n",
      "\n",
      "\n",
      "At random_state {82} the training accuracy test is 0.9968338824361441\n",
      "At random_state {82} the testing accuracy test is 0.963264013083852\n",
      "\n",
      "\n",
      "At random_state {83} the training accuracy test is 0.9967039723668049\n",
      "At random_state {83} the testing accuracy test is 0.9692843119381225\n",
      "\n",
      "\n",
      "At random_state {84} the training accuracy test is 0.995986079835379\n",
      "At random_state {84} the testing accuracy test is 0.9843758057451806\n",
      "\n",
      "\n",
      "At random_state {85} the training accuracy test is 0.9971945015564446\n",
      "At random_state {85} the testing accuracy test is 0.9646615234756832\n",
      "\n",
      "\n",
      "At random_state {86} the training accuracy test is 0.996895597290212\n",
      "At random_state {86} the testing accuracy test is 0.9830938344805842\n",
      "\n",
      "\n",
      "At random_state {87} the training accuracy test is 0.9972789219222523\n",
      "At random_state {87} the testing accuracy test is 0.9605810765588507\n",
      "\n",
      "\n",
      "At random_state {88} the training accuracy test is 0.9968154930023325\n",
      "At random_state {88} the testing accuracy test is 0.9764345997225099\n",
      "\n",
      "\n",
      "At random_state {89} the training accuracy test is 0.9964399209451673\n",
      "At random_state {89} the testing accuracy test is 0.9823898226919382\n",
      "\n",
      "\n",
      "At random_state {90} the training accuracy test is 0.9961824929292115\n",
      "At random_state {90} the testing accuracy test is 0.9814866800899604\n",
      "\n",
      "\n",
      "At random_state {91} the training accuracy test is 0.9959681081268069\n",
      "At random_state {91} the testing accuracy test is 0.9796034543920528\n",
      "\n",
      "\n",
      "At random_state {92} the training accuracy test is 0.9966247284120348\n",
      "At random_state {92} the testing accuracy test is 0.9832655185726826\n",
      "\n",
      "\n",
      "At random_state {93} the training accuracy test is 0.9968988524942727\n",
      "At random_state {93} the testing accuracy test is 0.9727829945219091\n",
      "\n",
      "\n",
      "At random_state {94} the training accuracy test is 0.9969014069347908\n",
      "At random_state {94} the testing accuracy test is 0.97577588869312\n",
      "\n",
      "\n",
      "At random_state {95} the training accuracy test is 0.9969842809003276\n",
      "At random_state {95} the testing accuracy test is 0.9696676379167093\n",
      "\n",
      "\n",
      "At random_state {96} the training accuracy test is 0.9966913264222794\n",
      "At random_state {96} the testing accuracy test is 0.9661988702955107\n",
      "\n",
      "\n",
      "At random_state {97} the training accuracy test is 0.9965987699508297\n",
      "At random_state {97} the testing accuracy test is 0.9829096627473751\n",
      "\n",
      "\n",
      "At random_state {98} the training accuracy test is 0.9970773676829144\n",
      "At random_state {98} the testing accuracy test is 0.9601425245268972\n",
      "\n",
      "\n",
      "At random_state {99} the training accuracy test is 0.996091985760388\n",
      "At random_state {99} the testing accuracy test is 0.9777197370769426\n",
      "\n",
      "\n"
     ]
    }
   ],
   "source": [
    "for i in range(0,100):\n",
    "    x_train,x_test,y_train,y_test=train_test_split(x1,y,test_size=0.20,random_state=i)\n",
    "    rm.fit(x_train,y_train)\n",
    "    prerm=rm.predict(x_train)\n",
    "    prerm1=rm.predict(x_test)\n",
    "    print('At random_state' ,{i}, 'the training accuracy test is', r2_score(y_train,prerm))\n",
    "    print('At random_state' ,{i}, 'the testing accuracy test is', r2_score(y_test,prerm1))\n",
    "    print('\\n')"
   ]
  },
  {
   "cell_type": "markdown",
   "id": "620d9235",
   "metadata": {},
   "source": [
    "## AT RANDOM_STATE 40 WE HAVE ACHIEVED THE HIGHEST R2_SCORE OF 98.88%,HENCE WE WILL PROCEED WITH THAT"
   ]
  },
  {
   "cell_type": "code",
   "execution_count": 224,
   "id": "745560d1",
   "metadata": {},
   "outputs": [],
   "source": [
    "x_train,x_test,y_train,y_test=train_test_split(x1,y,test_size=0.2,random_state=40)"
   ]
  },
  {
   "cell_type": "code",
   "execution_count": 225,
   "id": "9a24cca3",
   "metadata": {},
   "outputs": [],
   "source": [
    "RM=RandomForestRegressor()"
   ]
  },
  {
   "cell_type": "code",
   "execution_count": 226,
   "id": "0c4b509a",
   "metadata": {},
   "outputs": [
    {
     "data": {
      "text/html": [
       "<style>#sk-container-id-17 {color: black;background-color: white;}#sk-container-id-17 pre{padding: 0;}#sk-container-id-17 div.sk-toggleable {background-color: white;}#sk-container-id-17 label.sk-toggleable__label {cursor: pointer;display: block;width: 100%;margin-bottom: 0;padding: 0.3em;box-sizing: border-box;text-align: center;}#sk-container-id-17 label.sk-toggleable__label-arrow:before {content: \"▸\";float: left;margin-right: 0.25em;color: #696969;}#sk-container-id-17 label.sk-toggleable__label-arrow:hover:before {color: black;}#sk-container-id-17 div.sk-estimator:hover label.sk-toggleable__label-arrow:before {color: black;}#sk-container-id-17 div.sk-toggleable__content {max-height: 0;max-width: 0;overflow: hidden;text-align: left;background-color: #f0f8ff;}#sk-container-id-17 div.sk-toggleable__content pre {margin: 0.2em;color: black;border-radius: 0.25em;background-color: #f0f8ff;}#sk-container-id-17 input.sk-toggleable__control:checked~div.sk-toggleable__content {max-height: 200px;max-width: 100%;overflow: auto;}#sk-container-id-17 input.sk-toggleable__control:checked~label.sk-toggleable__label-arrow:before {content: \"▾\";}#sk-container-id-17 div.sk-estimator input.sk-toggleable__control:checked~label.sk-toggleable__label {background-color: #d4ebff;}#sk-container-id-17 div.sk-label input.sk-toggleable__control:checked~label.sk-toggleable__label {background-color: #d4ebff;}#sk-container-id-17 input.sk-hidden--visually {border: 0;clip: rect(1px 1px 1px 1px);clip: rect(1px, 1px, 1px, 1px);height: 1px;margin: -1px;overflow: hidden;padding: 0;position: absolute;width: 1px;}#sk-container-id-17 div.sk-estimator {font-family: monospace;background-color: #f0f8ff;border: 1px dotted black;border-radius: 0.25em;box-sizing: border-box;margin-bottom: 0.5em;}#sk-container-id-17 div.sk-estimator:hover {background-color: #d4ebff;}#sk-container-id-17 div.sk-parallel-item::after {content: \"\";width: 100%;border-bottom: 1px solid gray;flex-grow: 1;}#sk-container-id-17 div.sk-label:hover label.sk-toggleable__label {background-color: #d4ebff;}#sk-container-id-17 div.sk-serial::before {content: \"\";position: absolute;border-left: 1px solid gray;box-sizing: border-box;top: 0;bottom: 0;left: 50%;z-index: 0;}#sk-container-id-17 div.sk-serial {display: flex;flex-direction: column;align-items: center;background-color: white;padding-right: 0.2em;padding-left: 0.2em;position: relative;}#sk-container-id-17 div.sk-item {position: relative;z-index: 1;}#sk-container-id-17 div.sk-parallel {display: flex;align-items: stretch;justify-content: center;background-color: white;position: relative;}#sk-container-id-17 div.sk-item::before, #sk-container-id-17 div.sk-parallel-item::before {content: \"\";position: absolute;border-left: 1px solid gray;box-sizing: border-box;top: 0;bottom: 0;left: 50%;z-index: -1;}#sk-container-id-17 div.sk-parallel-item {display: flex;flex-direction: column;z-index: 1;position: relative;background-color: white;}#sk-container-id-17 div.sk-parallel-item:first-child::after {align-self: flex-end;width: 50%;}#sk-container-id-17 div.sk-parallel-item:last-child::after {align-self: flex-start;width: 50%;}#sk-container-id-17 div.sk-parallel-item:only-child::after {width: 0;}#sk-container-id-17 div.sk-dashed-wrapped {border: 1px dashed gray;margin: 0 0.4em 0.5em 0.4em;box-sizing: border-box;padding-bottom: 0.4em;background-color: white;}#sk-container-id-17 div.sk-label label {font-family: monospace;font-weight: bold;display: inline-block;line-height: 1.2em;}#sk-container-id-17 div.sk-label-container {text-align: center;}#sk-container-id-17 div.sk-container {/* jupyter's `normalize.less` sets `[hidden] { display: none; }` but bootstrap.min.css set `[hidden] { display: none !important; }` so we also need the `!important` here to be able to override the default hidden behavior on the sphinx rendered scikit-learn.org. See: https://github.com/scikit-learn/scikit-learn/issues/21755 */display: inline-block !important;position: relative;}#sk-container-id-17 div.sk-text-repr-fallback {display: none;}</style><div id=\"sk-container-id-17\" class=\"sk-top-container\"><div class=\"sk-text-repr-fallback\"><pre>RandomForestRegressor()</pre><b>In a Jupyter environment, please rerun this cell to show the HTML representation or trust the notebook. <br />On GitHub, the HTML representation is unable to render, please try loading this page with nbviewer.org.</b></div><div class=\"sk-container\" hidden><div class=\"sk-item\"><div class=\"sk-estimator sk-toggleable\"><input class=\"sk-toggleable__control sk-hidden--visually\" id=\"sk-estimator-id-21\" type=\"checkbox\" checked><label for=\"sk-estimator-id-21\" class=\"sk-toggleable__label sk-toggleable__label-arrow\">RandomForestRegressor</label><div class=\"sk-toggleable__content\"><pre>RandomForestRegressor()</pre></div></div></div></div></div>"
      ],
      "text/plain": [
       "RandomForestRegressor()"
      ]
     },
     "execution_count": 226,
     "metadata": {},
     "output_type": "execute_result"
    }
   ],
   "source": [
    "RM.fit(x_train,y_train)"
   ]
  },
  {
   "cell_type": "code",
   "execution_count": 227,
   "id": "36f0f512",
   "metadata": {},
   "outputs": [],
   "source": [
    "PRERM=RM.predict(x_test)"
   ]
  },
  {
   "cell_type": "code",
   "execution_count": 228,
   "id": "07fef2ee",
   "metadata": {},
   "outputs": [
    {
     "name": "stdout",
     "output_type": "stream",
     "text": [
      "0.9896432377485367\n"
     ]
    }
   ],
   "source": [
    "print(r2_score(y_test,PRERM))"
   ]
  },
  {
   "cell_type": "code",
   "execution_count": 199,
   "id": "65194af3",
   "metadata": {},
   "outputs": [
    {
     "name": "stdout",
     "output_type": "stream",
     "text": [
      "0.23414142500000135\n"
     ]
    }
   ],
   "source": [
    "print(mean_squared_error(y_test,PRERM))"
   ]
  },
  {
   "cell_type": "code",
   "execution_count": 200,
   "id": "52b64af6",
   "metadata": {},
   "outputs": [
    {
     "name": "stdout",
     "output_type": "stream",
     "text": [
      "0.402925000000001\n"
     ]
    }
   ],
   "source": [
    "print(mean_absolute_error(y_test,PRERM))"
   ]
  },
  {
   "cell_type": "code",
   "execution_count": 201,
   "id": "503cb496",
   "metadata": {},
   "outputs": [
    {
     "name": "stdout",
     "output_type": "stream",
     "text": [
      "0.48388162292031855\n"
     ]
    }
   ],
   "source": [
    "print(sqrt(mean_squared_error(y_test,PRERM)))"
   ]
  },
  {
   "cell_type": "markdown",
   "id": "04f98663",
   "metadata": {},
   "source": [
    "## GRADIENT BOOST REGRESSOR "
   ]
  },
  {
   "cell_type": "code",
   "execution_count": 103,
   "id": "0b66cb34",
   "metadata": {},
   "outputs": [],
   "source": [
    "from sklearn.ensemble import GradientBoostingRegressor"
   ]
  },
  {
   "cell_type": "code",
   "execution_count": 104,
   "id": "120571b0",
   "metadata": {},
   "outputs": [],
   "source": [
    "xg=GradientBoostingRegressor()"
   ]
  },
  {
   "cell_type": "code",
   "execution_count": 105,
   "id": "c9240b56",
   "metadata": {},
   "outputs": [
    {
     "name": "stdout",
     "output_type": "stream",
     "text": [
      "At random_state {0} the training accuracy test is 0.9987323273593703\n",
      "At random_state {0} the testing accuracy test is 0.9816744154669069\n",
      "\n",
      "\n",
      "At random_state {1} the training accuracy test is 0.9989144442356923\n",
      "At random_state {1} the testing accuracy test is 0.9860037320928647\n",
      "\n",
      "\n",
      "At random_state {2} the training accuracy test is 0.9990061525865668\n",
      "At random_state {2} the testing accuracy test is 0.9715652582530474\n",
      "\n",
      "\n",
      "At random_state {3} the training accuracy test is 0.9989871770751464\n",
      "At random_state {3} the testing accuracy test is 0.9790490168108734\n",
      "\n",
      "\n",
      "At random_state {4} the training accuracy test is 0.9989849632377543\n",
      "At random_state {4} the testing accuracy test is 0.974910979324611\n",
      "\n",
      "\n",
      "At random_state {5} the training accuracy test is 0.9988367159824313\n",
      "At random_state {5} the testing accuracy test is 0.9834164588025565\n",
      "\n",
      "\n",
      "At random_state {6} the training accuracy test is 0.998858614529919\n",
      "At random_state {6} the testing accuracy test is 0.9608753287860956\n",
      "\n",
      "\n",
      "At random_state {7} the training accuracy test is 0.9985956055592596\n",
      "At random_state {7} the testing accuracy test is 0.9859300561499816\n",
      "\n",
      "\n",
      "At random_state {8} the training accuracy test is 0.9988592011555129\n",
      "At random_state {8} the testing accuracy test is 0.9676810368195192\n",
      "\n",
      "\n",
      "At random_state {9} the training accuracy test is 0.9986942097911653\n",
      "At random_state {9} the testing accuracy test is 0.9880079008048007\n",
      "\n",
      "\n",
      "At random_state {10} the training accuracy test is 0.9990170336449098\n",
      "At random_state {10} the testing accuracy test is 0.9674029623807328\n",
      "\n",
      "\n",
      "At random_state {11} the training accuracy test is 0.9987651847581998\n",
      "At random_state {11} the testing accuracy test is 0.9843981953141742\n",
      "\n",
      "\n",
      "At random_state {12} the training accuracy test is 0.9988149951405276\n",
      "At random_state {12} the testing accuracy test is 0.9814557078430951\n",
      "\n",
      "\n",
      "At random_state {13} the training accuracy test is 0.9989392114196939\n",
      "At random_state {13} the testing accuracy test is 0.9615586987521847\n",
      "\n",
      "\n",
      "At random_state {14} the training accuracy test is 0.9988924912000863\n",
      "At random_state {14} the testing accuracy test is 0.9878075429214123\n",
      "\n",
      "\n",
      "At random_state {15} the training accuracy test is 0.9984885232134244\n",
      "At random_state {15} the testing accuracy test is 0.969966888705102\n",
      "\n",
      "\n",
      "At random_state {16} the training accuracy test is 0.9984962793842824\n",
      "At random_state {16} the testing accuracy test is 0.9815777621132287\n",
      "\n",
      "\n",
      "At random_state {17} the training accuracy test is 0.9984683078574325\n",
      "At random_state {17} the testing accuracy test is 0.9852022070419478\n",
      "\n",
      "\n",
      "At random_state {18} the training accuracy test is 0.998848191343323\n",
      "At random_state {18} the testing accuracy test is 0.9610814608983156\n",
      "\n",
      "\n",
      "At random_state {19} the training accuracy test is 0.9988356569327793\n",
      "At random_state {19} the testing accuracy test is 0.9791935934936525\n",
      "\n",
      "\n",
      "At random_state {20} the training accuracy test is 0.9988173295017713\n",
      "At random_state {20} the testing accuracy test is 0.9806779022209963\n",
      "\n",
      "\n",
      "At random_state {21} the training accuracy test is 0.9987074046160317\n",
      "At random_state {21} the testing accuracy test is 0.9874364119910632\n",
      "\n",
      "\n",
      "At random_state {22} the training accuracy test is 0.9985076919903547\n",
      "At random_state {22} the testing accuracy test is 0.9837050526537204\n",
      "\n",
      "\n",
      "At random_state {23} the training accuracy test is 0.9989256275179139\n",
      "At random_state {23} the testing accuracy test is 0.9857007256174201\n",
      "\n",
      "\n",
      "At random_state {24} the training accuracy test is 0.9986596198243317\n",
      "At random_state {24} the testing accuracy test is 0.9837417903789172\n",
      "\n",
      "\n",
      "At random_state {25} the training accuracy test is 0.9986651573927772\n",
      "At random_state {25} the testing accuracy test is 0.9778515652383164\n",
      "\n",
      "\n",
      "At random_state {26} the training accuracy test is 0.9986580652135247\n",
      "At random_state {26} the testing accuracy test is 0.9608869349041023\n",
      "\n",
      "\n",
      "At random_state {27} the training accuracy test is 0.9987446195502583\n",
      "At random_state {27} the testing accuracy test is 0.9673610433157991\n",
      "\n",
      "\n",
      "At random_state {28} the training accuracy test is 0.9987982251139537\n",
      "At random_state {28} the testing accuracy test is 0.9639601752955107\n",
      "\n",
      "\n",
      "At random_state {29} the training accuracy test is 0.998910557824062\n",
      "At random_state {29} the testing accuracy test is 0.9694586467532046\n",
      "\n",
      "\n",
      "At random_state {30} the training accuracy test is 0.9986947393197024\n",
      "At random_state {30} the testing accuracy test is 0.9665638442165794\n",
      "\n",
      "\n",
      "At random_state {31} the training accuracy test is 0.9983178087594665\n",
      "At random_state {31} the testing accuracy test is 0.989654866039636\n",
      "\n",
      "\n",
      "At random_state {32} the training accuracy test is 0.9988068422589397\n",
      "At random_state {32} the testing accuracy test is 0.9868915914301152\n",
      "\n",
      "\n",
      "At random_state {33} the training accuracy test is 0.9987431746879134\n",
      "At random_state {33} the testing accuracy test is 0.9842245452535272\n",
      "\n",
      "\n",
      "At random_state {34} the training accuracy test is 0.9987981638387226\n",
      "At random_state {34} the testing accuracy test is 0.9863368581789421\n",
      "\n",
      "\n",
      "At random_state {35} the training accuracy test is 0.9986622639864629\n",
      "At random_state {35} the testing accuracy test is 0.9831019601709261\n",
      "\n",
      "\n",
      "At random_state {36} the training accuracy test is 0.9988411389225778\n",
      "At random_state {36} the testing accuracy test is 0.9871496455119628\n",
      "\n",
      "\n",
      "At random_state {37} the training accuracy test is 0.9986184937575876\n",
      "At random_state {37} the testing accuracy test is 0.9675173733358767\n",
      "\n",
      "\n",
      "At random_state {38} the training accuracy test is 0.9986852863375318\n",
      "At random_state {38} the testing accuracy test is 0.9897878586558976\n",
      "\n",
      "\n",
      "At random_state {39} the training accuracy test is 0.9989737738709449\n",
      "At random_state {39} the testing accuracy test is 0.9809345272303486\n",
      "\n",
      "\n",
      "At random_state {40} the training accuracy test is 0.9986590710397539\n",
      "At random_state {40} the testing accuracy test is 0.9910265237286829\n",
      "\n",
      "\n",
      "At random_state {41} the training accuracy test is 0.9986568933697727\n",
      "At random_state {41} the testing accuracy test is 0.9634202248568836\n",
      "\n",
      "\n",
      "At random_state {42} the training accuracy test is 0.9986355190160764\n",
      "At random_state {42} the testing accuracy test is 0.9842748586481481\n",
      "\n",
      "\n",
      "At random_state {43} the training accuracy test is 0.9990013830943714\n",
      "At random_state {43} the testing accuracy test is 0.97413516005798\n",
      "\n",
      "\n",
      "At random_state {44} the training accuracy test is 0.9989290011965015\n",
      "At random_state {44} the testing accuracy test is 0.9655997809872175\n",
      "\n",
      "\n",
      "At random_state {45} the training accuracy test is 0.9988236949830448\n",
      "At random_state {45} the testing accuracy test is 0.9729528010248915\n",
      "\n",
      "\n",
      "At random_state {46} the training accuracy test is 0.9990959042523169\n",
      "At random_state {46} the testing accuracy test is 0.9781940731891259\n",
      "\n",
      "\n",
      "At random_state {47} the training accuracy test is 0.9988554443976191\n",
      "At random_state {47} the testing accuracy test is 0.9759184868320063\n",
      "\n",
      "\n",
      "At random_state {48} the training accuracy test is 0.9990547812680683\n",
      "At random_state {48} the testing accuracy test is 0.9780322677881191\n",
      "\n",
      "\n",
      "At random_state {49} the training accuracy test is 0.9989239472929811\n",
      "At random_state {49} the testing accuracy test is 0.9722891235020332\n",
      "\n",
      "\n",
      "At random_state {50} the training accuracy test is 0.9989496353373633\n",
      "At random_state {50} the testing accuracy test is 0.9849288827638397\n",
      "\n",
      "\n",
      "At random_state {51} the training accuracy test is 0.9988117947576401\n",
      "At random_state {51} the testing accuracy test is 0.9814146890439644\n",
      "\n",
      "\n",
      "At random_state {52} the training accuracy test is 0.9990688592183927\n",
      "At random_state {52} the testing accuracy test is 0.9878164133514261\n",
      "\n",
      "\n",
      "At random_state {53} the training accuracy test is 0.9986355028347008\n",
      "At random_state {53} the testing accuracy test is 0.9630153702295532\n",
      "\n",
      "\n",
      "At random_state {54} the training accuracy test is 0.9987013762852649\n",
      "At random_state {54} the testing accuracy test is 0.9847384916795798\n",
      "\n",
      "\n",
      "At random_state {55} the training accuracy test is 0.9988255181752467\n",
      "At random_state {55} the testing accuracy test is 0.9885856861349834\n",
      "\n",
      "\n",
      "At random_state {56} the training accuracy test is 0.9989715217779892\n",
      "At random_state {56} the testing accuracy test is 0.9684001285211039\n",
      "\n",
      "\n",
      "At random_state {57} the training accuracy test is 0.9988733574498796\n",
      "At random_state {57} the testing accuracy test is 0.9589901925060803\n",
      "\n",
      "\n",
      "At random_state {58} the training accuracy test is 0.9983513780641409\n",
      "At random_state {58} the testing accuracy test is 0.9879501608371395\n",
      "\n",
      "\n",
      "At random_state {59} the training accuracy test is 0.9986409638341271\n",
      "At random_state {59} the testing accuracy test is 0.9822886121066026\n",
      "\n",
      "\n",
      "At random_state {60} the training accuracy test is 0.9987545803590807\n",
      "At random_state {60} the testing accuracy test is 0.972652461040431\n",
      "\n",
      "\n",
      "At random_state {61} the training accuracy test is 0.9989680460565357\n",
      "At random_state {61} the testing accuracy test is 0.9696988400241922\n",
      "\n",
      "\n",
      "At random_state {62} the training accuracy test is 0.9987479374798794\n",
      "At random_state {62} the testing accuracy test is 0.9724392131222543\n",
      "\n",
      "\n",
      "At random_state {63} the training accuracy test is 0.9988015629914329\n",
      "At random_state {63} the testing accuracy test is 0.9835422569051714\n",
      "\n",
      "\n",
      "At random_state {64} the training accuracy test is 0.9986746919586788\n",
      "At random_state {64} the testing accuracy test is 0.9795452641154753\n",
      "\n",
      "\n",
      "At random_state {65} the training accuracy test is 0.998516550702013\n",
      "At random_state {65} the testing accuracy test is 0.9862325900563443\n",
      "\n",
      "\n",
      "At random_state {66} the training accuracy test is 0.9989315939887625\n",
      "At random_state {66} the testing accuracy test is 0.9689684579147292\n",
      "\n",
      "\n",
      "At random_state {67} the training accuracy test is 0.99903703862364\n",
      "At random_state {67} the testing accuracy test is 0.9752381160034748\n",
      "\n",
      "\n",
      "At random_state {68} the training accuracy test is 0.9987574186142837\n",
      "At random_state {68} the testing accuracy test is 0.9765306081457321\n",
      "\n",
      "\n",
      "At random_state {69} the training accuracy test is 0.9984943838918872\n",
      "At random_state {69} the testing accuracy test is 0.9889457619144963\n",
      "\n",
      "\n",
      "At random_state {70} the training accuracy test is 0.9987589691341577\n",
      "At random_state {70} the testing accuracy test is 0.9870317778636603\n",
      "\n",
      "\n",
      "At random_state {71} the training accuracy test is 0.9988194680814378\n",
      "At random_state {71} the testing accuracy test is 0.9813688315430229\n",
      "\n",
      "\n",
      "At random_state {72} the training accuracy test is 0.9984469379689722\n",
      "At random_state {72} the testing accuracy test is 0.9820790053932833\n",
      "\n",
      "\n",
      "At random_state {73} the training accuracy test is 0.9988690701159059\n",
      "At random_state {73} the testing accuracy test is 0.9755245388010968\n",
      "\n",
      "\n",
      "At random_state {74} the training accuracy test is 0.9983514446672738\n",
      "At random_state {74} the testing accuracy test is 0.9893472137994759\n",
      "\n",
      "\n",
      "At random_state {75} the training accuracy test is 0.998916606404513\n",
      "At random_state {75} the testing accuracy test is 0.9771427560081118\n",
      "\n",
      "\n",
      "At random_state {76} the training accuracy test is 0.9989962102409338\n",
      "At random_state {76} the testing accuracy test is 0.9822350965553309\n",
      "\n",
      "\n",
      "At random_state {77} the training accuracy test is 0.9987256226176907\n",
      "At random_state {77} the testing accuracy test is 0.9823446871572632\n",
      "\n",
      "\n",
      "At random_state {78} the training accuracy test is 0.9989423207222089\n",
      "At random_state {78} the testing accuracy test is 0.9372014735000842\n",
      "\n",
      "\n",
      "At random_state {79} the training accuracy test is 0.998947001540115\n",
      "At random_state {79} the testing accuracy test is 0.9881752986478558\n",
      "\n",
      "\n",
      "At random_state {80} the training accuracy test is 0.9987776207231496\n",
      "At random_state {80} the testing accuracy test is 0.9868506869249153\n",
      "\n",
      "\n",
      "At random_state {81} the training accuracy test is 0.9987226044625588\n",
      "At random_state {81} the testing accuracy test is 0.9875101016146299\n",
      "\n",
      "\n",
      "At random_state {82} the training accuracy test is 0.9988193722484212\n",
      "At random_state {82} the testing accuracy test is 0.9614835619248315\n",
      "\n",
      "\n",
      "At random_state {83} the training accuracy test is 0.998763102837744\n",
      "At random_state {83} the testing accuracy test is 0.9679519539600093\n",
      "\n",
      "\n",
      "At random_state {84} the training accuracy test is 0.9985489989952031\n",
      "At random_state {84} the testing accuracy test is 0.9826854870672835\n",
      "\n",
      "\n",
      "At random_state {85} the training accuracy test is 0.9986575065731205\n",
      "At random_state {85} the testing accuracy test is 0.9617236266384942\n",
      "\n",
      "\n",
      "At random_state {86} the training accuracy test is 0.9988293618917728\n",
      "At random_state {86} the testing accuracy test is 0.982530177389938\n",
      "\n",
      "\n",
      "At random_state {87} the training accuracy test is 0.9988183041536384\n",
      "At random_state {87} the testing accuracy test is 0.958486040980489\n",
      "\n",
      "\n",
      "At random_state {88} the training accuracy test is 0.9989121406290745\n",
      "At random_state {88} the testing accuracy test is 0.9810741984254434\n",
      "\n",
      "\n",
      "At random_state {89} the training accuracy test is 0.9989897138543179\n",
      "At random_state {89} the testing accuracy test is 0.9775826005468495\n",
      "\n",
      "\n",
      "At random_state {90} the training accuracy test is 0.9985931825150477\n",
      "At random_state {90} the testing accuracy test is 0.9794167903925268\n",
      "\n",
      "\n",
      "At random_state {91} the training accuracy test is 0.9987613836185868\n",
      "At random_state {91} the testing accuracy test is 0.9825404856282807\n",
      "\n",
      "\n",
      "At random_state {92} the training accuracy test is 0.9985842516174173\n",
      "At random_state {92} the testing accuracy test is 0.9855722773300298\n",
      "\n",
      "\n",
      "At random_state {93} the training accuracy test is 0.9989065696151826\n",
      "At random_state {93} the testing accuracy test is 0.9647079255163532\n",
      "\n",
      "\n",
      "At random_state {94} the training accuracy test is 0.9988781384140226\n",
      "At random_state {94} the testing accuracy test is 0.9730432124570163\n",
      "\n",
      "\n",
      "At random_state {95} the training accuracy test is 0.9989833554804473\n",
      "At random_state {95} the testing accuracy test is 0.9670841662036742\n",
      "\n",
      "\n",
      "At random_state {96} the training accuracy test is 0.9986174442978671\n",
      "At random_state {96} the testing accuracy test is 0.9796048961800149\n",
      "\n",
      "\n",
      "At random_state {97} the training accuracy test is 0.9989279685298241\n",
      "At random_state {97} the testing accuracy test is 0.9849673269323304\n",
      "\n",
      "\n",
      "At random_state {98} the training accuracy test is 0.9987126663704913\n",
      "At random_state {98} the testing accuracy test is 0.9628487581678942\n",
      "\n",
      "\n",
      "At random_state {99} the training accuracy test is 0.9988355829612483\n",
      "At random_state {99} the testing accuracy test is 0.9865737001581042\n",
      "\n",
      "\n"
     ]
    }
   ],
   "source": [
    "for i in range(0,100):\n",
    "    x_train,x_test,y_train,y_test=train_test_split(x1,y,test_size=0.20,random_state=i)\n",
    "    xg.fit(x_train,y_train)\n",
    "    prexg=xg.predict(x_train)\n",
    "    prexg1=xg.predict(x_test)\n",
    "    print('At random_state' ,{i}, 'the training accuracy test is', r2_score(y_train,prexg))\n",
    "    print('At random_state' ,{i}, 'the testing accuracy test is', r2_score(y_test,prexg1))\n",
    "    print('\\n')"
   ]
  },
  {
   "cell_type": "markdown",
   "id": "e0a81e73",
   "metadata": {},
   "source": [
    "## AT RANDOM_STATE 40 WE HAVE ACHIEVED THE HIGHEST R2_SCORE OF 99.10%,HENCE WE WILL PROCEED WITH THAT"
   ]
  },
  {
   "cell_type": "code",
   "execution_count": 185,
   "id": "2c0a42f1",
   "metadata": {},
   "outputs": [],
   "source": [
    "x_train,x_test,y_train,y_test=train_test_split(x1,y,test_size=0.2,random_state=40)"
   ]
  },
  {
   "cell_type": "code",
   "execution_count": 186,
   "id": "adb50d16",
   "metadata": {},
   "outputs": [],
   "source": [
    "XGB=GradientBoostingRegressor()"
   ]
  },
  {
   "cell_type": "code",
   "execution_count": 187,
   "id": "e7484464",
   "metadata": {},
   "outputs": [
    {
     "data": {
      "text/html": [
       "<style>#sk-container-id-13 {color: black;background-color: white;}#sk-container-id-13 pre{padding: 0;}#sk-container-id-13 div.sk-toggleable {background-color: white;}#sk-container-id-13 label.sk-toggleable__label {cursor: pointer;display: block;width: 100%;margin-bottom: 0;padding: 0.3em;box-sizing: border-box;text-align: center;}#sk-container-id-13 label.sk-toggleable__label-arrow:before {content: \"▸\";float: left;margin-right: 0.25em;color: #696969;}#sk-container-id-13 label.sk-toggleable__label-arrow:hover:before {color: black;}#sk-container-id-13 div.sk-estimator:hover label.sk-toggleable__label-arrow:before {color: black;}#sk-container-id-13 div.sk-toggleable__content {max-height: 0;max-width: 0;overflow: hidden;text-align: left;background-color: #f0f8ff;}#sk-container-id-13 div.sk-toggleable__content pre {margin: 0.2em;color: black;border-radius: 0.25em;background-color: #f0f8ff;}#sk-container-id-13 input.sk-toggleable__control:checked~div.sk-toggleable__content {max-height: 200px;max-width: 100%;overflow: auto;}#sk-container-id-13 input.sk-toggleable__control:checked~label.sk-toggleable__label-arrow:before {content: \"▾\";}#sk-container-id-13 div.sk-estimator input.sk-toggleable__control:checked~label.sk-toggleable__label {background-color: #d4ebff;}#sk-container-id-13 div.sk-label input.sk-toggleable__control:checked~label.sk-toggleable__label {background-color: #d4ebff;}#sk-container-id-13 input.sk-hidden--visually {border: 0;clip: rect(1px 1px 1px 1px);clip: rect(1px, 1px, 1px, 1px);height: 1px;margin: -1px;overflow: hidden;padding: 0;position: absolute;width: 1px;}#sk-container-id-13 div.sk-estimator {font-family: monospace;background-color: #f0f8ff;border: 1px dotted black;border-radius: 0.25em;box-sizing: border-box;margin-bottom: 0.5em;}#sk-container-id-13 div.sk-estimator:hover {background-color: #d4ebff;}#sk-container-id-13 div.sk-parallel-item::after {content: \"\";width: 100%;border-bottom: 1px solid gray;flex-grow: 1;}#sk-container-id-13 div.sk-label:hover label.sk-toggleable__label {background-color: #d4ebff;}#sk-container-id-13 div.sk-serial::before {content: \"\";position: absolute;border-left: 1px solid gray;box-sizing: border-box;top: 0;bottom: 0;left: 50%;z-index: 0;}#sk-container-id-13 div.sk-serial {display: flex;flex-direction: column;align-items: center;background-color: white;padding-right: 0.2em;padding-left: 0.2em;position: relative;}#sk-container-id-13 div.sk-item {position: relative;z-index: 1;}#sk-container-id-13 div.sk-parallel {display: flex;align-items: stretch;justify-content: center;background-color: white;position: relative;}#sk-container-id-13 div.sk-item::before, #sk-container-id-13 div.sk-parallel-item::before {content: \"\";position: absolute;border-left: 1px solid gray;box-sizing: border-box;top: 0;bottom: 0;left: 50%;z-index: -1;}#sk-container-id-13 div.sk-parallel-item {display: flex;flex-direction: column;z-index: 1;position: relative;background-color: white;}#sk-container-id-13 div.sk-parallel-item:first-child::after {align-self: flex-end;width: 50%;}#sk-container-id-13 div.sk-parallel-item:last-child::after {align-self: flex-start;width: 50%;}#sk-container-id-13 div.sk-parallel-item:only-child::after {width: 0;}#sk-container-id-13 div.sk-dashed-wrapped {border: 1px dashed gray;margin: 0 0.4em 0.5em 0.4em;box-sizing: border-box;padding-bottom: 0.4em;background-color: white;}#sk-container-id-13 div.sk-label label {font-family: monospace;font-weight: bold;display: inline-block;line-height: 1.2em;}#sk-container-id-13 div.sk-label-container {text-align: center;}#sk-container-id-13 div.sk-container {/* jupyter's `normalize.less` sets `[hidden] { display: none; }` but bootstrap.min.css set `[hidden] { display: none !important; }` so we also need the `!important` here to be able to override the default hidden behavior on the sphinx rendered scikit-learn.org. See: https://github.com/scikit-learn/scikit-learn/issues/21755 */display: inline-block !important;position: relative;}#sk-container-id-13 div.sk-text-repr-fallback {display: none;}</style><div id=\"sk-container-id-13\" class=\"sk-top-container\"><div class=\"sk-text-repr-fallback\"><pre>GradientBoostingRegressor()</pre><b>In a Jupyter environment, please rerun this cell to show the HTML representation or trust the notebook. <br />On GitHub, the HTML representation is unable to render, please try loading this page with nbviewer.org.</b></div><div class=\"sk-container\" hidden><div class=\"sk-item\"><div class=\"sk-estimator sk-toggleable\"><input class=\"sk-toggleable__control sk-hidden--visually\" id=\"sk-estimator-id-17\" type=\"checkbox\" checked><label for=\"sk-estimator-id-17\" class=\"sk-toggleable__label sk-toggleable__label-arrow\">GradientBoostingRegressor</label><div class=\"sk-toggleable__content\"><pre>GradientBoostingRegressor()</pre></div></div></div></div></div>"
      ],
      "text/plain": [
       "GradientBoostingRegressor()"
      ]
     },
     "execution_count": 187,
     "metadata": {},
     "output_type": "execute_result"
    }
   ],
   "source": [
    "XGB.fit(x_train,y_train)"
   ]
  },
  {
   "cell_type": "code",
   "execution_count": 188,
   "id": "a6c57cf6",
   "metadata": {},
   "outputs": [],
   "source": [
    "PREXGB=XGB.predict(x_test)"
   ]
  },
  {
   "cell_type": "code",
   "execution_count": 189,
   "id": "92157c07",
   "metadata": {},
   "outputs": [
    {
     "name": "stdout",
     "output_type": "stream",
     "text": [
      "0.9908802813012441\n"
     ]
    }
   ],
   "source": [
    "print(r2_score(y_test,PREXGB))"
   ]
  },
  {
   "cell_type": "code",
   "execution_count": 190,
   "id": "b7cb494e",
   "metadata": {},
   "outputs": [
    {
     "name": "stdout",
     "output_type": "stream",
     "text": [
      "0.22787617807131388\n"
     ]
    }
   ],
   "source": [
    "print(mean_squared_error(y_test,PREXGB))"
   ]
  },
  {
   "cell_type": "code",
   "execution_count": 191,
   "id": "7416ffc5",
   "metadata": {},
   "outputs": [
    {
     "name": "stdout",
     "output_type": "stream",
     "text": [
      "0.3799471523115291\n"
     ]
    }
   ],
   "source": [
    "print(mean_absolute_error(y_test,PREXGB))"
   ]
  },
  {
   "cell_type": "code",
   "execution_count": 192,
   "id": "8d0da70a",
   "metadata": {},
   "outputs": [
    {
     "name": "stdout",
     "output_type": "stream",
     "text": [
      "0.4773637795971893\n"
     ]
    }
   ],
   "source": [
    "print(sqrt(mean_squared_error(y_test,PREXGB)))"
   ]
  },
  {
   "cell_type": "markdown",
   "id": "9fe59f88",
   "metadata": {},
   "source": [
    "## LASSO - REGULARIZATION "
   ]
  },
  {
   "cell_type": "code",
   "execution_count": 113,
   "id": "55624416",
   "metadata": {},
   "outputs": [],
   "source": [
    "from sklearn.linear_model import Lasso"
   ]
  },
  {
   "cell_type": "code",
   "execution_count": 114,
   "id": "df7f594e",
   "metadata": {},
   "outputs": [],
   "source": [
    "ls=Lasso()"
   ]
  },
  {
   "cell_type": "code",
   "execution_count": 115,
   "id": "b6d90089",
   "metadata": {},
   "outputs": [
    {
     "name": "stdout",
     "output_type": "stream",
     "text": [
      "At random_state {0} the training accuracy test is 0.8182193987500639\n",
      "At random_state {0} the testing accuracy test is 0.8365337067853652\n",
      "\n",
      "\n",
      "At random_state {1} the training accuracy test is 0.8220468522836325\n",
      "At random_state {1} the testing accuracy test is 0.8379976931766007\n",
      "\n",
      "\n",
      "At random_state {2} the training accuracy test is 0.8371420930657015\n",
      "At random_state {2} the testing accuracy test is 0.7831351478302134\n",
      "\n",
      "\n",
      "At random_state {3} the training accuracy test is 0.8229084386836698\n",
      "At random_state {3} the testing accuracy test is 0.8340537123578817\n",
      "\n",
      "\n",
      "At random_state {4} the training accuracy test is 0.8374345981781428\n",
      "At random_state {4} the testing accuracy test is 0.8217933728043095\n",
      "\n",
      "\n",
      "At random_state {5} the training accuracy test is 0.832305594646714\n",
      "At random_state {5} the testing accuracy test is 0.773087381168469\n",
      "\n",
      "\n",
      "At random_state {6} the training accuracy test is 0.825602135567469\n",
      "At random_state {6} the testing accuracy test is 0.7695464149851389\n",
      "\n",
      "\n",
      "At random_state {7} the training accuracy test is 0.8129388498837957\n",
      "At random_state {7} the testing accuracy test is 0.8262733627259722\n",
      "\n",
      "\n",
      "At random_state {8} the training accuracy test is 0.8245162274824809\n",
      "At random_state {8} the testing accuracy test is 0.7671173979877094\n",
      "\n",
      "\n",
      "At random_state {9} the training accuracy test is 0.8167250539635047\n",
      "At random_state {9} the testing accuracy test is 0.8634037072086937\n",
      "\n",
      "\n",
      "At random_state {10} the training accuracy test is 0.8478878347167281\n",
      "At random_state {10} the testing accuracy test is 0.721839529704919\n",
      "\n",
      "\n",
      "At random_state {11} the training accuracy test is 0.810315165635435\n",
      "At random_state {11} the testing accuracy test is 0.8177660872513255\n",
      "\n",
      "\n",
      "At random_state {12} the training accuracy test is 0.8224652384979129\n",
      "At random_state {12} the testing accuracy test is 0.8251963659524448\n",
      "\n",
      "\n",
      "At random_state {13} the training accuracy test is 0.8401684390040758\n",
      "At random_state {13} the testing accuracy test is 0.7711961887062377\n",
      "\n",
      "\n",
      "At random_state {14} the training accuracy test is 0.7943726581883089\n",
      "At random_state {14} the testing accuracy test is 0.7859991879007031\n",
      "\n",
      "\n",
      "At random_state {15} the training accuracy test is 0.8220867959546834\n",
      "At random_state {15} the testing accuracy test is 0.8267831633812571\n",
      "\n",
      "\n",
      "At random_state {16} the training accuracy test is 0.8162033744354595\n",
      "At random_state {16} the testing accuracy test is 0.8011226850000387\n",
      "\n",
      "\n",
      "At random_state {17} the training accuracy test is 0.8124862813293234\n",
      "At random_state {17} the testing accuracy test is 0.8426825706904474\n",
      "\n",
      "\n",
      "At random_state {18} the training accuracy test is 0.8395926492422168\n",
      "At random_state {18} the testing accuracy test is 0.7528473725435229\n",
      "\n",
      "\n",
      "At random_state {19} the training accuracy test is 0.8261747277908579\n",
      "At random_state {19} the testing accuracy test is 0.864079861385972\n",
      "\n",
      "\n",
      "At random_state {20} the training accuracy test is 0.7969422093720899\n",
      "At random_state {20} the testing accuracy test is 0.7952283776592166\n",
      "\n",
      "\n",
      "At random_state {21} the training accuracy test is 0.8047873485659839\n",
      "At random_state {21} the testing accuracy test is 0.8361092241502955\n",
      "\n",
      "\n",
      "At random_state {22} the training accuracy test is 0.8113076260258559\n",
      "At random_state {22} the testing accuracy test is 0.8728167979234926\n",
      "\n",
      "\n",
      "At random_state {23} the training accuracy test is 0.8094671188529461\n",
      "At random_state {23} the testing accuracy test is 0.8409213983154832\n",
      "\n",
      "\n",
      "At random_state {24} the training accuracy test is 0.8077761706993084\n",
      "At random_state {24} the testing accuracy test is 0.8663549439428839\n",
      "\n",
      "\n",
      "At random_state {25} the training accuracy test is 0.8082103329234134\n",
      "At random_state {25} the testing accuracy test is 0.8507451907249931\n",
      "\n",
      "\n",
      "At random_state {26} the training accuracy test is 0.8444818621668904\n",
      "At random_state {26} the testing accuracy test is 0.8138609300739599\n",
      "\n",
      "\n",
      "At random_state {27} the training accuracy test is 0.8335308814741051\n",
      "At random_state {27} the testing accuracy test is 0.7657295999605193\n",
      "\n",
      "\n",
      "At random_state {28} the training accuracy test is 0.839838679990893\n",
      "At random_state {28} the testing accuracy test is 0.7540652681243731\n",
      "\n",
      "\n",
      "At random_state {29} the training accuracy test is 0.8328462950238408\n",
      "At random_state {29} the testing accuracy test is 0.7871606443427015\n",
      "\n",
      "\n",
      "At random_state {30} the training accuracy test is 0.838621943687371\n",
      "At random_state {30} the testing accuracy test is 0.7661266785305952\n",
      "\n",
      "\n",
      "At random_state {31} the training accuracy test is 0.7979864645171297\n",
      "At random_state {31} the testing accuracy test is 0.8298448563807987\n",
      "\n",
      "\n",
      "At random_state {32} the training accuracy test is 0.8106723011319745\n",
      "At random_state {32} the testing accuracy test is 0.8377495342056032\n",
      "\n",
      "\n",
      "At random_state {33} the training accuracy test is 0.8105872045000243\n",
      "At random_state {33} the testing accuracy test is 0.8583004445217023\n",
      "\n",
      "\n",
      "At random_state {34} the training accuracy test is 0.8276874672269832\n",
      "At random_state {34} the testing accuracy test is 0.8588539022380017\n",
      "\n",
      "\n",
      "At random_state {35} the training accuracy test is 0.8253315759554462\n",
      "At random_state {35} the testing accuracy test is 0.8333781487343146\n",
      "\n",
      "\n",
      "At random_state {36} the training accuracy test is 0.8109734135465381\n",
      "At random_state {36} the testing accuracy test is 0.8353829109715983\n",
      "\n",
      "\n",
      "At random_state {37} the training accuracy test is 0.829783720206966\n",
      "At random_state {37} the testing accuracy test is 0.8548161562562971\n",
      "\n",
      "\n",
      "At random_state {38} the training accuracy test is 0.8193574993393851\n",
      "At random_state {38} the testing accuracy test is 0.8348067515922094\n",
      "\n",
      "\n",
      "At random_state {39} the training accuracy test is 0.8357501613320226\n",
      "At random_state {39} the testing accuracy test is 0.7810251129245949\n",
      "\n",
      "\n",
      "At random_state {40} the training accuracy test is 0.8225921682431608\n",
      "At random_state {40} the testing accuracy test is 0.8647387544386724\n",
      "\n",
      "\n",
      "At random_state {41} the training accuracy test is 0.8217766860494833\n",
      "At random_state {41} the testing accuracy test is 0.7485935280620155\n",
      "\n",
      "\n",
      "At random_state {42} the training accuracy test is 0.8235934520805013\n",
      "At random_state {42} the testing accuracy test is 0.8125060663207053\n",
      "\n",
      "\n",
      "At random_state {43} the training accuracy test is 0.8236072691752994\n",
      "At random_state {43} the testing accuracy test is 0.7972124529369508\n",
      "\n",
      "\n",
      "At random_state {44} the training accuracy test is 0.8408018598417727\n",
      "At random_state {44} the testing accuracy test is 0.8043968613738982\n",
      "\n",
      "\n",
      "At random_state {45} the training accuracy test is 0.83307662854522\n",
      "At random_state {45} the testing accuracy test is 0.8410718762879824\n",
      "\n",
      "\n",
      "At random_state {46} the training accuracy test is 0.8290462018543153\n",
      "At random_state {46} the testing accuracy test is 0.8140064817332977\n",
      "\n",
      "\n",
      "At random_state {47} the training accuracy test is 0.8240405296460825\n",
      "At random_state {47} the testing accuracy test is 0.8502658861508788\n",
      "\n",
      "\n",
      "At random_state {48} the training accuracy test is 0.8284026393405364\n",
      "At random_state {48} the testing accuracy test is 0.8050717092056038\n",
      "\n",
      "\n",
      "At random_state {49} the training accuracy test is 0.8338092731338737\n",
      "At random_state {49} the testing accuracy test is 0.7804902807302211\n",
      "\n",
      "\n",
      "At random_state {50} the training accuracy test is 0.8373305796199444\n",
      "At random_state {50} the testing accuracy test is 0.7995918707221188\n",
      "\n",
      "\n",
      "At random_state {51} the training accuracy test is 0.8188859399862962\n",
      "At random_state {51} the testing accuracy test is 0.8395191828124896\n",
      "\n",
      "\n",
      "At random_state {52} the training accuracy test is 0.8270582722427918\n",
      "At random_state {52} the testing accuracy test is 0.8526531735354466\n",
      "\n",
      "\n",
      "At random_state {53} the training accuracy test is 0.8274866511284159\n",
      "At random_state {53} the testing accuracy test is 0.774012590476876\n",
      "\n",
      "\n",
      "At random_state {54} the training accuracy test is 0.8251049337977586\n",
      "At random_state {54} the testing accuracy test is 0.8027993662669255\n",
      "\n",
      "\n",
      "At random_state {55} the training accuracy test is 0.8176792692493666\n",
      "At random_state {55} the testing accuracy test is 0.8073955999674353\n",
      "\n",
      "\n",
      "At random_state {56} the training accuracy test is 0.8409399326355891\n",
      "At random_state {56} the testing accuracy test is 0.7644695561553239\n",
      "\n",
      "\n",
      "At random_state {57} the training accuracy test is 0.82406782022438\n",
      "At random_state {57} the testing accuracy test is 0.8028991771873386\n",
      "\n",
      "\n",
      "At random_state {58} the training accuracy test is 0.7952422876286264\n",
      "At random_state {58} the testing accuracy test is 0.8329562195047807\n",
      "\n",
      "\n",
      "At random_state {59} the training accuracy test is 0.8134850012663496\n",
      "At random_state {59} the testing accuracy test is 0.8181205368607318\n",
      "\n",
      "\n",
      "At random_state {60} the training accuracy test is 0.811937437396523\n",
      "At random_state {60} the testing accuracy test is 0.7819312705628818\n",
      "\n",
      "\n",
      "At random_state {61} the training accuracy test is 0.8358639592618495\n",
      "At random_state {61} the testing accuracy test is 0.7907747525846341\n",
      "\n",
      "\n",
      "At random_state {62} the training accuracy test is 0.8405823295413474\n",
      "At random_state {62} the testing accuracy test is 0.8240523054655485\n",
      "\n",
      "\n",
      "At random_state {63} the training accuracy test is 0.823200578311994\n",
      "At random_state {63} the testing accuracy test is 0.8237417919371763\n",
      "\n",
      "\n",
      "At random_state {64} the training accuracy test is 0.8118020703826463\n",
      "At random_state {64} the testing accuracy test is 0.8611308332393663\n",
      "\n",
      "\n",
      "At random_state {65} the training accuracy test is 0.8169806097079787\n",
      "At random_state {65} the testing accuracy test is 0.798022853806126\n",
      "\n",
      "\n",
      "At random_state {66} the training accuracy test is 0.8206772639677168\n",
      "At random_state {66} the testing accuracy test is 0.8179173682569113\n",
      "\n",
      "\n",
      "At random_state {67} the training accuracy test is 0.822194071584341\n",
      "At random_state {67} the testing accuracy test is 0.8254016349293111\n",
      "\n",
      "\n",
      "At random_state {68} the training accuracy test is 0.8297118588846879\n",
      "At random_state {68} the testing accuracy test is 0.7939832236762946\n",
      "\n",
      "\n",
      "At random_state {69} the training accuracy test is 0.8182723337506134\n",
      "At random_state {69} the testing accuracy test is 0.8422502321000815\n",
      "\n",
      "\n",
      "At random_state {70} the training accuracy test is 0.806263327086074\n",
      "At random_state {70} the testing accuracy test is 0.8133763496610553\n",
      "\n",
      "\n",
      "At random_state {71} the training accuracy test is 0.8452821122575765\n",
      "At random_state {71} the testing accuracy test is 0.7716164545370612\n",
      "\n",
      "\n",
      "At random_state {72} the training accuracy test is 0.8122504593152222\n",
      "At random_state {72} the testing accuracy test is 0.8476004220310797\n",
      "\n",
      "\n",
      "At random_state {73} the training accuracy test is 0.8270341480773369\n",
      "At random_state {73} the testing accuracy test is 0.8298813073102713\n",
      "\n",
      "\n",
      "At random_state {74} the training accuracy test is 0.7825885165892608\n",
      "At random_state {74} the testing accuracy test is 0.7720947317436625\n",
      "\n",
      "\n",
      "At random_state {75} the training accuracy test is 0.8278563635189921\n",
      "At random_state {75} the testing accuracy test is 0.810663529187374\n",
      "\n",
      "\n",
      "At random_state {76} the training accuracy test is 0.8327513077588504\n",
      "At random_state {76} the testing accuracy test is 0.7724143823587326\n",
      "\n",
      "\n",
      "At random_state {77} the training accuracy test is 0.8167722755665221\n",
      "At random_state {77} the testing accuracy test is 0.874179999923636\n",
      "\n",
      "\n",
      "At random_state {78} the training accuracy test is 0.8491753948937377\n",
      "At random_state {78} the testing accuracy test is 0.7209061276430804\n",
      "\n",
      "\n",
      "At random_state {79} the training accuracy test is 0.8221923759439266\n",
      "At random_state {79} the testing accuracy test is 0.8022873743781129\n",
      "\n",
      "\n",
      "At random_state {80} the training accuracy test is 0.8197362504517482\n",
      "At random_state {80} the testing accuracy test is 0.8588919260262962\n",
      "\n",
      "\n",
      "At random_state {81} the training accuracy test is 0.810435479926001\n",
      "At random_state {81} the testing accuracy test is 0.8469601224550658\n",
      "\n",
      "\n",
      "At random_state {82} the training accuracy test is 0.8298240897840176\n",
      "At random_state {82} the testing accuracy test is 0.783540632272195\n",
      "\n",
      "\n",
      "At random_state {83} the training accuracy test is 0.8129693040176965\n",
      "At random_state {83} the testing accuracy test is 0.7778696334510586\n",
      "\n",
      "\n",
      "At random_state {84} the training accuracy test is 0.8033114979526194\n",
      "At random_state {84} the testing accuracy test is 0.8376099269055677\n",
      "\n",
      "\n",
      "At random_state {85} the training accuracy test is 0.8399977424873188\n",
      "At random_state {85} the testing accuracy test is 0.7021845301928091\n",
      "\n",
      "\n",
      "At random_state {86} the training accuracy test is 0.8206964859147639\n",
      "At random_state {86} the testing accuracy test is 0.8538702454152322\n",
      "\n",
      "\n",
      "At random_state {87} the training accuracy test is 0.8478322832738672\n",
      "At random_state {87} the testing accuracy test is 0.7475537413701498\n",
      "\n",
      "\n",
      "At random_state {88} the training accuracy test is 0.8326425303882119\n",
      "At random_state {88} the testing accuracy test is 0.8037746365650604\n",
      "\n",
      "\n",
      "At random_state {89} the training accuracy test is 0.8366344090972624\n",
      "At random_state {89} the testing accuracy test is 0.8164745934256084\n",
      "\n",
      "\n",
      "At random_state {90} the training accuracy test is 0.8039969995956942\n",
      "At random_state {90} the testing accuracy test is 0.843964970703662\n",
      "\n",
      "\n",
      "At random_state {91} the training accuracy test is 0.8176678640906793\n",
      "At random_state {91} the testing accuracy test is 0.7880368733432722\n",
      "\n",
      "\n",
      "At random_state {92} the training accuracy test is 0.8172605765049878\n",
      "At random_state {92} the testing accuracy test is 0.8074104084571515\n",
      "\n",
      "\n",
      "At random_state {93} the training accuracy test is 0.836960062261017\n",
      "At random_state {93} the testing accuracy test is 0.7583880001286407\n",
      "\n",
      "\n",
      "At random_state {94} the training accuracy test is 0.8269754491219493\n",
      "At random_state {94} the testing accuracy test is 0.7714289283251657\n",
      "\n",
      "\n",
      "At random_state {95} the training accuracy test is 0.8342779238212338\n",
      "At random_state {95} the testing accuracy test is 0.7590031981571507\n",
      "\n",
      "\n",
      "At random_state {96} the training accuracy test is 0.8349881584249002\n",
      "At random_state {96} the testing accuracy test is 0.7985144919202598\n",
      "\n",
      "\n",
      "At random_state {97} the training accuracy test is 0.8233703324218478\n",
      "At random_state {97} the testing accuracy test is 0.8094207044391463\n",
      "\n",
      "\n",
      "At random_state {98} the training accuracy test is 0.8328458448883549\n",
      "At random_state {98} the testing accuracy test is 0.746377522359845\n",
      "\n",
      "\n",
      "At random_state {99} the training accuracy test is 0.8054889316746849\n",
      "At random_state {99} the testing accuracy test is 0.8146784094098047\n",
      "\n",
      "\n"
     ]
    }
   ],
   "source": [
    "for i in range(0,100):\n",
    "    x_train,x_test,y_train,y_test=train_test_split(x1,y,test_size=0.20,random_state=i)\n",
    "    ls.fit(x_train,y_train)\n",
    "    prels=ls.predict(x_train)\n",
    "    prels1=ls.predict(x_test)\n",
    "    print('At random_state' ,{i}, 'the training accuracy test is', r2_score(y_train,prels))\n",
    "    print('At random_state' ,{i}, 'the testing accuracy test is', r2_score(y_test,prels1))\n",
    "    print('\\n')"
   ]
  },
  {
   "cell_type": "markdown",
   "id": "c79c7448",
   "metadata": {},
   "source": [
    "## AT RANDOM_STATE 22 WE HAVE ACHIEVED THE HIGHEST R2_SCORE OF 87.28%,HENCE WE WILL PROCEED WITH THAT"
   ]
  },
  {
   "cell_type": "code",
   "execution_count": 116,
   "id": "e835c213",
   "metadata": {},
   "outputs": [],
   "source": [
    "x_train,x_test,y_train,y_test=train_test_split(x1,y,test_size=0.2,random_state=22)"
   ]
  },
  {
   "cell_type": "code",
   "execution_count": 117,
   "id": "6a6a525f",
   "metadata": {},
   "outputs": [],
   "source": [
    "LS=Lasso()"
   ]
  },
  {
   "cell_type": "code",
   "execution_count": 118,
   "id": "98b3d4b7",
   "metadata": {},
   "outputs": [
    {
     "data": {
      "text/html": [
       "<style>#sk-container-id-7 {color: black;background-color: white;}#sk-container-id-7 pre{padding: 0;}#sk-container-id-7 div.sk-toggleable {background-color: white;}#sk-container-id-7 label.sk-toggleable__label {cursor: pointer;display: block;width: 100%;margin-bottom: 0;padding: 0.3em;box-sizing: border-box;text-align: center;}#sk-container-id-7 label.sk-toggleable__label-arrow:before {content: \"▸\";float: left;margin-right: 0.25em;color: #696969;}#sk-container-id-7 label.sk-toggleable__label-arrow:hover:before {color: black;}#sk-container-id-7 div.sk-estimator:hover label.sk-toggleable__label-arrow:before {color: black;}#sk-container-id-7 div.sk-toggleable__content {max-height: 0;max-width: 0;overflow: hidden;text-align: left;background-color: #f0f8ff;}#sk-container-id-7 div.sk-toggleable__content pre {margin: 0.2em;color: black;border-radius: 0.25em;background-color: #f0f8ff;}#sk-container-id-7 input.sk-toggleable__control:checked~div.sk-toggleable__content {max-height: 200px;max-width: 100%;overflow: auto;}#sk-container-id-7 input.sk-toggleable__control:checked~label.sk-toggleable__label-arrow:before {content: \"▾\";}#sk-container-id-7 div.sk-estimator input.sk-toggleable__control:checked~label.sk-toggleable__label {background-color: #d4ebff;}#sk-container-id-7 div.sk-label input.sk-toggleable__control:checked~label.sk-toggleable__label {background-color: #d4ebff;}#sk-container-id-7 input.sk-hidden--visually {border: 0;clip: rect(1px 1px 1px 1px);clip: rect(1px, 1px, 1px, 1px);height: 1px;margin: -1px;overflow: hidden;padding: 0;position: absolute;width: 1px;}#sk-container-id-7 div.sk-estimator {font-family: monospace;background-color: #f0f8ff;border: 1px dotted black;border-radius: 0.25em;box-sizing: border-box;margin-bottom: 0.5em;}#sk-container-id-7 div.sk-estimator:hover {background-color: #d4ebff;}#sk-container-id-7 div.sk-parallel-item::after {content: \"\";width: 100%;border-bottom: 1px solid gray;flex-grow: 1;}#sk-container-id-7 div.sk-label:hover label.sk-toggleable__label {background-color: #d4ebff;}#sk-container-id-7 div.sk-serial::before {content: \"\";position: absolute;border-left: 1px solid gray;box-sizing: border-box;top: 0;bottom: 0;left: 50%;z-index: 0;}#sk-container-id-7 div.sk-serial {display: flex;flex-direction: column;align-items: center;background-color: white;padding-right: 0.2em;padding-left: 0.2em;position: relative;}#sk-container-id-7 div.sk-item {position: relative;z-index: 1;}#sk-container-id-7 div.sk-parallel {display: flex;align-items: stretch;justify-content: center;background-color: white;position: relative;}#sk-container-id-7 div.sk-item::before, #sk-container-id-7 div.sk-parallel-item::before {content: \"\";position: absolute;border-left: 1px solid gray;box-sizing: border-box;top: 0;bottom: 0;left: 50%;z-index: -1;}#sk-container-id-7 div.sk-parallel-item {display: flex;flex-direction: column;z-index: 1;position: relative;background-color: white;}#sk-container-id-7 div.sk-parallel-item:first-child::after {align-self: flex-end;width: 50%;}#sk-container-id-7 div.sk-parallel-item:last-child::after {align-self: flex-start;width: 50%;}#sk-container-id-7 div.sk-parallel-item:only-child::after {width: 0;}#sk-container-id-7 div.sk-dashed-wrapped {border: 1px dashed gray;margin: 0 0.4em 0.5em 0.4em;box-sizing: border-box;padding-bottom: 0.4em;background-color: white;}#sk-container-id-7 div.sk-label label {font-family: monospace;font-weight: bold;display: inline-block;line-height: 1.2em;}#sk-container-id-7 div.sk-label-container {text-align: center;}#sk-container-id-7 div.sk-container {/* jupyter's `normalize.less` sets `[hidden] { display: none; }` but bootstrap.min.css set `[hidden] { display: none !important; }` so we also need the `!important` here to be able to override the default hidden behavior on the sphinx rendered scikit-learn.org. See: https://github.com/scikit-learn/scikit-learn/issues/21755 */display: inline-block !important;position: relative;}#sk-container-id-7 div.sk-text-repr-fallback {display: none;}</style><div id=\"sk-container-id-7\" class=\"sk-top-container\"><div class=\"sk-text-repr-fallback\"><pre>Lasso()</pre><b>In a Jupyter environment, please rerun this cell to show the HTML representation or trust the notebook. <br />On GitHub, the HTML representation is unable to render, please try loading this page with nbviewer.org.</b></div><div class=\"sk-container\" hidden><div class=\"sk-item\"><div class=\"sk-estimator sk-toggleable\"><input class=\"sk-toggleable__control sk-hidden--visually\" id=\"sk-estimator-id-7\" type=\"checkbox\" checked><label for=\"sk-estimator-id-7\" class=\"sk-toggleable__label sk-toggleable__label-arrow\">Lasso</label><div class=\"sk-toggleable__content\"><pre>Lasso()</pre></div></div></div></div></div>"
      ],
      "text/plain": [
       "Lasso()"
      ]
     },
     "execution_count": 118,
     "metadata": {},
     "output_type": "execute_result"
    }
   ],
   "source": [
    "LS.fit(x_train,y_train)"
   ]
  },
  {
   "cell_type": "code",
   "execution_count": 119,
   "id": "4530ef60",
   "metadata": {},
   "outputs": [],
   "source": [
    "PRELS=LS.predict(x_test)"
   ]
  },
  {
   "cell_type": "code",
   "execution_count": 120,
   "id": "fe2f4eb9",
   "metadata": {},
   "outputs": [
    {
     "name": "stdout",
     "output_type": "stream",
     "text": [
      "0.8728167979234926\n"
     ]
    }
   ],
   "source": [
    "print(r2_score(y_test,PRELS))"
   ]
  },
  {
   "cell_type": "code",
   "execution_count": 121,
   "id": "9271db64",
   "metadata": {},
   "outputs": [
    {
     "name": "stdout",
     "output_type": "stream",
     "text": [
      "3.565071542511562\n"
     ]
    }
   ],
   "source": [
    "print(mean_squared_error(y_test,PRELS))"
   ]
  },
  {
   "cell_type": "code",
   "execution_count": 125,
   "id": "bf649578",
   "metadata": {},
   "outputs": [
    {
     "name": "stdout",
     "output_type": "stream",
     "text": [
      "1.356896032348084\n"
     ]
    }
   ],
   "source": [
    "print(mean_absolute_error(y_test,PRELS))"
   ]
  },
  {
   "cell_type": "code",
   "execution_count": 175,
   "id": "dee20b85",
   "metadata": {},
   "outputs": [
    {
     "name": "stdout",
     "output_type": "stream",
     "text": [
      "1.8881397041828134\n"
     ]
    }
   ],
   "source": [
    "print(sqrt(mean_squared_error(y_test,PRELS)))"
   ]
  },
  {
   "cell_type": "markdown",
   "id": "b7fdf5a7",
   "metadata": {},
   "source": [
    "## CROSS VAL SCORE"
   ]
  },
  {
   "cell_type": "code",
   "execution_count": 211,
   "id": "2ff1de04",
   "metadata": {},
   "outputs": [],
   "source": [
    "from sklearn.model_selection import cross_val_score"
   ]
  },
  {
   "cell_type": "code",
   "execution_count": 215,
   "id": "a7f0263f",
   "metadata": {},
   "outputs": [
    {
     "name": "stdout",
     "output_type": "stream",
     "text": [
      "CV is 0.8855266260381282\n",
      "CV is 0.9168539347597647\n",
      "CV is 0.9512070950926823\n",
      "CV is 0.942525208572151\n",
      "CV is 0.9789192704535872\n",
      "CV is 0.9791116023367257\n"
     ]
    }
   ],
   "source": [
    "for m in [LR,SVR,DTC,KNN,RM,XGB]:\n",
    "    cv=cross_val_score(m,x1,y,cv=10)\n",
    "    print('CV','is',(cv.mean()))"
   ]
  },
  {
   "cell_type": "markdown",
   "id": "c223e667",
   "metadata": {},
   "source": [
    "### R2 SCORE OF LR-94.70"
   ]
  },
  {
   "cell_type": "markdown",
   "id": "281fa291",
   "metadata": {},
   "source": [
    "### R2 SCORE OF SVR-95.16"
   ]
  },
  {
   "cell_type": "markdown",
   "id": "81147f78",
   "metadata": {},
   "source": [
    "### R2 SCORE OF DTC-97.69"
   ]
  },
  {
   "cell_type": "markdown",
   "id": "78f40101",
   "metadata": {},
   "source": [
    "### R2 SCORE OF KNN-96.98"
   ]
  },
  {
   "cell_type": "markdown",
   "id": "99899a33",
   "metadata": {},
   "source": [
    "### R2 SCORE OF RM-98.96"
   ]
  },
  {
   "cell_type": "markdown",
   "id": "9d8911a6",
   "metadata": {},
   "source": [
    "### R2 SCORE OF XGB-99.08"
   ]
  },
  {
   "cell_type": "markdown",
   "id": "f95bd084",
   "metadata": {},
   "source": [
    "## CASES OF SLIGHT OVERFITTING IN ALL THE MODELS "
   ]
  },
  {
   "cell_type": "code",
   "execution_count": 216,
   "id": "9afe1659",
   "metadata": {},
   "outputs": [
    {
     "data": {
      "text/plain": [
       "6.150000000000006"
      ]
     },
     "execution_count": 216,
     "metadata": {},
     "output_type": "execute_result"
    }
   ],
   "source": [
    "(94.70-88.55)"
   ]
  },
  {
   "cell_type": "code",
   "execution_count": 217,
   "id": "7c0cb485",
   "metadata": {},
   "outputs": [
    {
     "data": {
      "text/plain": [
       "3.4799999999999898"
      ]
     },
     "execution_count": 217,
     "metadata": {},
     "output_type": "execute_result"
    }
   ],
   "source": [
    "(95.16-91.68)"
   ]
  },
  {
   "cell_type": "code",
   "execution_count": 231,
   "id": "fd8e390b",
   "metadata": {},
   "outputs": [
    {
     "data": {
      "text/plain": [
       "2.569999999999993"
      ]
     },
     "execution_count": 231,
     "metadata": {},
     "output_type": "execute_result"
    }
   ],
   "source": [
    "(97.69-95.12)"
   ]
  },
  {
   "cell_type": "code",
   "execution_count": 219,
   "id": "0256bbf2",
   "metadata": {},
   "outputs": [
    {
     "data": {
      "text/plain": [
       "2.730000000000004"
      ]
     },
     "execution_count": 219,
     "metadata": {},
     "output_type": "execute_result"
    }
   ],
   "source": [
    "(96.98-94.25)"
   ]
  },
  {
   "cell_type": "code",
   "execution_count": 229,
   "id": "9a3e3238",
   "metadata": {},
   "outputs": [
    {
     "data": {
      "text/plain": [
       "1.0699999999999932"
      ]
     },
     "execution_count": 229,
     "metadata": {},
     "output_type": "execute_result"
    }
   ],
   "source": [
    "(98.96-97.89)"
   ]
  },
  {
   "cell_type": "code",
   "execution_count": 230,
   "id": "6c77b7c5",
   "metadata": {},
   "outputs": [
    {
     "data": {
      "text/plain": [
       "1.1700000000000017"
      ]
     },
     "execution_count": 230,
     "metadata": {},
     "output_type": "execute_result"
    }
   ],
   "source": [
    "(99.08-97.91)"
   ]
  },
  {
   "cell_type": "markdown",
   "id": "49341ccd",
   "metadata": {},
   "source": [
    "## RANDOM FOREST REGRESSOR HAS THE LEAST DIFFERENCE BETWEEN CROSS VAL MEAN SCORE(RM) AND RM MODEL, HENCE WE WILL HYPER THIS ALONG WITH GRADIENTBOOSTING REGRESSOR AS THE ACCURACY IS HIGHER AND THE DIFFERENCE BETWEEN THE 2 MODELS IS HARDLY 0.17"
   ]
  },
  {
   "cell_type": "markdown",
   "id": "a0cf6583",
   "metadata": {},
   "source": [
    "## GRID SEARCH -HYPER TUNING  -RANDOM FOREST REGRESSOR"
   ]
  },
  {
   "cell_type": "code",
   "execution_count": 126,
   "id": "0c1b8ad9",
   "metadata": {},
   "outputs": [],
   "source": [
    "RM=RandomForestRegressor()"
   ]
  },
  {
   "cell_type": "code",
   "execution_count": 141,
   "id": "6985ea76",
   "metadata": {},
   "outputs": [],
   "source": [
    "dd={'n_estimators':[50,100,150],'max_features':['log2','sqrt','auto'],'criterion':['squared_error','absolute_error','poisson'],'min_samples_split':[2,3,4,5],'random_state':list(range(10))}"
   ]
  },
  {
   "cell_type": "code",
   "execution_count": 142,
   "id": "bc350967",
   "metadata": {},
   "outputs": [],
   "source": [
    "gd=GridSearchCV(RM,dd,cv=10,scoring='accuracy')"
   ]
  },
  {
   "cell_type": "code",
   "execution_count": 143,
   "id": "07fd822f",
   "metadata": {},
   "outputs": [
    {
     "data": {
      "text/html": [
       "<style>#sk-container-id-8 {color: black;background-color: white;}#sk-container-id-8 pre{padding: 0;}#sk-container-id-8 div.sk-toggleable {background-color: white;}#sk-container-id-8 label.sk-toggleable__label {cursor: pointer;display: block;width: 100%;margin-bottom: 0;padding: 0.3em;box-sizing: border-box;text-align: center;}#sk-container-id-8 label.sk-toggleable__label-arrow:before {content: \"▸\";float: left;margin-right: 0.25em;color: #696969;}#sk-container-id-8 label.sk-toggleable__label-arrow:hover:before {color: black;}#sk-container-id-8 div.sk-estimator:hover label.sk-toggleable__label-arrow:before {color: black;}#sk-container-id-8 div.sk-toggleable__content {max-height: 0;max-width: 0;overflow: hidden;text-align: left;background-color: #f0f8ff;}#sk-container-id-8 div.sk-toggleable__content pre {margin: 0.2em;color: black;border-radius: 0.25em;background-color: #f0f8ff;}#sk-container-id-8 input.sk-toggleable__control:checked~div.sk-toggleable__content {max-height: 200px;max-width: 100%;overflow: auto;}#sk-container-id-8 input.sk-toggleable__control:checked~label.sk-toggleable__label-arrow:before {content: \"▾\";}#sk-container-id-8 div.sk-estimator input.sk-toggleable__control:checked~label.sk-toggleable__label {background-color: #d4ebff;}#sk-container-id-8 div.sk-label input.sk-toggleable__control:checked~label.sk-toggleable__label {background-color: #d4ebff;}#sk-container-id-8 input.sk-hidden--visually {border: 0;clip: rect(1px 1px 1px 1px);clip: rect(1px, 1px, 1px, 1px);height: 1px;margin: -1px;overflow: hidden;padding: 0;position: absolute;width: 1px;}#sk-container-id-8 div.sk-estimator {font-family: monospace;background-color: #f0f8ff;border: 1px dotted black;border-radius: 0.25em;box-sizing: border-box;margin-bottom: 0.5em;}#sk-container-id-8 div.sk-estimator:hover {background-color: #d4ebff;}#sk-container-id-8 div.sk-parallel-item::after {content: \"\";width: 100%;border-bottom: 1px solid gray;flex-grow: 1;}#sk-container-id-8 div.sk-label:hover label.sk-toggleable__label {background-color: #d4ebff;}#sk-container-id-8 div.sk-serial::before {content: \"\";position: absolute;border-left: 1px solid gray;box-sizing: border-box;top: 0;bottom: 0;left: 50%;z-index: 0;}#sk-container-id-8 div.sk-serial {display: flex;flex-direction: column;align-items: center;background-color: white;padding-right: 0.2em;padding-left: 0.2em;position: relative;}#sk-container-id-8 div.sk-item {position: relative;z-index: 1;}#sk-container-id-8 div.sk-parallel {display: flex;align-items: stretch;justify-content: center;background-color: white;position: relative;}#sk-container-id-8 div.sk-item::before, #sk-container-id-8 div.sk-parallel-item::before {content: \"\";position: absolute;border-left: 1px solid gray;box-sizing: border-box;top: 0;bottom: 0;left: 50%;z-index: -1;}#sk-container-id-8 div.sk-parallel-item {display: flex;flex-direction: column;z-index: 1;position: relative;background-color: white;}#sk-container-id-8 div.sk-parallel-item:first-child::after {align-self: flex-end;width: 50%;}#sk-container-id-8 div.sk-parallel-item:last-child::after {align-self: flex-start;width: 50%;}#sk-container-id-8 div.sk-parallel-item:only-child::after {width: 0;}#sk-container-id-8 div.sk-dashed-wrapped {border: 1px dashed gray;margin: 0 0.4em 0.5em 0.4em;box-sizing: border-box;padding-bottom: 0.4em;background-color: white;}#sk-container-id-8 div.sk-label label {font-family: monospace;font-weight: bold;display: inline-block;line-height: 1.2em;}#sk-container-id-8 div.sk-label-container {text-align: center;}#sk-container-id-8 div.sk-container {/* jupyter's `normalize.less` sets `[hidden] { display: none; }` but bootstrap.min.css set `[hidden] { display: none !important; }` so we also need the `!important` here to be able to override the default hidden behavior on the sphinx rendered scikit-learn.org. See: https://github.com/scikit-learn/scikit-learn/issues/21755 */display: inline-block !important;position: relative;}#sk-container-id-8 div.sk-text-repr-fallback {display: none;}</style><div id=\"sk-container-id-8\" class=\"sk-top-container\"><div class=\"sk-text-repr-fallback\"><pre>GridSearchCV(cv=10, estimator=RandomForestRegressor(),\n",
       "             param_grid={&#x27;criterion&#x27;: [&#x27;squared_error&#x27;, &#x27;absolute_error&#x27;,\n",
       "                                       &#x27;poisson&#x27;],\n",
       "                         &#x27;max_features&#x27;: [&#x27;log2&#x27;, &#x27;sqrt&#x27;, &#x27;auto&#x27;],\n",
       "                         &#x27;min_samples_split&#x27;: [2, 3, 4, 5],\n",
       "                         &#x27;n_estimators&#x27;: [50, 100, 150],\n",
       "                         &#x27;random_state&#x27;: [0, 1, 2, 3, 4, 5, 6, 7, 8, 9]},\n",
       "             scoring=&#x27;accuracy&#x27;)</pre><b>In a Jupyter environment, please rerun this cell to show the HTML representation or trust the notebook. <br />On GitHub, the HTML representation is unable to render, please try loading this page with nbviewer.org.</b></div><div class=\"sk-container\" hidden><div class=\"sk-item sk-dashed-wrapped\"><div class=\"sk-label-container\"><div class=\"sk-label sk-toggleable\"><input class=\"sk-toggleable__control sk-hidden--visually\" id=\"sk-estimator-id-8\" type=\"checkbox\" ><label for=\"sk-estimator-id-8\" class=\"sk-toggleable__label sk-toggleable__label-arrow\">GridSearchCV</label><div class=\"sk-toggleable__content\"><pre>GridSearchCV(cv=10, estimator=RandomForestRegressor(),\n",
       "             param_grid={&#x27;criterion&#x27;: [&#x27;squared_error&#x27;, &#x27;absolute_error&#x27;,\n",
       "                                       &#x27;poisson&#x27;],\n",
       "                         &#x27;max_features&#x27;: [&#x27;log2&#x27;, &#x27;sqrt&#x27;, &#x27;auto&#x27;],\n",
       "                         &#x27;min_samples_split&#x27;: [2, 3, 4, 5],\n",
       "                         &#x27;n_estimators&#x27;: [50, 100, 150],\n",
       "                         &#x27;random_state&#x27;: [0, 1, 2, 3, 4, 5, 6, 7, 8, 9]},\n",
       "             scoring=&#x27;accuracy&#x27;)</pre></div></div></div><div class=\"sk-parallel\"><div class=\"sk-parallel-item\"><div class=\"sk-item\"><div class=\"sk-label-container\"><div class=\"sk-label sk-toggleable\"><input class=\"sk-toggleable__control sk-hidden--visually\" id=\"sk-estimator-id-9\" type=\"checkbox\" ><label for=\"sk-estimator-id-9\" class=\"sk-toggleable__label sk-toggleable__label-arrow\">estimator: RandomForestRegressor</label><div class=\"sk-toggleable__content\"><pre>RandomForestRegressor()</pre></div></div></div><div class=\"sk-serial\"><div class=\"sk-item\"><div class=\"sk-estimator sk-toggleable\"><input class=\"sk-toggleable__control sk-hidden--visually\" id=\"sk-estimator-id-10\" type=\"checkbox\" ><label for=\"sk-estimator-id-10\" class=\"sk-toggleable__label sk-toggleable__label-arrow\">RandomForestRegressor</label><div class=\"sk-toggleable__content\"><pre>RandomForestRegressor()</pre></div></div></div></div></div></div></div></div></div></div>"
      ],
      "text/plain": [
       "GridSearchCV(cv=10, estimator=RandomForestRegressor(),\n",
       "             param_grid={'criterion': ['squared_error', 'absolute_error',\n",
       "                                       'poisson'],\n",
       "                         'max_features': ['log2', 'sqrt', 'auto'],\n",
       "                         'min_samples_split': [2, 3, 4, 5],\n",
       "                         'n_estimators': [50, 100, 150],\n",
       "                         'random_state': [0, 1, 2, 3, 4, 5, 6, 7, 8, 9]},\n",
       "             scoring='accuracy')"
      ]
     },
     "execution_count": 143,
     "metadata": {},
     "output_type": "execute_result"
    }
   ],
   "source": [
    "gd.fit(x_train,y_train)"
   ]
  },
  {
   "cell_type": "code",
   "execution_count": 144,
   "id": "7e44d4f3",
   "metadata": {},
   "outputs": [
    {
     "data": {
      "text/plain": [
       "{'criterion': 'squared_error',\n",
       " 'max_features': 'log2',\n",
       " 'min_samples_split': 2,\n",
       " 'n_estimators': 50,\n",
       " 'random_state': 0}"
      ]
     },
     "execution_count": 144,
     "metadata": {},
     "output_type": "execute_result"
    }
   ],
   "source": [
    "gd.best_params_"
   ]
  },
  {
   "cell_type": "code",
   "execution_count": 146,
   "id": "62bf234a",
   "metadata": {},
   "outputs": [],
   "source": [
    "RM1=RandomForestRegressor(criterion='squared_error',max_features='log2',min_samples_split=2,n_estimators=50,random_state=0)"
   ]
  },
  {
   "cell_type": "code",
   "execution_count": 147,
   "id": "80ca0906",
   "metadata": {},
   "outputs": [
    {
     "data": {
      "text/html": [
       "<style>#sk-container-id-9 {color: black;background-color: white;}#sk-container-id-9 pre{padding: 0;}#sk-container-id-9 div.sk-toggleable {background-color: white;}#sk-container-id-9 label.sk-toggleable__label {cursor: pointer;display: block;width: 100%;margin-bottom: 0;padding: 0.3em;box-sizing: border-box;text-align: center;}#sk-container-id-9 label.sk-toggleable__label-arrow:before {content: \"▸\";float: left;margin-right: 0.25em;color: #696969;}#sk-container-id-9 label.sk-toggleable__label-arrow:hover:before {color: black;}#sk-container-id-9 div.sk-estimator:hover label.sk-toggleable__label-arrow:before {color: black;}#sk-container-id-9 div.sk-toggleable__content {max-height: 0;max-width: 0;overflow: hidden;text-align: left;background-color: #f0f8ff;}#sk-container-id-9 div.sk-toggleable__content pre {margin: 0.2em;color: black;border-radius: 0.25em;background-color: #f0f8ff;}#sk-container-id-9 input.sk-toggleable__control:checked~div.sk-toggleable__content {max-height: 200px;max-width: 100%;overflow: auto;}#sk-container-id-9 input.sk-toggleable__control:checked~label.sk-toggleable__label-arrow:before {content: \"▾\";}#sk-container-id-9 div.sk-estimator input.sk-toggleable__control:checked~label.sk-toggleable__label {background-color: #d4ebff;}#sk-container-id-9 div.sk-label input.sk-toggleable__control:checked~label.sk-toggleable__label {background-color: #d4ebff;}#sk-container-id-9 input.sk-hidden--visually {border: 0;clip: rect(1px 1px 1px 1px);clip: rect(1px, 1px, 1px, 1px);height: 1px;margin: -1px;overflow: hidden;padding: 0;position: absolute;width: 1px;}#sk-container-id-9 div.sk-estimator {font-family: monospace;background-color: #f0f8ff;border: 1px dotted black;border-radius: 0.25em;box-sizing: border-box;margin-bottom: 0.5em;}#sk-container-id-9 div.sk-estimator:hover {background-color: #d4ebff;}#sk-container-id-9 div.sk-parallel-item::after {content: \"\";width: 100%;border-bottom: 1px solid gray;flex-grow: 1;}#sk-container-id-9 div.sk-label:hover label.sk-toggleable__label {background-color: #d4ebff;}#sk-container-id-9 div.sk-serial::before {content: \"\";position: absolute;border-left: 1px solid gray;box-sizing: border-box;top: 0;bottom: 0;left: 50%;z-index: 0;}#sk-container-id-9 div.sk-serial {display: flex;flex-direction: column;align-items: center;background-color: white;padding-right: 0.2em;padding-left: 0.2em;position: relative;}#sk-container-id-9 div.sk-item {position: relative;z-index: 1;}#sk-container-id-9 div.sk-parallel {display: flex;align-items: stretch;justify-content: center;background-color: white;position: relative;}#sk-container-id-9 div.sk-item::before, #sk-container-id-9 div.sk-parallel-item::before {content: \"\";position: absolute;border-left: 1px solid gray;box-sizing: border-box;top: 0;bottom: 0;left: 50%;z-index: -1;}#sk-container-id-9 div.sk-parallel-item {display: flex;flex-direction: column;z-index: 1;position: relative;background-color: white;}#sk-container-id-9 div.sk-parallel-item:first-child::after {align-self: flex-end;width: 50%;}#sk-container-id-9 div.sk-parallel-item:last-child::after {align-self: flex-start;width: 50%;}#sk-container-id-9 div.sk-parallel-item:only-child::after {width: 0;}#sk-container-id-9 div.sk-dashed-wrapped {border: 1px dashed gray;margin: 0 0.4em 0.5em 0.4em;box-sizing: border-box;padding-bottom: 0.4em;background-color: white;}#sk-container-id-9 div.sk-label label {font-family: monospace;font-weight: bold;display: inline-block;line-height: 1.2em;}#sk-container-id-9 div.sk-label-container {text-align: center;}#sk-container-id-9 div.sk-container {/* jupyter's `normalize.less` sets `[hidden] { display: none; }` but bootstrap.min.css set `[hidden] { display: none !important; }` so we also need the `!important` here to be able to override the default hidden behavior on the sphinx rendered scikit-learn.org. See: https://github.com/scikit-learn/scikit-learn/issues/21755 */display: inline-block !important;position: relative;}#sk-container-id-9 div.sk-text-repr-fallback {display: none;}</style><div id=\"sk-container-id-9\" class=\"sk-top-container\"><div class=\"sk-text-repr-fallback\"><pre>RandomForestRegressor(max_features=&#x27;log2&#x27;, n_estimators=50, random_state=0)</pre><b>In a Jupyter environment, please rerun this cell to show the HTML representation or trust the notebook. <br />On GitHub, the HTML representation is unable to render, please try loading this page with nbviewer.org.</b></div><div class=\"sk-container\" hidden><div class=\"sk-item\"><div class=\"sk-estimator sk-toggleable\"><input class=\"sk-toggleable__control sk-hidden--visually\" id=\"sk-estimator-id-11\" type=\"checkbox\" checked><label for=\"sk-estimator-id-11\" class=\"sk-toggleable__label sk-toggleable__label-arrow\">RandomForestRegressor</label><div class=\"sk-toggleable__content\"><pre>RandomForestRegressor(max_features=&#x27;log2&#x27;, n_estimators=50, random_state=0)</pre></div></div></div></div></div>"
      ],
      "text/plain": [
       "RandomForestRegressor(max_features='log2', n_estimators=50, random_state=0)"
      ]
     },
     "execution_count": 147,
     "metadata": {},
     "output_type": "execute_result"
    }
   ],
   "source": [
    "RM1.fit(x_train,y_train)"
   ]
  },
  {
   "cell_type": "code",
   "execution_count": 148,
   "id": "f71d41b5",
   "metadata": {},
   "outputs": [],
   "source": [
    "PRERM=RM1.predict(x_test)"
   ]
  },
  {
   "cell_type": "code",
   "execution_count": 149,
   "id": "35bf894b",
   "metadata": {},
   "outputs": [
    {
     "name": "stdout",
     "output_type": "stream",
     "text": [
      "0.9410841436900539\n"
     ]
    }
   ],
   "source": [
    "print(r2_score(y_test,PRERM))"
   ]
  },
  {
   "cell_type": "code",
   "execution_count": 150,
   "id": "0c59b60e",
   "metadata": {},
   "outputs": [
    {
     "name": "stdout",
     "output_type": "stream",
     "text": [
      "1.651469999999998\n"
     ]
    }
   ],
   "source": [
    "print(mean_squared_error(y_test,PRERM))"
   ]
  },
  {
   "cell_type": "code",
   "execution_count": 151,
   "id": "149d5f65",
   "metadata": {},
   "outputs": [
    {
     "name": "stdout",
     "output_type": "stream",
     "text": [
      "0.9793999999999994\n"
     ]
    }
   ],
   "source": [
    "print(mean_absolute_error(y_test,PRERM))"
   ]
  },
  {
   "cell_type": "code",
   "execution_count": 171,
   "id": "979058b6",
   "metadata": {},
   "outputs": [
    {
     "name": "stdout",
     "output_type": "stream",
     "text": [
      "1.2850953272033938\n"
     ]
    }
   ],
   "source": [
    "print(sqrt(mean_squared_error(y_test,PRERM)))"
   ]
  },
  {
   "cell_type": "markdown",
   "id": "72fad840",
   "metadata": {},
   "source": [
    "### NO SUCH IMPROVEMENT IN THE MODEL "
   ]
  },
  {
   "cell_type": "markdown",
   "id": "bb9a4ae2",
   "metadata": {},
   "source": [
    "## GRID SEARCH OF GRADIENT BOOSTING REGRESSOR "
   ]
  },
  {
   "cell_type": "code",
   "execution_count": 152,
   "id": "81f5965f",
   "metadata": {},
   "outputs": [],
   "source": [
    "XGB=GradientBoostingRegressor()"
   ]
  },
  {
   "cell_type": "code",
   "execution_count": 153,
   "id": "b819bb4d",
   "metadata": {},
   "outputs": [],
   "source": [
    "dd1={'loss':['squared_error','absolute_error','huber','quantile'],'n_estimators':[50,100,150,200],'criterion':['friedman_mse','squared_error','mse'],'min_samples_split':[2,3,4,5,6],'max_features':['auto','sqrt','log2','None']}"
   ]
  },
  {
   "cell_type": "code",
   "execution_count": 154,
   "id": "a0b17ff1",
   "metadata": {},
   "outputs": [],
   "source": [
    "gr=GridSearchCV(XGB,dd1,cv=10,scoring='accuracy')"
   ]
  },
  {
   "cell_type": "code",
   "execution_count": 155,
   "id": "43557140",
   "metadata": {},
   "outputs": [
    {
     "data": {
      "text/html": [
       "<style>#sk-container-id-10 {color: black;background-color: white;}#sk-container-id-10 pre{padding: 0;}#sk-container-id-10 div.sk-toggleable {background-color: white;}#sk-container-id-10 label.sk-toggleable__label {cursor: pointer;display: block;width: 100%;margin-bottom: 0;padding: 0.3em;box-sizing: border-box;text-align: center;}#sk-container-id-10 label.sk-toggleable__label-arrow:before {content: \"▸\";float: left;margin-right: 0.25em;color: #696969;}#sk-container-id-10 label.sk-toggleable__label-arrow:hover:before {color: black;}#sk-container-id-10 div.sk-estimator:hover label.sk-toggleable__label-arrow:before {color: black;}#sk-container-id-10 div.sk-toggleable__content {max-height: 0;max-width: 0;overflow: hidden;text-align: left;background-color: #f0f8ff;}#sk-container-id-10 div.sk-toggleable__content pre {margin: 0.2em;color: black;border-radius: 0.25em;background-color: #f0f8ff;}#sk-container-id-10 input.sk-toggleable__control:checked~div.sk-toggleable__content {max-height: 200px;max-width: 100%;overflow: auto;}#sk-container-id-10 input.sk-toggleable__control:checked~label.sk-toggleable__label-arrow:before {content: \"▾\";}#sk-container-id-10 div.sk-estimator input.sk-toggleable__control:checked~label.sk-toggleable__label {background-color: #d4ebff;}#sk-container-id-10 div.sk-label input.sk-toggleable__control:checked~label.sk-toggleable__label {background-color: #d4ebff;}#sk-container-id-10 input.sk-hidden--visually {border: 0;clip: rect(1px 1px 1px 1px);clip: rect(1px, 1px, 1px, 1px);height: 1px;margin: -1px;overflow: hidden;padding: 0;position: absolute;width: 1px;}#sk-container-id-10 div.sk-estimator {font-family: monospace;background-color: #f0f8ff;border: 1px dotted black;border-radius: 0.25em;box-sizing: border-box;margin-bottom: 0.5em;}#sk-container-id-10 div.sk-estimator:hover {background-color: #d4ebff;}#sk-container-id-10 div.sk-parallel-item::after {content: \"\";width: 100%;border-bottom: 1px solid gray;flex-grow: 1;}#sk-container-id-10 div.sk-label:hover label.sk-toggleable__label {background-color: #d4ebff;}#sk-container-id-10 div.sk-serial::before {content: \"\";position: absolute;border-left: 1px solid gray;box-sizing: border-box;top: 0;bottom: 0;left: 50%;z-index: 0;}#sk-container-id-10 div.sk-serial {display: flex;flex-direction: column;align-items: center;background-color: white;padding-right: 0.2em;padding-left: 0.2em;position: relative;}#sk-container-id-10 div.sk-item {position: relative;z-index: 1;}#sk-container-id-10 div.sk-parallel {display: flex;align-items: stretch;justify-content: center;background-color: white;position: relative;}#sk-container-id-10 div.sk-item::before, #sk-container-id-10 div.sk-parallel-item::before {content: \"\";position: absolute;border-left: 1px solid gray;box-sizing: border-box;top: 0;bottom: 0;left: 50%;z-index: -1;}#sk-container-id-10 div.sk-parallel-item {display: flex;flex-direction: column;z-index: 1;position: relative;background-color: white;}#sk-container-id-10 div.sk-parallel-item:first-child::after {align-self: flex-end;width: 50%;}#sk-container-id-10 div.sk-parallel-item:last-child::after {align-self: flex-start;width: 50%;}#sk-container-id-10 div.sk-parallel-item:only-child::after {width: 0;}#sk-container-id-10 div.sk-dashed-wrapped {border: 1px dashed gray;margin: 0 0.4em 0.5em 0.4em;box-sizing: border-box;padding-bottom: 0.4em;background-color: white;}#sk-container-id-10 div.sk-label label {font-family: monospace;font-weight: bold;display: inline-block;line-height: 1.2em;}#sk-container-id-10 div.sk-label-container {text-align: center;}#sk-container-id-10 div.sk-container {/* jupyter's `normalize.less` sets `[hidden] { display: none; }` but bootstrap.min.css set `[hidden] { display: none !important; }` so we also need the `!important` here to be able to override the default hidden behavior on the sphinx rendered scikit-learn.org. See: https://github.com/scikit-learn/scikit-learn/issues/21755 */display: inline-block !important;position: relative;}#sk-container-id-10 div.sk-text-repr-fallback {display: none;}</style><div id=\"sk-container-id-10\" class=\"sk-top-container\"><div class=\"sk-text-repr-fallback\"><pre>GridSearchCV(cv=10, estimator=GradientBoostingRegressor(),\n",
       "             param_grid={&#x27;criterion&#x27;: [&#x27;friedman_mse&#x27;, &#x27;squared_error&#x27;, &#x27;mse&#x27;],\n",
       "                         &#x27;loss&#x27;: [&#x27;squared_error&#x27;, &#x27;absolute_error&#x27;, &#x27;huber&#x27;,\n",
       "                                  &#x27;quantile&#x27;],\n",
       "                         &#x27;max_features&#x27;: [&#x27;auto&#x27;, &#x27;sqrt&#x27;, &#x27;log2&#x27;, &#x27;None&#x27;],\n",
       "                         &#x27;min_samples_split&#x27;: [2, 3, 4, 5, 6],\n",
       "                         &#x27;n_estimators&#x27;: [50, 100, 150, 200]},\n",
       "             scoring=&#x27;accuracy&#x27;)</pre><b>In a Jupyter environment, please rerun this cell to show the HTML representation or trust the notebook. <br />On GitHub, the HTML representation is unable to render, please try loading this page with nbviewer.org.</b></div><div class=\"sk-container\" hidden><div class=\"sk-item sk-dashed-wrapped\"><div class=\"sk-label-container\"><div class=\"sk-label sk-toggleable\"><input class=\"sk-toggleable__control sk-hidden--visually\" id=\"sk-estimator-id-12\" type=\"checkbox\" ><label for=\"sk-estimator-id-12\" class=\"sk-toggleable__label sk-toggleable__label-arrow\">GridSearchCV</label><div class=\"sk-toggleable__content\"><pre>GridSearchCV(cv=10, estimator=GradientBoostingRegressor(),\n",
       "             param_grid={&#x27;criterion&#x27;: [&#x27;friedman_mse&#x27;, &#x27;squared_error&#x27;, &#x27;mse&#x27;],\n",
       "                         &#x27;loss&#x27;: [&#x27;squared_error&#x27;, &#x27;absolute_error&#x27;, &#x27;huber&#x27;,\n",
       "                                  &#x27;quantile&#x27;],\n",
       "                         &#x27;max_features&#x27;: [&#x27;auto&#x27;, &#x27;sqrt&#x27;, &#x27;log2&#x27;, &#x27;None&#x27;],\n",
       "                         &#x27;min_samples_split&#x27;: [2, 3, 4, 5, 6],\n",
       "                         &#x27;n_estimators&#x27;: [50, 100, 150, 200]},\n",
       "             scoring=&#x27;accuracy&#x27;)</pre></div></div></div><div class=\"sk-parallel\"><div class=\"sk-parallel-item\"><div class=\"sk-item\"><div class=\"sk-label-container\"><div class=\"sk-label sk-toggleable\"><input class=\"sk-toggleable__control sk-hidden--visually\" id=\"sk-estimator-id-13\" type=\"checkbox\" ><label for=\"sk-estimator-id-13\" class=\"sk-toggleable__label sk-toggleable__label-arrow\">estimator: GradientBoostingRegressor</label><div class=\"sk-toggleable__content\"><pre>GradientBoostingRegressor()</pre></div></div></div><div class=\"sk-serial\"><div class=\"sk-item\"><div class=\"sk-estimator sk-toggleable\"><input class=\"sk-toggleable__control sk-hidden--visually\" id=\"sk-estimator-id-14\" type=\"checkbox\" ><label for=\"sk-estimator-id-14\" class=\"sk-toggleable__label sk-toggleable__label-arrow\">GradientBoostingRegressor</label><div class=\"sk-toggleable__content\"><pre>GradientBoostingRegressor()</pre></div></div></div></div></div></div></div></div></div></div>"
      ],
      "text/plain": [
       "GridSearchCV(cv=10, estimator=GradientBoostingRegressor(),\n",
       "             param_grid={'criterion': ['friedman_mse', 'squared_error', 'mse'],\n",
       "                         'loss': ['squared_error', 'absolute_error', 'huber',\n",
       "                                  'quantile'],\n",
       "                         'max_features': ['auto', 'sqrt', 'log2', 'None'],\n",
       "                         'min_samples_split': [2, 3, 4, 5, 6],\n",
       "                         'n_estimators': [50, 100, 150, 200]},\n",
       "             scoring='accuracy')"
      ]
     },
     "execution_count": 155,
     "metadata": {},
     "output_type": "execute_result"
    }
   ],
   "source": [
    "gr.fit(x_train,y_train)"
   ]
  },
  {
   "cell_type": "code",
   "execution_count": 156,
   "id": "efa95a07",
   "metadata": {},
   "outputs": [
    {
     "data": {
      "text/plain": [
       "{'criterion': 'friedman_mse',\n",
       " 'loss': 'squared_error',\n",
       " 'max_features': 'auto',\n",
       " 'min_samples_split': 2,\n",
       " 'n_estimators': 50}"
      ]
     },
     "execution_count": 156,
     "metadata": {},
     "output_type": "execute_result"
    }
   ],
   "source": [
    "gr.best_params_"
   ]
  },
  {
   "cell_type": "code",
   "execution_count": 157,
   "id": "1e9b3890",
   "metadata": {},
   "outputs": [],
   "source": [
    "XGB1=GradientBoostingRegressor(criterion='friedman_mse',loss='squared_error',max_features='auto',min_samples_split=2,n_estimators=50)"
   ]
  },
  {
   "cell_type": "code",
   "execution_count": 158,
   "id": "f36f6b1e",
   "metadata": {},
   "outputs": [
    {
     "data": {
      "text/html": [
       "<style>#sk-container-id-11 {color: black;background-color: white;}#sk-container-id-11 pre{padding: 0;}#sk-container-id-11 div.sk-toggleable {background-color: white;}#sk-container-id-11 label.sk-toggleable__label {cursor: pointer;display: block;width: 100%;margin-bottom: 0;padding: 0.3em;box-sizing: border-box;text-align: center;}#sk-container-id-11 label.sk-toggleable__label-arrow:before {content: \"▸\";float: left;margin-right: 0.25em;color: #696969;}#sk-container-id-11 label.sk-toggleable__label-arrow:hover:before {color: black;}#sk-container-id-11 div.sk-estimator:hover label.sk-toggleable__label-arrow:before {color: black;}#sk-container-id-11 div.sk-toggleable__content {max-height: 0;max-width: 0;overflow: hidden;text-align: left;background-color: #f0f8ff;}#sk-container-id-11 div.sk-toggleable__content pre {margin: 0.2em;color: black;border-radius: 0.25em;background-color: #f0f8ff;}#sk-container-id-11 input.sk-toggleable__control:checked~div.sk-toggleable__content {max-height: 200px;max-width: 100%;overflow: auto;}#sk-container-id-11 input.sk-toggleable__control:checked~label.sk-toggleable__label-arrow:before {content: \"▾\";}#sk-container-id-11 div.sk-estimator input.sk-toggleable__control:checked~label.sk-toggleable__label {background-color: #d4ebff;}#sk-container-id-11 div.sk-label input.sk-toggleable__control:checked~label.sk-toggleable__label {background-color: #d4ebff;}#sk-container-id-11 input.sk-hidden--visually {border: 0;clip: rect(1px 1px 1px 1px);clip: rect(1px, 1px, 1px, 1px);height: 1px;margin: -1px;overflow: hidden;padding: 0;position: absolute;width: 1px;}#sk-container-id-11 div.sk-estimator {font-family: monospace;background-color: #f0f8ff;border: 1px dotted black;border-radius: 0.25em;box-sizing: border-box;margin-bottom: 0.5em;}#sk-container-id-11 div.sk-estimator:hover {background-color: #d4ebff;}#sk-container-id-11 div.sk-parallel-item::after {content: \"\";width: 100%;border-bottom: 1px solid gray;flex-grow: 1;}#sk-container-id-11 div.sk-label:hover label.sk-toggleable__label {background-color: #d4ebff;}#sk-container-id-11 div.sk-serial::before {content: \"\";position: absolute;border-left: 1px solid gray;box-sizing: border-box;top: 0;bottom: 0;left: 50%;z-index: 0;}#sk-container-id-11 div.sk-serial {display: flex;flex-direction: column;align-items: center;background-color: white;padding-right: 0.2em;padding-left: 0.2em;position: relative;}#sk-container-id-11 div.sk-item {position: relative;z-index: 1;}#sk-container-id-11 div.sk-parallel {display: flex;align-items: stretch;justify-content: center;background-color: white;position: relative;}#sk-container-id-11 div.sk-item::before, #sk-container-id-11 div.sk-parallel-item::before {content: \"\";position: absolute;border-left: 1px solid gray;box-sizing: border-box;top: 0;bottom: 0;left: 50%;z-index: -1;}#sk-container-id-11 div.sk-parallel-item {display: flex;flex-direction: column;z-index: 1;position: relative;background-color: white;}#sk-container-id-11 div.sk-parallel-item:first-child::after {align-self: flex-end;width: 50%;}#sk-container-id-11 div.sk-parallel-item:last-child::after {align-self: flex-start;width: 50%;}#sk-container-id-11 div.sk-parallel-item:only-child::after {width: 0;}#sk-container-id-11 div.sk-dashed-wrapped {border: 1px dashed gray;margin: 0 0.4em 0.5em 0.4em;box-sizing: border-box;padding-bottom: 0.4em;background-color: white;}#sk-container-id-11 div.sk-label label {font-family: monospace;font-weight: bold;display: inline-block;line-height: 1.2em;}#sk-container-id-11 div.sk-label-container {text-align: center;}#sk-container-id-11 div.sk-container {/* jupyter's `normalize.less` sets `[hidden] { display: none; }` but bootstrap.min.css set `[hidden] { display: none !important; }` so we also need the `!important` here to be able to override the default hidden behavior on the sphinx rendered scikit-learn.org. See: https://github.com/scikit-learn/scikit-learn/issues/21755 */display: inline-block !important;position: relative;}#sk-container-id-11 div.sk-text-repr-fallback {display: none;}</style><div id=\"sk-container-id-11\" class=\"sk-top-container\"><div class=\"sk-text-repr-fallback\"><pre>GradientBoostingRegressor(max_features=&#x27;auto&#x27;, n_estimators=50)</pre><b>In a Jupyter environment, please rerun this cell to show the HTML representation or trust the notebook. <br />On GitHub, the HTML representation is unable to render, please try loading this page with nbviewer.org.</b></div><div class=\"sk-container\" hidden><div class=\"sk-item\"><div class=\"sk-estimator sk-toggleable\"><input class=\"sk-toggleable__control sk-hidden--visually\" id=\"sk-estimator-id-15\" type=\"checkbox\" checked><label for=\"sk-estimator-id-15\" class=\"sk-toggleable__label sk-toggleable__label-arrow\">GradientBoostingRegressor</label><div class=\"sk-toggleable__content\"><pre>GradientBoostingRegressor(max_features=&#x27;auto&#x27;, n_estimators=50)</pre></div></div></div></div></div>"
      ],
      "text/plain": [
       "GradientBoostingRegressor(max_features='auto', n_estimators=50)"
      ]
     },
     "execution_count": 158,
     "metadata": {},
     "output_type": "execute_result"
    }
   ],
   "source": [
    "XGB1.fit(x_train,y_train)"
   ]
  },
  {
   "cell_type": "code",
   "execution_count": 159,
   "id": "e5ed31fe",
   "metadata": {},
   "outputs": [],
   "source": [
    "PREXGB1=XGB1.predict(x_test)"
   ]
  },
  {
   "cell_type": "code",
   "execution_count": 160,
   "id": "63380408",
   "metadata": {},
   "outputs": [
    {
     "name": "stdout",
     "output_type": "stream",
     "text": [
      "0.9832957255879692\n"
     ]
    }
   ],
   "source": [
    "print(r2_score(y_test,PREXGB1))"
   ]
  },
  {
   "cell_type": "code",
   "execution_count": 161,
   "id": "cda7435a",
   "metadata": {},
   "outputs": [
    {
     "name": "stdout",
     "output_type": "stream",
     "text": [
      "0.46823741164191934\n"
     ]
    }
   ],
   "source": [
    "print(mean_squared_error(y_test,PREXGB1))"
   ]
  },
  {
   "cell_type": "code",
   "execution_count": 162,
   "id": "d57ee924",
   "metadata": {},
   "outputs": [
    {
     "name": "stdout",
     "output_type": "stream",
     "text": [
      "0.5516705482062315\n"
     ]
    }
   ],
   "source": [
    "print(mean_absolute_error(y_test,PREXGB1))"
   ]
  },
  {
   "cell_type": "code",
   "execution_count": 172,
   "id": "248de8a7",
   "metadata": {},
   "outputs": [
    {
     "name": "stdout",
     "output_type": "stream",
     "text": [
      "0.6842787528792045\n"
     ]
    }
   ],
   "source": [
    "print(sqrt(mean_squared_error(y_test,PREXGB1)))"
   ]
  },
  {
   "cell_type": "markdown",
   "id": "4b3546c1",
   "metadata": {},
   "source": [
    "### THERE IS A SLIGHT IMPROVEMENT IN SCORE WRT TO XGB-CV MEAN-SCORE .\n",
    "### IT HAS IMPROVED FROM 97.91 TO 98.32\n",
    "### HENCE WE WILL ACCEPT THIS MODEL AND SAVE IT"
   ]
  },
  {
   "cell_type": "markdown",
   "id": "d55be537",
   "metadata": {},
   "source": [
    "## SAVING THE BEST MODEL "
   ]
  },
  {
   "cell_type": "code",
   "execution_count": 163,
   "id": "4a5ce070",
   "metadata": {},
   "outputs": [],
   "source": [
    "import pickle"
   ]
  },
  {
   "cell_type": "code",
   "execution_count": 165,
   "id": "3edb3c56",
   "metadata": {},
   "outputs": [],
   "source": [
    "filename='churn.pkl'\n",
    "pickle.dump(XGB1,open(filename,'wb'))"
   ]
  },
  {
   "cell_type": "code",
   "execution_count": 166,
   "id": "3b8bc38e",
   "metadata": {},
   "outputs": [],
   "source": [
    "loaded_model=pickle.load(open('churn.pkl','rb'))"
   ]
  },
  {
   "cell_type": "code",
   "execution_count": 167,
   "id": "98be2e15",
   "metadata": {},
   "outputs": [],
   "source": [
    "conclusion=pd.DataFrame([loaded_model.predict(x_test)[:],y_test[:]],index=['PREDICTED','ORIGINAL'])"
   ]
  },
  {
   "cell_type": "code",
   "execution_count": 168,
   "id": "7725f4be",
   "metadata": {},
   "outputs": [
    {
     "data": {
      "text/html": [
       "<div>\n",
       "<style scoped>\n",
       "    .dataframe tbody tr th:only-of-type {\n",
       "        vertical-align: middle;\n",
       "    }\n",
       "\n",
       "    .dataframe tbody tr th {\n",
       "        vertical-align: top;\n",
       "    }\n",
       "\n",
       "    .dataframe thead th {\n",
       "        text-align: right;\n",
       "    }\n",
       "</style>\n",
       "<table border=\"1\" class=\"dataframe\">\n",
       "  <thead>\n",
       "    <tr style=\"text-align: right;\">\n",
       "      <th></th>\n",
       "      <th>0</th>\n",
       "      <th>1</th>\n",
       "      <th>2</th>\n",
       "      <th>3</th>\n",
       "      <th>4</th>\n",
       "      <th>5</th>\n",
       "      <th>6</th>\n",
       "      <th>7</th>\n",
       "      <th>8</th>\n",
       "      <th>9</th>\n",
       "      <th>...</th>\n",
       "      <th>30</th>\n",
       "      <th>31</th>\n",
       "      <th>32</th>\n",
       "      <th>33</th>\n",
       "      <th>34</th>\n",
       "      <th>35</th>\n",
       "      <th>36</th>\n",
       "      <th>37</th>\n",
       "      <th>38</th>\n",
       "      <th>39</th>\n",
       "    </tr>\n",
       "  </thead>\n",
       "  <tbody>\n",
       "    <tr>\n",
       "      <th>PREDICTED</th>\n",
       "      <td>13.55811</td>\n",
       "      <td>22.655276</td>\n",
       "      <td>13.88558</td>\n",
       "      <td>25.486317</td>\n",
       "      <td>11.531033</td>\n",
       "      <td>24.335348</td>\n",
       "      <td>12.488251</td>\n",
       "      <td>8.56911</td>\n",
       "      <td>7.731961</td>\n",
       "      <td>16.224392</td>\n",
       "      <td>...</td>\n",
       "      <td>11.393841</td>\n",
       "      <td>16.403134</td>\n",
       "      <td>10.504268</td>\n",
       "      <td>17.833346</td>\n",
       "      <td>10.226936</td>\n",
       "      <td>14.136758</td>\n",
       "      <td>13.84711</td>\n",
       "      <td>10.441472</td>\n",
       "      <td>15.660538</td>\n",
       "      <td>15.35619</td>\n",
       "    </tr>\n",
       "    <tr>\n",
       "      <th>ORIGINAL</th>\n",
       "      <td>14.10000</td>\n",
       "      <td>23.200000</td>\n",
       "      <td>14.70000</td>\n",
       "      <td>25.400000</td>\n",
       "      <td>11.700000</td>\n",
       "      <td>25.400000</td>\n",
       "      <td>11.900000</td>\n",
       "      <td>8.70000</td>\n",
       "      <td>7.200000</td>\n",
       "      <td>17.400000</td>\n",
       "      <td>...</td>\n",
       "      <td>11.600000</td>\n",
       "      <td>17.600000</td>\n",
       "      <td>10.700000</td>\n",
       "      <td>17.200000</td>\n",
       "      <td>9.700000</td>\n",
       "      <td>14.600000</td>\n",
       "      <td>14.40000</td>\n",
       "      <td>11.800000</td>\n",
       "      <td>15.700000</td>\n",
       "      <td>15.60000</td>\n",
       "    </tr>\n",
       "  </tbody>\n",
       "</table>\n",
       "<p>2 rows × 40 columns</p>\n",
       "</div>"
      ],
      "text/plain": [
       "                 0          1         2          3          4          5   \\\n",
       "PREDICTED  13.55811  22.655276  13.88558  25.486317  11.531033  24.335348   \n",
       "ORIGINAL   14.10000  23.200000  14.70000  25.400000  11.700000  25.400000   \n",
       "\n",
       "                  6        7         8          9   ...         30         31  \\\n",
       "PREDICTED  12.488251  8.56911  7.731961  16.224392  ...  11.393841  16.403134   \n",
       "ORIGINAL   11.900000  8.70000  7.200000  17.400000  ...  11.600000  17.600000   \n",
       "\n",
       "                  32         33         34         35        36         37  \\\n",
       "PREDICTED  10.504268  17.833346  10.226936  14.136758  13.84711  10.441472   \n",
       "ORIGINAL   10.700000  17.200000   9.700000  14.600000  14.40000  11.800000   \n",
       "\n",
       "                  38        39  \n",
       "PREDICTED  15.660538  15.35619  \n",
       "ORIGINAL   15.700000  15.60000  \n",
       "\n",
       "[2 rows x 40 columns]"
      ]
     },
     "execution_count": 168,
     "metadata": {},
     "output_type": "execute_result"
    }
   ],
   "source": [
    "conclusion"
   ]
  },
  {
   "cell_type": "code",
   "execution_count": null,
   "id": "0e178430",
   "metadata": {},
   "outputs": [],
   "source": []
  }
 ],
 "metadata": {
  "kernelspec": {
   "display_name": "Python 3 (ipykernel)",
   "language": "python",
   "name": "python3"
  },
  "language_info": {
   "codemirror_mode": {
    "name": "ipython",
    "version": 3
   },
   "file_extension": ".py",
   "mimetype": "text/x-python",
   "name": "python",
   "nbconvert_exporter": "python",
   "pygments_lexer": "ipython3",
   "version": "3.9.7"
  },
  "widgets": {
   "application/vnd.jupyter.widget-state+json": {
    "state": {},
    "version_major": 2,
    "version_minor": 0
   }
  }
 },
 "nbformat": 4,
 "nbformat_minor": 5
}
