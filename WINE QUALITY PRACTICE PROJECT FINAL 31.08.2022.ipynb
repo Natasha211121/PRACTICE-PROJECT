{
 "cells": [
  {
   "cell_type": "code",
   "execution_count": 7,
   "id": "54b5fd5f",
   "metadata": {},
   "outputs": [],
   "source": [
    "import pandas as pd\n",
    "import numpy as np"
   ]
  },
  {
   "cell_type": "code",
   "execution_count": 8,
   "id": "e697299f",
   "metadata": {},
   "outputs": [],
   "source": [
    "dd=pd.read_csv('winequality.csv')"
   ]
  },
  {
   "cell_type": "code",
   "execution_count": 9,
   "id": "c6a005a2",
   "metadata": {},
   "outputs": [],
   "source": [
    "df=pd.DataFrame(data=dd)"
   ]
  },
  {
   "cell_type": "code",
   "execution_count": 10,
   "id": "e173e609",
   "metadata": {},
   "outputs": [
    {
     "data": {
      "text/html": [
       "<div>\n",
       "<style scoped>\n",
       "    .dataframe tbody tr th:only-of-type {\n",
       "        vertical-align: middle;\n",
       "    }\n",
       "\n",
       "    .dataframe tbody tr th {\n",
       "        vertical-align: top;\n",
       "    }\n",
       "\n",
       "    .dataframe thead th {\n",
       "        text-align: right;\n",
       "    }\n",
       "</style>\n",
       "<table border=\"1\" class=\"dataframe\">\n",
       "  <thead>\n",
       "    <tr style=\"text-align: right;\">\n",
       "      <th></th>\n",
       "      <th>fixed acidity</th>\n",
       "      <th>volatile acidity</th>\n",
       "      <th>citric acid</th>\n",
       "      <th>residual sugar</th>\n",
       "      <th>chlorides</th>\n",
       "      <th>free sulfur dioxide</th>\n",
       "      <th>total sulfur dioxide</th>\n",
       "      <th>density</th>\n",
       "      <th>pH</th>\n",
       "      <th>sulphates</th>\n",
       "      <th>alcohol</th>\n",
       "      <th>quality</th>\n",
       "    </tr>\n",
       "  </thead>\n",
       "  <tbody>\n",
       "    <tr>\n",
       "      <th>0</th>\n",
       "      <td>7.4</td>\n",
       "      <td>0.700</td>\n",
       "      <td>0.00</td>\n",
       "      <td>1.9</td>\n",
       "      <td>0.076</td>\n",
       "      <td>11.0</td>\n",
       "      <td>34.0</td>\n",
       "      <td>0.99780</td>\n",
       "      <td>3.51</td>\n",
       "      <td>0.56</td>\n",
       "      <td>9.4</td>\n",
       "      <td>5</td>\n",
       "    </tr>\n",
       "    <tr>\n",
       "      <th>1</th>\n",
       "      <td>7.8</td>\n",
       "      <td>0.880</td>\n",
       "      <td>0.00</td>\n",
       "      <td>2.6</td>\n",
       "      <td>0.098</td>\n",
       "      <td>25.0</td>\n",
       "      <td>67.0</td>\n",
       "      <td>0.99680</td>\n",
       "      <td>3.20</td>\n",
       "      <td>0.68</td>\n",
       "      <td>9.8</td>\n",
       "      <td>5</td>\n",
       "    </tr>\n",
       "    <tr>\n",
       "      <th>2</th>\n",
       "      <td>7.8</td>\n",
       "      <td>0.760</td>\n",
       "      <td>0.04</td>\n",
       "      <td>2.3</td>\n",
       "      <td>0.092</td>\n",
       "      <td>15.0</td>\n",
       "      <td>54.0</td>\n",
       "      <td>0.99700</td>\n",
       "      <td>3.26</td>\n",
       "      <td>0.65</td>\n",
       "      <td>9.8</td>\n",
       "      <td>5</td>\n",
       "    </tr>\n",
       "    <tr>\n",
       "      <th>3</th>\n",
       "      <td>11.2</td>\n",
       "      <td>0.280</td>\n",
       "      <td>0.56</td>\n",
       "      <td>1.9</td>\n",
       "      <td>0.075</td>\n",
       "      <td>17.0</td>\n",
       "      <td>60.0</td>\n",
       "      <td>0.99800</td>\n",
       "      <td>3.16</td>\n",
       "      <td>0.58</td>\n",
       "      <td>9.8</td>\n",
       "      <td>6</td>\n",
       "    </tr>\n",
       "    <tr>\n",
       "      <th>4</th>\n",
       "      <td>7.4</td>\n",
       "      <td>0.700</td>\n",
       "      <td>0.00</td>\n",
       "      <td>1.9</td>\n",
       "      <td>0.076</td>\n",
       "      <td>11.0</td>\n",
       "      <td>34.0</td>\n",
       "      <td>0.99780</td>\n",
       "      <td>3.51</td>\n",
       "      <td>0.56</td>\n",
       "      <td>9.4</td>\n",
       "      <td>5</td>\n",
       "    </tr>\n",
       "    <tr>\n",
       "      <th>...</th>\n",
       "      <td>...</td>\n",
       "      <td>...</td>\n",
       "      <td>...</td>\n",
       "      <td>...</td>\n",
       "      <td>...</td>\n",
       "      <td>...</td>\n",
       "      <td>...</td>\n",
       "      <td>...</td>\n",
       "      <td>...</td>\n",
       "      <td>...</td>\n",
       "      <td>...</td>\n",
       "      <td>...</td>\n",
       "    </tr>\n",
       "    <tr>\n",
       "      <th>1594</th>\n",
       "      <td>6.2</td>\n",
       "      <td>0.600</td>\n",
       "      <td>0.08</td>\n",
       "      <td>2.0</td>\n",
       "      <td>0.090</td>\n",
       "      <td>32.0</td>\n",
       "      <td>44.0</td>\n",
       "      <td>0.99490</td>\n",
       "      <td>3.45</td>\n",
       "      <td>0.58</td>\n",
       "      <td>10.5</td>\n",
       "      <td>5</td>\n",
       "    </tr>\n",
       "    <tr>\n",
       "      <th>1595</th>\n",
       "      <td>5.9</td>\n",
       "      <td>0.550</td>\n",
       "      <td>0.10</td>\n",
       "      <td>2.2</td>\n",
       "      <td>0.062</td>\n",
       "      <td>39.0</td>\n",
       "      <td>51.0</td>\n",
       "      <td>0.99512</td>\n",
       "      <td>3.52</td>\n",
       "      <td>0.76</td>\n",
       "      <td>11.2</td>\n",
       "      <td>6</td>\n",
       "    </tr>\n",
       "    <tr>\n",
       "      <th>1596</th>\n",
       "      <td>6.3</td>\n",
       "      <td>0.510</td>\n",
       "      <td>0.13</td>\n",
       "      <td>2.3</td>\n",
       "      <td>0.076</td>\n",
       "      <td>29.0</td>\n",
       "      <td>40.0</td>\n",
       "      <td>0.99574</td>\n",
       "      <td>3.42</td>\n",
       "      <td>0.75</td>\n",
       "      <td>11.0</td>\n",
       "      <td>6</td>\n",
       "    </tr>\n",
       "    <tr>\n",
       "      <th>1597</th>\n",
       "      <td>5.9</td>\n",
       "      <td>0.645</td>\n",
       "      <td>0.12</td>\n",
       "      <td>2.0</td>\n",
       "      <td>0.075</td>\n",
       "      <td>32.0</td>\n",
       "      <td>44.0</td>\n",
       "      <td>0.99547</td>\n",
       "      <td>3.57</td>\n",
       "      <td>0.71</td>\n",
       "      <td>10.2</td>\n",
       "      <td>5</td>\n",
       "    </tr>\n",
       "    <tr>\n",
       "      <th>1598</th>\n",
       "      <td>6.0</td>\n",
       "      <td>0.310</td>\n",
       "      <td>0.47</td>\n",
       "      <td>3.6</td>\n",
       "      <td>0.067</td>\n",
       "      <td>18.0</td>\n",
       "      <td>42.0</td>\n",
       "      <td>0.99549</td>\n",
       "      <td>3.39</td>\n",
       "      <td>0.66</td>\n",
       "      <td>11.0</td>\n",
       "      <td>6</td>\n",
       "    </tr>\n",
       "  </tbody>\n",
       "</table>\n",
       "<p>1599 rows × 12 columns</p>\n",
       "</div>"
      ],
      "text/plain": [
       "      fixed acidity  volatile acidity  citric acid  residual sugar  chlorides  \\\n",
       "0               7.4             0.700         0.00             1.9      0.076   \n",
       "1               7.8             0.880         0.00             2.6      0.098   \n",
       "2               7.8             0.760         0.04             2.3      0.092   \n",
       "3              11.2             0.280         0.56             1.9      0.075   \n",
       "4               7.4             0.700         0.00             1.9      0.076   \n",
       "...             ...               ...          ...             ...        ...   \n",
       "1594            6.2             0.600         0.08             2.0      0.090   \n",
       "1595            5.9             0.550         0.10             2.2      0.062   \n",
       "1596            6.3             0.510         0.13             2.3      0.076   \n",
       "1597            5.9             0.645         0.12             2.0      0.075   \n",
       "1598            6.0             0.310         0.47             3.6      0.067   \n",
       "\n",
       "      free sulfur dioxide  total sulfur dioxide  density    pH  sulphates  \\\n",
       "0                    11.0                  34.0  0.99780  3.51       0.56   \n",
       "1                    25.0                  67.0  0.99680  3.20       0.68   \n",
       "2                    15.0                  54.0  0.99700  3.26       0.65   \n",
       "3                    17.0                  60.0  0.99800  3.16       0.58   \n",
       "4                    11.0                  34.0  0.99780  3.51       0.56   \n",
       "...                   ...                   ...      ...   ...        ...   \n",
       "1594                 32.0                  44.0  0.99490  3.45       0.58   \n",
       "1595                 39.0                  51.0  0.99512  3.52       0.76   \n",
       "1596                 29.0                  40.0  0.99574  3.42       0.75   \n",
       "1597                 32.0                  44.0  0.99547  3.57       0.71   \n",
       "1598                 18.0                  42.0  0.99549  3.39       0.66   \n",
       "\n",
       "      alcohol  quality  \n",
       "0         9.4        5  \n",
       "1         9.8        5  \n",
       "2         9.8        5  \n",
       "3         9.8        6  \n",
       "4         9.4        5  \n",
       "...       ...      ...  \n",
       "1594     10.5        5  \n",
       "1595     11.2        6  \n",
       "1596     11.0        6  \n",
       "1597     10.2        5  \n",
       "1598     11.0        6  \n",
       "\n",
       "[1599 rows x 12 columns]"
      ]
     },
     "execution_count": 10,
     "metadata": {},
     "output_type": "execute_result"
    }
   ],
   "source": [
    "df"
   ]
  },
  {
   "cell_type": "markdown",
   "id": "5edd7ec8",
   "metadata": {},
   "source": [
    "DUPLICATE VALUES CHECK"
   ]
  },
  {
   "cell_type": "code",
   "execution_count": 11,
   "id": "139613a7",
   "metadata": {},
   "outputs": [],
   "source": [
    "df2=df.drop_duplicates()"
   ]
  },
  {
   "cell_type": "code",
   "execution_count": 12,
   "id": "9ccff653",
   "metadata": {},
   "outputs": [
    {
     "data": {
      "text/html": [
       "<div>\n",
       "<style scoped>\n",
       "    .dataframe tbody tr th:only-of-type {\n",
       "        vertical-align: middle;\n",
       "    }\n",
       "\n",
       "    .dataframe tbody tr th {\n",
       "        vertical-align: top;\n",
       "    }\n",
       "\n",
       "    .dataframe thead th {\n",
       "        text-align: right;\n",
       "    }\n",
       "</style>\n",
       "<table border=\"1\" class=\"dataframe\">\n",
       "  <thead>\n",
       "    <tr style=\"text-align: right;\">\n",
       "      <th></th>\n",
       "      <th>fixed acidity</th>\n",
       "      <th>volatile acidity</th>\n",
       "      <th>citric acid</th>\n",
       "      <th>residual sugar</th>\n",
       "      <th>chlorides</th>\n",
       "      <th>free sulfur dioxide</th>\n",
       "      <th>total sulfur dioxide</th>\n",
       "      <th>density</th>\n",
       "      <th>pH</th>\n",
       "      <th>sulphates</th>\n",
       "      <th>alcohol</th>\n",
       "      <th>quality</th>\n",
       "    </tr>\n",
       "  </thead>\n",
       "  <tbody>\n",
       "    <tr>\n",
       "      <th>0</th>\n",
       "      <td>7.4</td>\n",
       "      <td>0.700</td>\n",
       "      <td>0.00</td>\n",
       "      <td>1.9</td>\n",
       "      <td>0.076</td>\n",
       "      <td>11.0</td>\n",
       "      <td>34.0</td>\n",
       "      <td>0.99780</td>\n",
       "      <td>3.51</td>\n",
       "      <td>0.56</td>\n",
       "      <td>9.4</td>\n",
       "      <td>5</td>\n",
       "    </tr>\n",
       "    <tr>\n",
       "      <th>1</th>\n",
       "      <td>7.8</td>\n",
       "      <td>0.880</td>\n",
       "      <td>0.00</td>\n",
       "      <td>2.6</td>\n",
       "      <td>0.098</td>\n",
       "      <td>25.0</td>\n",
       "      <td>67.0</td>\n",
       "      <td>0.99680</td>\n",
       "      <td>3.20</td>\n",
       "      <td>0.68</td>\n",
       "      <td>9.8</td>\n",
       "      <td>5</td>\n",
       "    </tr>\n",
       "    <tr>\n",
       "      <th>2</th>\n",
       "      <td>7.8</td>\n",
       "      <td>0.760</td>\n",
       "      <td>0.04</td>\n",
       "      <td>2.3</td>\n",
       "      <td>0.092</td>\n",
       "      <td>15.0</td>\n",
       "      <td>54.0</td>\n",
       "      <td>0.99700</td>\n",
       "      <td>3.26</td>\n",
       "      <td>0.65</td>\n",
       "      <td>9.8</td>\n",
       "      <td>5</td>\n",
       "    </tr>\n",
       "    <tr>\n",
       "      <th>3</th>\n",
       "      <td>11.2</td>\n",
       "      <td>0.280</td>\n",
       "      <td>0.56</td>\n",
       "      <td>1.9</td>\n",
       "      <td>0.075</td>\n",
       "      <td>17.0</td>\n",
       "      <td>60.0</td>\n",
       "      <td>0.99800</td>\n",
       "      <td>3.16</td>\n",
       "      <td>0.58</td>\n",
       "      <td>9.8</td>\n",
       "      <td>6</td>\n",
       "    </tr>\n",
       "    <tr>\n",
       "      <th>5</th>\n",
       "      <td>7.4</td>\n",
       "      <td>0.660</td>\n",
       "      <td>0.00</td>\n",
       "      <td>1.8</td>\n",
       "      <td>0.075</td>\n",
       "      <td>13.0</td>\n",
       "      <td>40.0</td>\n",
       "      <td>0.99780</td>\n",
       "      <td>3.51</td>\n",
       "      <td>0.56</td>\n",
       "      <td>9.4</td>\n",
       "      <td>5</td>\n",
       "    </tr>\n",
       "    <tr>\n",
       "      <th>...</th>\n",
       "      <td>...</td>\n",
       "      <td>...</td>\n",
       "      <td>...</td>\n",
       "      <td>...</td>\n",
       "      <td>...</td>\n",
       "      <td>...</td>\n",
       "      <td>...</td>\n",
       "      <td>...</td>\n",
       "      <td>...</td>\n",
       "      <td>...</td>\n",
       "      <td>...</td>\n",
       "      <td>...</td>\n",
       "    </tr>\n",
       "    <tr>\n",
       "      <th>1593</th>\n",
       "      <td>6.8</td>\n",
       "      <td>0.620</td>\n",
       "      <td>0.08</td>\n",
       "      <td>1.9</td>\n",
       "      <td>0.068</td>\n",
       "      <td>28.0</td>\n",
       "      <td>38.0</td>\n",
       "      <td>0.99651</td>\n",
       "      <td>3.42</td>\n",
       "      <td>0.82</td>\n",
       "      <td>9.5</td>\n",
       "      <td>6</td>\n",
       "    </tr>\n",
       "    <tr>\n",
       "      <th>1594</th>\n",
       "      <td>6.2</td>\n",
       "      <td>0.600</td>\n",
       "      <td>0.08</td>\n",
       "      <td>2.0</td>\n",
       "      <td>0.090</td>\n",
       "      <td>32.0</td>\n",
       "      <td>44.0</td>\n",
       "      <td>0.99490</td>\n",
       "      <td>3.45</td>\n",
       "      <td>0.58</td>\n",
       "      <td>10.5</td>\n",
       "      <td>5</td>\n",
       "    </tr>\n",
       "    <tr>\n",
       "      <th>1595</th>\n",
       "      <td>5.9</td>\n",
       "      <td>0.550</td>\n",
       "      <td>0.10</td>\n",
       "      <td>2.2</td>\n",
       "      <td>0.062</td>\n",
       "      <td>39.0</td>\n",
       "      <td>51.0</td>\n",
       "      <td>0.99512</td>\n",
       "      <td>3.52</td>\n",
       "      <td>0.76</td>\n",
       "      <td>11.2</td>\n",
       "      <td>6</td>\n",
       "    </tr>\n",
       "    <tr>\n",
       "      <th>1597</th>\n",
       "      <td>5.9</td>\n",
       "      <td>0.645</td>\n",
       "      <td>0.12</td>\n",
       "      <td>2.0</td>\n",
       "      <td>0.075</td>\n",
       "      <td>32.0</td>\n",
       "      <td>44.0</td>\n",
       "      <td>0.99547</td>\n",
       "      <td>3.57</td>\n",
       "      <td>0.71</td>\n",
       "      <td>10.2</td>\n",
       "      <td>5</td>\n",
       "    </tr>\n",
       "    <tr>\n",
       "      <th>1598</th>\n",
       "      <td>6.0</td>\n",
       "      <td>0.310</td>\n",
       "      <td>0.47</td>\n",
       "      <td>3.6</td>\n",
       "      <td>0.067</td>\n",
       "      <td>18.0</td>\n",
       "      <td>42.0</td>\n",
       "      <td>0.99549</td>\n",
       "      <td>3.39</td>\n",
       "      <td>0.66</td>\n",
       "      <td>11.0</td>\n",
       "      <td>6</td>\n",
       "    </tr>\n",
       "  </tbody>\n",
       "</table>\n",
       "<p>1359 rows × 12 columns</p>\n",
       "</div>"
      ],
      "text/plain": [
       "      fixed acidity  volatile acidity  citric acid  residual sugar  chlorides  \\\n",
       "0               7.4             0.700         0.00             1.9      0.076   \n",
       "1               7.8             0.880         0.00             2.6      0.098   \n",
       "2               7.8             0.760         0.04             2.3      0.092   \n",
       "3              11.2             0.280         0.56             1.9      0.075   \n",
       "5               7.4             0.660         0.00             1.8      0.075   \n",
       "...             ...               ...          ...             ...        ...   \n",
       "1593            6.8             0.620         0.08             1.9      0.068   \n",
       "1594            6.2             0.600         0.08             2.0      0.090   \n",
       "1595            5.9             0.550         0.10             2.2      0.062   \n",
       "1597            5.9             0.645         0.12             2.0      0.075   \n",
       "1598            6.0             0.310         0.47             3.6      0.067   \n",
       "\n",
       "      free sulfur dioxide  total sulfur dioxide  density    pH  sulphates  \\\n",
       "0                    11.0                  34.0  0.99780  3.51       0.56   \n",
       "1                    25.0                  67.0  0.99680  3.20       0.68   \n",
       "2                    15.0                  54.0  0.99700  3.26       0.65   \n",
       "3                    17.0                  60.0  0.99800  3.16       0.58   \n",
       "5                    13.0                  40.0  0.99780  3.51       0.56   \n",
       "...                   ...                   ...      ...   ...        ...   \n",
       "1593                 28.0                  38.0  0.99651  3.42       0.82   \n",
       "1594                 32.0                  44.0  0.99490  3.45       0.58   \n",
       "1595                 39.0                  51.0  0.99512  3.52       0.76   \n",
       "1597                 32.0                  44.0  0.99547  3.57       0.71   \n",
       "1598                 18.0                  42.0  0.99549  3.39       0.66   \n",
       "\n",
       "      alcohol  quality  \n",
       "0         9.4        5  \n",
       "1         9.8        5  \n",
       "2         9.8        5  \n",
       "3         9.8        6  \n",
       "5         9.4        5  \n",
       "...       ...      ...  \n",
       "1593      9.5        6  \n",
       "1594     10.5        5  \n",
       "1595     11.2        6  \n",
       "1597     10.2        5  \n",
       "1598     11.0        6  \n",
       "\n",
       "[1359 rows x 12 columns]"
      ]
     },
     "execution_count": 12,
     "metadata": {},
     "output_type": "execute_result"
    }
   ],
   "source": [
    "df2"
   ]
  },
  {
   "cell_type": "code",
   "execution_count": 13,
   "id": "2f4c13da",
   "metadata": {},
   "outputs": [
    {
     "data": {
      "text/plain": [
       "array([5, 6, 7, 4, 8, 3], dtype=int64)"
      ]
     },
     "execution_count": 13,
     "metadata": {},
     "output_type": "execute_result"
    }
   ],
   "source": [
    "df2.quality.unique()"
   ]
  },
  {
   "cell_type": "markdown",
   "id": "39202bc4",
   "metadata": {},
   "source": [
    "CONVERTING QUALITY INTO BINARY DATA (ABOVE GREATER THAN 7 AS 1 AND BELOW THAT AS 0)"
   ]
  },
  {
   "cell_type": "code",
   "execution_count": 14,
   "id": "ef64f2e8",
   "metadata": {},
   "outputs": [
    {
     "name": "stderr",
     "output_type": "stream",
     "text": [
      "C:\\Users\\DELL\\AppData\\Local\\Temp/ipykernel_4788/385656254.py:1: SettingWithCopyWarning: \n",
      "A value is trying to be set on a copy of a slice from a DataFrame.\n",
      "Try using .loc[row_indexer,col_indexer] = value instead\n",
      "\n",
      "See the caveats in the documentation: https://pandas.pydata.org/pandas-docs/stable/user_guide/indexing.html#returning-a-view-versus-a-copy\n",
      "  df2['quality']=df2['quality'].apply(lambda x:1 if x>=7 else 0)\n"
     ]
    }
   ],
   "source": [
    "df2['quality']=df2['quality'].apply(lambda x:1 if x>=7 else 0)"
   ]
  },
  {
   "cell_type": "code",
   "execution_count": 15,
   "id": "4aaeace9",
   "metadata": {},
   "outputs": [
    {
     "data": {
      "text/html": [
       "<div>\n",
       "<style scoped>\n",
       "    .dataframe tbody tr th:only-of-type {\n",
       "        vertical-align: middle;\n",
       "    }\n",
       "\n",
       "    .dataframe tbody tr th {\n",
       "        vertical-align: top;\n",
       "    }\n",
       "\n",
       "    .dataframe thead th {\n",
       "        text-align: right;\n",
       "    }\n",
       "</style>\n",
       "<table border=\"1\" class=\"dataframe\">\n",
       "  <thead>\n",
       "    <tr style=\"text-align: right;\">\n",
       "      <th></th>\n",
       "      <th>fixed acidity</th>\n",
       "      <th>volatile acidity</th>\n",
       "      <th>citric acid</th>\n",
       "      <th>residual sugar</th>\n",
       "      <th>chlorides</th>\n",
       "      <th>free sulfur dioxide</th>\n",
       "      <th>total sulfur dioxide</th>\n",
       "      <th>density</th>\n",
       "      <th>pH</th>\n",
       "      <th>sulphates</th>\n",
       "      <th>alcohol</th>\n",
       "      <th>quality</th>\n",
       "    </tr>\n",
       "  </thead>\n",
       "  <tbody>\n",
       "    <tr>\n",
       "      <th>0</th>\n",
       "      <td>7.4</td>\n",
       "      <td>0.700</td>\n",
       "      <td>0.00</td>\n",
       "      <td>1.9</td>\n",
       "      <td>0.076</td>\n",
       "      <td>11.0</td>\n",
       "      <td>34.0</td>\n",
       "      <td>0.99780</td>\n",
       "      <td>3.51</td>\n",
       "      <td>0.56</td>\n",
       "      <td>9.4</td>\n",
       "      <td>0</td>\n",
       "    </tr>\n",
       "    <tr>\n",
       "      <th>1</th>\n",
       "      <td>7.8</td>\n",
       "      <td>0.880</td>\n",
       "      <td>0.00</td>\n",
       "      <td>2.6</td>\n",
       "      <td>0.098</td>\n",
       "      <td>25.0</td>\n",
       "      <td>67.0</td>\n",
       "      <td>0.99680</td>\n",
       "      <td>3.20</td>\n",
       "      <td>0.68</td>\n",
       "      <td>9.8</td>\n",
       "      <td>0</td>\n",
       "    </tr>\n",
       "    <tr>\n",
       "      <th>2</th>\n",
       "      <td>7.8</td>\n",
       "      <td>0.760</td>\n",
       "      <td>0.04</td>\n",
       "      <td>2.3</td>\n",
       "      <td>0.092</td>\n",
       "      <td>15.0</td>\n",
       "      <td>54.0</td>\n",
       "      <td>0.99700</td>\n",
       "      <td>3.26</td>\n",
       "      <td>0.65</td>\n",
       "      <td>9.8</td>\n",
       "      <td>0</td>\n",
       "    </tr>\n",
       "    <tr>\n",
       "      <th>3</th>\n",
       "      <td>11.2</td>\n",
       "      <td>0.280</td>\n",
       "      <td>0.56</td>\n",
       "      <td>1.9</td>\n",
       "      <td>0.075</td>\n",
       "      <td>17.0</td>\n",
       "      <td>60.0</td>\n",
       "      <td>0.99800</td>\n",
       "      <td>3.16</td>\n",
       "      <td>0.58</td>\n",
       "      <td>9.8</td>\n",
       "      <td>0</td>\n",
       "    </tr>\n",
       "    <tr>\n",
       "      <th>5</th>\n",
       "      <td>7.4</td>\n",
       "      <td>0.660</td>\n",
       "      <td>0.00</td>\n",
       "      <td>1.8</td>\n",
       "      <td>0.075</td>\n",
       "      <td>13.0</td>\n",
       "      <td>40.0</td>\n",
       "      <td>0.99780</td>\n",
       "      <td>3.51</td>\n",
       "      <td>0.56</td>\n",
       "      <td>9.4</td>\n",
       "      <td>0</td>\n",
       "    </tr>\n",
       "    <tr>\n",
       "      <th>...</th>\n",
       "      <td>...</td>\n",
       "      <td>...</td>\n",
       "      <td>...</td>\n",
       "      <td>...</td>\n",
       "      <td>...</td>\n",
       "      <td>...</td>\n",
       "      <td>...</td>\n",
       "      <td>...</td>\n",
       "      <td>...</td>\n",
       "      <td>...</td>\n",
       "      <td>...</td>\n",
       "      <td>...</td>\n",
       "    </tr>\n",
       "    <tr>\n",
       "      <th>1593</th>\n",
       "      <td>6.8</td>\n",
       "      <td>0.620</td>\n",
       "      <td>0.08</td>\n",
       "      <td>1.9</td>\n",
       "      <td>0.068</td>\n",
       "      <td>28.0</td>\n",
       "      <td>38.0</td>\n",
       "      <td>0.99651</td>\n",
       "      <td>3.42</td>\n",
       "      <td>0.82</td>\n",
       "      <td>9.5</td>\n",
       "      <td>0</td>\n",
       "    </tr>\n",
       "    <tr>\n",
       "      <th>1594</th>\n",
       "      <td>6.2</td>\n",
       "      <td>0.600</td>\n",
       "      <td>0.08</td>\n",
       "      <td>2.0</td>\n",
       "      <td>0.090</td>\n",
       "      <td>32.0</td>\n",
       "      <td>44.0</td>\n",
       "      <td>0.99490</td>\n",
       "      <td>3.45</td>\n",
       "      <td>0.58</td>\n",
       "      <td>10.5</td>\n",
       "      <td>0</td>\n",
       "    </tr>\n",
       "    <tr>\n",
       "      <th>1595</th>\n",
       "      <td>5.9</td>\n",
       "      <td>0.550</td>\n",
       "      <td>0.10</td>\n",
       "      <td>2.2</td>\n",
       "      <td>0.062</td>\n",
       "      <td>39.0</td>\n",
       "      <td>51.0</td>\n",
       "      <td>0.99512</td>\n",
       "      <td>3.52</td>\n",
       "      <td>0.76</td>\n",
       "      <td>11.2</td>\n",
       "      <td>0</td>\n",
       "    </tr>\n",
       "    <tr>\n",
       "      <th>1597</th>\n",
       "      <td>5.9</td>\n",
       "      <td>0.645</td>\n",
       "      <td>0.12</td>\n",
       "      <td>2.0</td>\n",
       "      <td>0.075</td>\n",
       "      <td>32.0</td>\n",
       "      <td>44.0</td>\n",
       "      <td>0.99547</td>\n",
       "      <td>3.57</td>\n",
       "      <td>0.71</td>\n",
       "      <td>10.2</td>\n",
       "      <td>0</td>\n",
       "    </tr>\n",
       "    <tr>\n",
       "      <th>1598</th>\n",
       "      <td>6.0</td>\n",
       "      <td>0.310</td>\n",
       "      <td>0.47</td>\n",
       "      <td>3.6</td>\n",
       "      <td>0.067</td>\n",
       "      <td>18.0</td>\n",
       "      <td>42.0</td>\n",
       "      <td>0.99549</td>\n",
       "      <td>3.39</td>\n",
       "      <td>0.66</td>\n",
       "      <td>11.0</td>\n",
       "      <td>0</td>\n",
       "    </tr>\n",
       "  </tbody>\n",
       "</table>\n",
       "<p>1359 rows × 12 columns</p>\n",
       "</div>"
      ],
      "text/plain": [
       "      fixed acidity  volatile acidity  citric acid  residual sugar  chlorides  \\\n",
       "0               7.4             0.700         0.00             1.9      0.076   \n",
       "1               7.8             0.880         0.00             2.6      0.098   \n",
       "2               7.8             0.760         0.04             2.3      0.092   \n",
       "3              11.2             0.280         0.56             1.9      0.075   \n",
       "5               7.4             0.660         0.00             1.8      0.075   \n",
       "...             ...               ...          ...             ...        ...   \n",
       "1593            6.8             0.620         0.08             1.9      0.068   \n",
       "1594            6.2             0.600         0.08             2.0      0.090   \n",
       "1595            5.9             0.550         0.10             2.2      0.062   \n",
       "1597            5.9             0.645         0.12             2.0      0.075   \n",
       "1598            6.0             0.310         0.47             3.6      0.067   \n",
       "\n",
       "      free sulfur dioxide  total sulfur dioxide  density    pH  sulphates  \\\n",
       "0                    11.0                  34.0  0.99780  3.51       0.56   \n",
       "1                    25.0                  67.0  0.99680  3.20       0.68   \n",
       "2                    15.0                  54.0  0.99700  3.26       0.65   \n",
       "3                    17.0                  60.0  0.99800  3.16       0.58   \n",
       "5                    13.0                  40.0  0.99780  3.51       0.56   \n",
       "...                   ...                   ...      ...   ...        ...   \n",
       "1593                 28.0                  38.0  0.99651  3.42       0.82   \n",
       "1594                 32.0                  44.0  0.99490  3.45       0.58   \n",
       "1595                 39.0                  51.0  0.99512  3.52       0.76   \n",
       "1597                 32.0                  44.0  0.99547  3.57       0.71   \n",
       "1598                 18.0                  42.0  0.99549  3.39       0.66   \n",
       "\n",
       "      alcohol  quality  \n",
       "0         9.4        0  \n",
       "1         9.8        0  \n",
       "2         9.8        0  \n",
       "3         9.8        0  \n",
       "5         9.4        0  \n",
       "...       ...      ...  \n",
       "1593      9.5        0  \n",
       "1594     10.5        0  \n",
       "1595     11.2        0  \n",
       "1597     10.2        0  \n",
       "1598     11.0        0  \n",
       "\n",
       "[1359 rows x 12 columns]"
      ]
     },
     "execution_count": 15,
     "metadata": {},
     "output_type": "execute_result"
    }
   ],
   "source": [
    "df2"
   ]
  },
  {
   "cell_type": "code",
   "execution_count": 16,
   "id": "e1d2b4a1",
   "metadata": {},
   "outputs": [
    {
     "data": {
      "text/plain": [
       "0    1175\n",
       "1     184\n",
       "Name: quality, dtype: int64"
      ]
     },
     "execution_count": 16,
     "metadata": {},
     "output_type": "execute_result"
    }
   ],
   "source": [
    "df2['quality'].value_counts()"
   ]
  },
  {
   "cell_type": "markdown",
   "id": "fb809dfc",
   "metadata": {},
   "source": [
    "CHECKING THE FIRST 5 COLUMNS "
   ]
  },
  {
   "cell_type": "code",
   "execution_count": 17,
   "id": "987a6b39",
   "metadata": {},
   "outputs": [
    {
     "data": {
      "text/html": [
       "<div>\n",
       "<style scoped>\n",
       "    .dataframe tbody tr th:only-of-type {\n",
       "        vertical-align: middle;\n",
       "    }\n",
       "\n",
       "    .dataframe tbody tr th {\n",
       "        vertical-align: top;\n",
       "    }\n",
       "\n",
       "    .dataframe thead th {\n",
       "        text-align: right;\n",
       "    }\n",
       "</style>\n",
       "<table border=\"1\" class=\"dataframe\">\n",
       "  <thead>\n",
       "    <tr style=\"text-align: right;\">\n",
       "      <th></th>\n",
       "      <th>fixed acidity</th>\n",
       "      <th>volatile acidity</th>\n",
       "      <th>citric acid</th>\n",
       "      <th>residual sugar</th>\n",
       "      <th>chlorides</th>\n",
       "      <th>free sulfur dioxide</th>\n",
       "      <th>total sulfur dioxide</th>\n",
       "      <th>density</th>\n",
       "      <th>pH</th>\n",
       "      <th>sulphates</th>\n",
       "      <th>alcohol</th>\n",
       "      <th>quality</th>\n",
       "    </tr>\n",
       "  </thead>\n",
       "  <tbody>\n",
       "    <tr>\n",
       "      <th>0</th>\n",
       "      <td>7.4</td>\n",
       "      <td>0.70</td>\n",
       "      <td>0.00</td>\n",
       "      <td>1.9</td>\n",
       "      <td>0.076</td>\n",
       "      <td>11.0</td>\n",
       "      <td>34.0</td>\n",
       "      <td>0.9978</td>\n",
       "      <td>3.51</td>\n",
       "      <td>0.56</td>\n",
       "      <td>9.4</td>\n",
       "      <td>0</td>\n",
       "    </tr>\n",
       "    <tr>\n",
       "      <th>1</th>\n",
       "      <td>7.8</td>\n",
       "      <td>0.88</td>\n",
       "      <td>0.00</td>\n",
       "      <td>2.6</td>\n",
       "      <td>0.098</td>\n",
       "      <td>25.0</td>\n",
       "      <td>67.0</td>\n",
       "      <td>0.9968</td>\n",
       "      <td>3.20</td>\n",
       "      <td>0.68</td>\n",
       "      <td>9.8</td>\n",
       "      <td>0</td>\n",
       "    </tr>\n",
       "    <tr>\n",
       "      <th>2</th>\n",
       "      <td>7.8</td>\n",
       "      <td>0.76</td>\n",
       "      <td>0.04</td>\n",
       "      <td>2.3</td>\n",
       "      <td>0.092</td>\n",
       "      <td>15.0</td>\n",
       "      <td>54.0</td>\n",
       "      <td>0.9970</td>\n",
       "      <td>3.26</td>\n",
       "      <td>0.65</td>\n",
       "      <td>9.8</td>\n",
       "      <td>0</td>\n",
       "    </tr>\n",
       "    <tr>\n",
       "      <th>3</th>\n",
       "      <td>11.2</td>\n",
       "      <td>0.28</td>\n",
       "      <td>0.56</td>\n",
       "      <td>1.9</td>\n",
       "      <td>0.075</td>\n",
       "      <td>17.0</td>\n",
       "      <td>60.0</td>\n",
       "      <td>0.9980</td>\n",
       "      <td>3.16</td>\n",
       "      <td>0.58</td>\n",
       "      <td>9.8</td>\n",
       "      <td>0</td>\n",
       "    </tr>\n",
       "    <tr>\n",
       "      <th>5</th>\n",
       "      <td>7.4</td>\n",
       "      <td>0.66</td>\n",
       "      <td>0.00</td>\n",
       "      <td>1.8</td>\n",
       "      <td>0.075</td>\n",
       "      <td>13.0</td>\n",
       "      <td>40.0</td>\n",
       "      <td>0.9978</td>\n",
       "      <td>3.51</td>\n",
       "      <td>0.56</td>\n",
       "      <td>9.4</td>\n",
       "      <td>0</td>\n",
       "    </tr>\n",
       "  </tbody>\n",
       "</table>\n",
       "</div>"
      ],
      "text/plain": [
       "   fixed acidity  volatile acidity  citric acid  residual sugar  chlorides  \\\n",
       "0            7.4              0.70         0.00             1.9      0.076   \n",
       "1            7.8              0.88         0.00             2.6      0.098   \n",
       "2            7.8              0.76         0.04             2.3      0.092   \n",
       "3           11.2              0.28         0.56             1.9      0.075   \n",
       "5            7.4              0.66         0.00             1.8      0.075   \n",
       "\n",
       "   free sulfur dioxide  total sulfur dioxide  density    pH  sulphates  \\\n",
       "0                 11.0                  34.0   0.9978  3.51       0.56   \n",
       "1                 25.0                  67.0   0.9968  3.20       0.68   \n",
       "2                 15.0                  54.0   0.9970  3.26       0.65   \n",
       "3                 17.0                  60.0   0.9980  3.16       0.58   \n",
       "5                 13.0                  40.0   0.9978  3.51       0.56   \n",
       "\n",
       "   alcohol  quality  \n",
       "0      9.4        0  \n",
       "1      9.8        0  \n",
       "2      9.8        0  \n",
       "3      9.8        0  \n",
       "5      9.4        0  "
      ]
     },
     "execution_count": 17,
     "metadata": {},
     "output_type": "execute_result"
    }
   ],
   "source": [
    "df2.head()"
   ]
  },
  {
   "cell_type": "markdown",
   "id": "aee4ed12",
   "metadata": {},
   "source": [
    "CHECKING THE LAST 5 COLUMNS"
   ]
  },
  {
   "cell_type": "code",
   "execution_count": 18,
   "id": "b3d19789",
   "metadata": {},
   "outputs": [
    {
     "data": {
      "text/html": [
       "<div>\n",
       "<style scoped>\n",
       "    .dataframe tbody tr th:only-of-type {\n",
       "        vertical-align: middle;\n",
       "    }\n",
       "\n",
       "    .dataframe tbody tr th {\n",
       "        vertical-align: top;\n",
       "    }\n",
       "\n",
       "    .dataframe thead th {\n",
       "        text-align: right;\n",
       "    }\n",
       "</style>\n",
       "<table border=\"1\" class=\"dataframe\">\n",
       "  <thead>\n",
       "    <tr style=\"text-align: right;\">\n",
       "      <th></th>\n",
       "      <th>fixed acidity</th>\n",
       "      <th>volatile acidity</th>\n",
       "      <th>citric acid</th>\n",
       "      <th>residual sugar</th>\n",
       "      <th>chlorides</th>\n",
       "      <th>free sulfur dioxide</th>\n",
       "      <th>total sulfur dioxide</th>\n",
       "      <th>density</th>\n",
       "      <th>pH</th>\n",
       "      <th>sulphates</th>\n",
       "      <th>alcohol</th>\n",
       "      <th>quality</th>\n",
       "    </tr>\n",
       "  </thead>\n",
       "  <tbody>\n",
       "    <tr>\n",
       "      <th>1593</th>\n",
       "      <td>6.8</td>\n",
       "      <td>0.620</td>\n",
       "      <td>0.08</td>\n",
       "      <td>1.9</td>\n",
       "      <td>0.068</td>\n",
       "      <td>28.0</td>\n",
       "      <td>38.0</td>\n",
       "      <td>0.99651</td>\n",
       "      <td>3.42</td>\n",
       "      <td>0.82</td>\n",
       "      <td>9.5</td>\n",
       "      <td>0</td>\n",
       "    </tr>\n",
       "    <tr>\n",
       "      <th>1594</th>\n",
       "      <td>6.2</td>\n",
       "      <td>0.600</td>\n",
       "      <td>0.08</td>\n",
       "      <td>2.0</td>\n",
       "      <td>0.090</td>\n",
       "      <td>32.0</td>\n",
       "      <td>44.0</td>\n",
       "      <td>0.99490</td>\n",
       "      <td>3.45</td>\n",
       "      <td>0.58</td>\n",
       "      <td>10.5</td>\n",
       "      <td>0</td>\n",
       "    </tr>\n",
       "    <tr>\n",
       "      <th>1595</th>\n",
       "      <td>5.9</td>\n",
       "      <td>0.550</td>\n",
       "      <td>0.10</td>\n",
       "      <td>2.2</td>\n",
       "      <td>0.062</td>\n",
       "      <td>39.0</td>\n",
       "      <td>51.0</td>\n",
       "      <td>0.99512</td>\n",
       "      <td>3.52</td>\n",
       "      <td>0.76</td>\n",
       "      <td>11.2</td>\n",
       "      <td>0</td>\n",
       "    </tr>\n",
       "    <tr>\n",
       "      <th>1597</th>\n",
       "      <td>5.9</td>\n",
       "      <td>0.645</td>\n",
       "      <td>0.12</td>\n",
       "      <td>2.0</td>\n",
       "      <td>0.075</td>\n",
       "      <td>32.0</td>\n",
       "      <td>44.0</td>\n",
       "      <td>0.99547</td>\n",
       "      <td>3.57</td>\n",
       "      <td>0.71</td>\n",
       "      <td>10.2</td>\n",
       "      <td>0</td>\n",
       "    </tr>\n",
       "    <tr>\n",
       "      <th>1598</th>\n",
       "      <td>6.0</td>\n",
       "      <td>0.310</td>\n",
       "      <td>0.47</td>\n",
       "      <td>3.6</td>\n",
       "      <td>0.067</td>\n",
       "      <td>18.0</td>\n",
       "      <td>42.0</td>\n",
       "      <td>0.99549</td>\n",
       "      <td>3.39</td>\n",
       "      <td>0.66</td>\n",
       "      <td>11.0</td>\n",
       "      <td>0</td>\n",
       "    </tr>\n",
       "  </tbody>\n",
       "</table>\n",
       "</div>"
      ],
      "text/plain": [
       "      fixed acidity  volatile acidity  citric acid  residual sugar  chlorides  \\\n",
       "1593            6.8             0.620         0.08             1.9      0.068   \n",
       "1594            6.2             0.600         0.08             2.0      0.090   \n",
       "1595            5.9             0.550         0.10             2.2      0.062   \n",
       "1597            5.9             0.645         0.12             2.0      0.075   \n",
       "1598            6.0             0.310         0.47             3.6      0.067   \n",
       "\n",
       "      free sulfur dioxide  total sulfur dioxide  density    pH  sulphates  \\\n",
       "1593                 28.0                  38.0  0.99651  3.42       0.82   \n",
       "1594                 32.0                  44.0  0.99490  3.45       0.58   \n",
       "1595                 39.0                  51.0  0.99512  3.52       0.76   \n",
       "1597                 32.0                  44.0  0.99547  3.57       0.71   \n",
       "1598                 18.0                  42.0  0.99549  3.39       0.66   \n",
       "\n",
       "      alcohol  quality  \n",
       "1593      9.5        0  \n",
       "1594     10.5        0  \n",
       "1595     11.2        0  \n",
       "1597     10.2        0  \n",
       "1598     11.0        0  "
      ]
     },
     "execution_count": 18,
     "metadata": {},
     "output_type": "execute_result"
    }
   ],
   "source": [
    "df2.tail()"
   ]
  },
  {
   "cell_type": "markdown",
   "id": "e76c37d1",
   "metadata": {},
   "source": [
    "CHECKING A SAMPLE COLUMN"
   ]
  },
  {
   "cell_type": "code",
   "execution_count": 19,
   "id": "c7cd7e3a",
   "metadata": {},
   "outputs": [
    {
     "data": {
      "text/html": [
       "<div>\n",
       "<style scoped>\n",
       "    .dataframe tbody tr th:only-of-type {\n",
       "        vertical-align: middle;\n",
       "    }\n",
       "\n",
       "    .dataframe tbody tr th {\n",
       "        vertical-align: top;\n",
       "    }\n",
       "\n",
       "    .dataframe thead th {\n",
       "        text-align: right;\n",
       "    }\n",
       "</style>\n",
       "<table border=\"1\" class=\"dataframe\">\n",
       "  <thead>\n",
       "    <tr style=\"text-align: right;\">\n",
       "      <th></th>\n",
       "      <th>fixed acidity</th>\n",
       "      <th>volatile acidity</th>\n",
       "      <th>citric acid</th>\n",
       "      <th>residual sugar</th>\n",
       "      <th>chlorides</th>\n",
       "      <th>free sulfur dioxide</th>\n",
       "      <th>total sulfur dioxide</th>\n",
       "      <th>density</th>\n",
       "      <th>pH</th>\n",
       "      <th>sulphates</th>\n",
       "      <th>alcohol</th>\n",
       "      <th>quality</th>\n",
       "    </tr>\n",
       "  </thead>\n",
       "  <tbody>\n",
       "    <tr>\n",
       "      <th>241</th>\n",
       "      <td>12.0</td>\n",
       "      <td>0.38</td>\n",
       "      <td>0.56</td>\n",
       "      <td>2.1</td>\n",
       "      <td>0.093</td>\n",
       "      <td>6.0</td>\n",
       "      <td>24.0</td>\n",
       "      <td>0.99925</td>\n",
       "      <td>3.14</td>\n",
       "      <td>0.71</td>\n",
       "      <td>10.9</td>\n",
       "      <td>0</td>\n",
       "    </tr>\n",
       "  </tbody>\n",
       "</table>\n",
       "</div>"
      ],
      "text/plain": [
       "     fixed acidity  volatile acidity  citric acid  residual sugar  chlorides  \\\n",
       "241           12.0              0.38         0.56             2.1      0.093   \n",
       "\n",
       "     free sulfur dioxide  total sulfur dioxide  density    pH  sulphates  \\\n",
       "241                  6.0                  24.0  0.99925  3.14       0.71   \n",
       "\n",
       "     alcohol  quality  \n",
       "241     10.9        0  "
      ]
     },
     "execution_count": 19,
     "metadata": {},
     "output_type": "execute_result"
    }
   ],
   "source": [
    "df2.sample()"
   ]
  },
  {
   "cell_type": "markdown",
   "id": "b161ac95",
   "metadata": {},
   "source": [
    "CHECKING THE DATA TYPE"
   ]
  },
  {
   "cell_type": "code",
   "execution_count": 20,
   "id": "aba81a6a",
   "metadata": {},
   "outputs": [
    {
     "data": {
      "text/plain": [
       "fixed acidity           float64\n",
       "volatile acidity        float64\n",
       "citric acid             float64\n",
       "residual sugar          float64\n",
       "chlorides               float64\n",
       "free sulfur dioxide     float64\n",
       "total sulfur dioxide    float64\n",
       "density                 float64\n",
       "pH                      float64\n",
       "sulphates               float64\n",
       "alcohol                 float64\n",
       "quality                   int64\n",
       "dtype: object"
      ]
     },
     "execution_count": 20,
     "metadata": {},
     "output_type": "execute_result"
    }
   ],
   "source": [
    "df2.dtypes"
   ]
  },
  {
   "cell_type": "markdown",
   "id": "167dcd99",
   "metadata": {},
   "source": [
    "CHECKING FOR ANY NULL VALUES "
   ]
  },
  {
   "cell_type": "code",
   "execution_count": 21,
   "id": "7ba24a0e",
   "metadata": {},
   "outputs": [
    {
     "data": {
      "text/plain": [
       "fixed acidity           0\n",
       "volatile acidity        0\n",
       "citric acid             0\n",
       "residual sugar          0\n",
       "chlorides               0\n",
       "free sulfur dioxide     0\n",
       "total sulfur dioxide    0\n",
       "density                 0\n",
       "pH                      0\n",
       "sulphates               0\n",
       "alcohol                 0\n",
       "quality                 0\n",
       "dtype: int64"
      ]
     },
     "execution_count": 21,
     "metadata": {},
     "output_type": "execute_result"
    }
   ],
   "source": [
    "df2.isnull().sum()"
   ]
  },
  {
   "cell_type": "markdown",
   "id": "f9dc3ad6",
   "metadata": {},
   "source": [
    "EDA"
   ]
  },
  {
   "cell_type": "code",
   "execution_count": 22,
   "id": "0533d808",
   "metadata": {},
   "outputs": [
    {
     "data": {
      "text/plain": [
       "Index(['fixed acidity', 'volatile acidity', 'citric acid', 'residual sugar',\n",
       "       'chlorides', 'free sulfur dioxide', 'total sulfur dioxide', 'density',\n",
       "       'pH', 'sulphates', 'alcohol', 'quality'],\n",
       "      dtype='object')"
      ]
     },
     "execution_count": 22,
     "metadata": {},
     "output_type": "execute_result"
    }
   ],
   "source": [
    "df2.columns"
   ]
  },
  {
   "cell_type": "code",
   "execution_count": 23,
   "id": "632578e8",
   "metadata": {},
   "outputs": [],
   "source": [
    "import seaborn as sns"
   ]
  },
  {
   "cell_type": "markdown",
   "id": "7d3829c6",
   "metadata": {},
   "source": [
    "RELATIONSHIP WITH TARGET "
   ]
  },
  {
   "cell_type": "code",
   "execution_count": 24,
   "id": "aec14742",
   "metadata": {},
   "outputs": [
    {
     "data": {
      "text/plain": [
       "<AxesSubplot:xlabel='fixed acidity', ylabel='quality'>"
      ]
     },
     "execution_count": 24,
     "metadata": {},
     "output_type": "execute_result"
    },
    {
     "data": {
      "image/png": "[encoded data removed]",
      "text/plain": [
       "<Figure size 432x288 with 1 Axes>"
      ]
     },
     "metadata": {
      "needs_background": "light"
     },
     "output_type": "display_data"
    }
   ],
   "source": [
    "sns.scatterplot(x='fixed acidity',y='quality',data=df2)"
   ]
  },
  {
   "cell_type": "markdown",
   "id": "75374440",
   "metadata": {},
   "source": [
    "WE CAN SEE THAT FIXED ACIDITY IS EQUALLY DISTRIBUTED BETWEEN THE RANGE 2 TO 15"
   ]
  },
  {
   "cell_type": "code",
   "execution_count": 25,
   "id": "4074ae4d",
   "metadata": {},
   "outputs": [
    {
     "data": {
      "text/plain": [
       "<AxesSubplot:xlabel='volatile acidity', ylabel='quality'>"
      ]
     },
     "execution_count": 25,
     "metadata": {},
     "output_type": "execute_result"
    },
    {
     "data": {
      "image/png": "[encoded data removed]",
      "text/plain": [
       "<Figure size 432x288 with 1 Axes>"
      ]
     },
     "metadata": {
      "needs_background": "light"
     },
     "output_type": "display_data"
    }
   ],
   "source": [
    "sns.scatterplot(x='volatile acidity',y='quality',data=df2)"
   ]
  },
  {
   "cell_type": "markdown",
   "id": "e5ede71e",
   "metadata": {},
   "source": [
    "WE CAN SEE THAT VOLATILE ACIDITY IS EQUALLY DISTRIBUTED BETWEEN THE RANGE 0.2 TO 0.9"
   ]
  },
  {
   "cell_type": "code",
   "execution_count": 26,
   "id": "e9e2ff09",
   "metadata": {},
   "outputs": [
    {
     "data": {
      "text/plain": [
       "<AxesSubplot:xlabel='citric acid', ylabel='quality'>"
      ]
     },
     "execution_count": 26,
     "metadata": {},
     "output_type": "execute_result"
    },
    {
     "data": {
      "image/png": "[encoded data removed]",
      "text/plain": [
       "<Figure size 432x288 with 1 Axes>"
      ]
     },
     "metadata": {
      "needs_background": "light"
     },
     "output_type": "display_data"
    }
   ],
   "source": [
    "sns.scatterplot(x='citric acid',y='quality',data=df2)"
   ]
  },
  {
   "cell_type": "markdown",
   "id": "a740eee9",
   "metadata": {},
   "source": [
    "WE CAN SEE THAT CITRIC ACID IS EQUALLY DISTRIBUTED BETWEEN THE RANGE 0 TO 0.8"
   ]
  },
  {
   "cell_type": "code",
   "execution_count": 27,
   "id": "de9ace0a",
   "metadata": {},
   "outputs": [
    {
     "data": {
      "text/plain": [
       "<AxesSubplot:xlabel='residual sugar', ylabel='quality'>"
      ]
     },
     "execution_count": 27,
     "metadata": {},
     "output_type": "execute_result"
    },
    {
     "data": {
      "image/png": "[encoded data removed]",
      "text/plain": [
       "<Figure size 432x288 with 1 Axes>"
      ]
     },
     "metadata": {
      "needs_background": "light"
     },
     "output_type": "display_data"
    }
   ],
   "source": [
    "sns.scatterplot(x='residual sugar',y='quality',data=df2)"
   ]
  },
  {
   "cell_type": "markdown",
   "id": "432da44d",
   "metadata": {},
   "source": [
    "WE CAN SEE THAT RESIDUAL SUGAR IS EQUALLY DISTRIBUTED BETWEEN THE RANGE 0 TO 9"
   ]
  },
  {
   "cell_type": "code",
   "execution_count": 28,
   "id": "05c9f537",
   "metadata": {},
   "outputs": [
    {
     "data": {
      "text/plain": [
       "<AxesSubplot:xlabel='chlorides', ylabel='quality'>"
      ]
     },
     "execution_count": 28,
     "metadata": {},
     "output_type": "execute_result"
    },
    {
     "data": {
      "image/png": "[encoded data removed]",
      "text/plain": [
       "<Figure size 432x288 with 1 Axes>"
      ]
     },
     "metadata": {
      "needs_background": "light"
     },
     "output_type": "display_data"
    }
   ],
   "source": [
    "sns.scatterplot(x='chlorides',y='quality',data=df2)"
   ]
  },
  {
   "cell_type": "markdown",
   "id": "0d1d5f2d",
   "metadata": {},
   "source": [
    "WE CAN SEE THAT CHLORIDES IS EQUALLY DISTRIBUTED BETWEEN THE RANGE 0 TO 0.15"
   ]
  },
  {
   "cell_type": "code",
   "execution_count": 29,
   "id": "dd2c2948",
   "metadata": {},
   "outputs": [
    {
     "data": {
      "text/plain": [
       "<AxesSubplot:xlabel='free sulfur dioxide', ylabel='quality'>"
      ]
     },
     "execution_count": 29,
     "metadata": {},
     "output_type": "execute_result"
    },
    {
     "data": {
      "image/png": "[encoded data removed]",
      "text/plain": [
       "<Figure size 432x288 with 1 Axes>"
      ]
     },
     "metadata": {
      "needs_background": "light"
     },
     "output_type": "display_data"
    }
   ],
   "source": [
    "sns.scatterplot(x='free sulfur dioxide',y='quality',data=df2)"
   ]
  },
  {
   "cell_type": "markdown",
   "id": "ddbd06f1",
   "metadata": {},
   "source": [
    "WE CAN SEE THAT FREE SULFUR DIOXIDE IS EQUALLY DISTRIBUTED BETWEEN THE RANGE 0 TO 50"
   ]
  },
  {
   "cell_type": "code",
   "execution_count": 30,
   "id": "7beff622",
   "metadata": {},
   "outputs": [
    {
     "data": {
      "text/plain": [
       "<AxesSubplot:xlabel='total sulfur dioxide', ylabel='quality'>"
      ]
     },
     "execution_count": 30,
     "metadata": {},
     "output_type": "execute_result"
    },
    {
     "data": {
      "image/png": "[encoded data removed]",
      "text/plain": [
       "<Figure size 432x288 with 1 Axes>"
      ]
     },
     "metadata": {
      "needs_background": "light"
     },
     "output_type": "display_data"
    }
   ],
   "source": [
    "sns.scatterplot(x='total sulfur dioxide',y='quality',data=df2)"
   ]
  },
  {
   "cell_type": "markdown",
   "id": "61a430c0",
   "metadata": {},
   "source": [
    "WE CAN SEE THAT TOTAL SULFUR DIOXIDE IS EQUALLY DISTRIBUTED BETWEEN THE RANGE 0 TO 120"
   ]
  },
  {
   "cell_type": "code",
   "execution_count": 31,
   "id": "3b152b4c",
   "metadata": {},
   "outputs": [
    {
     "data": {
      "text/plain": [
       "<AxesSubplot:xlabel='pH', ylabel='quality'>"
      ]
     },
     "execution_count": 31,
     "metadata": {},
     "output_type": "execute_result"
    },
    {
     "data": {
      "image/png": "[encoded data removed]",
      "text/plain": [
       "<Figure size 432x288 with 1 Axes>"
      ]
     },
     "metadata": {
      "needs_background": "light"
     },
     "output_type": "display_data"
    }
   ],
   "source": [
    "sns.scatterplot(x='pH',y='quality',data=df2)"
   ]
  },
  {
   "cell_type": "markdown",
   "id": "0378277f",
   "metadata": {},
   "source": [
    "WE CAN SEE THAT PH IS EQUALLY DISTRIBUTED BETWEEN THE RANGE 2.9 TO 3.8"
   ]
  },
  {
   "cell_type": "code",
   "execution_count": 32,
   "id": "acef2e60",
   "metadata": {},
   "outputs": [
    {
     "data": {
      "text/plain": [
       "<AxesSubplot:xlabel='density', ylabel='quality'>"
      ]
     },
     "execution_count": 32,
     "metadata": {},
     "output_type": "execute_result"
    },
    {
     "data": {
      "image/png": "[encoded data removed]",
      "text/plain": [
       "<Figure size 432x288 with 1 Axes>"
      ]
     },
     "metadata": {
      "needs_background": "light"
     },
     "output_type": "display_data"
    }
   ],
   "source": [
    "sns.scatterplot(x='density',y='quality',data=df2)"
   ]
  },
  {
   "cell_type": "markdown",
   "id": "a47684f8",
   "metadata": {},
   "source": [
    "WE CA SEE THAT DENSITY IS EQUALLY DISTRIBUTED THROUGHOUT THE DATA "
   ]
  },
  {
   "cell_type": "code",
   "execution_count": 33,
   "id": "8a2306a0",
   "metadata": {},
   "outputs": [
    {
     "data": {
      "text/plain": [
       "<AxesSubplot:xlabel='sulphates', ylabel='quality'>"
      ]
     },
     "execution_count": 33,
     "metadata": {},
     "output_type": "execute_result"
    },
    {
     "data": {
      "image/png": "[encoded data removed]",
      "text/plain": [
       "<Figure size 432x288 with 1 Axes>"
      ]
     },
     "metadata": {
      "needs_background": "light"
     },
     "output_type": "display_data"
    }
   ],
   "source": [
    "sns.scatterplot(x='sulphates',y='quality',data=df2)"
   ]
  },
  {
   "cell_type": "markdown",
   "id": "b79bf237",
   "metadata": {},
   "source": [
    "WE CAN SEE THAT SULPHATES IS EQUALLY DISTRIBUTED BETWEEN THE RANGE 0.25 TO 1.15"
   ]
  },
  {
   "cell_type": "code",
   "execution_count": 34,
   "id": "ffcb596b",
   "metadata": {},
   "outputs": [
    {
     "data": {
      "text/plain": [
       "<AxesSubplot:xlabel='alcohol', ylabel='quality'>"
      ]
     },
     "execution_count": 34,
     "metadata": {},
     "output_type": "execute_result"
    },
    {
     "data": {
      "image/png": "[encoded data removed]",
      "text/plain": [
       "<Figure size 432x288 with 1 Axes>"
      ]
     },
     "metadata": {
      "needs_background": "light"
     },
     "output_type": "display_data"
    }
   ],
   "source": [
    "sns.scatterplot(x='alcohol',y='quality',data=df2)"
   ]
  },
  {
   "cell_type": "markdown",
   "id": "8f20594d",
   "metadata": {},
   "source": [
    "WE CAN SEE THAT ALCOHOL IS EQUALLY DISTRIBUTED BETWEEN THE RANGE 9 TO 14"
   ]
  },
  {
   "cell_type": "code",
   "execution_count": 35,
   "id": "72f49f6b",
   "metadata": {},
   "outputs": [
    {
     "data": {
      "text/plain": [
       "<AxesSubplot:xlabel='alcohol', ylabel='Count'>"
      ]
     },
     "execution_count": 35,
     "metadata": {},
     "output_type": "execute_result"
    },
    {
     "data": {
      "image/png": "[encoded data removed]",
      "text/plain": [
       "<Figure size 432x288 with 1 Axes>"
      ]
     },
     "metadata": {
      "needs_background": "light"
     },
     "output_type": "display_data"
    }
   ],
   "source": [
    "sns.histplot(df2['alcohol'],bins=10)"
   ]
  },
  {
   "cell_type": "markdown",
   "id": "2a32c765",
   "metadata": {},
   "source": [
    "THE FREQUENCY OF ALCOHOL IS HIGHEST IN THE RANGE OF 9-10 AND THEN IT DECREASES "
   ]
  },
  {
   "cell_type": "code",
   "execution_count": 36,
   "id": "d4234e4d",
   "metadata": {},
   "outputs": [
    {
     "data": {
      "text/plain": [
       "<AxesSubplot:xlabel='pH', ylabel='Count'>"
      ]
     },
     "execution_count": 36,
     "metadata": {},
     "output_type": "execute_result"
    },
    {
     "data": {
      "image/png": "[encoded data removed]",
      "text/plain": [
       "<Figure size 432x288 with 1 Axes>"
      ]
     },
     "metadata": {
      "needs_background": "light"
     },
     "output_type": "display_data"
    }
   ],
   "source": [
    "sns.histplot(df2['pH'],bins=10)"
   ]
  },
  {
   "cell_type": "markdown",
   "id": "5a2cc24a",
   "metadata": {},
   "source": [
    "THE FREQUENCY OF PH IS HIGHEST IN THE RANGE OF 3.2 TO 3.4 WHICH IS IS MID RANGE AND IT REDUCES ON EITHER SIDES "
   ]
  },
  {
   "cell_type": "code",
   "execution_count": 37,
   "id": "43c79944",
   "metadata": {},
   "outputs": [
    {
     "data": {
      "text/plain": [
       "<AxesSubplot:xlabel='total sulfur dioxide', ylabel='Count'>"
      ]
     },
     "execution_count": 37,
     "metadata": {},
     "output_type": "execute_result"
    },
    {
     "data": {
      "image/png": "[encoded data removed]",
      "text/plain": [
       "<Figure size 432x288 with 1 Axes>"
      ]
     },
     "metadata": {
      "needs_background": "light"
     },
     "output_type": "display_data"
    }
   ],
   "source": [
    "sns.histplot(df2['total sulfur dioxide'],bins=10)"
   ]
  },
  {
   "cell_type": "markdown",
   "id": "7c221ead",
   "metadata": {},
   "source": [
    "THE FREQUENCY OF TOTAL SULFUR DIOXIDE IS HIGHEST IN THE RANGE OF 0-50 AND THEN IT DECREASES "
   ]
  },
  {
   "cell_type": "code",
   "execution_count": 38,
   "id": "25286810",
   "metadata": {},
   "outputs": [
    {
     "data": {
      "text/plain": [
       "<AxesSubplot:xlabel='chlorides', ylabel='Count'>"
      ]
     },
     "execution_count": 38,
     "metadata": {},
     "output_type": "execute_result"
    },
    {
     "data": {
      "image/png": "[encoded data removed]",
      "text/plain": [
       "<Figure size 432x288 with 1 Axes>"
      ]
     },
     "metadata": {
      "needs_background": "light"
     },
     "output_type": "display_data"
    }
   ],
   "source": [
    "sns.histplot(df2['chlorides'],bins=10)"
   ]
  },
  {
   "cell_type": "markdown",
   "id": "140007ec",
   "metadata": {},
   "source": [
    "THE MAX CHLORIDES ARE PRESENT IN THE RANGE OF 0.1 "
   ]
  },
  {
   "cell_type": "code",
   "execution_count": 39,
   "id": "c53863c2",
   "metadata": {},
   "outputs": [
    {
     "data": {
      "text/plain": [
       "<AxesSubplot:xlabel='fixed acidity', ylabel='Count'>"
      ]
     },
     "execution_count": 39,
     "metadata": {},
     "output_type": "execute_result"
    },
    {
     "data": {
      "image/png": "[encoded data removed]",
      "text/plain": [
       "<Figure size 432x288 with 1 Axes>"
      ]
     },
     "metadata": {
      "needs_background": "light"
     },
     "output_type": "display_data"
    }
   ],
   "source": [
    "sns.histplot(df2['fixed acidity'],bins=10)"
   ]
  },
  {
   "cell_type": "markdown",
   "id": "e37c48d3",
   "metadata": {},
   "source": [
    "THE MAX FIXED ACIDITY ARE PRESENT IN THE RANGE OF 7-8"
   ]
  },
  {
   "cell_type": "code",
   "execution_count": 40,
   "id": "7fc827fd",
   "metadata": {},
   "outputs": [
    {
     "data": {
      "text/plain": [
       "<AxesSubplot:xlabel='citric acid', ylabel='Count'>"
      ]
     },
     "execution_count": 40,
     "metadata": {},
     "output_type": "execute_result"
    },
    {
     "data": {
      "image/png": "[encoded data removed]",
      "text/plain": [
       "<Figure size 432x288 with 1 Axes>"
      ]
     },
     "metadata": {
      "needs_background": "light"
     },
     "output_type": "display_data"
    }
   ],
   "source": [
    "sns.histplot(df2['citric acid'],bins=10)"
   ]
  },
  {
   "cell_type": "markdown",
   "id": "e97a49f3",
   "metadata": {},
   "source": [
    "THE MAX CITRIC ACID IS PRESENT IN THE RANGE OF 0 TO 0.1"
   ]
  },
  {
   "cell_type": "code",
   "execution_count": 41,
   "id": "de9a082a",
   "metadata": {},
   "outputs": [
    {
     "data": {
      "text/plain": [
       "<AxesSubplot:xlabel='sulphates', ylabel='alcohol'>"
      ]
     },
     "execution_count": 41,
     "metadata": {},
     "output_type": "execute_result"
    },
    {
     "data": {
      "image/png": "[encoded data removed]",
      "text/plain": [
       "<Figure size 432x288 with 1 Axes>"
      ]
     },
     "metadata": {
      "needs_background": "light"
     },
     "output_type": "display_data"
    }
   ],
   "source": [
    "sns.stripplot(x='sulphates',y='alcohol',data=df2)"
   ]
  },
  {
   "cell_type": "markdown",
   "id": "9b3bbba7",
   "metadata": {},
   "source": [
    "SULPHATES AND ALCOHOL ARE VERY DENSE IN THE INITIAL STAGE AND IT SLOWLY REDUCES "
   ]
  },
  {
   "cell_type": "code",
   "execution_count": 42,
   "id": "5596654c",
   "metadata": {},
   "outputs": [
    {
     "data": {
      "text/plain": [
       "<AxesSubplot:xlabel='chlorides', ylabel='residual sugar'>"
      ]
     },
     "execution_count": 42,
     "metadata": {},
     "output_type": "execute_result"
    },
    {
     "data": {
      "image/png": "[encoded data removed]",
      "text/plain": [
       "<Figure size 432x288 with 1 Axes>"
      ]
     },
     "metadata": {
      "needs_background": "light"
     },
     "output_type": "display_data"
    }
   ],
   "source": [
    "sns.stripplot(x='chlorides',y='residual sugar',data=df2)"
   ]
  },
  {
   "cell_type": "markdown",
   "id": "8fbef182",
   "metadata": {},
   "source": [
    "CHLORIDES AND RESIDUAL SUGAR ARE VERY CONSTANTLY DENSE IN THE RANGE OF 2 "
   ]
  },
  {
   "cell_type": "code",
   "execution_count": 46,
   "id": "6a1dca71",
   "metadata": {},
   "outputs": [
    {
     "data": {
      "text/plain": [
       "Index(['fixed acidity', 'volatile acidity', 'citric acid', 'residual sugar',\n",
       "       'chlorides', 'free sulfur dioxide', 'total sulfur dioxide', 'density',\n",
       "       'pH', 'sulphates', 'alcohol', 'quality'],\n",
       "      dtype='object')"
      ]
     },
     "execution_count": 46,
     "metadata": {},
     "output_type": "execute_result"
    }
   ],
   "source": [
    "df2.columns"
   ]
  },
  {
   "cell_type": "markdown",
   "id": "42014b2c",
   "metadata": {},
   "source": [
    "SKEWNESS CHECK -VISUALLY"
   ]
  },
  {
   "cell_type": "code",
   "execution_count": 47,
   "id": "10b92a3d",
   "metadata": {},
   "outputs": [
    {
     "data": {
      "image/png": "[encoded data removed]",
      "text/plain": [
       "<Figure size 1296x720 with 12 Axes>"
      ]
     },
     "metadata": {
      "needs_background": "light"
     },
     "output_type": "display_data"
    }
   ],
   "source": [
    "df2.plot(kind='density',subplots=True,figsize=(18,10),sharex=False,layout=(3,4))\n",
    "plt.show()"
   ]
  },
  {
   "cell_type": "markdown",
   "id": "55142a0c",
   "metadata": {},
   "source": [
    "SKEWNESS IS PRESENT IN MOST OF THE COLUMNS"
   ]
  },
  {
   "cell_type": "markdown",
   "id": "32c8d8ce",
   "metadata": {},
   "source": [
    "ANALYSIS OF THE STATISTICAL DATA"
   ]
  },
  {
   "cell_type": "code",
   "execution_count": 48,
   "id": "2bd7d54a",
   "metadata": {},
   "outputs": [
    {
     "data": {
      "text/html": [
       "<div>\n",
       "<style scoped>\n",
       "    .dataframe tbody tr th:only-of-type {\n",
       "        vertical-align: middle;\n",
       "    }\n",
       "\n",
       "    .dataframe tbody tr th {\n",
       "        vertical-align: top;\n",
       "    }\n",
       "\n",
       "    .dataframe thead th {\n",
       "        text-align: right;\n",
       "    }\n",
       "</style>\n",
       "<table border=\"1\" class=\"dataframe\">\n",
       "  <thead>\n",
       "    <tr style=\"text-align: right;\">\n",
       "      <th></th>\n",
       "      <th>fixed acidity</th>\n",
       "      <th>volatile acidity</th>\n",
       "      <th>citric acid</th>\n",
       "      <th>residual sugar</th>\n",
       "      <th>chlorides</th>\n",
       "      <th>free sulfur dioxide</th>\n",
       "      <th>total sulfur dioxide</th>\n",
       "      <th>density</th>\n",
       "      <th>pH</th>\n",
       "      <th>sulphates</th>\n",
       "      <th>alcohol</th>\n",
       "      <th>quality</th>\n",
       "    </tr>\n",
       "  </thead>\n",
       "  <tbody>\n",
       "    <tr>\n",
       "      <th>count</th>\n",
       "      <td>1359.000000</td>\n",
       "      <td>1359.000000</td>\n",
       "      <td>1359.000000</td>\n",
       "      <td>1359.000000</td>\n",
       "      <td>1359.000000</td>\n",
       "      <td>1359.000000</td>\n",
       "      <td>1359.000000</td>\n",
       "      <td>1359.000000</td>\n",
       "      <td>1359.000000</td>\n",
       "      <td>1359.000000</td>\n",
       "      <td>1359.000000</td>\n",
       "      <td>1359.000000</td>\n",
       "    </tr>\n",
       "    <tr>\n",
       "      <th>mean</th>\n",
       "      <td>8.310596</td>\n",
       "      <td>0.529478</td>\n",
       "      <td>0.272333</td>\n",
       "      <td>2.523400</td>\n",
       "      <td>0.088124</td>\n",
       "      <td>15.893304</td>\n",
       "      <td>46.825975</td>\n",
       "      <td>0.996709</td>\n",
       "      <td>3.309787</td>\n",
       "      <td>0.658705</td>\n",
       "      <td>10.432315</td>\n",
       "      <td>0.135394</td>\n",
       "    </tr>\n",
       "    <tr>\n",
       "      <th>std</th>\n",
       "      <td>1.736990</td>\n",
       "      <td>0.183031</td>\n",
       "      <td>0.195537</td>\n",
       "      <td>1.352314</td>\n",
       "      <td>0.049377</td>\n",
       "      <td>10.447270</td>\n",
       "      <td>33.408946</td>\n",
       "      <td>0.001869</td>\n",
       "      <td>0.155036</td>\n",
       "      <td>0.170667</td>\n",
       "      <td>1.082065</td>\n",
       "      <td>0.342270</td>\n",
       "    </tr>\n",
       "    <tr>\n",
       "      <th>min</th>\n",
       "      <td>4.600000</td>\n",
       "      <td>0.120000</td>\n",
       "      <td>0.000000</td>\n",
       "      <td>0.900000</td>\n",
       "      <td>0.012000</td>\n",
       "      <td>1.000000</td>\n",
       "      <td>6.000000</td>\n",
       "      <td>0.990070</td>\n",
       "      <td>2.740000</td>\n",
       "      <td>0.330000</td>\n",
       "      <td>8.400000</td>\n",
       "      <td>0.000000</td>\n",
       "    </tr>\n",
       "    <tr>\n",
       "      <th>25%</th>\n",
       "      <td>7.100000</td>\n",
       "      <td>0.390000</td>\n",
       "      <td>0.090000</td>\n",
       "      <td>1.900000</td>\n",
       "      <td>0.070000</td>\n",
       "      <td>7.000000</td>\n",
       "      <td>22.000000</td>\n",
       "      <td>0.995600</td>\n",
       "      <td>3.210000</td>\n",
       "      <td>0.550000</td>\n",
       "      <td>9.500000</td>\n",
       "      <td>0.000000</td>\n",
       "    </tr>\n",
       "    <tr>\n",
       "      <th>50%</th>\n",
       "      <td>7.900000</td>\n",
       "      <td>0.520000</td>\n",
       "      <td>0.260000</td>\n",
       "      <td>2.200000</td>\n",
       "      <td>0.079000</td>\n",
       "      <td>14.000000</td>\n",
       "      <td>38.000000</td>\n",
       "      <td>0.996700</td>\n",
       "      <td>3.310000</td>\n",
       "      <td>0.620000</td>\n",
       "      <td>10.200000</td>\n",
       "      <td>0.000000</td>\n",
       "    </tr>\n",
       "    <tr>\n",
       "      <th>75%</th>\n",
       "      <td>9.200000</td>\n",
       "      <td>0.640000</td>\n",
       "      <td>0.430000</td>\n",
       "      <td>2.600000</td>\n",
       "      <td>0.091000</td>\n",
       "      <td>21.000000</td>\n",
       "      <td>63.000000</td>\n",
       "      <td>0.997820</td>\n",
       "      <td>3.400000</td>\n",
       "      <td>0.730000</td>\n",
       "      <td>11.100000</td>\n",
       "      <td>0.000000</td>\n",
       "    </tr>\n",
       "    <tr>\n",
       "      <th>max</th>\n",
       "      <td>15.900000</td>\n",
       "      <td>1.580000</td>\n",
       "      <td>1.000000</td>\n",
       "      <td>15.500000</td>\n",
       "      <td>0.611000</td>\n",
       "      <td>72.000000</td>\n",
       "      <td>289.000000</td>\n",
       "      <td>1.003690</td>\n",
       "      <td>4.010000</td>\n",
       "      <td>2.000000</td>\n",
       "      <td>14.900000</td>\n",
       "      <td>1.000000</td>\n",
       "    </tr>\n",
       "  </tbody>\n",
       "</table>\n",
       "</div>"
      ],
      "text/plain": [
       "       fixed acidity  volatile acidity  citric acid  residual sugar  \\\n",
       "count    1359.000000       1359.000000  1359.000000     1359.000000   \n",
       "mean        8.310596          0.529478     0.272333        2.523400   \n",
       "std         1.736990          0.183031     0.195537        1.352314   \n",
       "min         4.600000          0.120000     0.000000        0.900000   \n",
       "25%         7.100000          0.390000     0.090000        1.900000   \n",
       "50%         7.900000          0.520000     0.260000        2.200000   \n",
       "75%         9.200000          0.640000     0.430000        2.600000   \n",
       "max        15.900000          1.580000     1.000000       15.500000   \n",
       "\n",
       "         chlorides  free sulfur dioxide  total sulfur dioxide      density  \\\n",
       "count  1359.000000          1359.000000           1359.000000  1359.000000   \n",
       "mean      0.088124            15.893304             46.825975     0.996709   \n",
       "std       0.049377            10.447270             33.408946     0.001869   \n",
       "min       0.012000             1.000000              6.000000     0.990070   \n",
       "25%       0.070000             7.000000             22.000000     0.995600   \n",
       "50%       0.079000            14.000000             38.000000     0.996700   \n",
       "75%       0.091000            21.000000             63.000000     0.997820   \n",
       "max       0.611000            72.000000            289.000000     1.003690   \n",
       "\n",
       "                pH    sulphates      alcohol      quality  \n",
       "count  1359.000000  1359.000000  1359.000000  1359.000000  \n",
       "mean      3.309787     0.658705    10.432315     0.135394  \n",
       "std       0.155036     0.170667     1.082065     0.342270  \n",
       "min       2.740000     0.330000     8.400000     0.000000  \n",
       "25%       3.210000     0.550000     9.500000     0.000000  \n",
       "50%       3.310000     0.620000    10.200000     0.000000  \n",
       "75%       3.400000     0.730000    11.100000     0.000000  \n",
       "max       4.010000     2.000000    14.900000     1.000000  "
      ]
     },
     "execution_count": 48,
     "metadata": {},
     "output_type": "execute_result"
    }
   ],
   "source": [
    "df2.describe()"
   ]
  },
  {
   "cell_type": "markdown",
   "id": "2b7a9894",
   "metadata": {},
   "source": [
    "CASES WHERE MEAN IS COMPARATIVELY HIGHER THAN THE MEDIAN"
   ]
  },
  {
   "cell_type": "markdown",
   "id": "e8ddb541",
   "metadata": {},
   "source": [
    "FIXED ACIDITY,\n",
    "TOTAL SULFUR DIOXIDE\n"
   ]
  },
  {
   "cell_type": "markdown",
   "id": "f7d51956",
   "metadata": {},
   "source": [
    "NO CASES OF MEDIAN BEING HIGHER THAN THE MEAN"
   ]
  },
  {
   "cell_type": "markdown",
   "id": "68b50097",
   "metadata": {},
   "source": [
    "OUTLIERS ARE PRESENT IN THE MENTIONED COLUMNS AS THE DIFFERENCE BETWEEN THE 75TH PERCENTILE AND THE MAX VALUE IS SIGNIFICANTLY HIGH"
   ]
  },
  {
   "cell_type": "markdown",
   "id": "38283d28",
   "metadata": {},
   "source": [
    "VOLATILE ACID,\n",
    "CITRIC ACID,\n",
    "RESIDUAL SUGAR,\n",
    "FREE SULFUR DIOXIDE,\n",
    "TOTAL SULFUR DIOXIDE,\n",
    "SULPHATES,"
   ]
  },
  {
   "cell_type": "code",
   "execution_count": 49,
   "id": "494718b2",
   "metadata": {},
   "outputs": [],
   "source": [
    "import matplotlib.pyplot as plt\n",
    "import seaborn as sns"
   ]
  },
  {
   "cell_type": "markdown",
   "id": "7b4181b0",
   "metadata": {},
   "source": [
    "CHECKING CORRELATION -OVERALL "
   ]
  },
  {
   "cell_type": "code",
   "execution_count": 50,
   "id": "91b92b4e",
   "metadata": {},
   "outputs": [
    {
     "data": {
      "text/html": [
       "<div>\n",
       "<style scoped>\n",
       "    .dataframe tbody tr th:only-of-type {\n",
       "        vertical-align: middle;\n",
       "    }\n",
       "\n",
       "    .dataframe tbody tr th {\n",
       "        vertical-align: top;\n",
       "    }\n",
       "\n",
       "    .dataframe thead th {\n",
       "        text-align: right;\n",
       "    }\n",
       "</style>\n",
       "<table border=\"1\" class=\"dataframe\">\n",
       "  <thead>\n",
       "    <tr style=\"text-align: right;\">\n",
       "      <th></th>\n",
       "      <th>fixed acidity</th>\n",
       "      <th>volatile acidity</th>\n",
       "      <th>citric acid</th>\n",
       "      <th>residual sugar</th>\n",
       "      <th>chlorides</th>\n",
       "      <th>free sulfur dioxide</th>\n",
       "      <th>total sulfur dioxide</th>\n",
       "      <th>density</th>\n",
       "      <th>pH</th>\n",
       "      <th>sulphates</th>\n",
       "      <th>alcohol</th>\n",
       "      <th>quality</th>\n",
       "    </tr>\n",
       "  </thead>\n",
       "  <tbody>\n",
       "    <tr>\n",
       "      <th>fixed acidity</th>\n",
       "      <td>1.000000</td>\n",
       "      <td>-0.255124</td>\n",
       "      <td>0.667437</td>\n",
       "      <td>0.111025</td>\n",
       "      <td>0.085886</td>\n",
       "      <td>-0.140580</td>\n",
       "      <td>-0.103777</td>\n",
       "      <td>0.670195</td>\n",
       "      <td>-0.686685</td>\n",
       "      <td>0.190269</td>\n",
       "      <td>-0.061596</td>\n",
       "      <td>0.116120</td>\n",
       "    </tr>\n",
       "    <tr>\n",
       "      <th>volatile acidity</th>\n",
       "      <td>-0.255124</td>\n",
       "      <td>1.000000</td>\n",
       "      <td>-0.551248</td>\n",
       "      <td>-0.002449</td>\n",
       "      <td>0.055154</td>\n",
       "      <td>-0.020945</td>\n",
       "      <td>0.071701</td>\n",
       "      <td>0.023943</td>\n",
       "      <td>0.247111</td>\n",
       "      <td>-0.256948</td>\n",
       "      <td>-0.197812</td>\n",
       "      <td>-0.267344</td>\n",
       "    </tr>\n",
       "    <tr>\n",
       "      <th>citric acid</th>\n",
       "      <td>0.667437</td>\n",
       "      <td>-0.551248</td>\n",
       "      <td>1.000000</td>\n",
       "      <td>0.143892</td>\n",
       "      <td>0.210195</td>\n",
       "      <td>-0.048004</td>\n",
       "      <td>0.047358</td>\n",
       "      <td>0.357962</td>\n",
       "      <td>-0.550310</td>\n",
       "      <td>0.326062</td>\n",
       "      <td>0.105108</td>\n",
       "      <td>0.203561</td>\n",
       "    </tr>\n",
       "    <tr>\n",
       "      <th>residual sugar</th>\n",
       "      <td>0.111025</td>\n",
       "      <td>-0.002449</td>\n",
       "      <td>0.143892</td>\n",
       "      <td>1.000000</td>\n",
       "      <td>0.026656</td>\n",
       "      <td>0.160527</td>\n",
       "      <td>0.201038</td>\n",
       "      <td>0.324522</td>\n",
       "      <td>-0.083143</td>\n",
       "      <td>-0.011837</td>\n",
       "      <td>0.063281</td>\n",
       "      <td>0.052811</td>\n",
       "    </tr>\n",
       "    <tr>\n",
       "      <th>chlorides</th>\n",
       "      <td>0.085886</td>\n",
       "      <td>0.055154</td>\n",
       "      <td>0.210195</td>\n",
       "      <td>0.026656</td>\n",
       "      <td>1.000000</td>\n",
       "      <td>0.000749</td>\n",
       "      <td>0.045773</td>\n",
       "      <td>0.193592</td>\n",
       "      <td>-0.270893</td>\n",
       "      <td>0.394557</td>\n",
       "      <td>-0.223824</td>\n",
       "      <td>-0.096806</td>\n",
       "    </tr>\n",
       "    <tr>\n",
       "      <th>free sulfur dioxide</th>\n",
       "      <td>-0.140580</td>\n",
       "      <td>-0.020945</td>\n",
       "      <td>-0.048004</td>\n",
       "      <td>0.160527</td>\n",
       "      <td>0.000749</td>\n",
       "      <td>1.000000</td>\n",
       "      <td>0.667246</td>\n",
       "      <td>-0.018071</td>\n",
       "      <td>0.056631</td>\n",
       "      <td>0.054126</td>\n",
       "      <td>-0.080125</td>\n",
       "      <td>-0.072771</td>\n",
       "    </tr>\n",
       "    <tr>\n",
       "      <th>total sulfur dioxide</th>\n",
       "      <td>-0.103777</td>\n",
       "      <td>0.071701</td>\n",
       "      <td>0.047358</td>\n",
       "      <td>0.201038</td>\n",
       "      <td>0.045773</td>\n",
       "      <td>0.667246</td>\n",
       "      <td>1.000000</td>\n",
       "      <td>0.078141</td>\n",
       "      <td>-0.079257</td>\n",
       "      <td>0.035291</td>\n",
       "      <td>-0.217829</td>\n",
       "      <td>-0.135877</td>\n",
       "    </tr>\n",
       "    <tr>\n",
       "      <th>density</th>\n",
       "      <td>0.670195</td>\n",
       "      <td>0.023943</td>\n",
       "      <td>0.357962</td>\n",
       "      <td>0.324522</td>\n",
       "      <td>0.193592</td>\n",
       "      <td>-0.018071</td>\n",
       "      <td>0.078141</td>\n",
       "      <td>1.000000</td>\n",
       "      <td>-0.355617</td>\n",
       "      <td>0.146036</td>\n",
       "      <td>-0.504995</td>\n",
       "      <td>-0.158052</td>\n",
       "    </tr>\n",
       "    <tr>\n",
       "      <th>pH</th>\n",
       "      <td>-0.686685</td>\n",
       "      <td>0.247111</td>\n",
       "      <td>-0.550310</td>\n",
       "      <td>-0.083143</td>\n",
       "      <td>-0.270893</td>\n",
       "      <td>0.056631</td>\n",
       "      <td>-0.079257</td>\n",
       "      <td>-0.355617</td>\n",
       "      <td>1.000000</td>\n",
       "      <td>-0.214134</td>\n",
       "      <td>0.213418</td>\n",
       "      <td>-0.054131</td>\n",
       "    </tr>\n",
       "    <tr>\n",
       "      <th>sulphates</th>\n",
       "      <td>0.190269</td>\n",
       "      <td>-0.256948</td>\n",
       "      <td>0.326062</td>\n",
       "      <td>-0.011837</td>\n",
       "      <td>0.394557</td>\n",
       "      <td>0.054126</td>\n",
       "      <td>0.035291</td>\n",
       "      <td>0.146036</td>\n",
       "      <td>-0.214134</td>\n",
       "      <td>1.000000</td>\n",
       "      <td>0.091621</td>\n",
       "      <td>0.201551</td>\n",
       "    </tr>\n",
       "    <tr>\n",
       "      <th>alcohol</th>\n",
       "      <td>-0.061596</td>\n",
       "      <td>-0.197812</td>\n",
       "      <td>0.105108</td>\n",
       "      <td>0.063281</td>\n",
       "      <td>-0.223824</td>\n",
       "      <td>-0.080125</td>\n",
       "      <td>-0.217829</td>\n",
       "      <td>-0.504995</td>\n",
       "      <td>0.213418</td>\n",
       "      <td>0.091621</td>\n",
       "      <td>1.000000</td>\n",
       "      <td>0.409926</td>\n",
       "    </tr>\n",
       "    <tr>\n",
       "      <th>quality</th>\n",
       "      <td>0.116120</td>\n",
       "      <td>-0.267344</td>\n",
       "      <td>0.203561</td>\n",
       "      <td>0.052811</td>\n",
       "      <td>-0.096806</td>\n",
       "      <td>-0.072771</td>\n",
       "      <td>-0.135877</td>\n",
       "      <td>-0.158052</td>\n",
       "      <td>-0.054131</td>\n",
       "      <td>0.201551</td>\n",
       "      <td>0.409926</td>\n",
       "      <td>1.000000</td>\n",
       "    </tr>\n",
       "  </tbody>\n",
       "</table>\n",
       "</div>"
      ],
      "text/plain": [
       "                      fixed acidity  volatile acidity  citric acid  \\\n",
       "fixed acidity              1.000000         -0.255124     0.667437   \n",
       "volatile acidity          -0.255124          1.000000    -0.551248   \n",
       "citric acid                0.667437         -0.551248     1.000000   \n",
       "residual sugar             0.111025         -0.002449     0.143892   \n",
       "chlorides                  0.085886          0.055154     0.210195   \n",
       "free sulfur dioxide       -0.140580         -0.020945    -0.048004   \n",
       "total sulfur dioxide      -0.103777          0.071701     0.047358   \n",
       "density                    0.670195          0.023943     0.357962   \n",
       "pH                        -0.686685          0.247111    -0.550310   \n",
       "sulphates                  0.190269         -0.256948     0.326062   \n",
       "alcohol                   -0.061596         -0.197812     0.105108   \n",
       "quality                    0.116120         -0.267344     0.203561   \n",
       "\n",
       "                      residual sugar  chlorides  free sulfur dioxide  \\\n",
       "fixed acidity               0.111025   0.085886            -0.140580   \n",
       "volatile acidity           -0.002449   0.055154            -0.020945   \n",
       "citric acid                 0.143892   0.210195            -0.048004   \n",
       "residual sugar              1.000000   0.026656             0.160527   \n",
       "chlorides                   0.026656   1.000000             0.000749   \n",
       "free sulfur dioxide         0.160527   0.000749             1.000000   \n",
       "total sulfur dioxide        0.201038   0.045773             0.667246   \n",
       "density                     0.324522   0.193592            -0.018071   \n",
       "pH                         -0.083143  -0.270893             0.056631   \n",
       "sulphates                  -0.011837   0.394557             0.054126   \n",
       "alcohol                     0.063281  -0.223824            -0.080125   \n",
       "quality                     0.052811  -0.096806            -0.072771   \n",
       "\n",
       "                      total sulfur dioxide   density        pH  sulphates  \\\n",
       "fixed acidity                    -0.103777  0.670195 -0.686685   0.190269   \n",
       "volatile acidity                  0.071701  0.023943  0.247111  -0.256948   \n",
       "citric acid                       0.047358  0.357962 -0.550310   0.326062   \n",
       "residual sugar                    0.201038  0.324522 -0.083143  -0.011837   \n",
       "chlorides                         0.045773  0.193592 -0.270893   0.394557   \n",
       "free sulfur dioxide               0.667246 -0.018071  0.056631   0.054126   \n",
       "total sulfur dioxide              1.000000  0.078141 -0.079257   0.035291   \n",
       "density                           0.078141  1.000000 -0.355617   0.146036   \n",
       "pH                               -0.079257 -0.355617  1.000000  -0.214134   \n",
       "sulphates                         0.035291  0.146036 -0.214134   1.000000   \n",
       "alcohol                          -0.217829 -0.504995  0.213418   0.091621   \n",
       "quality                          -0.135877 -0.158052 -0.054131   0.201551   \n",
       "\n",
       "                       alcohol   quality  \n",
       "fixed acidity        -0.061596  0.116120  \n",
       "volatile acidity     -0.197812 -0.267344  \n",
       "citric acid           0.105108  0.203561  \n",
       "residual sugar        0.063281  0.052811  \n",
       "chlorides            -0.223824 -0.096806  \n",
       "free sulfur dioxide  -0.080125 -0.072771  \n",
       "total sulfur dioxide -0.217829 -0.135877  \n",
       "density              -0.504995 -0.158052  \n",
       "pH                    0.213418 -0.054131  \n",
       "sulphates             0.091621  0.201551  \n",
       "alcohol               1.000000  0.409926  \n",
       "quality               0.409926  1.000000  "
      ]
     },
     "execution_count": 50,
     "metadata": {},
     "output_type": "execute_result"
    }
   ],
   "source": [
    "df2.corr()"
   ]
  },
  {
   "cell_type": "code",
   "execution_count": 51,
   "id": "f86cbdcc",
   "metadata": {},
   "outputs": [
    {
     "data": {
      "text/plain": [
       "<AxesSubplot:>"
      ]
     },
     "execution_count": 51,
     "metadata": {},
     "output_type": "execute_result"
    },
    {
     "data": {
      "image/png": "[encoded data removed]",
      "text/plain": [
       "<Figure size 720x720 with 2 Axes>"
      ]
     },
     "metadata": {
      "needs_background": "light"
     },
     "output_type": "display_data"
    }
   ],
   "source": [
    "plt.figure(figsize=(10,10))\n",
    "sns.heatmap(df2.corr(),annot=True)"
   ]
  },
  {
   "cell_type": "markdown",
   "id": "41e12579",
   "metadata": {},
   "source": [
    "THE HIGHEST CORRELATION FOUND WITHIN THE INDEPENDENT COLUMNS IS 0.67, BY THIS WE CAN CONCLUDE THAT MUTICOLINEARITY MAY NOT EXIST STILL AFTER FINDING OUT THE VIF WE WILL WORK ON IT "
   ]
  },
  {
   "cell_type": "markdown",
   "id": "1c753d74",
   "metadata": {},
   "source": [
    "CHECKING CORRELATION WRT TARGET COLUMN"
   ]
  },
  {
   "cell_type": "code",
   "execution_count": 52,
   "id": "32227eb1",
   "metadata": {},
   "outputs": [
    {
     "data": {
      "text/plain": [
       "volatile acidity       -0.267344\n",
       "density                -0.158052\n",
       "total sulfur dioxide   -0.135877\n",
       "chlorides              -0.096806\n",
       "free sulfur dioxide    -0.072771\n",
       "pH                     -0.054131\n",
       "residual sugar          0.052811\n",
       "fixed acidity           0.116120\n",
       "sulphates               0.201551\n",
       "citric acid             0.203561\n",
       "alcohol                 0.409926\n",
       "quality                 1.000000\n",
       "Name: quality, dtype: float64"
      ]
     },
     "execution_count": 52,
     "metadata": {},
     "output_type": "execute_result"
    }
   ],
   "source": [
    "df2.corr()['quality'].sort_values()"
   ]
  },
  {
   "cell_type": "markdown",
   "id": "7b38d8c3",
   "metadata": {},
   "source": [
    "ALCOHOL HAS THE HIGHEST CONTRIBUTION WRT TO THE TARGET COLUMN AND ALL OTHERS HAVE A SLIGHT POSITIVE AND NEGATIVE CORRELATION WITH THE TARGET COLUMN"
   ]
  },
  {
   "cell_type": "markdown",
   "id": "85b65afa",
   "metadata": {},
   "source": [
    "OUTLIERS"
   ]
  },
  {
   "cell_type": "markdown",
   "id": "7473cded",
   "metadata": {},
   "source": [
    "BOXPLOT GRAPHS"
   ]
  },
  {
   "cell_type": "code",
   "execution_count": 53,
   "id": "4e58a7f7",
   "metadata": {},
   "outputs": [
    {
     "data": {
      "text/plain": [
       "Index(['fixed acidity', 'volatile acidity', 'citric acid', 'residual sugar',\n",
       "       'chlorides', 'free sulfur dioxide', 'total sulfur dioxide', 'density',\n",
       "       'pH', 'sulphates', 'alcohol', 'quality'],\n",
       "      dtype='object')"
      ]
     },
     "execution_count": 53,
     "metadata": {},
     "output_type": "execute_result"
    }
   ],
   "source": [
    "df2.columns"
   ]
  },
  {
   "cell_type": "code",
   "execution_count": 54,
   "id": "59cb59c2",
   "metadata": {},
   "outputs": [
    {
     "name": "stderr",
     "output_type": "stream",
     "text": [
      "C:\\Users\\DELL\\anaconda3\\lib\\site-packages\\seaborn\\_decorators.py:36: FutureWarning: Pass the following variable as a keyword arg: x. From version 0.12, the only valid positional argument will be `data`, and passing other arguments without an explicit keyword will result in an error or misinterpretation.\n",
      "  warnings.warn(\n"
     ]
    },
    {
     "data": {
      "text/plain": [
       "<AxesSubplot:xlabel='fixed acidity'>"
      ]
     },
     "execution_count": 54,
     "metadata": {},
     "output_type": "execute_result"
    },
    {
     "data": {
      "image/png": "[encoded data removed]",
      "text/plain": [
       "<Figure size 432x288 with 1 Axes>"
      ]
     },
     "metadata": {
      "needs_background": "light"
     },
     "output_type": "display_data"
    }
   ],
   "source": [
    "sns.boxplot(df2['fixed acidity'])"
   ]
  },
  {
   "cell_type": "code",
   "execution_count": 55,
   "id": "fe8df657",
   "metadata": {},
   "outputs": [
    {
     "name": "stderr",
     "output_type": "stream",
     "text": [
      "C:\\Users\\DELL\\anaconda3\\lib\\site-packages\\seaborn\\_decorators.py:36: FutureWarning: Pass the following variable as a keyword arg: x. From version 0.12, the only valid positional argument will be `data`, and passing other arguments without an explicit keyword will result in an error or misinterpretation.\n",
      "  warnings.warn(\n"
     ]
    },
    {
     "data": {
      "text/plain": [
       "<AxesSubplot:xlabel='volatile acidity'>"
      ]
     },
     "execution_count": 55,
     "metadata": {},
     "output_type": "execute_result"
    },
    {
     "data": {
      "image/png": "[encoded data removed]",
      "text/plain": [
       "<Figure size 432x288 with 1 Axes>"
      ]
     },
     "metadata": {
      "needs_background": "light"
     },
     "output_type": "display_data"
    }
   ],
   "source": [
    "sns.boxplot(df2['volatile acidity'])"
   ]
  },
  {
   "cell_type": "code",
   "execution_count": 56,
   "id": "3624ac66",
   "metadata": {},
   "outputs": [
    {
     "name": "stderr",
     "output_type": "stream",
     "text": [
      "C:\\Users\\DELL\\anaconda3\\lib\\site-packages\\seaborn\\_decorators.py:36: FutureWarning: Pass the following variable as a keyword arg: x. From version 0.12, the only valid positional argument will be `data`, and passing other arguments without an explicit keyword will result in an error or misinterpretation.\n",
      "  warnings.warn(\n"
     ]
    },
    {
     "data": {
      "text/plain": [
       "<AxesSubplot:xlabel='citric acid'>"
      ]
     },
     "execution_count": 56,
     "metadata": {},
     "output_type": "execute_result"
    },
    {
     "data": {
      "image/png": "[encoded data removed]",
      "text/plain": [
       "<Figure size 432x288 with 1 Axes>"
      ]
     },
     "metadata": {
      "needs_background": "light"
     },
     "output_type": "display_data"
    }
   ],
   "source": [
    "sns.boxplot(df2['citric acid'])"
   ]
  },
  {
   "cell_type": "code",
   "execution_count": 57,
   "id": "cf14dfd3",
   "metadata": {},
   "outputs": [
    {
     "name": "stderr",
     "output_type": "stream",
     "text": [
      "C:\\Users\\DELL\\anaconda3\\lib\\site-packages\\seaborn\\_decorators.py:36: FutureWarning: Pass the following variable as a keyword arg: x. From version 0.12, the only valid positional argument will be `data`, and passing other arguments without an explicit keyword will result in an error or misinterpretation.\n",
      "  warnings.warn(\n"
     ]
    },
    {
     "data": {
      "text/plain": [
       "<AxesSubplot:xlabel='residual sugar'>"
      ]
     },
     "execution_count": 57,
     "metadata": {},
     "output_type": "execute_result"
    },
    {
     "data": {
      "image/png": "[encoded data removed]",
      "text/plain": [
       "<Figure size 432x288 with 1 Axes>"
      ]
     },
     "metadata": {
      "needs_background": "light"
     },
     "output_type": "display_data"
    }
   ],
   "source": [
    "sns.boxplot(df2['residual sugar'])"
   ]
  },
  {
   "cell_type": "code",
   "execution_count": 58,
   "id": "3af0515a",
   "metadata": {},
   "outputs": [
    {
     "name": "stderr",
     "output_type": "stream",
     "text": [
      "C:\\Users\\DELL\\anaconda3\\lib\\site-packages\\seaborn\\_decorators.py:36: FutureWarning: Pass the following variable as a keyword arg: x. From version 0.12, the only valid positional argument will be `data`, and passing other arguments without an explicit keyword will result in an error or misinterpretation.\n",
      "  warnings.warn(\n"
     ]
    },
    {
     "data": {
      "text/plain": [
       "<AxesSubplot:xlabel='chlorides'>"
      ]
     },
     "execution_count": 58,
     "metadata": {},
     "output_type": "execute_result"
    },
    {
     "data": {
      "image/png": "[encoded data removed]",
      "text/plain": [
       "<Figure size 432x288 with 1 Axes>"
      ]
     },
     "metadata": {
      "needs_background": "light"
     },
     "output_type": "display_data"
    }
   ],
   "source": [
    "sns.boxplot(df2['chlorides'])"
   ]
  },
  {
   "cell_type": "code",
   "execution_count": 59,
   "id": "dd0b6875",
   "metadata": {},
   "outputs": [
    {
     "name": "stderr",
     "output_type": "stream",
     "text": [
      "C:\\Users\\DELL\\anaconda3\\lib\\site-packages\\seaborn\\_decorators.py:36: FutureWarning: Pass the following variable as a keyword arg: x. From version 0.12, the only valid positional argument will be `data`, and passing other arguments without an explicit keyword will result in an error or misinterpretation.\n",
      "  warnings.warn(\n"
     ]
    },
    {
     "data": {
      "text/plain": [
       "<AxesSubplot:xlabel='free sulfur dioxide'>"
      ]
     },
     "execution_count": 59,
     "metadata": {},
     "output_type": "execute_result"
    },
    {
     "data": {
      "image/png": "[encoded data removed]",
      "text/plain": [
       "<Figure size 432x288 with 1 Axes>"
      ]
     },
     "metadata": {
      "needs_background": "light"
     },
     "output_type": "display_data"
    }
   ],
   "source": [
    "sns.boxplot(df2['free sulfur dioxide'])"
   ]
  },
  {
   "cell_type": "code",
   "execution_count": 60,
   "id": "03f260c6",
   "metadata": {},
   "outputs": [
    {
     "name": "stderr",
     "output_type": "stream",
     "text": [
      "C:\\Users\\DELL\\anaconda3\\lib\\site-packages\\seaborn\\_decorators.py:36: FutureWarning: Pass the following variable as a keyword arg: x. From version 0.12, the only valid positional argument will be `data`, and passing other arguments without an explicit keyword will result in an error or misinterpretation.\n",
      "  warnings.warn(\n"
     ]
    },
    {
     "data": {
      "text/plain": [
       "<AxesSubplot:xlabel='total sulfur dioxide'>"
      ]
     },
     "execution_count": 60,
     "metadata": {},
     "output_type": "execute_result"
    },
    {
     "data": {
      "image/png": "[encoded data removed]",
      "text/plain": [
       "<Figure size 432x288 with 1 Axes>"
      ]
     },
     "metadata": {
      "needs_background": "light"
     },
     "output_type": "display_data"
    }
   ],
   "source": [
    "sns.boxplot(df2['total sulfur dioxide'])"
   ]
  },
  {
   "cell_type": "code",
   "execution_count": 61,
   "id": "ef444456",
   "metadata": {},
   "outputs": [
    {
     "name": "stderr",
     "output_type": "stream",
     "text": [
      "C:\\Users\\DELL\\anaconda3\\lib\\site-packages\\seaborn\\_decorators.py:36: FutureWarning: Pass the following variable as a keyword arg: x. From version 0.12, the only valid positional argument will be `data`, and passing other arguments without an explicit keyword will result in an error or misinterpretation.\n",
      "  warnings.warn(\n"
     ]
    },
    {
     "data": {
      "text/plain": [
       "<AxesSubplot:xlabel='density'>"
      ]
     },
     "execution_count": 61,
     "metadata": {},
     "output_type": "execute_result"
    },
    {
     "data": {
      "image/png": "[encoded data removed]",
      "text/plain": [
       "<Figure size 432x288 with 1 Axes>"
      ]
     },
     "metadata": {
      "needs_background": "light"
     },
     "output_type": "display_data"
    }
   ],
   "source": [
    "sns.boxplot(df2['density'])"
   ]
  },
  {
   "cell_type": "code",
   "execution_count": 62,
   "id": "94d7285e",
   "metadata": {},
   "outputs": [
    {
     "name": "stderr",
     "output_type": "stream",
     "text": [
      "C:\\Users\\DELL\\anaconda3\\lib\\site-packages\\seaborn\\_decorators.py:36: FutureWarning: Pass the following variable as a keyword arg: x. From version 0.12, the only valid positional argument will be `data`, and passing other arguments without an explicit keyword will result in an error or misinterpretation.\n",
      "  warnings.warn(\n"
     ]
    },
    {
     "data": {
      "text/plain": [
       "<AxesSubplot:xlabel='pH'>"
      ]
     },
     "execution_count": 62,
     "metadata": {},
     "output_type": "execute_result"
    },
    {
     "data": {
      "image/png": "[encoded data removed]",
      "text/plain": [
       "<Figure size 432x288 with 1 Axes>"
      ]
     },
     "metadata": {
      "needs_background": "light"
     },
     "output_type": "display_data"
    }
   ],
   "source": [
    "sns.boxplot(df2['pH'])"
   ]
  },
  {
   "cell_type": "code",
   "execution_count": 63,
   "id": "15508edf",
   "metadata": {},
   "outputs": [
    {
     "name": "stderr",
     "output_type": "stream",
     "text": [
      "C:\\Users\\DELL\\anaconda3\\lib\\site-packages\\seaborn\\_decorators.py:36: FutureWarning: Pass the following variable as a keyword arg: x. From version 0.12, the only valid positional argument will be `data`, and passing other arguments without an explicit keyword will result in an error or misinterpretation.\n",
      "  warnings.warn(\n"
     ]
    },
    {
     "data": {
      "text/plain": [
       "<AxesSubplot:xlabel='sulphates'>"
      ]
     },
     "execution_count": 63,
     "metadata": {},
     "output_type": "execute_result"
    },
    {
     "data": {
      "image/png": "[encoded data removed]",
      "text/plain": [
       "<Figure size 432x288 with 1 Axes>"
      ]
     },
     "metadata": {
      "needs_background": "light"
     },
     "output_type": "display_data"
    }
   ],
   "source": [
    "sns.boxplot(df2['sulphates'])"
   ]
  },
  {
   "cell_type": "code",
   "execution_count": 64,
   "id": "62cce0ca",
   "metadata": {},
   "outputs": [
    {
     "name": "stderr",
     "output_type": "stream",
     "text": [
      "C:\\Users\\DELL\\anaconda3\\lib\\site-packages\\seaborn\\_decorators.py:36: FutureWarning: Pass the following variable as a keyword arg: x. From version 0.12, the only valid positional argument will be `data`, and passing other arguments without an explicit keyword will result in an error or misinterpretation.\n",
      "  warnings.warn(\n"
     ]
    },
    {
     "data": {
      "text/plain": [
       "<AxesSubplot:xlabel='alcohol'>"
      ]
     },
     "execution_count": 64,
     "metadata": {},
     "output_type": "execute_result"
    },
    {
     "data": {
      "image/png": "[encoded data removed]",
      "text/plain": [
       "<Figure size 432x288 with 1 Axes>"
      ]
     },
     "metadata": {
      "needs_background": "light"
     },
     "output_type": "display_data"
    }
   ],
   "source": [
    "sns.boxplot(df2['alcohol'])"
   ]
  },
  {
   "cell_type": "markdown",
   "id": "396ceec9",
   "metadata": {},
   "source": [
    "ALMOST ALL THE COLUMNS HAVE OUTLIERS NHENCE WE WILL USE ZSCORE TO REMOVE THEM"
   ]
  },
  {
   "cell_type": "markdown",
   "id": "348a43d1",
   "metadata": {},
   "source": [
    "REMOVING OUTLIERS"
   ]
  },
  {
   "cell_type": "code",
   "execution_count": 65,
   "id": "4a67b767",
   "metadata": {},
   "outputs": [],
   "source": [
    "from scipy.stats import zscore"
   ]
  },
  {
   "cell_type": "code",
   "execution_count": 66,
   "id": "7867d7d8",
   "metadata": {},
   "outputs": [],
   "source": [
    "z=np.abs(zscore(df2))"
   ]
  },
  {
   "cell_type": "code",
   "execution_count": 67,
   "id": "b9b92b82",
   "metadata": {},
   "outputs": [
    {
     "name": "stdout",
     "output_type": "stream",
     "text": [
      "(array([  11,   12,   13,   13,   15,   15,   17,   30,   35,   38,   39,\n",
      "         41,   53,   75,   75,   77,   80,   82,   85,   87,   96,   96,\n",
      "         99,  114,  115,  127,  135,  135,  135,  135,  144,  145,  150,\n",
      "        150,  159,  176,  202,  202,  211,  214,  226,  226,  241,  245,\n",
      "        252,  282,  295,  296,  302,  309,  328,  334,  346,  346,  361,\n",
      "        363,  385,  385,  393,  408,  420,  420,  433,  448,  473,  483,\n",
      "        483,  485,  485,  492,  506,  510,  513,  516,  528,  534,  555,\n",
      "        562,  562,  564,  565,  565,  565,  582,  582,  592,  597,  599,\n",
      "        602,  626,  627,  632,  652,  671,  672,  687,  710,  722,  764,\n",
      "        764,  781,  786,  791,  792,  838,  866,  888,  895,  895,  912,\n",
      "        918,  918,  920,  920,  945,  948,  963,  985,  994, 1003, 1013,\n",
      "       1049, 1052, 1060, 1060, 1060, 1073, 1081, 1081, 1082, 1082, 1103,\n",
      "       1106, 1107, 1117, 1121, 1123, 1123, 1125, 1151, 1159, 1162, 1165,\n",
      "       1216, 1216, 1216, 1250, 1250, 1250, 1325, 1325, 1336, 1350],\n",
      "      dtype=int64), array([ 9,  5,  5,  6,  4,  9,  4,  3,  1,  4,  9,  8,  5,  4,  9,  4,  9,\n",
      "        9,  9,  8,  4,  9,  6,  1,  1, 10,  2,  4,  8,  9,  3,  3,  4,  9,\n",
      "        4,  1,  4,  9,  4,  0,  4,  9,  3,  4,  4,  3,  9,  9,  0,  6,  0,\n",
      "        0,  3,  5,  3,  3,  0,  7,  4, 10,  3,  7,  3,  6,  0,  0,  7,  0,\n",
      "        7,  4,  5, 10,  6,  3,  7,  9,  9,  3,  6,  6,  0,  3, 10,  1,  6,\n",
      "        6,  1,  4,  8,  9,  1,  4,  4,  4,  4,  9, 10,  7,  3,  7,  3,  3,\n",
      "        5,  5,  5,  7,  3,  4,  9,  3,  3,  6,  3,  6,  8,  7,  5,  5,  4,\n",
      "        5,  3,  5,  3,  3,  5,  6,  4,  7, 10,  7, 10,  5,  1,  8,  1,  8,\n",
      "        4,  9,  8,  5,  9,  4,  4,  3,  5,  7,  3,  5,  7,  3,  5,  3,  3],\n",
      "      dtype=int64))\n"
     ]
    }
   ],
   "source": [
    "print(np.where(z>3))"
   ]
  },
  {
   "cell_type": "code",
   "execution_count": 68,
   "id": "c0d5cdb8",
   "metadata": {},
   "outputs": [],
   "source": [
    "newdf=df2[(z<3).all(axis=1)]"
   ]
  },
  {
   "cell_type": "code",
   "execution_count": 69,
   "id": "0a6c239d",
   "metadata": {},
   "outputs": [
    {
     "data": {
      "text/html": [
       "<div>\n",
       "<style scoped>\n",
       "    .dataframe tbody tr th:only-of-type {\n",
       "        vertical-align: middle;\n",
       "    }\n",
       "\n",
       "    .dataframe tbody tr th {\n",
       "        vertical-align: top;\n",
       "    }\n",
       "\n",
       "    .dataframe thead th {\n",
       "        text-align: right;\n",
       "    }\n",
       "</style>\n",
       "<table border=\"1\" class=\"dataframe\">\n",
       "  <thead>\n",
       "    <tr style=\"text-align: right;\">\n",
       "      <th></th>\n",
       "      <th>fixed acidity</th>\n",
       "      <th>volatile acidity</th>\n",
       "      <th>citric acid</th>\n",
       "      <th>residual sugar</th>\n",
       "      <th>chlorides</th>\n",
       "      <th>free sulfur dioxide</th>\n",
       "      <th>total sulfur dioxide</th>\n",
       "      <th>density</th>\n",
       "      <th>pH</th>\n",
       "      <th>sulphates</th>\n",
       "      <th>alcohol</th>\n",
       "      <th>quality</th>\n",
       "    </tr>\n",
       "  </thead>\n",
       "  <tbody>\n",
       "    <tr>\n",
       "      <th>0</th>\n",
       "      <td>7.4</td>\n",
       "      <td>0.700</td>\n",
       "      <td>0.00</td>\n",
       "      <td>1.9</td>\n",
       "      <td>0.076</td>\n",
       "      <td>11.0</td>\n",
       "      <td>34.0</td>\n",
       "      <td>0.99780</td>\n",
       "      <td>3.51</td>\n",
       "      <td>0.56</td>\n",
       "      <td>9.4</td>\n",
       "      <td>0</td>\n",
       "    </tr>\n",
       "    <tr>\n",
       "      <th>1</th>\n",
       "      <td>7.8</td>\n",
       "      <td>0.880</td>\n",
       "      <td>0.00</td>\n",
       "      <td>2.6</td>\n",
       "      <td>0.098</td>\n",
       "      <td>25.0</td>\n",
       "      <td>67.0</td>\n",
       "      <td>0.99680</td>\n",
       "      <td>3.20</td>\n",
       "      <td>0.68</td>\n",
       "      <td>9.8</td>\n",
       "      <td>0</td>\n",
       "    </tr>\n",
       "    <tr>\n",
       "      <th>2</th>\n",
       "      <td>7.8</td>\n",
       "      <td>0.760</td>\n",
       "      <td>0.04</td>\n",
       "      <td>2.3</td>\n",
       "      <td>0.092</td>\n",
       "      <td>15.0</td>\n",
       "      <td>54.0</td>\n",
       "      <td>0.99700</td>\n",
       "      <td>3.26</td>\n",
       "      <td>0.65</td>\n",
       "      <td>9.8</td>\n",
       "      <td>0</td>\n",
       "    </tr>\n",
       "    <tr>\n",
       "      <th>3</th>\n",
       "      <td>11.2</td>\n",
       "      <td>0.280</td>\n",
       "      <td>0.56</td>\n",
       "      <td>1.9</td>\n",
       "      <td>0.075</td>\n",
       "      <td>17.0</td>\n",
       "      <td>60.0</td>\n",
       "      <td>0.99800</td>\n",
       "      <td>3.16</td>\n",
       "      <td>0.58</td>\n",
       "      <td>9.8</td>\n",
       "      <td>0</td>\n",
       "    </tr>\n",
       "    <tr>\n",
       "      <th>5</th>\n",
       "      <td>7.4</td>\n",
       "      <td>0.660</td>\n",
       "      <td>0.00</td>\n",
       "      <td>1.8</td>\n",
       "      <td>0.075</td>\n",
       "      <td>13.0</td>\n",
       "      <td>40.0</td>\n",
       "      <td>0.99780</td>\n",
       "      <td>3.51</td>\n",
       "      <td>0.56</td>\n",
       "      <td>9.4</td>\n",
       "      <td>0</td>\n",
       "    </tr>\n",
       "    <tr>\n",
       "      <th>...</th>\n",
       "      <td>...</td>\n",
       "      <td>...</td>\n",
       "      <td>...</td>\n",
       "      <td>...</td>\n",
       "      <td>...</td>\n",
       "      <td>...</td>\n",
       "      <td>...</td>\n",
       "      <td>...</td>\n",
       "      <td>...</td>\n",
       "      <td>...</td>\n",
       "      <td>...</td>\n",
       "      <td>...</td>\n",
       "    </tr>\n",
       "    <tr>\n",
       "      <th>1593</th>\n",
       "      <td>6.8</td>\n",
       "      <td>0.620</td>\n",
       "      <td>0.08</td>\n",
       "      <td>1.9</td>\n",
       "      <td>0.068</td>\n",
       "      <td>28.0</td>\n",
       "      <td>38.0</td>\n",
       "      <td>0.99651</td>\n",
       "      <td>3.42</td>\n",
       "      <td>0.82</td>\n",
       "      <td>9.5</td>\n",
       "      <td>0</td>\n",
       "    </tr>\n",
       "    <tr>\n",
       "      <th>1594</th>\n",
       "      <td>6.2</td>\n",
       "      <td>0.600</td>\n",
       "      <td>0.08</td>\n",
       "      <td>2.0</td>\n",
       "      <td>0.090</td>\n",
       "      <td>32.0</td>\n",
       "      <td>44.0</td>\n",
       "      <td>0.99490</td>\n",
       "      <td>3.45</td>\n",
       "      <td>0.58</td>\n",
       "      <td>10.5</td>\n",
       "      <td>0</td>\n",
       "    </tr>\n",
       "    <tr>\n",
       "      <th>1595</th>\n",
       "      <td>5.9</td>\n",
       "      <td>0.550</td>\n",
       "      <td>0.10</td>\n",
       "      <td>2.2</td>\n",
       "      <td>0.062</td>\n",
       "      <td>39.0</td>\n",
       "      <td>51.0</td>\n",
       "      <td>0.99512</td>\n",
       "      <td>3.52</td>\n",
       "      <td>0.76</td>\n",
       "      <td>11.2</td>\n",
       "      <td>0</td>\n",
       "    </tr>\n",
       "    <tr>\n",
       "      <th>1597</th>\n",
       "      <td>5.9</td>\n",
       "      <td>0.645</td>\n",
       "      <td>0.12</td>\n",
       "      <td>2.0</td>\n",
       "      <td>0.075</td>\n",
       "      <td>32.0</td>\n",
       "      <td>44.0</td>\n",
       "      <td>0.99547</td>\n",
       "      <td>3.57</td>\n",
       "      <td>0.71</td>\n",
       "      <td>10.2</td>\n",
       "      <td>0</td>\n",
       "    </tr>\n",
       "    <tr>\n",
       "      <th>1598</th>\n",
       "      <td>6.0</td>\n",
       "      <td>0.310</td>\n",
       "      <td>0.47</td>\n",
       "      <td>3.6</td>\n",
       "      <td>0.067</td>\n",
       "      <td>18.0</td>\n",
       "      <td>42.0</td>\n",
       "      <td>0.99549</td>\n",
       "      <td>3.39</td>\n",
       "      <td>0.66</td>\n",
       "      <td>11.0</td>\n",
       "      <td>0</td>\n",
       "    </tr>\n",
       "  </tbody>\n",
       "</table>\n",
       "<p>1239 rows × 12 columns</p>\n",
       "</div>"
      ],
      "text/plain": [
       "      fixed acidity  volatile acidity  citric acid  residual sugar  chlorides  \\\n",
       "0               7.4             0.700         0.00             1.9      0.076   \n",
       "1               7.8             0.880         0.00             2.6      0.098   \n",
       "2               7.8             0.760         0.04             2.3      0.092   \n",
       "3              11.2             0.280         0.56             1.9      0.075   \n",
       "5               7.4             0.660         0.00             1.8      0.075   \n",
       "...             ...               ...          ...             ...        ...   \n",
       "1593            6.8             0.620         0.08             1.9      0.068   \n",
       "1594            6.2             0.600         0.08             2.0      0.090   \n",
       "1595            5.9             0.550         0.10             2.2      0.062   \n",
       "1597            5.9             0.645         0.12             2.0      0.075   \n",
       "1598            6.0             0.310         0.47             3.6      0.067   \n",
       "\n",
       "      free sulfur dioxide  total sulfur dioxide  density    pH  sulphates  \\\n",
       "0                    11.0                  34.0  0.99780  3.51       0.56   \n",
       "1                    25.0                  67.0  0.99680  3.20       0.68   \n",
       "2                    15.0                  54.0  0.99700  3.26       0.65   \n",
       "3                    17.0                  60.0  0.99800  3.16       0.58   \n",
       "5                    13.0                  40.0  0.99780  3.51       0.56   \n",
       "...                   ...                   ...      ...   ...        ...   \n",
       "1593                 28.0                  38.0  0.99651  3.42       0.82   \n",
       "1594                 32.0                  44.0  0.99490  3.45       0.58   \n",
       "1595                 39.0                  51.0  0.99512  3.52       0.76   \n",
       "1597                 32.0                  44.0  0.99547  3.57       0.71   \n",
       "1598                 18.0                  42.0  0.99549  3.39       0.66   \n",
       "\n",
       "      alcohol  quality  \n",
       "0         9.4        0  \n",
       "1         9.8        0  \n",
       "2         9.8        0  \n",
       "3         9.8        0  \n",
       "5         9.4        0  \n",
       "...       ...      ...  \n",
       "1593      9.5        0  \n",
       "1594     10.5        0  \n",
       "1595     11.2        0  \n",
       "1597     10.2        0  \n",
       "1598     11.0        0  \n",
       "\n",
       "[1239 rows x 12 columns]"
      ]
     },
     "execution_count": 69,
     "metadata": {},
     "output_type": "execute_result"
    }
   ],
   "source": [
    "newdf"
   ]
  },
  {
   "cell_type": "code",
   "execution_count": 70,
   "id": "8e080595",
   "metadata": {},
   "outputs": [
    {
     "data": {
      "text/plain": [
       "(1239, 12)"
      ]
     },
     "execution_count": 70,
     "metadata": {},
     "output_type": "execute_result"
    }
   ],
   "source": [
    "newdf.shape"
   ]
  },
  {
   "cell_type": "code",
   "execution_count": 71,
   "id": "d7fbc377",
   "metadata": {},
   "outputs": [
    {
     "data": {
      "text/plain": [
       "(1359, 12)"
      ]
     },
     "execution_count": 71,
     "metadata": {},
     "output_type": "execute_result"
    }
   ],
   "source": [
    "df2.shape"
   ]
  },
  {
   "cell_type": "markdown",
   "id": "72d39b19",
   "metadata": {},
   "source": [
    "DATA LOSS PERCENTAGE"
   ]
  },
  {
   "cell_type": "code",
   "execution_count": 72,
   "id": "d50cc326",
   "metadata": {},
   "outputs": [
    {
     "data": {
      "text/plain": [
       "0.08830022075055188"
      ]
     },
     "execution_count": 72,
     "metadata": {},
     "output_type": "execute_result"
    }
   ],
   "source": [
    "(1359-1239)/1359"
   ]
  },
  {
   "cell_type": "code",
   "execution_count": 73,
   "id": "8bc06017",
   "metadata": {},
   "outputs": [
    {
     "data": {
      "text/plain": [
       "fixed acidity           0.803687\n",
       "volatile acidity        0.443794\n",
       "citric acid             0.277957\n",
       "residual sugar          2.371572\n",
       "chlorides               2.480193\n",
       "free sulfur dioxide     0.867795\n",
       "total sulfur dioxide    1.165286\n",
       "density                 0.018132\n",
       "pH                      0.116731\n",
       "sulphates               0.952455\n",
       "alcohol                 0.765872\n",
       "quality                 2.121367\n",
       "dtype: float64"
      ]
     },
     "execution_count": 73,
     "metadata": {},
     "output_type": "execute_result"
    }
   ],
   "source": [
    "newdf.skew()"
   ]
  },
  {
   "cell_type": "code",
   "execution_count": 74,
   "id": "1aec7d92",
   "metadata": {},
   "outputs": [
    {
     "name": "stderr",
     "output_type": "stream",
     "text": [
      "C:\\Users\\DELL\\AppData\\Local\\Temp/ipykernel_4788/2063937477.py:1: SettingWithCopyWarning: \n",
      "A value is trying to be set on a copy of a slice from a DataFrame.\n",
      "Try using .loc[row_indexer,col_indexer] = value instead\n",
      "\n",
      "See the caveats in the documentation: https://pandas.pydata.org/pandas-docs/stable/user_guide/indexing.html#returning-a-view-versus-a-copy\n",
      "  newdf['alcohol']=np.log(newdf['alcohol'])\n"
     ]
    }
   ],
   "source": [
    "newdf['alcohol']=np.log(newdf['alcohol'])"
   ]
  },
  {
   "cell_type": "code",
   "execution_count": 75,
   "id": "f302d9d8",
   "metadata": {},
   "outputs": [
    {
     "name": "stderr",
     "output_type": "stream",
     "text": [
      "C:\\Users\\DELL\\AppData\\Local\\Temp/ipykernel_4788/1026831889.py:1: SettingWithCopyWarning: \n",
      "A value is trying to be set on a copy of a slice from a DataFrame.\n",
      "Try using .loc[row_indexer,col_indexer] = value instead\n",
      "\n",
      "See the caveats in the documentation: https://pandas.pydata.org/pandas-docs/stable/user_guide/indexing.html#returning-a-view-versus-a-copy\n",
      "  newdf['sulphates']=np.log(newdf['sulphates'])\n"
     ]
    }
   ],
   "source": [
    "newdf['sulphates']=np.log(newdf['sulphates'])"
   ]
  },
  {
   "cell_type": "code",
   "execution_count": 76,
   "id": "9374f804",
   "metadata": {},
   "outputs": [
    {
     "name": "stderr",
     "output_type": "stream",
     "text": [
      "C:\\Users\\DELL\\AppData\\Local\\Temp/ipykernel_4788/882447965.py:1: SettingWithCopyWarning: \n",
      "A value is trying to be set on a copy of a slice from a DataFrame.\n",
      "Try using .loc[row_indexer,col_indexer] = value instead\n",
      "\n",
      "See the caveats in the documentation: https://pandas.pydata.org/pandas-docs/stable/user_guide/indexing.html#returning-a-view-versus-a-copy\n",
      "  newdf['total sulfur dioxide']=np.log(newdf['total sulfur dioxide'])\n"
     ]
    }
   ],
   "source": [
    "newdf['total sulfur dioxide']=np.log(newdf['total sulfur dioxide'])"
   ]
  },
  {
   "cell_type": "code",
   "execution_count": 77,
   "id": "cbac6673",
   "metadata": {},
   "outputs": [
    {
     "name": "stderr",
     "output_type": "stream",
     "text": [
      "C:\\Users\\DELL\\AppData\\Local\\Temp/ipykernel_4788/2845971109.py:1: SettingWithCopyWarning: \n",
      "A value is trying to be set on a copy of a slice from a DataFrame.\n",
      "Try using .loc[row_indexer,col_indexer] = value instead\n",
      "\n",
      "See the caveats in the documentation: https://pandas.pydata.org/pandas-docs/stable/user_guide/indexing.html#returning-a-view-versus-a-copy\n",
      "  newdf['fixed acidity']=np.log(newdf['fixed acidity'])\n"
     ]
    }
   ],
   "source": [
    "newdf['fixed acidity']=np.log(newdf['fixed acidity'])"
   ]
  },
  {
   "cell_type": "code",
   "execution_count": 78,
   "id": "3f6241ef",
   "metadata": {},
   "outputs": [
    {
     "name": "stderr",
     "output_type": "stream",
     "text": [
      "C:\\Users\\DELL\\AppData\\Local\\Temp/ipykernel_4788/172815231.py:1: SettingWithCopyWarning: \n",
      "A value is trying to be set on a copy of a slice from a DataFrame.\n",
      "Try using .loc[row_indexer,col_indexer] = value instead\n",
      "\n",
      "See the caveats in the documentation: https://pandas.pydata.org/pandas-docs/stable/user_guide/indexing.html#returning-a-view-versus-a-copy\n",
      "  newdf['free sulfur dioxide']=np.log(newdf['free sulfur dioxide'])\n"
     ]
    }
   ],
   "source": [
    "newdf['free sulfur dioxide']=np.log(newdf['free sulfur dioxide'])"
   ]
  },
  {
   "cell_type": "code",
   "execution_count": 79,
   "id": "9886dfff",
   "metadata": {},
   "outputs": [
    {
     "name": "stderr",
     "output_type": "stream",
     "text": [
      "C:\\Users\\DELL\\AppData\\Local\\Temp/ipykernel_4788/2002546109.py:1: SettingWithCopyWarning: \n",
      "A value is trying to be set on a copy of a slice from a DataFrame.\n",
      "Try using .loc[row_indexer,col_indexer] = value instead\n",
      "\n",
      "See the caveats in the documentation: https://pandas.pydata.org/pandas-docs/stable/user_guide/indexing.html#returning-a-view-versus-a-copy\n",
      "  newdf['chlorides']=np.log(newdf['chlorides'])\n"
     ]
    }
   ],
   "source": [
    "newdf['chlorides']=np.log(newdf['chlorides'])"
   ]
  },
  {
   "cell_type": "code",
   "execution_count": 80,
   "id": "004856b8",
   "metadata": {},
   "outputs": [
    {
     "name": "stderr",
     "output_type": "stream",
     "text": [
      "C:\\Users\\DELL\\AppData\\Local\\Temp/ipykernel_4788/4001226634.py:1: SettingWithCopyWarning: \n",
      "A value is trying to be set on a copy of a slice from a DataFrame.\n",
      "Try using .loc[row_indexer,col_indexer] = value instead\n",
      "\n",
      "See the caveats in the documentation: https://pandas.pydata.org/pandas-docs/stable/user_guide/indexing.html#returning-a-view-versus-a-copy\n",
      "  newdf['residual sugar']=np.log(newdf['residual sugar'])\n"
     ]
    }
   ],
   "source": [
    "newdf['residual sugar']=np.log(newdf['residual sugar'])"
   ]
  },
  {
   "cell_type": "code",
   "execution_count": 81,
   "id": "c78df6c4",
   "metadata": {},
   "outputs": [
    {
     "data": {
      "text/plain": [
       "fixed acidity           0.353072\n",
       "volatile acidity        0.443794\n",
       "citric acid             0.277957\n",
       "residual sugar          1.132089\n",
       "chlorides               0.636774\n",
       "free sulfur dioxide    -0.289128\n",
       "total sulfur dioxide   -0.097387\n",
       "density                 0.018132\n",
       "pH                      0.116731\n",
       "sulphates               0.388272\n",
       "alcohol                 0.598996\n",
       "quality                 2.121367\n",
       "dtype: float64"
      ]
     },
     "execution_count": 81,
     "metadata": {},
     "output_type": "execute_result"
    }
   ],
   "source": [
    "newdf.skew()"
   ]
  },
  {
   "cell_type": "markdown",
   "id": "6d384d27",
   "metadata": {},
   "source": [
    "SEPARATING THE VARIABLES (X & Y)"
   ]
  },
  {
   "cell_type": "code",
   "execution_count": 82,
   "id": "3450ba3f",
   "metadata": {},
   "outputs": [],
   "source": [
    "x=newdf.iloc[:,0:11]"
   ]
  },
  {
   "cell_type": "code",
   "execution_count": 83,
   "id": "7a656e7a",
   "metadata": {},
   "outputs": [],
   "source": [
    "y=newdf.iloc[:,-1]"
   ]
  },
  {
   "cell_type": "markdown",
   "id": "e3cd3de4",
   "metadata": {},
   "source": [
    "CHECKING VIF"
   ]
  },
  {
   "cell_type": "code",
   "execution_count": 84,
   "id": "fe77b6d3",
   "metadata": {},
   "outputs": [],
   "source": [
    "from scipy import stats"
   ]
  },
  {
   "cell_type": "code",
   "execution_count": 85,
   "id": "870efc62",
   "metadata": {},
   "outputs": [],
   "source": [
    "from statsmodels.stats.outliers_influence import variance_inflation_factor"
   ]
  },
  {
   "cell_type": "code",
   "execution_count": 86,
   "id": "7115361a",
   "metadata": {},
   "outputs": [],
   "source": [
    "def cal_vif(x):\n",
    "    vif=pd.DataFrame()\n",
    "    vif['Variables']=x.columns\n",
    "    vif['VIF_FACTOR']=[variance_inflation_factor(x.values,i)for i in range(x.shape[1])]\n",
    "    return(vif)"
   ]
  },
  {
   "cell_type": "code",
   "execution_count": 87,
   "id": "0d37e840",
   "metadata": {},
   "outputs": [
    {
     "data": {
      "text/html": [
       "<div>\n",
       "<style scoped>\n",
       "    .dataframe tbody tr th:only-of-type {\n",
       "        vertical-align: middle;\n",
       "    }\n",
       "\n",
       "    .dataframe tbody tr th {\n",
       "        vertical-align: top;\n",
       "    }\n",
       "\n",
       "    .dataframe thead th {\n",
       "        text-align: right;\n",
       "    }\n",
       "</style>\n",
       "<table border=\"1\" class=\"dataframe\">\n",
       "  <thead>\n",
       "    <tr style=\"text-align: right;\">\n",
       "      <th></th>\n",
       "      <th>Variables</th>\n",
       "      <th>VIF_FACTOR</th>\n",
       "    </tr>\n",
       "  </thead>\n",
       "  <tbody>\n",
       "    <tr>\n",
       "      <th>0</th>\n",
       "      <td>fixed acidity</td>\n",
       "      <td>425.772032</td>\n",
       "    </tr>\n",
       "    <tr>\n",
       "      <th>1</th>\n",
       "      <td>volatile acidity</td>\n",
       "      <td>18.458853</td>\n",
       "    </tr>\n",
       "    <tr>\n",
       "      <th>2</th>\n",
       "      <td>citric acid</td>\n",
       "      <td>8.892103</td>\n",
       "    </tr>\n",
       "    <tr>\n",
       "      <th>3</th>\n",
       "      <td>residual sugar</td>\n",
       "      <td>10.992201</td>\n",
       "    </tr>\n",
       "    <tr>\n",
       "      <th>4</th>\n",
       "      <td>chlorides</td>\n",
       "      <td>132.291688</td>\n",
       "    </tr>\n",
       "    <tr>\n",
       "      <th>5</th>\n",
       "      <td>free sulfur dioxide</td>\n",
       "      <td>43.814193</td>\n",
       "    </tr>\n",
       "    <tr>\n",
       "      <th>6</th>\n",
       "      <td>total sulfur dioxide</td>\n",
       "      <td>88.359334</td>\n",
       "    </tr>\n",
       "    <tr>\n",
       "      <th>7</th>\n",
       "      <td>density</td>\n",
       "      <td>3489.822696</td>\n",
       "    </tr>\n",
       "    <tr>\n",
       "      <th>8</th>\n",
       "      <td>pH</td>\n",
       "      <td>1325.307020</td>\n",
       "    </tr>\n",
       "    <tr>\n",
       "      <th>9</th>\n",
       "      <td>sulphates</td>\n",
       "      <td>8.490113</td>\n",
       "    </tr>\n",
       "    <tr>\n",
       "      <th>10</th>\n",
       "      <td>alcohol</td>\n",
       "      <td>838.991765</td>\n",
       "    </tr>\n",
       "  </tbody>\n",
       "</table>\n",
       "</div>"
      ],
      "text/plain": [
       "               Variables   VIF_FACTOR\n",
       "0          fixed acidity   425.772032\n",
       "1       volatile acidity    18.458853\n",
       "2            citric acid     8.892103\n",
       "3         residual sugar    10.992201\n",
       "4              chlorides   132.291688\n",
       "5    free sulfur dioxide    43.814193\n",
       "6   total sulfur dioxide    88.359334\n",
       "7                density  3489.822696\n",
       "8                     pH  1325.307020\n",
       "9              sulphates     8.490113\n",
       "10               alcohol   838.991765"
      ]
     },
     "execution_count": 87,
     "metadata": {},
     "output_type": "execute_result"
    }
   ],
   "source": [
    "cal_vif(x)"
   ]
  },
  {
   "cell_type": "markdown",
   "id": "6db750ba",
   "metadata": {},
   "source": [
    "dropping density, highest VIF "
   ]
  },
  {
   "cell_type": "code",
   "execution_count": 88,
   "id": "234b9841",
   "metadata": {},
   "outputs": [],
   "source": [
    "x1=x.drop(['density'],axis=1)"
   ]
  },
  {
   "cell_type": "code",
   "execution_count": 89,
   "id": "7cb4be42",
   "metadata": {},
   "outputs": [],
   "source": [
    "def cal_vif(x1):\n",
    "    vif=pd.DataFrame()\n",
    "    vif['Variables']=x1.columns\n",
    "    vif['VIF_FACTOR']=[variance_inflation_factor(x1.values,i)for i in range(x1.shape[1])]\n",
    "    return(vif)"
   ]
  },
  {
   "cell_type": "code",
   "execution_count": 90,
   "id": "14906d0c",
   "metadata": {},
   "outputs": [
    {
     "data": {
      "text/html": [
       "<div>\n",
       "<style scoped>\n",
       "    .dataframe tbody tr th:only-of-type {\n",
       "        vertical-align: middle;\n",
       "    }\n",
       "\n",
       "    .dataframe tbody tr th {\n",
       "        vertical-align: top;\n",
       "    }\n",
       "\n",
       "    .dataframe thead th {\n",
       "        text-align: right;\n",
       "    }\n",
       "</style>\n",
       "<table border=\"1\" class=\"dataframe\">\n",
       "  <thead>\n",
       "    <tr style=\"text-align: right;\">\n",
       "      <th></th>\n",
       "      <th>Variables</th>\n",
       "      <th>VIF_FACTOR</th>\n",
       "    </tr>\n",
       "  </thead>\n",
       "  <tbody>\n",
       "    <tr>\n",
       "      <th>0</th>\n",
       "      <td>fixed acidity</td>\n",
       "      <td>169.345979</td>\n",
       "    </tr>\n",
       "    <tr>\n",
       "      <th>1</th>\n",
       "      <td>volatile acidity</td>\n",
       "      <td>18.443794</td>\n",
       "    </tr>\n",
       "    <tr>\n",
       "      <th>2</th>\n",
       "      <td>citric acid</td>\n",
       "      <td>8.613414</td>\n",
       "    </tr>\n",
       "    <tr>\n",
       "      <th>3</th>\n",
       "      <td>residual sugar</td>\n",
       "      <td>10.728714</td>\n",
       "    </tr>\n",
       "    <tr>\n",
       "      <th>4</th>\n",
       "      <td>chlorides</td>\n",
       "      <td>131.830846</td>\n",
       "    </tr>\n",
       "    <tr>\n",
       "      <th>5</th>\n",
       "      <td>free sulfur dioxide</td>\n",
       "      <td>42.508085</td>\n",
       "    </tr>\n",
       "    <tr>\n",
       "      <th>6</th>\n",
       "      <td>total sulfur dioxide</td>\n",
       "      <td>77.697827</td>\n",
       "    </tr>\n",
       "    <tr>\n",
       "      <th>7</th>\n",
       "      <td>pH</td>\n",
       "      <td>550.514366</td>\n",
       "    </tr>\n",
       "    <tr>\n",
       "      <th>8</th>\n",
       "      <td>sulphates</td>\n",
       "      <td>7.904409</td>\n",
       "    </tr>\n",
       "    <tr>\n",
       "      <th>9</th>\n",
       "      <td>alcohol</td>\n",
       "      <td>673.633663</td>\n",
       "    </tr>\n",
       "  </tbody>\n",
       "</table>\n",
       "</div>"
      ],
      "text/plain": [
       "              Variables  VIF_FACTOR\n",
       "0         fixed acidity  169.345979\n",
       "1      volatile acidity   18.443794\n",
       "2           citric acid    8.613414\n",
       "3        residual sugar   10.728714\n",
       "4             chlorides  131.830846\n",
       "5   free sulfur dioxide   42.508085\n",
       "6  total sulfur dioxide   77.697827\n",
       "7                    pH  550.514366\n",
       "8             sulphates    7.904409\n",
       "9               alcohol  673.633663"
      ]
     },
     "execution_count": 90,
     "metadata": {},
     "output_type": "execute_result"
    }
   ],
   "source": [
    "cal_vif(x1)"
   ]
  },
  {
   "cell_type": "markdown",
   "id": "55832a92",
   "metadata": {},
   "source": [
    "dropping ph, vif very high and correlation very low wrt to the target column "
   ]
  },
  {
   "cell_type": "markdown",
   "id": "50ac1389",
   "metadata": {},
   "source": [
    "BALANCING THE DATA SET"
   ]
  },
  {
   "cell_type": "code",
   "execution_count": 91,
   "id": "0fcd32a0",
   "metadata": {},
   "outputs": [],
   "source": [
    "from imblearn.over_sampling import SMOTE"
   ]
  },
  {
   "cell_type": "code",
   "execution_count": 92,
   "id": "133511a3",
   "metadata": {},
   "outputs": [],
   "source": [
    "smt=SMOTE()"
   ]
  },
  {
   "cell_type": "code",
   "execution_count": 93,
   "id": "db7286cb",
   "metadata": {},
   "outputs": [],
   "source": [
    "xx,yy=smt.fit_resample(x1,y)"
   ]
  },
  {
   "cell_type": "code",
   "execution_count": 94,
   "id": "4c27fdbb",
   "metadata": {},
   "outputs": [
    {
     "data": {
      "text/plain": [
       "(2140,)"
      ]
     },
     "execution_count": 94,
     "metadata": {},
     "output_type": "execute_result"
    }
   ],
   "source": [
    "yy.shape"
   ]
  },
  {
   "cell_type": "code",
   "execution_count": 95,
   "id": "8ad03cf6",
   "metadata": {},
   "outputs": [
    {
     "data": {
      "text/plain": [
       "(2140, 10)"
      ]
     },
     "execution_count": 95,
     "metadata": {},
     "output_type": "execute_result"
    }
   ],
   "source": [
    "xx.shape"
   ]
  },
  {
   "cell_type": "markdown",
   "id": "a05a4908",
   "metadata": {},
   "source": [
    "SCALING"
   ]
  },
  {
   "cell_type": "code",
   "execution_count": 96,
   "id": "6774216d",
   "metadata": {},
   "outputs": [],
   "source": [
    "from sklearn.preprocessing import StandardScaler\n",
    "import warnings\n",
    "warnings.filterwarnings('ignore')"
   ]
  },
  {
   "cell_type": "code",
   "execution_count": 97,
   "id": "07d03a4c",
   "metadata": {},
   "outputs": [],
   "source": [
    "scale=StandardScaler()"
   ]
  },
  {
   "cell_type": "code",
   "execution_count": 98,
   "id": "02418f54",
   "metadata": {},
   "outputs": [],
   "source": [
    "x3=scale.fit_transform(xx)"
   ]
  },
  {
   "cell_type": "code",
   "execution_count": 99,
   "id": "87594cc1",
   "metadata": {},
   "outputs": [],
   "source": [
    "from sklearn.model_selection import train_test_split\n",
    "from sklearn.metrics import r2_score\n",
    "from sklearn.metrics import accuracy_score,confusion_matrix,classification_report\n",
    "from sklearn.model_selection import GridSearchCV\n",
    "from sklearn.svm import SVC\n",
    "from sklearn.tree import DecisionTreeClassifier\n",
    "from sklearn.neighbors import KNeighborsClassifier\n",
    "from sklearn.ensemble import RandomForestClassifier\n",
    "from sklearn.model_selection import cross_val_score\n",
    "from sklearn.naive_bayes import MultinomialNB\n",
    "from sklearn.linear_model import LogisticRegression"
   ]
  },
  {
   "cell_type": "code",
   "execution_count": 100,
   "id": "b8011066",
   "metadata": {},
   "outputs": [],
   "source": [
    "lr=LogisticRegression()"
   ]
  },
  {
   "cell_type": "code",
   "execution_count": 101,
   "id": "f3139eeb",
   "metadata": {},
   "outputs": [
    {
     "name": "stdout",
     "output_type": "stream",
     "text": [
      "At random_state {0} the training accuracy test is 0.8247663551401869\n",
      "At random_state {0} the testing accuracy test is 0.8434579439252337\n",
      "\n",
      "\n",
      "At random_state {1} the training accuracy test is 0.834696261682243\n",
      "At random_state {1} the testing accuracy test is 0.8154205607476636\n",
      "\n",
      "\n",
      "At random_state {2} the training accuracy test is 0.8288551401869159\n",
      "At random_state {2} the testing accuracy test is 0.8247663551401869\n",
      "\n",
      "\n",
      "At random_state {3} the training accuracy test is 0.8271028037383178\n",
      "At random_state {3} the testing accuracy test is 0.8411214953271028\n",
      "\n",
      "\n",
      "At random_state {4} the training accuracy test is 0.8271028037383178\n",
      "At random_state {4} the testing accuracy test is 0.8177570093457944\n",
      "\n",
      "\n",
      "At random_state {5} the training accuracy test is 0.8352803738317757\n",
      "At random_state {5} the testing accuracy test is 0.8200934579439252\n",
      "\n",
      "\n",
      "At random_state {6} the training accuracy test is 0.8288551401869159\n",
      "At random_state {6} the testing accuracy test is 0.8411214953271028\n",
      "\n",
      "\n",
      "At random_state {7} the training accuracy test is 0.834696261682243\n",
      "At random_state {7} the testing accuracy test is 0.8084112149532711\n",
      "\n",
      "\n",
      "At random_state {8} the training accuracy test is 0.8405373831775701\n",
      "At random_state {8} the testing accuracy test is 0.8084112149532711\n",
      "\n",
      "\n",
      "At random_state {9} the training accuracy test is 0.8235981308411215\n",
      "At random_state {9} the testing accuracy test is 0.8387850467289719\n",
      "\n",
      "\n",
      "At random_state {10} the training accuracy test is 0.8311915887850467\n",
      "At random_state {10} the testing accuracy test is 0.8271028037383178\n",
      "\n",
      "\n",
      "At random_state {11} the training accuracy test is 0.826518691588785\n",
      "At random_state {11} the testing accuracy test is 0.8364485981308412\n",
      "\n",
      "\n",
      "At random_state {12} the training accuracy test is 0.8317757009345794\n",
      "At random_state {12} the testing accuracy test is 0.8130841121495327\n",
      "\n",
      "\n",
      "At random_state {13} the training accuracy test is 0.8294392523364486\n",
      "At random_state {13} the testing accuracy test is 0.8294392523364486\n",
      "\n",
      "\n",
      "At random_state {14} the training accuracy test is 0.8300233644859814\n",
      "At random_state {14} the testing accuracy test is 0.822429906542056\n",
      "\n",
      "\n",
      "At random_state {15} the training accuracy test is 0.8294392523364486\n",
      "At random_state {15} the testing accuracy test is 0.8341121495327103\n",
      "\n",
      "\n",
      "At random_state {16} the training accuracy test is 0.8323598130841121\n",
      "At random_state {16} the testing accuracy test is 0.8154205607476636\n",
      "\n",
      "\n",
      "At random_state {17} the training accuracy test is 0.8335280373831776\n",
      "At random_state {17} the testing accuracy test is 0.8130841121495327\n",
      "\n",
      "\n",
      "At random_state {18} the training accuracy test is 0.8329439252336449\n",
      "At random_state {18} the testing accuracy test is 0.8317757009345794\n",
      "\n",
      "\n",
      "At random_state {19} the training accuracy test is 0.830607476635514\n",
      "At random_state {19} the testing accuracy test is 0.8317757009345794\n",
      "\n",
      "\n",
      "At random_state {20} the training accuracy test is 0.830607476635514\n",
      "At random_state {20} the testing accuracy test is 0.8341121495327103\n",
      "\n",
      "\n",
      "At random_state {21} the training accuracy test is 0.8282710280373832\n",
      "At random_state {21} the testing accuracy test is 0.8387850467289719\n",
      "\n",
      "\n",
      "At random_state {22} the training accuracy test is 0.8317757009345794\n",
      "At random_state {22} the testing accuracy test is 0.822429906542056\n",
      "\n",
      "\n",
      "At random_state {23} the training accuracy test is 0.8294392523364486\n",
      "At random_state {23} the testing accuracy test is 0.8341121495327103\n",
      "\n",
      "\n",
      "At random_state {24} the training accuracy test is 0.8230140186915887\n",
      "At random_state {24} the testing accuracy test is 0.8364485981308412\n",
      "\n",
      "\n",
      "At random_state {25} the training accuracy test is 0.8253504672897196\n",
      "At random_state {25} the testing accuracy test is 0.8317757009345794\n",
      "\n",
      "\n",
      "At random_state {26} the training accuracy test is 0.8300233644859814\n",
      "At random_state {26} the testing accuracy test is 0.8387850467289719\n",
      "\n",
      "\n",
      "At random_state {27} the training accuracy test is 0.8335280373831776\n",
      "At random_state {27} the testing accuracy test is 0.8107476635514018\n",
      "\n",
      "\n",
      "At random_state {28} the training accuracy test is 0.8311915887850467\n",
      "At random_state {28} the testing accuracy test is 0.822429906542056\n",
      "\n",
      "\n",
      "At random_state {29} the training accuracy test is 0.8311915887850467\n",
      "At random_state {29} the testing accuracy test is 0.8177570093457944\n",
      "\n",
      "\n",
      "At random_state {30} the training accuracy test is 0.8271028037383178\n",
      "At random_state {30} the testing accuracy test is 0.8387850467289719\n",
      "\n",
      "\n",
      "At random_state {31} the training accuracy test is 0.834696261682243\n",
      "At random_state {31} the testing accuracy test is 0.8130841121495327\n",
      "\n",
      "\n",
      "At random_state {32} the training accuracy test is 0.8417056074766355\n",
      "At random_state {32} the testing accuracy test is 0.7873831775700935\n",
      "\n",
      "\n",
      "At random_state {33} the training accuracy test is 0.8271028037383178\n",
      "At random_state {33} the testing accuracy test is 0.8341121495327103\n",
      "\n",
      "\n",
      "At random_state {34} the training accuracy test is 0.8276869158878505\n",
      "At random_state {34} the testing accuracy test is 0.8271028037383178\n",
      "\n",
      "\n",
      "At random_state {35} the training accuracy test is 0.8288551401869159\n",
      "At random_state {35} the testing accuracy test is 0.8341121495327103\n",
      "\n",
      "\n",
      "At random_state {36} the training accuracy test is 0.8352803738317757\n",
      "At random_state {36} the testing accuracy test is 0.8177570093457944\n",
      "\n",
      "\n",
      "At random_state {37} the training accuracy test is 0.8387850467289719\n",
      "At random_state {37} the testing accuracy test is 0.7920560747663551\n",
      "\n",
      "\n",
      "At random_state {38} the training accuracy test is 0.8300233644859814\n",
      "At random_state {38} the testing accuracy test is 0.8364485981308412\n",
      "\n",
      "\n",
      "At random_state {39} the training accuracy test is 0.8271028037383178\n",
      "At random_state {39} the testing accuracy test is 0.852803738317757\n",
      "\n",
      "\n",
      "At random_state {40} the training accuracy test is 0.830607476635514\n",
      "At random_state {40} the testing accuracy test is 0.8154205607476636\n",
      "\n",
      "\n",
      "At random_state {41} the training accuracy test is 0.830607476635514\n",
      "At random_state {41} the testing accuracy test is 0.8271028037383178\n",
      "\n",
      "\n",
      "At random_state {42} the training accuracy test is 0.834696261682243\n",
      "At random_state {42} the testing accuracy test is 0.8107476635514018\n",
      "\n",
      "\n",
      "At random_state {43} the training accuracy test is 0.8253504672897196\n",
      "At random_state {43} the testing accuracy test is 0.8457943925233645\n",
      "\n",
      "\n",
      "At random_state {44} the training accuracy test is 0.8247663551401869\n",
      "At random_state {44} the testing accuracy test is 0.8387850467289719\n",
      "\n",
      "\n",
      "At random_state {45} the training accuracy test is 0.8247663551401869\n",
      "At random_state {45} the testing accuracy test is 0.8294392523364486\n",
      "\n",
      "\n",
      "At random_state {46} the training accuracy test is 0.8171728971962616\n",
      "At random_state {46} the testing accuracy test is 0.8644859813084113\n",
      "\n",
      "\n",
      "At random_state {47} the training accuracy test is 0.830607476635514\n",
      "At random_state {47} the testing accuracy test is 0.8364485981308412\n",
      "\n",
      "\n",
      "At random_state {48} the training accuracy test is 0.8300233644859814\n",
      "At random_state {48} the testing accuracy test is 0.8364485981308412\n",
      "\n",
      "\n",
      "At random_state {49} the training accuracy test is 0.8358644859813084\n",
      "At random_state {49} the testing accuracy test is 0.8014018691588785\n",
      "\n",
      "\n",
      "At random_state {50} the training accuracy test is 0.8358644859813084\n",
      "At random_state {50} the testing accuracy test is 0.794392523364486\n",
      "\n",
      "\n",
      "At random_state {51} the training accuracy test is 0.8288551401869159\n",
      "At random_state {51} the testing accuracy test is 0.8481308411214953\n",
      "\n",
      "\n",
      "At random_state {52} the training accuracy test is 0.8294392523364486\n",
      "At random_state {52} the testing accuracy test is 0.8271028037383178\n",
      "\n",
      "\n",
      "At random_state {53} the training accuracy test is 0.8282710280373832\n",
      "At random_state {53} the testing accuracy test is 0.8364485981308412\n",
      "\n",
      "\n",
      "At random_state {54} the training accuracy test is 0.8288551401869159\n",
      "At random_state {54} the testing accuracy test is 0.8317757009345794\n",
      "\n",
      "\n",
      "At random_state {55} the training accuracy test is 0.8282710280373832\n",
      "At random_state {55} the testing accuracy test is 0.8457943925233645\n",
      "\n",
      "\n",
      "At random_state {56} the training accuracy test is 0.8294392523364486\n",
      "At random_state {56} the testing accuracy test is 0.8294392523364486\n",
      "\n",
      "\n",
      "At random_state {57} the training accuracy test is 0.8323598130841121\n",
      "At random_state {57} the testing accuracy test is 0.8154205607476636\n",
      "\n",
      "\n",
      "At random_state {58} the training accuracy test is 0.8253504672897196\n",
      "At random_state {58} the testing accuracy test is 0.8621495327102804\n",
      "\n",
      "\n",
      "At random_state {59} the training accuracy test is 0.8241822429906542\n",
      "At random_state {59} the testing accuracy test is 0.8294392523364486\n",
      "\n",
      "\n",
      "At random_state {60} the training accuracy test is 0.8329439252336449\n",
      "At random_state {60} the testing accuracy test is 0.8130841121495327\n",
      "\n",
      "\n",
      "At random_state {61} the training accuracy test is 0.830607476635514\n",
      "At random_state {61} the testing accuracy test is 0.8130841121495327\n",
      "\n",
      "\n",
      "At random_state {62} the training accuracy test is 0.8329439252336449\n",
      "At random_state {62} the testing accuracy test is 0.8107476635514018\n",
      "\n",
      "\n",
      "At random_state {63} the training accuracy test is 0.8376168224299065\n",
      "At random_state {63} the testing accuracy test is 0.7967289719626168\n",
      "\n",
      "\n",
      "At random_state {64} the training accuracy test is 0.8276869158878505\n",
      "At random_state {64} the testing accuracy test is 0.8387850467289719\n",
      "\n",
      "\n",
      "At random_state {65} the training accuracy test is 0.8352803738317757\n",
      "At random_state {65} the testing accuracy test is 0.8037383177570093\n",
      "\n",
      "\n",
      "At random_state {66} the training accuracy test is 0.8317757009345794\n",
      "At random_state {66} the testing accuracy test is 0.8317757009345794\n",
      "\n",
      "\n",
      "At random_state {67} the training accuracy test is 0.8323598130841121\n",
      "At random_state {67} the testing accuracy test is 0.8317757009345794\n",
      "\n",
      "\n",
      "At random_state {68} the training accuracy test is 0.822429906542056\n",
      "At random_state {68} the testing accuracy test is 0.8364485981308412\n",
      "\n",
      "\n",
      "At random_state {69} the training accuracy test is 0.8335280373831776\n",
      "At random_state {69} the testing accuracy test is 0.8060747663551402\n",
      "\n",
      "\n",
      "At random_state {70} the training accuracy test is 0.8329439252336449\n",
      "At random_state {70} the testing accuracy test is 0.8247663551401869\n",
      "\n",
      "\n",
      "At random_state {71} the training accuracy test is 0.8300233644859814\n",
      "At random_state {71} the testing accuracy test is 0.8247663551401869\n",
      "\n",
      "\n",
      "At random_state {72} the training accuracy test is 0.8364485981308412\n",
      "At random_state {72} the testing accuracy test is 0.8177570093457944\n",
      "\n",
      "\n",
      "At random_state {73} the training accuracy test is 0.8288551401869159\n",
      "At random_state {73} the testing accuracy test is 0.8341121495327103\n",
      "\n",
      "\n",
      "At random_state {74} the training accuracy test is 0.8276869158878505\n",
      "At random_state {74} the testing accuracy test is 0.8411214953271028\n",
      "\n",
      "\n",
      "At random_state {75} the training accuracy test is 0.8335280373831776\n",
      "At random_state {75} the testing accuracy test is 0.8037383177570093\n",
      "\n",
      "\n",
      "At random_state {76} the training accuracy test is 0.8276869158878505\n",
      "At random_state {76} the testing accuracy test is 0.8317757009345794\n",
      "\n",
      "\n",
      "At random_state {77} the training accuracy test is 0.8335280373831776\n",
      "At random_state {77} the testing accuracy test is 0.8364485981308412\n",
      "\n",
      "\n",
      "At random_state {78} the training accuracy test is 0.8294392523364486\n",
      "At random_state {78} the testing accuracy test is 0.8294392523364486\n",
      "\n",
      "\n",
      "At random_state {79} the training accuracy test is 0.8253504672897196\n",
      "At random_state {79} the testing accuracy test is 0.8411214953271028\n",
      "\n",
      "\n",
      "At random_state {80} the training accuracy test is 0.8294392523364486\n",
      "At random_state {80} the testing accuracy test is 0.8364485981308412\n",
      "\n",
      "\n",
      "At random_state {81} the training accuracy test is 0.8253504672897196\n",
      "At random_state {81} the testing accuracy test is 0.8387850467289719\n",
      "\n",
      "\n",
      "At random_state {82} the training accuracy test is 0.8311915887850467\n",
      "At random_state {82} the testing accuracy test is 0.8107476635514018\n",
      "\n",
      "\n",
      "At random_state {83} the training accuracy test is 0.8317757009345794\n",
      "At random_state {83} the testing accuracy test is 0.8294392523364486\n",
      "\n",
      "\n",
      "At random_state {84} the training accuracy test is 0.8241822429906542\n",
      "At random_state {84} the testing accuracy test is 0.8411214953271028\n",
      "\n",
      "\n",
      "At random_state {85} the training accuracy test is 0.8387850467289719\n",
      "At random_state {85} the testing accuracy test is 0.8014018691588785\n",
      "\n",
      "\n",
      "At random_state {86} the training accuracy test is 0.8247663551401869\n",
      "At random_state {86} the testing accuracy test is 0.8411214953271028\n",
      "\n",
      "\n",
      "At random_state {87} the training accuracy test is 0.8288551401869159\n",
      "At random_state {87} the testing accuracy test is 0.8294392523364486\n",
      "\n",
      "\n",
      "At random_state {88} the training accuracy test is 0.8311915887850467\n",
      "At random_state {88} the testing accuracy test is 0.8177570093457944\n",
      "\n",
      "\n",
      "At random_state {89} the training accuracy test is 0.8282710280373832\n",
      "At random_state {89} the testing accuracy test is 0.8247663551401869\n",
      "\n",
      "\n",
      "At random_state {90} the training accuracy test is 0.820677570093458\n",
      "At random_state {90} the testing accuracy test is 0.8714953271028038\n",
      "\n",
      "\n",
      "At random_state {91} the training accuracy test is 0.8282710280373832\n",
      "At random_state {91} the testing accuracy test is 0.8457943925233645\n",
      "\n",
      "\n",
      "At random_state {92} the training accuracy test is 0.8235981308411215\n",
      "At random_state {92} the testing accuracy test is 0.852803738317757\n",
      "\n",
      "\n",
      "At random_state {93} the training accuracy test is 0.8294392523364486\n",
      "At random_state {93} the testing accuracy test is 0.8271028037383178\n",
      "\n",
      "\n",
      "At random_state {94} the training accuracy test is 0.8282710280373832\n",
      "At random_state {94} the testing accuracy test is 0.8294392523364486\n",
      "\n",
      "\n",
      "At random_state {95} the training accuracy test is 0.8171728971962616\n",
      "At random_state {95} the testing accuracy test is 0.8925233644859814\n",
      "\n",
      "\n",
      "At random_state {96} the training accuracy test is 0.8212616822429907\n",
      "At random_state {96} the testing accuracy test is 0.8598130841121495\n",
      "\n",
      "\n",
      "At random_state {97} the training accuracy test is 0.8358644859813084\n",
      "At random_state {97} the testing accuracy test is 0.8294392523364486\n",
      "\n",
      "\n",
      "At random_state {98} the training accuracy test is 0.8294392523364486\n",
      "At random_state {98} the testing accuracy test is 0.8271028037383178\n",
      "\n",
      "\n",
      "At random_state {99} the training accuracy test is 0.8311915887850467\n",
      "At random_state {99} the testing accuracy test is 0.8317757009345794\n",
      "\n",
      "\n"
     ]
    }
   ],
   "source": [
    "for i in range(0,100):\n",
    "    x_train,x_test,y_train,y_test=train_test_split(x3,yy,test_size=0.20,random_state=i)\n",
    "    lr.fit(x_train,y_train)\n",
    "    predr=lr.predict(x_train)\n",
    "    pred=lr.predict(x_test)\n",
    "    print('At random_state' ,{i}, 'the training accuracy test is', accuracy_score(y_train,predr))\n",
    "    print('At random_state' ,{i}, 'the testing accuracy test is', accuracy_score(y_test,pred))\n",
    "    print('\\n')"
   ]
  },
  {
   "cell_type": "markdown",
   "id": "25cdeec7",
   "metadata": {},
   "source": [
    "AT RANDOM STATE 46 (86.44%) THE MODEL IS GIVING THE HIGHEST TESTING ACCURACY HENCE WE ARE GOING AHEAD WITH THAT "
   ]
  },
  {
   "cell_type": "code",
   "execution_count": 107,
   "id": "5d08073b",
   "metadata": {},
   "outputs": [],
   "source": [
    "x_train,x_test,y_train,y_test=train_test_split(x3,yy,test_size=0.20,random_state=46)"
   ]
  },
  {
   "cell_type": "code",
   "execution_count": 108,
   "id": "b0119702",
   "metadata": {},
   "outputs": [],
   "source": [
    "LR=LogisticRegression()"
   ]
  },
  {
   "cell_type": "code",
   "execution_count": 109,
   "id": "66edc049",
   "metadata": {},
   "outputs": [
    {
     "data": {
      "text/html": [
       "<style>#sk-container-id-2 {color: black;background-color: white;}#sk-container-id-2 pre{padding: 0;}#sk-container-id-2 div.sk-toggleable {background-color: white;}#sk-container-id-2 label.sk-toggleable__label {cursor: pointer;display: block;width: 100%;margin-bottom: 0;padding: 0.3em;box-sizing: border-box;text-align: center;}#sk-container-id-2 label.sk-toggleable__label-arrow:before {content: \"▸\";float: left;margin-right: 0.25em;color: #696969;}#sk-container-id-2 label.sk-toggleable__label-arrow:hover:before {color: black;}#sk-container-id-2 div.sk-estimator:hover label.sk-toggleable__label-arrow:before {color: black;}#sk-container-id-2 div.sk-toggleable__content {max-height: 0;max-width: 0;overflow: hidden;text-align: left;background-color: #f0f8ff;}#sk-container-id-2 div.sk-toggleable__content pre {margin: 0.2em;color: black;border-radius: 0.25em;background-color: #f0f8ff;}#sk-container-id-2 input.sk-toggleable__control:checked~div.sk-toggleable__content {max-height: 200px;max-width: 100%;overflow: auto;}#sk-container-id-2 input.sk-toggleable__control:checked~label.sk-toggleable__label-arrow:before {content: \"▾\";}#sk-container-id-2 div.sk-estimator input.sk-toggleable__control:checked~label.sk-toggleable__label {background-color: #d4ebff;}#sk-container-id-2 div.sk-label input.sk-toggleable__control:checked~label.sk-toggleable__label {background-color: #d4ebff;}#sk-container-id-2 input.sk-hidden--visually {border: 0;clip: rect(1px 1px 1px 1px);clip: rect(1px, 1px, 1px, 1px);height: 1px;margin: -1px;overflow: hidden;padding: 0;position: absolute;width: 1px;}#sk-container-id-2 div.sk-estimator {font-family: monospace;background-color: #f0f8ff;border: 1px dotted black;border-radius: 0.25em;box-sizing: border-box;margin-bottom: 0.5em;}#sk-container-id-2 div.sk-estimator:hover {background-color: #d4ebff;}#sk-container-id-2 div.sk-parallel-item::after {content: \"\";width: 100%;border-bottom: 1px solid gray;flex-grow: 1;}#sk-container-id-2 div.sk-label:hover label.sk-toggleable__label {background-color: #d4ebff;}#sk-container-id-2 div.sk-serial::before {content: \"\";position: absolute;border-left: 1px solid gray;box-sizing: border-box;top: 0;bottom: 0;left: 50%;z-index: 0;}#sk-container-id-2 div.sk-serial {display: flex;flex-direction: column;align-items: center;background-color: white;padding-right: 0.2em;padding-left: 0.2em;position: relative;}#sk-container-id-2 div.sk-item {position: relative;z-index: 1;}#sk-container-id-2 div.sk-parallel {display: flex;align-items: stretch;justify-content: center;background-color: white;position: relative;}#sk-container-id-2 div.sk-item::before, #sk-container-id-2 div.sk-parallel-item::before {content: \"\";position: absolute;border-left: 1px solid gray;box-sizing: border-box;top: 0;bottom: 0;left: 50%;z-index: -1;}#sk-container-id-2 div.sk-parallel-item {display: flex;flex-direction: column;z-index: 1;position: relative;background-color: white;}#sk-container-id-2 div.sk-parallel-item:first-child::after {align-self: flex-end;width: 50%;}#sk-container-id-2 div.sk-parallel-item:last-child::after {align-self: flex-start;width: 50%;}#sk-container-id-2 div.sk-parallel-item:only-child::after {width: 0;}#sk-container-id-2 div.sk-dashed-wrapped {border: 1px dashed gray;margin: 0 0.4em 0.5em 0.4em;box-sizing: border-box;padding-bottom: 0.4em;background-color: white;}#sk-container-id-2 div.sk-label label {font-family: monospace;font-weight: bold;display: inline-block;line-height: 1.2em;}#sk-container-id-2 div.sk-label-container {text-align: center;}#sk-container-id-2 div.sk-container {/* jupyter's `normalize.less` sets `[hidden] { display: none; }` but bootstrap.min.css set `[hidden] { display: none !important; }` so we also need the `!important` here to be able to override the default hidden behavior on the sphinx rendered scikit-learn.org. See: https://github.com/scikit-learn/scikit-learn/issues/21755 */display: inline-block !important;position: relative;}#sk-container-id-2 div.sk-text-repr-fallback {display: none;}</style><div id=\"sk-container-id-2\" class=\"sk-top-container\"><div class=\"sk-text-repr-fallback\"><pre>LogisticRegression()</pre><b>In a Jupyter environment, please rerun this cell to show the HTML representation or trust the notebook. <br />On GitHub, the HTML representation is unable to render, please try loading this page with nbviewer.org.</b></div><div class=\"sk-container\" hidden><div class=\"sk-item\"><div class=\"sk-estimator sk-toggleable\"><input class=\"sk-toggleable__control sk-hidden--visually\" id=\"sk-estimator-id-2\" type=\"checkbox\" checked><label for=\"sk-estimator-id-2\" class=\"sk-toggleable__label sk-toggleable__label-arrow\">LogisticRegression</label><div class=\"sk-toggleable__content\"><pre>LogisticRegression()</pre></div></div></div></div></div>"
      ],
      "text/plain": [
       "LogisticRegression()"
      ]
     },
     "execution_count": 109,
     "metadata": {},
     "output_type": "execute_result"
    }
   ],
   "source": [
    "LR.fit(x_train,y_train)"
   ]
  },
  {
   "cell_type": "code",
   "execution_count": 110,
   "id": "bbd6c776",
   "metadata": {},
   "outputs": [],
   "source": [
    "prelr=LR.predict(x_test)"
   ]
  },
  {
   "cell_type": "code",
   "execution_count": 111,
   "id": "05a6ad78",
   "metadata": {},
   "outputs": [
    {
     "name": "stdout",
     "output_type": "stream",
     "text": [
      "0.8644859813084113\n"
     ]
    }
   ],
   "source": [
    "print(accuracy_score(y_test,prelr))"
   ]
  },
  {
   "cell_type": "code",
   "execution_count": 112,
   "id": "04e71f48",
   "metadata": {},
   "outputs": [
    {
     "name": "stdout",
     "output_type": "stream",
     "text": [
      "[[175  37]\n",
      " [ 21 195]]\n"
     ]
    }
   ],
   "source": [
    "print(confusion_matrix(y_test,prelr))"
   ]
  },
  {
   "cell_type": "code",
   "execution_count": 113,
   "id": "914d26b7",
   "metadata": {},
   "outputs": [
    {
     "name": "stdout",
     "output_type": "stream",
     "text": [
      "              precision    recall  f1-score   support\n",
      "\n",
      "           0       0.89      0.83      0.86       212\n",
      "           1       0.84      0.90      0.87       216\n",
      "\n",
      "    accuracy                           0.86       428\n",
      "   macro avg       0.87      0.86      0.86       428\n",
      "weighted avg       0.87      0.86      0.86       428\n",
      "\n"
     ]
    }
   ],
   "source": [
    "print(classification_report(y_test,prelr))"
   ]
  },
  {
   "cell_type": "markdown",
   "id": "76a31c76",
   "metadata": {},
   "source": [
    "SUPPORT VECTOR MACHINE CLASSIFIER"
   ]
  },
  {
   "cell_type": "code",
   "execution_count": 118,
   "id": "f026b950",
   "metadata": {
    "scrolled": true
   },
   "outputs": [
    {
     "name": "stdout",
     "output_type": "stream",
     "text": [
      "At random_state {0} the training accuracy test is 0.9059579439252337\n",
      "At random_state {0} the testing accuracy test is 0.9018691588785047\n",
      "\n",
      "\n",
      "At random_state {1} the training accuracy test is 0.9065420560747663\n",
      "At random_state {1} the testing accuracy test is 0.897196261682243\n",
      "\n",
      "\n",
      "At random_state {2} the training accuracy test is 0.9088785046728972\n",
      "At random_state {2} the testing accuracy test is 0.8855140186915887\n",
      "\n",
      "\n",
      "At random_state {3} the training accuracy test is 0.9094626168224299\n",
      "At random_state {3} the testing accuracy test is 0.8925233644859814\n",
      "\n",
      "\n",
      "At random_state {4} the training accuracy test is 0.9094626168224299\n",
      "At random_state {4} the testing accuracy test is 0.8855140186915887\n",
      "\n",
      "\n",
      "At random_state {5} the training accuracy test is 0.9135514018691588\n",
      "At random_state {5} the testing accuracy test is 0.8714953271028038\n",
      "\n",
      "\n",
      "At random_state {6} the training accuracy test is 0.9123831775700935\n",
      "At random_state {6} the testing accuracy test is 0.8948598130841121\n",
      "\n",
      "\n",
      "At random_state {7} the training accuracy test is 0.915303738317757\n",
      "At random_state {7} the testing accuracy test is 0.8644859813084113\n",
      "\n",
      "\n",
      "At random_state {8} the training accuracy test is 0.907126168224299\n",
      "At random_state {8} the testing accuracy test is 0.8901869158878505\n",
      "\n",
      "\n",
      "At random_state {9} the training accuracy test is 0.9082943925233645\n",
      "At random_state {9} the testing accuracy test is 0.8691588785046729\n",
      "\n",
      "\n",
      "At random_state {10} the training accuracy test is 0.9170560747663551\n",
      "At random_state {10} the testing accuracy test is 0.8808411214953271\n",
      "\n",
      "\n",
      "At random_state {11} the training accuracy test is 0.9018691588785047\n",
      "At random_state {11} the testing accuracy test is 0.8808411214953271\n",
      "\n",
      "\n",
      "At random_state {12} the training accuracy test is 0.9123831775700935\n",
      "At random_state {12} the testing accuracy test is 0.8621495327102804\n",
      "\n",
      "\n",
      "At random_state {13} the training accuracy test is 0.9082943925233645\n",
      "At random_state {13} the testing accuracy test is 0.8855140186915887\n",
      "\n",
      "\n",
      "At random_state {14} the training accuracy test is 0.9123831775700935\n",
      "At random_state {14} the testing accuracy test is 0.8761682242990654\n",
      "\n",
      "\n",
      "At random_state {15} the training accuracy test is 0.9059579439252337\n",
      "At random_state {15} the testing accuracy test is 0.9088785046728972\n",
      "\n",
      "\n",
      "At random_state {16} the training accuracy test is 0.9094626168224299\n",
      "At random_state {16} the testing accuracy test is 0.8808411214953271\n",
      "\n",
      "\n",
      "At random_state {17} the training accuracy test is 0.9129672897196262\n",
      "At random_state {17} the testing accuracy test is 0.8644859813084113\n",
      "\n",
      "\n",
      "At random_state {18} the training accuracy test is 0.9077102803738317\n",
      "At random_state {18} the testing accuracy test is 0.8855140186915887\n",
      "\n",
      "\n",
      "At random_state {19} the training accuracy test is 0.9082943925233645\n",
      "At random_state {19} the testing accuracy test is 0.897196261682243\n",
      "\n",
      "\n",
      "At random_state {20} the training accuracy test is 0.905373831775701\n",
      "At random_state {20} the testing accuracy test is 0.9042056074766355\n",
      "\n",
      "\n",
      "At random_state {21} the training accuracy test is 0.9065420560747663\n",
      "At random_state {21} the testing accuracy test is 0.8995327102803738\n",
      "\n",
      "\n",
      "At random_state {22} the training accuracy test is 0.915303738317757\n",
      "At random_state {22} the testing accuracy test is 0.8785046728971962\n",
      "\n",
      "\n",
      "At random_state {23} the training accuracy test is 0.905373831775701\n",
      "At random_state {23} the testing accuracy test is 0.9018691588785047\n",
      "\n",
      "\n",
      "At random_state {24} the training accuracy test is 0.9147196261682243\n",
      "At random_state {24} the testing accuracy test is 0.883177570093458\n",
      "\n",
      "\n",
      "At random_state {25} the training accuracy test is 0.915303738317757\n",
      "At random_state {25} the testing accuracy test is 0.883177570093458\n",
      "\n",
      "\n",
      "At random_state {26} the training accuracy test is 0.9065420560747663\n",
      "At random_state {26} the testing accuracy test is 0.9042056074766355\n",
      "\n",
      "\n",
      "At random_state {27} the training accuracy test is 0.9147196261682243\n",
      "At random_state {27} the testing accuracy test is 0.8621495327102804\n",
      "\n",
      "\n",
      "At random_state {28} the training accuracy test is 0.9117990654205608\n",
      "At random_state {28} the testing accuracy test is 0.8855140186915887\n",
      "\n",
      "\n",
      "At random_state {29} the training accuracy test is 0.9077102803738317\n",
      "At random_state {29} the testing accuracy test is 0.8714953271028038\n",
      "\n",
      "\n",
      "At random_state {30} the training accuracy test is 0.9100467289719626\n",
      "At random_state {30} the testing accuracy test is 0.8855140186915887\n",
      "\n",
      "\n",
      "At random_state {31} the training accuracy test is 0.9117990654205608\n",
      "At random_state {31} the testing accuracy test is 0.8644859813084113\n",
      "\n",
      "\n",
      "At random_state {32} the training accuracy test is 0.9158878504672897\n",
      "At random_state {32} the testing accuracy test is 0.8574766355140186\n",
      "\n",
      "\n",
      "At random_state {33} the training accuracy test is 0.9030373831775701\n",
      "At random_state {33} the testing accuracy test is 0.9135514018691588\n",
      "\n",
      "\n",
      "At random_state {34} the training accuracy test is 0.9117990654205608\n",
      "At random_state {34} the testing accuracy test is 0.883177570093458\n",
      "\n",
      "\n",
      "At random_state {35} the training accuracy test is 0.9123831775700935\n",
      "At random_state {35} the testing accuracy test is 0.8808411214953271\n",
      "\n",
      "\n",
      "At random_state {36} the training accuracy test is 0.9094626168224299\n",
      "At random_state {36} the testing accuracy test is 0.8761682242990654\n",
      "\n",
      "\n",
      "At random_state {37} the training accuracy test is 0.9100467289719626\n",
      "At random_state {37} the testing accuracy test is 0.8761682242990654\n",
      "\n",
      "\n",
      "At random_state {38} the training accuracy test is 0.9024532710280374\n",
      "At random_state {38} the testing accuracy test is 0.897196261682243\n",
      "\n",
      "\n",
      "At random_state {39} the training accuracy test is 0.9059579439252337\n",
      "At random_state {39} the testing accuracy test is 0.8901869158878505\n",
      "\n",
      "\n",
      "At random_state {40} the training accuracy test is 0.9106308411214953\n",
      "At random_state {40} the testing accuracy test is 0.866822429906542\n",
      "\n",
      "\n",
      "At random_state {41} the training accuracy test is 0.9100467289719626\n",
      "At random_state {41} the testing accuracy test is 0.8808411214953271\n",
      "\n",
      "\n",
      "At random_state {42} the training accuracy test is 0.9082943925233645\n",
      "At random_state {42} the testing accuracy test is 0.8808411214953271\n",
      "\n",
      "\n",
      "At random_state {43} the training accuracy test is 0.9042056074766355\n",
      "At random_state {43} the testing accuracy test is 0.9018691588785047\n",
      "\n",
      "\n",
      "At random_state {44} the training accuracy test is 0.9129672897196262\n",
      "At random_state {44} the testing accuracy test is 0.8901869158878505\n",
      "\n",
      "\n",
      "At random_state {45} the training accuracy test is 0.9141355140186916\n",
      "At random_state {45} the testing accuracy test is 0.8691588785046729\n",
      "\n",
      "\n",
      "At random_state {46} the training accuracy test is 0.9065420560747663\n",
      "At random_state {46} the testing accuracy test is 0.897196261682243\n",
      "\n",
      "\n",
      "At random_state {47} the training accuracy test is 0.9141355140186916\n",
      "At random_state {47} the testing accuracy test is 0.883177570093458\n",
      "\n",
      "\n",
      "At random_state {48} the training accuracy test is 0.9141355140186916\n",
      "At random_state {48} the testing accuracy test is 0.8714953271028038\n",
      "\n",
      "\n",
      "At random_state {49} the training accuracy test is 0.9112149532710281\n",
      "At random_state {49} the testing accuracy test is 0.8808411214953271\n",
      "\n",
      "\n",
      "At random_state {50} the training accuracy test is 0.9088785046728972\n",
      "At random_state {50} the testing accuracy test is 0.8855140186915887\n",
      "\n",
      "\n",
      "At random_state {51} the training accuracy test is 0.9094626168224299\n",
      "At random_state {51} the testing accuracy test is 0.8901869158878505\n",
      "\n",
      "\n",
      "At random_state {52} the training accuracy test is 0.9112149532710281\n",
      "At random_state {52} the testing accuracy test is 0.8855140186915887\n",
      "\n",
      "\n",
      "At random_state {53} the training accuracy test is 0.9100467289719626\n",
      "At random_state {53} the testing accuracy test is 0.8855140186915887\n",
      "\n",
      "\n",
      "At random_state {54} the training accuracy test is 0.9065420560747663\n",
      "At random_state {54} the testing accuracy test is 0.8901869158878505\n",
      "\n",
      "\n",
      "At random_state {55} the training accuracy test is 0.9030373831775701\n",
      "At random_state {55} the testing accuracy test is 0.8948598130841121\n",
      "\n",
      "\n",
      "At random_state {56} the training accuracy test is 0.9094626168224299\n",
      "At random_state {56} the testing accuracy test is 0.8901869158878505\n",
      "\n",
      "\n",
      "At random_state {57} the training accuracy test is 0.9100467289719626\n",
      "At random_state {57} the testing accuracy test is 0.8738317757009346\n",
      "\n",
      "\n",
      "At random_state {58} the training accuracy test is 0.9082943925233645\n",
      "At random_state {58} the testing accuracy test is 0.9018691588785047\n",
      "\n",
      "\n",
      "At random_state {59} the training accuracy test is 0.9117990654205608\n",
      "At random_state {59} the testing accuracy test is 0.897196261682243\n",
      "\n",
      "\n",
      "At random_state {60} the training accuracy test is 0.9047897196261683\n",
      "At random_state {60} the testing accuracy test is 0.883177570093458\n",
      "\n",
      "\n",
      "At random_state {61} the training accuracy test is 0.9088785046728972\n",
      "At random_state {61} the testing accuracy test is 0.8714953271028038\n",
      "\n",
      "\n",
      "At random_state {62} the training accuracy test is 0.9100467289719626\n",
      "At random_state {62} the testing accuracy test is 0.8761682242990654\n",
      "\n",
      "\n",
      "At random_state {63} the training accuracy test is 0.9077102803738317\n",
      "At random_state {63} the testing accuracy test is 0.8598130841121495\n",
      "\n",
      "\n",
      "At random_state {64} the training accuracy test is 0.9112149532710281\n",
      "At random_state {64} the testing accuracy test is 0.8855140186915887\n",
      "\n",
      "\n",
      "At random_state {65} the training accuracy test is 0.9047897196261683\n",
      "At random_state {65} the testing accuracy test is 0.8901869158878505\n",
      "\n",
      "\n",
      "At random_state {66} the training accuracy test is 0.9088785046728972\n",
      "At random_state {66} the testing accuracy test is 0.9018691588785047\n",
      "\n",
      "\n",
      "At random_state {67} the training accuracy test is 0.9117990654205608\n",
      "At random_state {67} the testing accuracy test is 0.8925233644859814\n",
      "\n",
      "\n",
      "At random_state {68} the training accuracy test is 0.9141355140186916\n",
      "At random_state {68} the testing accuracy test is 0.8785046728971962\n",
      "\n",
      "\n",
      "At random_state {69} the training accuracy test is 0.9088785046728972\n",
      "At random_state {69} the testing accuracy test is 0.866822429906542\n",
      "\n",
      "\n",
      "At random_state {70} the training accuracy test is 0.9065420560747663\n",
      "At random_state {70} the testing accuracy test is 0.8691588785046729\n",
      "\n",
      "\n",
      "At random_state {71} the training accuracy test is 0.9100467289719626\n",
      "At random_state {71} the testing accuracy test is 0.8948598130841121\n",
      "\n",
      "\n",
      "At random_state {72} the training accuracy test is 0.9112149532710281\n",
      "At random_state {72} the testing accuracy test is 0.8785046728971962\n",
      "\n",
      "\n",
      "At random_state {73} the training accuracy test is 0.9147196261682243\n",
      "At random_state {73} the testing accuracy test is 0.8878504672897196\n",
      "\n",
      "\n",
      "At random_state {74} the training accuracy test is 0.9042056074766355\n",
      "At random_state {74} the testing accuracy test is 0.8878504672897196\n",
      "\n",
      "\n",
      "At random_state {75} the training accuracy test is 0.9042056074766355\n",
      "At random_state {75} the testing accuracy test is 0.8808411214953271\n",
      "\n",
      "\n",
      "At random_state {76} the training accuracy test is 0.9117990654205608\n",
      "At random_state {76} the testing accuracy test is 0.883177570093458\n",
      "\n",
      "\n",
      "At random_state {77} the training accuracy test is 0.9059579439252337\n",
      "At random_state {77} the testing accuracy test is 0.8995327102803738\n",
      "\n",
      "\n",
      "At random_state {78} the training accuracy test is 0.9117990654205608\n",
      "At random_state {78} the testing accuracy test is 0.8785046728971962\n",
      "\n",
      "\n",
      "At random_state {79} the training accuracy test is 0.9018691588785047\n",
      "At random_state {79} the testing accuracy test is 0.8995327102803738\n",
      "\n",
      "\n",
      "At random_state {80} the training accuracy test is 0.9112149532710281\n",
      "At random_state {80} the testing accuracy test is 0.8948598130841121\n",
      "\n",
      "\n",
      "At random_state {81} the training accuracy test is 0.9106308411214953\n",
      "At random_state {81} the testing accuracy test is 0.8808411214953271\n",
      "\n",
      "\n",
      "At random_state {82} the training accuracy test is 0.9129672897196262\n",
      "At random_state {82} the testing accuracy test is 0.8738317757009346\n",
      "\n",
      "\n",
      "At random_state {83} the training accuracy test is 0.9112149532710281\n",
      "At random_state {83} the testing accuracy test is 0.8995327102803738\n",
      "\n",
      "\n",
      "At random_state {84} the training accuracy test is 0.907126168224299\n",
      "At random_state {84} the testing accuracy test is 0.897196261682243\n",
      "\n",
      "\n",
      "At random_state {85} the training accuracy test is 0.9082943925233645\n",
      "At random_state {85} the testing accuracy test is 0.883177570093458\n",
      "\n",
      "\n",
      "At random_state {86} the training accuracy test is 0.9135514018691588\n",
      "At random_state {86} the testing accuracy test is 0.8691588785046729\n",
      "\n",
      "\n",
      "At random_state {87} the training accuracy test is 0.9059579439252337\n",
      "At random_state {87} the testing accuracy test is 0.9018691588785047\n",
      "\n",
      "\n",
      "At random_state {88} the training accuracy test is 0.9030373831775701\n",
      "At random_state {88} the testing accuracy test is 0.897196261682243\n",
      "\n",
      "\n",
      "At random_state {89} the training accuracy test is 0.9036214953271028\n",
      "At random_state {89} the testing accuracy test is 0.8738317757009346\n",
      "\n",
      "\n",
      "At random_state {90} the training accuracy test is 0.8983644859813084\n",
      "At random_state {90} the testing accuracy test is 0.9135514018691588\n",
      "\n",
      "\n",
      "At random_state {91} the training accuracy test is 0.9059579439252337\n",
      "At random_state {91} the testing accuracy test is 0.9065420560747663\n",
      "\n",
      "\n",
      "At random_state {92} the training accuracy test is 0.8989485981308412\n",
      "At random_state {92} the testing accuracy test is 0.9042056074766355\n",
      "\n",
      "\n",
      "At random_state {93} the training accuracy test is 0.9082943925233645\n",
      "At random_state {93} the testing accuracy test is 0.8761682242990654\n",
      "\n",
      "\n",
      "At random_state {94} the training accuracy test is 0.9112149532710281\n",
      "At random_state {94} the testing accuracy test is 0.8808411214953271\n",
      "\n",
      "\n",
      "At random_state {95} the training accuracy test is 0.9065420560747663\n",
      "At random_state {95} the testing accuracy test is 0.9158878504672897\n",
      "\n",
      "\n",
      "At random_state {96} the training accuracy test is 0.9077102803738317\n",
      "At random_state {96} the testing accuracy test is 0.9112149532710281\n",
      "\n",
      "\n",
      "At random_state {97} the training accuracy test is 0.9158878504672897\n",
      "At random_state {97} the testing accuracy test is 0.8808411214953271\n",
      "\n",
      "\n",
      "At random_state {98} the training accuracy test is 0.9112149532710281\n",
      "At random_state {98} the testing accuracy test is 0.883177570093458\n",
      "\n",
      "\n",
      "At random_state {99} the training accuracy test is 0.9047897196261683\n",
      "At random_state {99} the testing accuracy test is 0.8808411214953271\n",
      "\n",
      "\n"
     ]
    }
   ],
   "source": [
    "for i in range(0,100):\n",
    "    x_train,x_test,y_train,y_test=train_test_split(x3,yy,test_size=0.20,random_state=i)\n",
    "    svm.fit(x_train,y_train)\n",
    "    predsvm=svm.predict(x_train)\n",
    "    predsvm1=svm.predict(x_test)\n",
    "    print('At random_state' ,{i}, 'the training accuracy test is', accuracy_score(y_train,predsvm))\n",
    "    print('At random_state' ,{i}, 'the testing accuracy test is', accuracy_score(y_test,predsvm1))\n",
    "    print('\\n')"
   ]
  },
  {
   "cell_type": "markdown",
   "id": "5e178025",
   "metadata": {},
   "source": [
    "AT RANDOM STATE 95 (91.58%) THE MODEL IS GIVING THE HIGHEST TESTING ACCURACY HENCE WE ARE GOING AHEAD WITH THAT "
   ]
  },
  {
   "cell_type": "code",
   "execution_count": 124,
   "id": "b520d950",
   "metadata": {},
   "outputs": [],
   "source": [
    "x_train,x_test,y_train,y_test=train_test_split(x3,yy,test_size=0.20,random_state=95)"
   ]
  },
  {
   "cell_type": "code",
   "execution_count": 125,
   "id": "31b979f6",
   "metadata": {},
   "outputs": [],
   "source": [
    "svm=SVC()"
   ]
  },
  {
   "cell_type": "code",
   "execution_count": 126,
   "id": "5b926e5f",
   "metadata": {},
   "outputs": [
    {
     "data": {
      "text/html": [
       "<style>#sk-container-id-5 {color: black;background-color: white;}#sk-container-id-5 pre{padding: 0;}#sk-container-id-5 div.sk-toggleable {background-color: white;}#sk-container-id-5 label.sk-toggleable__label {cursor: pointer;display: block;width: 100%;margin-bottom: 0;padding: 0.3em;box-sizing: border-box;text-align: center;}#sk-container-id-5 label.sk-toggleable__label-arrow:before {content: \"▸\";float: left;margin-right: 0.25em;color: #696969;}#sk-container-id-5 label.sk-toggleable__label-arrow:hover:before {color: black;}#sk-container-id-5 div.sk-estimator:hover label.sk-toggleable__label-arrow:before {color: black;}#sk-container-id-5 div.sk-toggleable__content {max-height: 0;max-width: 0;overflow: hidden;text-align: left;background-color: #f0f8ff;}#sk-container-id-5 div.sk-toggleable__content pre {margin: 0.2em;color: black;border-radius: 0.25em;background-color: #f0f8ff;}#sk-container-id-5 input.sk-toggleable__control:checked~div.sk-toggleable__content {max-height: 200px;max-width: 100%;overflow: auto;}#sk-container-id-5 input.sk-toggleable__control:checked~label.sk-toggleable__label-arrow:before {content: \"▾\";}#sk-container-id-5 div.sk-estimator input.sk-toggleable__control:checked~label.sk-toggleable__label {background-color: #d4ebff;}#sk-container-id-5 div.sk-label input.sk-toggleable__control:checked~label.sk-toggleable__label {background-color: #d4ebff;}#sk-container-id-5 input.sk-hidden--visually {border: 0;clip: rect(1px 1px 1px 1px);clip: rect(1px, 1px, 1px, 1px);height: 1px;margin: -1px;overflow: hidden;padding: 0;position: absolute;width: 1px;}#sk-container-id-5 div.sk-estimator {font-family: monospace;background-color: #f0f8ff;border: 1px dotted black;border-radius: 0.25em;box-sizing: border-box;margin-bottom: 0.5em;}#sk-container-id-5 div.sk-estimator:hover {background-color: #d4ebff;}#sk-container-id-5 div.sk-parallel-item::after {content: \"\";width: 100%;border-bottom: 1px solid gray;flex-grow: 1;}#sk-container-id-5 div.sk-label:hover label.sk-toggleable__label {background-color: #d4ebff;}#sk-container-id-5 div.sk-serial::before {content: \"\";position: absolute;border-left: 1px solid gray;box-sizing: border-box;top: 0;bottom: 0;left: 50%;z-index: 0;}#sk-container-id-5 div.sk-serial {display: flex;flex-direction: column;align-items: center;background-color: white;padding-right: 0.2em;padding-left: 0.2em;position: relative;}#sk-container-id-5 div.sk-item {position: relative;z-index: 1;}#sk-container-id-5 div.sk-parallel {display: flex;align-items: stretch;justify-content: center;background-color: white;position: relative;}#sk-container-id-5 div.sk-item::before, #sk-container-id-5 div.sk-parallel-item::before {content: \"\";position: absolute;border-left: 1px solid gray;box-sizing: border-box;top: 0;bottom: 0;left: 50%;z-index: -1;}#sk-container-id-5 div.sk-parallel-item {display: flex;flex-direction: column;z-index: 1;position: relative;background-color: white;}#sk-container-id-5 div.sk-parallel-item:first-child::after {align-self: flex-end;width: 50%;}#sk-container-id-5 div.sk-parallel-item:last-child::after {align-self: flex-start;width: 50%;}#sk-container-id-5 div.sk-parallel-item:only-child::after {width: 0;}#sk-container-id-5 div.sk-dashed-wrapped {border: 1px dashed gray;margin: 0 0.4em 0.5em 0.4em;box-sizing: border-box;padding-bottom: 0.4em;background-color: white;}#sk-container-id-5 div.sk-label label {font-family: monospace;font-weight: bold;display: inline-block;line-height: 1.2em;}#sk-container-id-5 div.sk-label-container {text-align: center;}#sk-container-id-5 div.sk-container {/* jupyter's `normalize.less` sets `[hidden] { display: none; }` but bootstrap.min.css set `[hidden] { display: none !important; }` so we also need the `!important` here to be able to override the default hidden behavior on the sphinx rendered scikit-learn.org. See: https://github.com/scikit-learn/scikit-learn/issues/21755 */display: inline-block !important;position: relative;}#sk-container-id-5 div.sk-text-repr-fallback {display: none;}</style><div id=\"sk-container-id-5\" class=\"sk-top-container\"><div class=\"sk-text-repr-fallback\"><pre>SVC()</pre><b>In a Jupyter environment, please rerun this cell to show the HTML representation or trust the notebook. <br />On GitHub, the HTML representation is unable to render, please try loading this page with nbviewer.org.</b></div><div class=\"sk-container\" hidden><div class=\"sk-item\"><div class=\"sk-estimator sk-toggleable\"><input class=\"sk-toggleable__control sk-hidden--visually\" id=\"sk-estimator-id-5\" type=\"checkbox\" checked><label for=\"sk-estimator-id-5\" class=\"sk-toggleable__label sk-toggleable__label-arrow\">SVC</label><div class=\"sk-toggleable__content\"><pre>SVC()</pre></div></div></div></div></div>"
      ],
      "text/plain": [
       "SVC()"
      ]
     },
     "execution_count": 126,
     "metadata": {},
     "output_type": "execute_result"
    }
   ],
   "source": [
    "svm.fit(x_train,y_train)"
   ]
  },
  {
   "cell_type": "code",
   "execution_count": 127,
   "id": "b2b7f27e",
   "metadata": {},
   "outputs": [],
   "source": [
    "presvc1=svm.predict(x_test)"
   ]
  },
  {
   "cell_type": "code",
   "execution_count": 128,
   "id": "2324a2ed",
   "metadata": {},
   "outputs": [
    {
     "name": "stdout",
     "output_type": "stream",
     "text": [
      "0.9158878504672897\n",
      "[[176  25]\n",
      " [ 11 216]]\n",
      "              precision    recall  f1-score   support\n",
      "\n",
      "           0       0.94      0.88      0.91       201\n",
      "           1       0.90      0.95      0.92       227\n",
      "\n",
      "    accuracy                           0.92       428\n",
      "   macro avg       0.92      0.91      0.92       428\n",
      "weighted avg       0.92      0.92      0.92       428\n",
      "\n"
     ]
    }
   ],
   "source": [
    "print(accuracy_score(y_test,presvc1))\n",
    "print(confusion_matrix(y_test,presvc1))\n",
    "print(classification_report(y_test,presvc1))"
   ]
  },
  {
   "cell_type": "markdown",
   "id": "45df7138",
   "metadata": {},
   "source": [
    "DECISION TREE CLASSIFER"
   ]
  },
  {
   "cell_type": "code",
   "execution_count": 407,
   "id": "1d478f8c",
   "metadata": {},
   "outputs": [],
   "source": [
    "from sklearn.tree import DecisionTreeClassifier"
   ]
  },
  {
   "cell_type": "code",
   "execution_count": 130,
   "id": "7f0fdf93",
   "metadata": {},
   "outputs": [],
   "source": [
    "dtc=DecisionTreeClassifier()"
   ]
  },
  {
   "cell_type": "code",
   "execution_count": 131,
   "id": "4631d09f",
   "metadata": {},
   "outputs": [
    {
     "name": "stdout",
     "output_type": "stream",
     "text": [
      "At random_state {0} the training accuracy test is 1.0\n",
      "At random_state {0} the testing accuracy test is 0.8995327102803738\n",
      "\n",
      "\n",
      "At random_state {1} the training accuracy test is 1.0\n",
      "At random_state {1} the testing accuracy test is 0.8878504672897196\n",
      "\n",
      "\n",
      "At random_state {2} the training accuracy test is 1.0\n",
      "At random_state {2} the testing accuracy test is 0.866822429906542\n",
      "\n",
      "\n",
      "At random_state {3} the training accuracy test is 1.0\n",
      "At random_state {3} the testing accuracy test is 0.8621495327102804\n",
      "\n",
      "\n",
      "At random_state {4} the training accuracy test is 1.0\n",
      "At random_state {4} the testing accuracy test is 0.852803738317757\n",
      "\n",
      "\n",
      "At random_state {5} the training accuracy test is 1.0\n",
      "At random_state {5} the testing accuracy test is 0.8551401869158879\n",
      "\n",
      "\n",
      "At random_state {6} the training accuracy test is 1.0\n",
      "At random_state {6} the testing accuracy test is 0.8738317757009346\n",
      "\n",
      "\n",
      "At random_state {7} the training accuracy test is 1.0\n",
      "At random_state {7} the testing accuracy test is 0.8387850467289719\n",
      "\n",
      "\n",
      "At random_state {8} the training accuracy test is 1.0\n",
      "At random_state {8} the testing accuracy test is 0.8785046728971962\n",
      "\n",
      "\n",
      "At random_state {9} the training accuracy test is 1.0\n",
      "At random_state {9} the testing accuracy test is 0.8901869158878505\n",
      "\n",
      "\n",
      "At random_state {10} the training accuracy test is 1.0\n",
      "At random_state {10} the testing accuracy test is 0.8551401869158879\n",
      "\n",
      "\n",
      "At random_state {11} the training accuracy test is 1.0\n",
      "At random_state {11} the testing accuracy test is 0.8574766355140186\n",
      "\n",
      "\n",
      "At random_state {12} the training accuracy test is 1.0\n",
      "At random_state {12} the testing accuracy test is 0.8364485981308412\n",
      "\n",
      "\n",
      "At random_state {13} the training accuracy test is 1.0\n",
      "At random_state {13} the testing accuracy test is 0.8481308411214953\n",
      "\n",
      "\n",
      "At random_state {14} the training accuracy test is 1.0\n",
      "At random_state {14} the testing accuracy test is 0.8574766355140186\n",
      "\n",
      "\n",
      "At random_state {15} the training accuracy test is 1.0\n",
      "At random_state {15} the testing accuracy test is 0.8457943925233645\n",
      "\n",
      "\n",
      "At random_state {16} the training accuracy test is 1.0\n",
      "At random_state {16} the testing accuracy test is 0.8598130841121495\n",
      "\n",
      "\n",
      "At random_state {17} the training accuracy test is 1.0\n",
      "At random_state {17} the testing accuracy test is 0.8551401869158879\n",
      "\n",
      "\n",
      "At random_state {18} the training accuracy test is 1.0\n",
      "At random_state {18} the testing accuracy test is 0.8621495327102804\n",
      "\n",
      "\n",
      "At random_state {19} the training accuracy test is 1.0\n",
      "At random_state {19} the testing accuracy test is 0.8481308411214953\n",
      "\n",
      "\n",
      "At random_state {20} the training accuracy test is 1.0\n",
      "At random_state {20} the testing accuracy test is 0.883177570093458\n",
      "\n",
      "\n",
      "At random_state {21} the training accuracy test is 1.0\n",
      "At random_state {21} the testing accuracy test is 0.8691588785046729\n",
      "\n",
      "\n",
      "At random_state {22} the training accuracy test is 1.0\n",
      "At random_state {22} the testing accuracy test is 0.8504672897196262\n",
      "\n",
      "\n",
      "At random_state {23} the training accuracy test is 1.0\n",
      "At random_state {23} the testing accuracy test is 0.8457943925233645\n",
      "\n",
      "\n",
      "At random_state {24} the training accuracy test is 1.0\n",
      "At random_state {24} the testing accuracy test is 0.8551401869158879\n",
      "\n",
      "\n",
      "At random_state {25} the training accuracy test is 1.0\n",
      "At random_state {25} the testing accuracy test is 0.8598130841121495\n",
      "\n",
      "\n",
      "At random_state {26} the training accuracy test is 1.0\n",
      "At random_state {26} the testing accuracy test is 0.8925233644859814\n",
      "\n",
      "\n",
      "At random_state {27} the training accuracy test is 1.0\n",
      "At random_state {27} the testing accuracy test is 0.852803738317757\n",
      "\n",
      "\n",
      "At random_state {28} the training accuracy test is 1.0\n",
      "At random_state {28} the testing accuracy test is 0.8808411214953271\n",
      "\n",
      "\n",
      "At random_state {29} the training accuracy test is 1.0\n",
      "At random_state {29} the testing accuracy test is 0.8574766355140186\n",
      "\n",
      "\n",
      "At random_state {30} the training accuracy test is 1.0\n",
      "At random_state {30} the testing accuracy test is 0.8621495327102804\n",
      "\n",
      "\n",
      "At random_state {31} the training accuracy test is 1.0\n",
      "At random_state {31} the testing accuracy test is 0.8551401869158879\n",
      "\n",
      "\n",
      "At random_state {32} the training accuracy test is 1.0\n",
      "At random_state {32} the testing accuracy test is 0.8621495327102804\n",
      "\n",
      "\n",
      "At random_state {33} the training accuracy test is 1.0\n",
      "At random_state {33} the testing accuracy test is 0.883177570093458\n",
      "\n",
      "\n",
      "At random_state {34} the training accuracy test is 1.0\n",
      "At random_state {34} the testing accuracy test is 0.852803738317757\n",
      "\n",
      "\n",
      "At random_state {35} the training accuracy test is 1.0\n",
      "At random_state {35} the testing accuracy test is 0.8411214953271028\n",
      "\n",
      "\n",
      "At random_state {36} the training accuracy test is 1.0\n",
      "At random_state {36} the testing accuracy test is 0.8714953271028038\n",
      "\n",
      "\n",
      "At random_state {37} the training accuracy test is 1.0\n",
      "At random_state {37} the testing accuracy test is 0.8621495327102804\n",
      "\n",
      "\n",
      "At random_state {38} the training accuracy test is 1.0\n",
      "At random_state {38} the testing accuracy test is 0.8738317757009346\n",
      "\n",
      "\n",
      "At random_state {39} the training accuracy test is 1.0\n",
      "At random_state {39} the testing accuracy test is 0.8761682242990654\n",
      "\n",
      "\n",
      "At random_state {40} the training accuracy test is 1.0\n",
      "At random_state {40} the testing accuracy test is 0.8341121495327103\n",
      "\n",
      "\n",
      "At random_state {41} the training accuracy test is 1.0\n",
      "At random_state {41} the testing accuracy test is 0.8457943925233645\n",
      "\n",
      "\n",
      "At random_state {42} the training accuracy test is 1.0\n",
      "At random_state {42} the testing accuracy test is 0.8411214953271028\n",
      "\n",
      "\n",
      "At random_state {43} the training accuracy test is 1.0\n",
      "At random_state {43} the testing accuracy test is 0.8621495327102804\n",
      "\n",
      "\n",
      "At random_state {44} the training accuracy test is 1.0\n",
      "At random_state {44} the testing accuracy test is 0.8785046728971962\n",
      "\n",
      "\n",
      "At random_state {45} the training accuracy test is 1.0\n",
      "At random_state {45} the testing accuracy test is 0.8504672897196262\n",
      "\n",
      "\n",
      "At random_state {46} the training accuracy test is 1.0\n",
      "At random_state {46} the testing accuracy test is 0.8691588785046729\n",
      "\n",
      "\n",
      "At random_state {47} the training accuracy test is 1.0\n",
      "At random_state {47} the testing accuracy test is 0.8785046728971962\n",
      "\n",
      "\n",
      "At random_state {48} the training accuracy test is 1.0\n",
      "At random_state {48} the testing accuracy test is 0.8317757009345794\n",
      "\n",
      "\n",
      "At random_state {49} the training accuracy test is 1.0\n",
      "At random_state {49} the testing accuracy test is 0.8785046728971962\n",
      "\n",
      "\n",
      "At random_state {50} the training accuracy test is 1.0\n",
      "At random_state {50} the testing accuracy test is 0.8574766355140186\n",
      "\n",
      "\n",
      "At random_state {51} the training accuracy test is 1.0\n",
      "At random_state {51} the testing accuracy test is 0.8691588785046729\n",
      "\n",
      "\n",
      "At random_state {52} the training accuracy test is 1.0\n",
      "At random_state {52} the testing accuracy test is 0.8714953271028038\n",
      "\n",
      "\n",
      "At random_state {53} the training accuracy test is 1.0\n",
      "At random_state {53} the testing accuracy test is 0.8785046728971962\n",
      "\n",
      "\n",
      "At random_state {54} the training accuracy test is 1.0\n",
      "At random_state {54} the testing accuracy test is 0.8901869158878505\n",
      "\n",
      "\n",
      "At random_state {55} the training accuracy test is 1.0\n",
      "At random_state {55} the testing accuracy test is 0.866822429906542\n",
      "\n",
      "\n",
      "At random_state {56} the training accuracy test is 1.0\n",
      "At random_state {56} the testing accuracy test is 0.8434579439252337\n",
      "\n",
      "\n",
      "At random_state {57} the training accuracy test is 1.0\n",
      "At random_state {57} the testing accuracy test is 0.8411214953271028\n",
      "\n",
      "\n",
      "At random_state {58} the training accuracy test is 1.0\n",
      "At random_state {58} the testing accuracy test is 0.8738317757009346\n",
      "\n",
      "\n",
      "At random_state {59} the training accuracy test is 1.0\n",
      "At random_state {59} the testing accuracy test is 0.8785046728971962\n",
      "\n",
      "\n",
      "At random_state {60} the training accuracy test is 1.0\n",
      "At random_state {60} the testing accuracy test is 0.8644859813084113\n",
      "\n",
      "\n",
      "At random_state {61} the training accuracy test is 1.0\n",
      "At random_state {61} the testing accuracy test is 0.8621495327102804\n",
      "\n",
      "\n",
      "At random_state {62} the training accuracy test is 1.0\n",
      "At random_state {62} the testing accuracy test is 0.8621495327102804\n",
      "\n",
      "\n",
      "At random_state {63} the training accuracy test is 1.0\n",
      "At random_state {63} the testing accuracy test is 0.8434579439252337\n",
      "\n",
      "\n",
      "At random_state {64} the training accuracy test is 1.0\n",
      "At random_state {64} the testing accuracy test is 0.8808411214953271\n",
      "\n",
      "\n",
      "At random_state {65} the training accuracy test is 1.0\n",
      "At random_state {65} the testing accuracy test is 0.883177570093458\n",
      "\n",
      "\n",
      "At random_state {66} the training accuracy test is 1.0\n",
      "At random_state {66} the testing accuracy test is 0.8901869158878505\n",
      "\n",
      "\n",
      "At random_state {67} the training accuracy test is 1.0\n",
      "At random_state {67} the testing accuracy test is 0.8411214953271028\n",
      "\n",
      "\n",
      "At random_state {68} the training accuracy test is 1.0\n",
      "At random_state {68} the testing accuracy test is 0.8878504672897196\n",
      "\n",
      "\n",
      "At random_state {69} the training accuracy test is 1.0\n",
      "At random_state {69} the testing accuracy test is 0.8294392523364486\n",
      "\n",
      "\n",
      "At random_state {70} the training accuracy test is 1.0\n",
      "At random_state {70} the testing accuracy test is 0.866822429906542\n",
      "\n",
      "\n",
      "At random_state {71} the training accuracy test is 1.0\n",
      "At random_state {71} the testing accuracy test is 0.8598130841121495\n",
      "\n",
      "\n",
      "At random_state {72} the training accuracy test is 1.0\n",
      "At random_state {72} the testing accuracy test is 0.8644859813084113\n",
      "\n",
      "\n",
      "At random_state {73} the training accuracy test is 1.0\n",
      "At random_state {73} the testing accuracy test is 0.8644859813084113\n",
      "\n",
      "\n",
      "At random_state {74} the training accuracy test is 1.0\n",
      "At random_state {74} the testing accuracy test is 0.8481308411214953\n",
      "\n",
      "\n",
      "At random_state {75} the training accuracy test is 1.0\n",
      "At random_state {75} the testing accuracy test is 0.852803738317757\n",
      "\n",
      "\n",
      "At random_state {76} the training accuracy test is 1.0\n",
      "At random_state {76} the testing accuracy test is 0.8761682242990654\n",
      "\n",
      "\n",
      "At random_state {77} the training accuracy test is 1.0\n",
      "At random_state {77} the testing accuracy test is 0.8738317757009346\n",
      "\n",
      "\n",
      "At random_state {78} the training accuracy test is 1.0\n",
      "At random_state {78} the testing accuracy test is 0.8598130841121495\n",
      "\n",
      "\n",
      "At random_state {79} the training accuracy test is 1.0\n",
      "At random_state {79} the testing accuracy test is 0.8901869158878505\n",
      "\n",
      "\n",
      "At random_state {80} the training accuracy test is 1.0\n",
      "At random_state {80} the testing accuracy test is 0.8691588785046729\n",
      "\n",
      "\n",
      "At random_state {81} the training accuracy test is 1.0\n",
      "At random_state {81} the testing accuracy test is 0.8738317757009346\n",
      "\n",
      "\n",
      "At random_state {82} the training accuracy test is 1.0\n",
      "At random_state {82} the testing accuracy test is 0.8294392523364486\n",
      "\n",
      "\n",
      "At random_state {83} the training accuracy test is 1.0\n",
      "At random_state {83} the testing accuracy test is 0.883177570093458\n",
      "\n",
      "\n",
      "At random_state {84} the training accuracy test is 1.0\n",
      "At random_state {84} the testing accuracy test is 0.8878504672897196\n",
      "\n",
      "\n",
      "At random_state {85} the training accuracy test is 1.0\n",
      "At random_state {85} the testing accuracy test is 0.8574766355140186\n",
      "\n",
      "\n",
      "At random_state {86} the training accuracy test is 1.0\n",
      "At random_state {86} the testing accuracy test is 0.8481308411214953\n",
      "\n",
      "\n",
      "At random_state {87} the training accuracy test is 1.0\n",
      "At random_state {87} the testing accuracy test is 0.8925233644859814\n",
      "\n",
      "\n",
      "At random_state {88} the training accuracy test is 1.0\n",
      "At random_state {88} the testing accuracy test is 0.8621495327102804\n",
      "\n",
      "\n",
      "At random_state {89} the training accuracy test is 1.0\n",
      "At random_state {89} the testing accuracy test is 0.8808411214953271\n",
      "\n",
      "\n",
      "At random_state {90} the training accuracy test is 1.0\n",
      "At random_state {90} the testing accuracy test is 0.883177570093458\n",
      "\n",
      "\n",
      "At random_state {91} the training accuracy test is 1.0\n",
      "At random_state {91} the testing accuracy test is 0.8644859813084113\n",
      "\n",
      "\n",
      "At random_state {92} the training accuracy test is 1.0\n",
      "At random_state {92} the testing accuracy test is 0.8387850467289719\n",
      "\n",
      "\n",
      "At random_state {93} the training accuracy test is 1.0\n",
      "At random_state {93} the testing accuracy test is 0.8411214953271028\n",
      "\n",
      "\n",
      "At random_state {94} the training accuracy test is 1.0\n",
      "At random_state {94} the testing accuracy test is 0.8644859813084113\n",
      "\n",
      "\n",
      "At random_state {95} the training accuracy test is 1.0\n",
      "At random_state {95} the testing accuracy test is 0.8644859813084113\n",
      "\n",
      "\n",
      "At random_state {96} the training accuracy test is 1.0\n",
      "At random_state {96} the testing accuracy test is 0.8574766355140186\n",
      "\n",
      "\n",
      "At random_state {97} the training accuracy test is 1.0\n",
      "At random_state {97} the testing accuracy test is 0.8644859813084113\n",
      "\n",
      "\n",
      "At random_state {98} the training accuracy test is 1.0\n",
      "At random_state {98} the testing accuracy test is 0.8644859813084113\n",
      "\n",
      "\n",
      "At random_state {99} the training accuracy test is 1.0\n",
      "At random_state {99} the testing accuracy test is 0.8644859813084113\n",
      "\n",
      "\n"
     ]
    }
   ],
   "source": [
    "for i in range(0,100):\n",
    "    x_train,x_test,y_train,y_test=train_test_split(x3,yy,test_size=0.20,random_state=i)\n",
    "    dtc.fit(x_train,y_train)\n",
    "    preddtc=dtc.predict(x_train)\n",
    "    preddtc1=dtc.predict(x_test)\n",
    "    print('At random_state' ,{i}, 'the training accuracy test is', accuracy_score(y_train,preddtc))\n",
    "    print('At random_state' ,{i}, 'the testing accuracy test is', accuracy_score(y_test,preddtc1))\n",
    "    print('\\n')"
   ]
  },
  {
   "cell_type": "markdown",
   "id": "9c93ed90",
   "metadata": {},
   "source": [
    "AT RANDOM STATE 87 (89.25%) THE MODEL IS GIVING THE HIGHEST TESTING ACCURACY HENCE WE ARE GOING AHEAD WITH THAT "
   ]
  },
  {
   "cell_type": "code",
   "execution_count": 141,
   "id": "892bb0cc",
   "metadata": {},
   "outputs": [],
   "source": [
    "x_train,x_test,y_train,y_test=train_test_split(x3,yy,test_size=0.20,random_state=87)"
   ]
  },
  {
   "cell_type": "code",
   "execution_count": 142,
   "id": "3461527b",
   "metadata": {},
   "outputs": [],
   "source": [
    "dtc=DecisionTreeClassifier()"
   ]
  },
  {
   "cell_type": "code",
   "execution_count": 143,
   "id": "788911a8",
   "metadata": {},
   "outputs": [
    {
     "data": {
      "text/html": [
       "<style>#sk-container-id-8 {color: black;background-color: white;}#sk-container-id-8 pre{padding: 0;}#sk-container-id-8 div.sk-toggleable {background-color: white;}#sk-container-id-8 label.sk-toggleable__label {cursor: pointer;display: block;width: 100%;margin-bottom: 0;padding: 0.3em;box-sizing: border-box;text-align: center;}#sk-container-id-8 label.sk-toggleable__label-arrow:before {content: \"▸\";float: left;margin-right: 0.25em;color: #696969;}#sk-container-id-8 label.sk-toggleable__label-arrow:hover:before {color: black;}#sk-container-id-8 div.sk-estimator:hover label.sk-toggleable__label-arrow:before {color: black;}#sk-container-id-8 div.sk-toggleable__content {max-height: 0;max-width: 0;overflow: hidden;text-align: left;background-color: #f0f8ff;}#sk-container-id-8 div.sk-toggleable__content pre {margin: 0.2em;color: black;border-radius: 0.25em;background-color: #f0f8ff;}#sk-container-id-8 input.sk-toggleable__control:checked~div.sk-toggleable__content {max-height: 200px;max-width: 100%;overflow: auto;}#sk-container-id-8 input.sk-toggleable__control:checked~label.sk-toggleable__label-arrow:before {content: \"▾\";}#sk-container-id-8 div.sk-estimator input.sk-toggleable__control:checked~label.sk-toggleable__label {background-color: #d4ebff;}#sk-container-id-8 div.sk-label input.sk-toggleable__control:checked~label.sk-toggleable__label {background-color: #d4ebff;}#sk-container-id-8 input.sk-hidden--visually {border: 0;clip: rect(1px 1px 1px 1px);clip: rect(1px, 1px, 1px, 1px);height: 1px;margin: -1px;overflow: hidden;padding: 0;position: absolute;width: 1px;}#sk-container-id-8 div.sk-estimator {font-family: monospace;background-color: #f0f8ff;border: 1px dotted black;border-radius: 0.25em;box-sizing: border-box;margin-bottom: 0.5em;}#sk-container-id-8 div.sk-estimator:hover {background-color: #d4ebff;}#sk-container-id-8 div.sk-parallel-item::after {content: \"\";width: 100%;border-bottom: 1px solid gray;flex-grow: 1;}#sk-container-id-8 div.sk-label:hover label.sk-toggleable__label {background-color: #d4ebff;}#sk-container-id-8 div.sk-serial::before {content: \"\";position: absolute;border-left: 1px solid gray;box-sizing: border-box;top: 0;bottom: 0;left: 50%;z-index: 0;}#sk-container-id-8 div.sk-serial {display: flex;flex-direction: column;align-items: center;background-color: white;padding-right: 0.2em;padding-left: 0.2em;position: relative;}#sk-container-id-8 div.sk-item {position: relative;z-index: 1;}#sk-container-id-8 div.sk-parallel {display: flex;align-items: stretch;justify-content: center;background-color: white;position: relative;}#sk-container-id-8 div.sk-item::before, #sk-container-id-8 div.sk-parallel-item::before {content: \"\";position: absolute;border-left: 1px solid gray;box-sizing: border-box;top: 0;bottom: 0;left: 50%;z-index: -1;}#sk-container-id-8 div.sk-parallel-item {display: flex;flex-direction: column;z-index: 1;position: relative;background-color: white;}#sk-container-id-8 div.sk-parallel-item:first-child::after {align-self: flex-end;width: 50%;}#sk-container-id-8 div.sk-parallel-item:last-child::after {align-self: flex-start;width: 50%;}#sk-container-id-8 div.sk-parallel-item:only-child::after {width: 0;}#sk-container-id-8 div.sk-dashed-wrapped {border: 1px dashed gray;margin: 0 0.4em 0.5em 0.4em;box-sizing: border-box;padding-bottom: 0.4em;background-color: white;}#sk-container-id-8 div.sk-label label {font-family: monospace;font-weight: bold;display: inline-block;line-height: 1.2em;}#sk-container-id-8 div.sk-label-container {text-align: center;}#sk-container-id-8 div.sk-container {/* jupyter's `normalize.less` sets `[hidden] { display: none; }` but bootstrap.min.css set `[hidden] { display: none !important; }` so we also need the `!important` here to be able to override the default hidden behavior on the sphinx rendered scikit-learn.org. See: https://github.com/scikit-learn/scikit-learn/issues/21755 */display: inline-block !important;position: relative;}#sk-container-id-8 div.sk-text-repr-fallback {display: none;}</style><div id=\"sk-container-id-8\" class=\"sk-top-container\"><div class=\"sk-text-repr-fallback\"><pre>DecisionTreeClassifier()</pre><b>In a Jupyter environment, please rerun this cell to show the HTML representation or trust the notebook. <br />On GitHub, the HTML representation is unable to render, please try loading this page with nbviewer.org.</b></div><div class=\"sk-container\" hidden><div class=\"sk-item\"><div class=\"sk-estimator sk-toggleable\"><input class=\"sk-toggleable__control sk-hidden--visually\" id=\"sk-estimator-id-8\" type=\"checkbox\" checked><label for=\"sk-estimator-id-8\" class=\"sk-toggleable__label sk-toggleable__label-arrow\">DecisionTreeClassifier</label><div class=\"sk-toggleable__content\"><pre>DecisionTreeClassifier()</pre></div></div></div></div></div>"
      ],
      "text/plain": [
       "DecisionTreeClassifier()"
      ]
     },
     "execution_count": 143,
     "metadata": {},
     "output_type": "execute_result"
    }
   ],
   "source": [
    "dtc.fit(x_train,y_train)"
   ]
  },
  {
   "cell_type": "code",
   "execution_count": 144,
   "id": "044b0443",
   "metadata": {},
   "outputs": [],
   "source": [
    "predtc=dtc.predict(x_test)"
   ]
  },
  {
   "cell_type": "code",
   "execution_count": 145,
   "id": "c04a6012",
   "metadata": {},
   "outputs": [
    {
     "name": "stdout",
     "output_type": "stream",
     "text": [
      "0.8901869158878505\n",
      "[[172  30]\n",
      " [ 17 209]]\n",
      "              precision    recall  f1-score   support\n",
      "\n",
      "           0       0.91      0.85      0.88       202\n",
      "           1       0.87      0.92      0.90       226\n",
      "\n",
      "    accuracy                           0.89       428\n",
      "   macro avg       0.89      0.89      0.89       428\n",
      "weighted avg       0.89      0.89      0.89       428\n",
      "\n"
     ]
    }
   ],
   "source": [
    "print(accuracy_score(y_test,predtc))\n",
    "print(confusion_matrix(y_test,predtc))\n",
    "print(classification_report(y_test,predtc))"
   ]
  },
  {
   "cell_type": "markdown",
   "id": "1f2848bc",
   "metadata": {},
   "source": [
    "KNN CLASSIFER"
   ]
  },
  {
   "cell_type": "code",
   "execution_count": 146,
   "id": "4c0e517d",
   "metadata": {},
   "outputs": [],
   "source": [
    "knn=KNeighborsClassifier()"
   ]
  },
  {
   "cell_type": "code",
   "execution_count": 147,
   "id": "fb5f3765",
   "metadata": {},
   "outputs": [
    {
     "name": "stdout",
     "output_type": "stream",
     "text": [
      "At random_state {0} the training accuracy test is 0.9112149532710281\n",
      "At random_state {0} the testing accuracy test is 0.8808411214953271\n",
      "\n",
      "\n",
      "At random_state {1} the training accuracy test is 0.905373831775701\n",
      "At random_state {1} the testing accuracy test is 0.8761682242990654\n",
      "\n",
      "\n",
      "At random_state {2} the training accuracy test is 0.907126168224299\n",
      "At random_state {2} the testing accuracy test is 0.8714953271028038\n",
      "\n",
      "\n",
      "At random_state {3} the training accuracy test is 0.9077102803738317\n",
      "At random_state {3} the testing accuracy test is 0.8714953271028038\n",
      "\n",
      "\n",
      "At random_state {4} the training accuracy test is 0.9117990654205608\n",
      "At random_state {4} the testing accuracy test is 0.8551401869158879\n",
      "\n",
      "\n",
      "At random_state {5} the training accuracy test is 0.9030373831775701\n",
      "At random_state {5} the testing accuracy test is 0.8761682242990654\n",
      "\n",
      "\n",
      "At random_state {6} the training accuracy test is 0.907126168224299\n",
      "At random_state {6} the testing accuracy test is 0.8785046728971962\n",
      "\n",
      "\n",
      "At random_state {7} the training accuracy test is 0.9036214953271028\n",
      "At random_state {7} the testing accuracy test is 0.883177570093458\n",
      "\n",
      "\n",
      "At random_state {8} the training accuracy test is 0.9059579439252337\n",
      "At random_state {8} the testing accuracy test is 0.8855140186915887\n",
      "\n",
      "\n",
      "At random_state {9} the training accuracy test is 0.9088785046728972\n",
      "At random_state {9} the testing accuracy test is 0.8878504672897196\n",
      "\n",
      "\n",
      "At random_state {10} the training accuracy test is 0.9088785046728972\n",
      "At random_state {10} the testing accuracy test is 0.8551401869158879\n",
      "\n",
      "\n",
      "At random_state {11} the training accuracy test is 0.9082943925233645\n",
      "At random_state {11} the testing accuracy test is 0.8621495327102804\n",
      "\n",
      "\n",
      "At random_state {12} the training accuracy test is 0.905373831775701\n",
      "At random_state {12} the testing accuracy test is 0.8738317757009346\n",
      "\n",
      "\n",
      "At random_state {13} the training accuracy test is 0.9106308411214953\n",
      "At random_state {13} the testing accuracy test is 0.8925233644859814\n",
      "\n",
      "\n",
      "At random_state {14} the training accuracy test is 0.9059579439252337\n",
      "At random_state {14} the testing accuracy test is 0.8738317757009346\n",
      "\n",
      "\n",
      "At random_state {15} the training accuracy test is 0.9123831775700935\n",
      "At random_state {15} the testing accuracy test is 0.866822429906542\n",
      "\n",
      "\n",
      "At random_state {16} the training accuracy test is 0.9059579439252337\n",
      "At random_state {16} the testing accuracy test is 0.8738317757009346\n",
      "\n",
      "\n",
      "At random_state {17} the training accuracy test is 0.9059579439252337\n",
      "At random_state {17} the testing accuracy test is 0.866822429906542\n",
      "\n",
      "\n",
      "At random_state {18} the training accuracy test is 0.905373831775701\n",
      "At random_state {18} the testing accuracy test is 0.866822429906542\n",
      "\n",
      "\n",
      "At random_state {19} the training accuracy test is 0.9024532710280374\n",
      "At random_state {19} the testing accuracy test is 0.8621495327102804\n",
      "\n",
      "\n",
      "At random_state {20} the training accuracy test is 0.9094626168224299\n",
      "At random_state {20} the testing accuracy test is 0.8714953271028038\n",
      "\n",
      "\n",
      "At random_state {21} the training accuracy test is 0.905373831775701\n",
      "At random_state {21} the testing accuracy test is 0.8598130841121495\n",
      "\n",
      "\n",
      "At random_state {22} the training accuracy test is 0.9077102803738317\n",
      "At random_state {22} the testing accuracy test is 0.866822429906542\n",
      "\n",
      "\n",
      "At random_state {23} the training accuracy test is 0.9077102803738317\n",
      "At random_state {23} the testing accuracy test is 0.8878504672897196\n",
      "\n",
      "\n",
      "At random_state {24} the training accuracy test is 0.9094626168224299\n",
      "At random_state {24} the testing accuracy test is 0.8808411214953271\n",
      "\n",
      "\n",
      "At random_state {25} the training accuracy test is 0.9088785046728972\n",
      "At random_state {25} the testing accuracy test is 0.8691588785046729\n",
      "\n",
      "\n",
      "At random_state {26} the training accuracy test is 0.9024532710280374\n",
      "At random_state {26} the testing accuracy test is 0.897196261682243\n",
      "\n",
      "\n",
      "At random_state {27} the training accuracy test is 0.9123831775700935\n",
      "At random_state {27} the testing accuracy test is 0.8387850467289719\n",
      "\n",
      "\n",
      "At random_state {28} the training accuracy test is 0.907126168224299\n",
      "At random_state {28} the testing accuracy test is 0.8855140186915887\n",
      "\n",
      "\n",
      "At random_state {29} the training accuracy test is 0.907126168224299\n",
      "At random_state {29} the testing accuracy test is 0.8644859813084113\n",
      "\n",
      "\n",
      "At random_state {30} the training accuracy test is 0.9112149532710281\n",
      "At random_state {30} the testing accuracy test is 0.8855140186915887\n",
      "\n",
      "\n",
      "At random_state {31} the training accuracy test is 0.9100467289719626\n",
      "At random_state {31} the testing accuracy test is 0.8761682242990654\n",
      "\n",
      "\n",
      "At random_state {32} the training accuracy test is 0.9065420560747663\n",
      "At random_state {32} the testing accuracy test is 0.852803738317757\n",
      "\n",
      "\n",
      "At random_state {33} the training accuracy test is 0.9059579439252337\n",
      "At random_state {33} the testing accuracy test is 0.8714953271028038\n",
      "\n",
      "\n",
      "At random_state {34} the training accuracy test is 0.9077102803738317\n",
      "At random_state {34} the testing accuracy test is 0.883177570093458\n",
      "\n",
      "\n",
      "At random_state {35} the training accuracy test is 0.9094626168224299\n",
      "At random_state {35} the testing accuracy test is 0.866822429906542\n",
      "\n",
      "\n",
      "At random_state {36} the training accuracy test is 0.9088785046728972\n",
      "At random_state {36} the testing accuracy test is 0.8598130841121495\n",
      "\n",
      "\n",
      "At random_state {37} the training accuracy test is 0.9088785046728972\n",
      "At random_state {37} the testing accuracy test is 0.8551401869158879\n",
      "\n",
      "\n",
      "At random_state {38} the training accuracy test is 0.9059579439252337\n",
      "At random_state {38} the testing accuracy test is 0.8855140186915887\n",
      "\n",
      "\n",
      "At random_state {39} the training accuracy test is 0.9047897196261683\n",
      "At random_state {39} the testing accuracy test is 0.9042056074766355\n",
      "\n",
      "\n",
      "At random_state {40} the training accuracy test is 0.9082943925233645\n",
      "At random_state {40} the testing accuracy test is 0.8761682242990654\n",
      "\n",
      "\n",
      "At random_state {41} the training accuracy test is 0.9129672897196262\n",
      "At random_state {41} the testing accuracy test is 0.8387850467289719\n",
      "\n",
      "\n",
      "At random_state {42} the training accuracy test is 0.9007009345794392\n",
      "At random_state {42} the testing accuracy test is 0.8808411214953271\n",
      "\n",
      "\n",
      "At random_state {43} the training accuracy test is 0.9030373831775701\n",
      "At random_state {43} the testing accuracy test is 0.897196261682243\n",
      "\n",
      "\n",
      "At random_state {44} the training accuracy test is 0.9094626168224299\n",
      "At random_state {44} the testing accuracy test is 0.8644859813084113\n",
      "\n",
      "\n",
      "At random_state {45} the training accuracy test is 0.9047897196261683\n",
      "At random_state {45} the testing accuracy test is 0.852803738317757\n",
      "\n",
      "\n",
      "At random_state {46} the training accuracy test is 0.9059579439252337\n",
      "At random_state {46} the testing accuracy test is 0.8761682242990654\n",
      "\n",
      "\n",
      "At random_state {47} the training accuracy test is 0.9059579439252337\n",
      "At random_state {47} the testing accuracy test is 0.8948598130841121\n",
      "\n",
      "\n",
      "At random_state {48} the training accuracy test is 0.9007009345794392\n",
      "At random_state {48} the testing accuracy test is 0.8598130841121495\n",
      "\n",
      "\n",
      "At random_state {49} the training accuracy test is 0.9018691588785047\n",
      "At random_state {49} the testing accuracy test is 0.8785046728971962\n",
      "\n",
      "\n",
      "At random_state {50} the training accuracy test is 0.905373831775701\n",
      "At random_state {50} the testing accuracy test is 0.8738317757009346\n",
      "\n",
      "\n",
      "At random_state {51} the training accuracy test is 0.897196261682243\n",
      "At random_state {51} the testing accuracy test is 0.8925233644859814\n",
      "\n",
      "\n",
      "At random_state {52} the training accuracy test is 0.9036214953271028\n",
      "At random_state {52} the testing accuracy test is 0.8878504672897196\n",
      "\n",
      "\n",
      "At random_state {53} the training accuracy test is 0.905373831775701\n",
      "At random_state {53} the testing accuracy test is 0.8855140186915887\n",
      "\n",
      "\n",
      "At random_state {54} the training accuracy test is 0.9042056074766355\n",
      "At random_state {54} the testing accuracy test is 0.8785046728971962\n",
      "\n",
      "\n",
      "At random_state {55} the training accuracy test is 0.9077102803738317\n",
      "At random_state {55} the testing accuracy test is 0.883177570093458\n",
      "\n",
      "\n",
      "At random_state {56} the training accuracy test is 0.9158878504672897\n",
      "At random_state {56} the testing accuracy test is 0.866822429906542\n",
      "\n",
      "\n",
      "At random_state {57} the training accuracy test is 0.9077102803738317\n",
      "At random_state {57} the testing accuracy test is 0.883177570093458\n",
      "\n",
      "\n",
      "At random_state {58} the training accuracy test is 0.9077102803738317\n",
      "At random_state {58} the testing accuracy test is 0.8995327102803738\n",
      "\n",
      "\n",
      "At random_state {59} the training accuracy test is 0.9106308411214953\n",
      "At random_state {59} the testing accuracy test is 0.897196261682243\n",
      "\n",
      "\n",
      "At random_state {60} the training accuracy test is 0.9117990654205608\n",
      "At random_state {60} the testing accuracy test is 0.8738317757009346\n",
      "\n",
      "\n",
      "At random_state {61} the training accuracy test is 0.9106308411214953\n",
      "At random_state {61} the testing accuracy test is 0.8761682242990654\n",
      "\n",
      "\n",
      "At random_state {62} the training accuracy test is 0.9094626168224299\n",
      "At random_state {62} the testing accuracy test is 0.8551401869158879\n",
      "\n",
      "\n",
      "At random_state {63} the training accuracy test is 0.9112149532710281\n",
      "At random_state {63} the testing accuracy test is 0.8621495327102804\n",
      "\n",
      "\n",
      "At random_state {64} the training accuracy test is 0.9088785046728972\n",
      "At random_state {64} the testing accuracy test is 0.897196261682243\n",
      "\n",
      "\n",
      "At random_state {65} the training accuracy test is 0.9007009345794392\n",
      "At random_state {65} the testing accuracy test is 0.8785046728971962\n",
      "\n",
      "\n",
      "At random_state {66} the training accuracy test is 0.9077102803738317\n",
      "At random_state {66} the testing accuracy test is 0.8714953271028038\n",
      "\n",
      "\n",
      "At random_state {67} the training accuracy test is 0.9123831775700935\n",
      "At random_state {67} the testing accuracy test is 0.8574766355140186\n",
      "\n",
      "\n",
      "At random_state {68} the training accuracy test is 0.907126168224299\n",
      "At random_state {68} the testing accuracy test is 0.8948598130841121\n",
      "\n",
      "\n",
      "At random_state {69} the training accuracy test is 0.9112149532710281\n",
      "At random_state {69} the testing accuracy test is 0.8551401869158879\n",
      "\n",
      "\n",
      "At random_state {70} the training accuracy test is 0.9082943925233645\n",
      "At random_state {70} the testing accuracy test is 0.8878504672897196\n",
      "\n",
      "\n",
      "At random_state {71} the training accuracy test is 0.8989485981308412\n",
      "At random_state {71} the testing accuracy test is 0.9042056074766355\n",
      "\n",
      "\n",
      "At random_state {72} the training accuracy test is 0.9082943925233645\n",
      "At random_state {72} the testing accuracy test is 0.8691588785046729\n",
      "\n",
      "\n",
      "At random_state {73} the training accuracy test is 0.915303738317757\n",
      "At random_state {73} the testing accuracy test is 0.866822429906542\n",
      "\n",
      "\n",
      "At random_state {74} the training accuracy test is 0.9012850467289719\n",
      "At random_state {74} the testing accuracy test is 0.883177570093458\n",
      "\n",
      "\n",
      "At random_state {75} the training accuracy test is 0.9077102803738317\n",
      "At random_state {75} the testing accuracy test is 0.883177570093458\n",
      "\n",
      "\n",
      "At random_state {76} the training accuracy test is 0.907126168224299\n",
      "At random_state {76} the testing accuracy test is 0.8738317757009346\n",
      "\n",
      "\n",
      "At random_state {77} the training accuracy test is 0.9065420560747663\n",
      "At random_state {77} the testing accuracy test is 0.866822429906542\n",
      "\n",
      "\n",
      "At random_state {78} the training accuracy test is 0.9030373831775701\n",
      "At random_state {78} the testing accuracy test is 0.8785046728971962\n",
      "\n",
      "\n",
      "At random_state {79} the training accuracy test is 0.907126168224299\n",
      "At random_state {79} the testing accuracy test is 0.8855140186915887\n",
      "\n",
      "\n",
      "At random_state {80} the training accuracy test is 0.8989485981308412\n",
      "At random_state {80} the testing accuracy test is 0.8948598130841121\n",
      "\n",
      "\n",
      "At random_state {81} the training accuracy test is 0.9117990654205608\n",
      "At random_state {81} the testing accuracy test is 0.8691588785046729\n",
      "\n",
      "\n",
      "At random_state {82} the training accuracy test is 0.9147196261682243\n",
      "At random_state {82} the testing accuracy test is 0.8621495327102804\n",
      "\n",
      "\n",
      "At random_state {83} the training accuracy test is 0.905373831775701\n",
      "At random_state {83} the testing accuracy test is 0.8644859813084113\n",
      "\n",
      "\n",
      "At random_state {84} the training accuracy test is 0.9123831775700935\n",
      "At random_state {84} the testing accuracy test is 0.866822429906542\n",
      "\n",
      "\n",
      "At random_state {85} the training accuracy test is 0.9030373831775701\n",
      "At random_state {85} the testing accuracy test is 0.8785046728971962\n",
      "\n",
      "\n",
      "At random_state {86} the training accuracy test is 0.9094626168224299\n",
      "At random_state {86} the testing accuracy test is 0.8714953271028038\n",
      "\n",
      "\n",
      "At random_state {87} the training accuracy test is 0.8995327102803738\n",
      "At random_state {87} the testing accuracy test is 0.8995327102803738\n",
      "\n",
      "\n",
      "At random_state {88} the training accuracy test is 0.9036214953271028\n",
      "At random_state {88} the testing accuracy test is 0.9042056074766355\n",
      "\n",
      "\n",
      "At random_state {89} the training accuracy test is 0.9065420560747663\n",
      "At random_state {89} the testing accuracy test is 0.8738317757009346\n",
      "\n",
      "\n",
      "At random_state {90} the training accuracy test is 0.9082943925233645\n",
      "At random_state {90} the testing accuracy test is 0.9135514018691588\n",
      "\n",
      "\n",
      "At random_state {91} the training accuracy test is 0.9047897196261683\n",
      "At random_state {91} the testing accuracy test is 0.8995327102803738\n",
      "\n",
      "\n",
      "At random_state {92} the training accuracy test is 0.9030373831775701\n",
      "At random_state {92} the testing accuracy test is 0.8785046728971962\n",
      "\n",
      "\n",
      "At random_state {93} the training accuracy test is 0.9123831775700935\n",
      "At random_state {93} the testing accuracy test is 0.8598130841121495\n",
      "\n",
      "\n",
      "At random_state {94} the training accuracy test is 0.9117990654205608\n",
      "At random_state {94} the testing accuracy test is 0.8621495327102804\n",
      "\n",
      "\n",
      "At random_state {95} the training accuracy test is 0.8983644859813084\n",
      "At random_state {95} the testing accuracy test is 0.9018691588785047\n",
      "\n",
      "\n",
      "At random_state {96} the training accuracy test is 0.9042056074766355\n",
      "At random_state {96} the testing accuracy test is 0.9065420560747663\n",
      "\n",
      "\n",
      "At random_state {97} the training accuracy test is 0.9082943925233645\n",
      "At random_state {97} the testing accuracy test is 0.8551401869158879\n",
      "\n",
      "\n",
      "At random_state {98} the training accuracy test is 0.905373831775701\n",
      "At random_state {98} the testing accuracy test is 0.8808411214953271\n",
      "\n",
      "\n",
      "At random_state {99} the training accuracy test is 0.9007009345794392\n",
      "At random_state {99} the testing accuracy test is 0.8714953271028038\n",
      "\n",
      "\n"
     ]
    }
   ],
   "source": [
    "for i in range(0,100):\n",
    "    x_train,x_test,y_train,y_test=train_test_split(x3,yy,test_size=0.20,random_state=i)\n",
    "    knn.fit(x_train,y_train)\n",
    "    predknn=knn.predict(x_train)\n",
    "    predknn1=knn.predict(x_test)\n",
    "    print('At random_state' ,{i}, 'the training accuracy test is', accuracy_score(y_train,predknn))\n",
    "    print('At random_state' ,{i}, 'the testing accuracy test is', accuracy_score(y_test,predknn1))\n",
    "    print('\\n')"
   ]
  },
  {
   "cell_type": "markdown",
   "id": "046abdf1",
   "metadata": {},
   "source": [
    "AT RANDOM STATE 88 (90.42%) THE MODEL IS GIVING THE HIGHEST TESTING ACCURACY HENCE WE ARE GOING AHEAD WITH THAT "
   ]
  },
  {
   "cell_type": "code",
   "execution_count": 148,
   "id": "b132d493",
   "metadata": {},
   "outputs": [],
   "source": [
    "x_train,x_test,y_train,y_test=train_test_split(x3,yy,test_size=0.20,random_state=88)"
   ]
  },
  {
   "cell_type": "code",
   "execution_count": 149,
   "id": "8123c4ee",
   "metadata": {},
   "outputs": [],
   "source": [
    "knn=KNeighborsClassifier()"
   ]
  },
  {
   "cell_type": "code",
   "execution_count": 150,
   "id": "57a8c5f8",
   "metadata": {},
   "outputs": [
    {
     "data": {
      "text/html": [
       "<style>#sk-container-id-9 {color: black;background-color: white;}#sk-container-id-9 pre{padding: 0;}#sk-container-id-9 div.sk-toggleable {background-color: white;}#sk-container-id-9 label.sk-toggleable__label {cursor: pointer;display: block;width: 100%;margin-bottom: 0;padding: 0.3em;box-sizing: border-box;text-align: center;}#sk-container-id-9 label.sk-toggleable__label-arrow:before {content: \"▸\";float: left;margin-right: 0.25em;color: #696969;}#sk-container-id-9 label.sk-toggleable__label-arrow:hover:before {color: black;}#sk-container-id-9 div.sk-estimator:hover label.sk-toggleable__label-arrow:before {color: black;}#sk-container-id-9 div.sk-toggleable__content {max-height: 0;max-width: 0;overflow: hidden;text-align: left;background-color: #f0f8ff;}#sk-container-id-9 div.sk-toggleable__content pre {margin: 0.2em;color: black;border-radius: 0.25em;background-color: #f0f8ff;}#sk-container-id-9 input.sk-toggleable__control:checked~div.sk-toggleable__content {max-height: 200px;max-width: 100%;overflow: auto;}#sk-container-id-9 input.sk-toggleable__control:checked~label.sk-toggleable__label-arrow:before {content: \"▾\";}#sk-container-id-9 div.sk-estimator input.sk-toggleable__control:checked~label.sk-toggleable__label {background-color: #d4ebff;}#sk-container-id-9 div.sk-label input.sk-toggleable__control:checked~label.sk-toggleable__label {background-color: #d4ebff;}#sk-container-id-9 input.sk-hidden--visually {border: 0;clip: rect(1px 1px 1px 1px);clip: rect(1px, 1px, 1px, 1px);height: 1px;margin: -1px;overflow: hidden;padding: 0;position: absolute;width: 1px;}#sk-container-id-9 div.sk-estimator {font-family: monospace;background-color: #f0f8ff;border: 1px dotted black;border-radius: 0.25em;box-sizing: border-box;margin-bottom: 0.5em;}#sk-container-id-9 div.sk-estimator:hover {background-color: #d4ebff;}#sk-container-id-9 div.sk-parallel-item::after {content: \"\";width: 100%;border-bottom: 1px solid gray;flex-grow: 1;}#sk-container-id-9 div.sk-label:hover label.sk-toggleable__label {background-color: #d4ebff;}#sk-container-id-9 div.sk-serial::before {content: \"\";position: absolute;border-left: 1px solid gray;box-sizing: border-box;top: 0;bottom: 0;left: 50%;z-index: 0;}#sk-container-id-9 div.sk-serial {display: flex;flex-direction: column;align-items: center;background-color: white;padding-right: 0.2em;padding-left: 0.2em;position: relative;}#sk-container-id-9 div.sk-item {position: relative;z-index: 1;}#sk-container-id-9 div.sk-parallel {display: flex;align-items: stretch;justify-content: center;background-color: white;position: relative;}#sk-container-id-9 div.sk-item::before, #sk-container-id-9 div.sk-parallel-item::before {content: \"\";position: absolute;border-left: 1px solid gray;box-sizing: border-box;top: 0;bottom: 0;left: 50%;z-index: -1;}#sk-container-id-9 div.sk-parallel-item {display: flex;flex-direction: column;z-index: 1;position: relative;background-color: white;}#sk-container-id-9 div.sk-parallel-item:first-child::after {align-self: flex-end;width: 50%;}#sk-container-id-9 div.sk-parallel-item:last-child::after {align-self: flex-start;width: 50%;}#sk-container-id-9 div.sk-parallel-item:only-child::after {width: 0;}#sk-container-id-9 div.sk-dashed-wrapped {border: 1px dashed gray;margin: 0 0.4em 0.5em 0.4em;box-sizing: border-box;padding-bottom: 0.4em;background-color: white;}#sk-container-id-9 div.sk-label label {font-family: monospace;font-weight: bold;display: inline-block;line-height: 1.2em;}#sk-container-id-9 div.sk-label-container {text-align: center;}#sk-container-id-9 div.sk-container {/* jupyter's `normalize.less` sets `[hidden] { display: none; }` but bootstrap.min.css set `[hidden] { display: none !important; }` so we also need the `!important` here to be able to override the default hidden behavior on the sphinx rendered scikit-learn.org. See: https://github.com/scikit-learn/scikit-learn/issues/21755 */display: inline-block !important;position: relative;}#sk-container-id-9 div.sk-text-repr-fallback {display: none;}</style><div id=\"sk-container-id-9\" class=\"sk-top-container\"><div class=\"sk-text-repr-fallback\"><pre>KNeighborsClassifier()</pre><b>In a Jupyter environment, please rerun this cell to show the HTML representation or trust the notebook. <br />On GitHub, the HTML representation is unable to render, please try loading this page with nbviewer.org.</b></div><div class=\"sk-container\" hidden><div class=\"sk-item\"><div class=\"sk-estimator sk-toggleable\"><input class=\"sk-toggleable__control sk-hidden--visually\" id=\"sk-estimator-id-9\" type=\"checkbox\" checked><label for=\"sk-estimator-id-9\" class=\"sk-toggleable__label sk-toggleable__label-arrow\">KNeighborsClassifier</label><div class=\"sk-toggleable__content\"><pre>KNeighborsClassifier()</pre></div></div></div></div></div>"
      ],
      "text/plain": [
       "KNeighborsClassifier()"
      ]
     },
     "execution_count": 150,
     "metadata": {},
     "output_type": "execute_result"
    }
   ],
   "source": [
    "knn.fit(x_train,y_train)"
   ]
  },
  {
   "cell_type": "code",
   "execution_count": 152,
   "id": "cf46128e",
   "metadata": {},
   "outputs": [],
   "source": [
    "predknnn=knn.predict(x_test)"
   ]
  },
  {
   "cell_type": "code",
   "execution_count": 153,
   "id": "ac2a8937",
   "metadata": {},
   "outputs": [
    {
     "name": "stdout",
     "output_type": "stream",
     "text": [
      "0.9042056074766355\n",
      "[[164  39]\n",
      " [  2 223]]\n",
      "              precision    recall  f1-score   support\n",
      "\n",
      "           0       0.99      0.81      0.89       203\n",
      "           1       0.85      0.99      0.92       225\n",
      "\n",
      "    accuracy                           0.90       428\n",
      "   macro avg       0.92      0.90      0.90       428\n",
      "weighted avg       0.92      0.90      0.90       428\n",
      "\n"
     ]
    }
   ],
   "source": [
    "print(accuracy_score(y_test,predknnn))\n",
    "print(confusion_matrix(y_test,predknnn))\n",
    "print(classification_report(y_test,predknnn))"
   ]
  },
  {
   "cell_type": "markdown",
   "id": "59ddc281",
   "metadata": {},
   "source": [
    "RANDOM FOREST CLASSIFIER"
   ]
  },
  {
   "cell_type": "code",
   "execution_count": 154,
   "id": "bd2fa29f",
   "metadata": {},
   "outputs": [],
   "source": [
    "rm=RandomForestClassifier()"
   ]
  },
  {
   "cell_type": "code",
   "execution_count": 156,
   "id": "7cd859e3",
   "metadata": {},
   "outputs": [
    {
     "name": "stdout",
     "output_type": "stream",
     "text": [
      "At random_state {0} the training accuracy test is 1.0\n",
      "At random_state {0} the testing accuracy test is 0.9439252336448598\n",
      "\n",
      "\n",
      "At random_state {1} the training accuracy test is 1.0\n",
      "At random_state {1} the testing accuracy test is 0.9135514018691588\n",
      "\n",
      "\n",
      "At random_state {2} the training accuracy test is 1.0\n",
      "At random_state {2} the testing accuracy test is 0.9112149532710281\n",
      "\n",
      "\n",
      "At random_state {3} the training accuracy test is 1.0\n",
      "At random_state {3} the testing accuracy test is 0.9112149532710281\n",
      "\n",
      "\n",
      "At random_state {4} the training accuracy test is 1.0\n",
      "At random_state {4} the testing accuracy test is 0.9158878504672897\n",
      "\n",
      "\n",
      "At random_state {5} the training accuracy test is 1.0\n",
      "At random_state {5} the testing accuracy test is 0.9065420560747663\n",
      "\n",
      "\n",
      "At random_state {6} the training accuracy test is 1.0\n",
      "At random_state {6} the testing accuracy test is 0.9205607476635514\n",
      "\n",
      "\n",
      "At random_state {7} the training accuracy test is 1.0\n",
      "At random_state {7} the testing accuracy test is 0.8948598130841121\n",
      "\n",
      "\n",
      "At random_state {8} the training accuracy test is 1.0\n",
      "At random_state {8} the testing accuracy test is 0.9018691588785047\n",
      "\n",
      "\n",
      "At random_state {9} the training accuracy test is 1.0\n",
      "At random_state {9} the testing accuracy test is 0.9252336448598131\n",
      "\n",
      "\n",
      "At random_state {10} the training accuracy test is 1.0\n",
      "At random_state {10} the testing accuracy test is 0.9182242990654206\n",
      "\n",
      "\n",
      "At random_state {11} the training accuracy test is 1.0\n",
      "At random_state {11} the testing accuracy test is 0.9042056074766355\n",
      "\n",
      "\n",
      "At random_state {12} the training accuracy test is 1.0\n",
      "At random_state {12} the testing accuracy test is 0.8995327102803738\n",
      "\n",
      "\n",
      "At random_state {13} the training accuracy test is 1.0\n",
      "At random_state {13} the testing accuracy test is 0.9228971962616822\n",
      "\n",
      "\n",
      "At random_state {14} the training accuracy test is 1.0\n",
      "At random_state {14} the testing accuracy test is 0.9182242990654206\n",
      "\n",
      "\n",
      "At random_state {15} the training accuracy test is 1.0\n",
      "At random_state {15} the testing accuracy test is 0.9228971962616822\n",
      "\n",
      "\n",
      "At random_state {16} the training accuracy test is 1.0\n",
      "At random_state {16} the testing accuracy test is 0.8948598130841121\n",
      "\n",
      "\n",
      "At random_state {17} the training accuracy test is 1.0\n",
      "At random_state {17} the testing accuracy test is 0.8948598130841121\n",
      "\n",
      "\n",
      "At random_state {18} the training accuracy test is 1.0\n",
      "At random_state {18} the testing accuracy test is 0.8995327102803738\n",
      "\n",
      "\n",
      "At random_state {19} the training accuracy test is 1.0\n",
      "At random_state {19} the testing accuracy test is 0.9088785046728972\n",
      "\n",
      "\n",
      "At random_state {20} the training accuracy test is 1.0\n",
      "At random_state {20} the testing accuracy test is 0.9299065420560748\n",
      "\n",
      "\n",
      "At random_state {21} the training accuracy test is 1.0\n",
      "At random_state {21} the testing accuracy test is 0.9228971962616822\n",
      "\n",
      "\n",
      "At random_state {22} the training accuracy test is 1.0\n",
      "At random_state {22} the testing accuracy test is 0.9158878504672897\n",
      "\n",
      "\n",
      "At random_state {23} the training accuracy test is 1.0\n",
      "At random_state {23} the testing accuracy test is 0.9252336448598131\n",
      "\n",
      "\n",
      "At random_state {24} the training accuracy test is 1.0\n",
      "At random_state {24} the testing accuracy test is 0.9228971962616822\n",
      "\n",
      "\n",
      "At random_state {25} the training accuracy test is 1.0\n",
      "At random_state {25} the testing accuracy test is 0.9158878504672897\n",
      "\n",
      "\n",
      "At random_state {26} the training accuracy test is 1.0\n",
      "At random_state {26} the testing accuracy test is 0.9439252336448598\n",
      "\n",
      "\n",
      "At random_state {27} the training accuracy test is 1.0\n",
      "At random_state {27} the testing accuracy test is 0.9018691588785047\n",
      "\n",
      "\n",
      "At random_state {28} the training accuracy test is 1.0\n",
      "At random_state {28} the testing accuracy test is 0.9112149532710281\n",
      "\n",
      "\n",
      "At random_state {29} the training accuracy test is 1.0\n",
      "At random_state {29} the testing accuracy test is 0.9158878504672897\n",
      "\n",
      "\n",
      "At random_state {30} the training accuracy test is 1.0\n",
      "At random_state {30} the testing accuracy test is 0.9182242990654206\n",
      "\n",
      "\n",
      "At random_state {31} the training accuracy test is 1.0\n",
      "At random_state {31} the testing accuracy test is 0.8995327102803738\n",
      "\n",
      "\n",
      "At random_state {32} the training accuracy test is 1.0\n",
      "At random_state {32} the testing accuracy test is 0.9018691588785047\n",
      "\n",
      "\n",
      "At random_state {33} the training accuracy test is 1.0\n",
      "At random_state {33} the testing accuracy test is 0.9369158878504673\n",
      "\n",
      "\n",
      "At random_state {34} the training accuracy test is 1.0\n",
      "At random_state {34} the testing accuracy test is 0.9135514018691588\n",
      "\n",
      "\n",
      "At random_state {35} the training accuracy test is 1.0\n",
      "At random_state {35} the testing accuracy test is 0.9299065420560748\n",
      "\n",
      "\n",
      "At random_state {36} the training accuracy test is 1.0\n",
      "At random_state {36} the testing accuracy test is 0.9205607476635514\n",
      "\n",
      "\n",
      "At random_state {37} the training accuracy test is 1.0\n",
      "At random_state {37} the testing accuracy test is 0.8901869158878505\n",
      "\n",
      "\n",
      "At random_state {38} the training accuracy test is 1.0\n",
      "At random_state {38} the testing accuracy test is 0.9299065420560748\n",
      "\n",
      "\n",
      "At random_state {39} the training accuracy test is 1.0\n",
      "At random_state {39} the testing accuracy test is 0.9345794392523364\n",
      "\n",
      "\n",
      "At random_state {40} the training accuracy test is 1.0\n",
      "At random_state {40} the testing accuracy test is 0.9065420560747663\n",
      "\n",
      "\n",
      "At random_state {41} the training accuracy test is 1.0\n",
      "At random_state {41} the testing accuracy test is 0.9088785046728972\n",
      "\n",
      "\n",
      "At random_state {42} the training accuracy test is 1.0\n",
      "At random_state {42} the testing accuracy test is 0.9205607476635514\n",
      "\n",
      "\n",
      "At random_state {43} the training accuracy test is 1.0\n",
      "At random_state {43} the testing accuracy test is 0.9252336448598131\n",
      "\n",
      "\n",
      "At random_state {44} the training accuracy test is 1.0\n",
      "At random_state {44} the testing accuracy test is 0.9088785046728972\n",
      "\n",
      "\n",
      "At random_state {45} the training accuracy test is 1.0\n",
      "At random_state {45} the testing accuracy test is 0.9112149532710281\n",
      "\n",
      "\n",
      "At random_state {46} the training accuracy test is 1.0\n",
      "At random_state {46} the testing accuracy test is 0.9415887850467289\n",
      "\n",
      "\n",
      "At random_state {47} the training accuracy test is 1.0\n",
      "At random_state {47} the testing accuracy test is 0.9228971962616822\n",
      "\n",
      "\n",
      "At random_state {48} the training accuracy test is 1.0\n",
      "At random_state {48} the testing accuracy test is 0.8785046728971962\n",
      "\n",
      "\n",
      "At random_state {49} the training accuracy test is 1.0\n",
      "At random_state {49} the testing accuracy test is 0.9135514018691588\n",
      "\n",
      "\n",
      "At random_state {50} the training accuracy test is 1.0\n",
      "At random_state {50} the testing accuracy test is 0.9182242990654206\n",
      "\n",
      "\n",
      "At random_state {51} the training accuracy test is 1.0\n",
      "At random_state {51} the testing accuracy test is 0.9042056074766355\n",
      "\n",
      "\n",
      "At random_state {52} the training accuracy test is 1.0\n",
      "At random_state {52} the testing accuracy test is 0.9158878504672897\n",
      "\n",
      "\n",
      "At random_state {53} the training accuracy test is 1.0\n",
      "At random_state {53} the testing accuracy test is 0.927570093457944\n",
      "\n",
      "\n",
      "At random_state {54} the training accuracy test is 1.0\n",
      "At random_state {54} the testing accuracy test is 0.9158878504672897\n",
      "\n",
      "\n",
      "At random_state {55} the training accuracy test is 1.0\n",
      "At random_state {55} the testing accuracy test is 0.9369158878504673\n",
      "\n",
      "\n",
      "At random_state {56} the training accuracy test is 1.0\n",
      "At random_state {56} the testing accuracy test is 0.9112149532710281\n",
      "\n",
      "\n",
      "At random_state {57} the training accuracy test is 1.0\n",
      "At random_state {57} the testing accuracy test is 0.9065420560747663\n",
      "\n",
      "\n",
      "At random_state {58} the training accuracy test is 1.0\n",
      "At random_state {58} the testing accuracy test is 0.9392523364485982\n",
      "\n",
      "\n",
      "At random_state {59} the training accuracy test is 1.0\n",
      "At random_state {59} the testing accuracy test is 0.9415887850467289\n",
      "\n",
      "\n",
      "At random_state {60} the training accuracy test is 1.0\n",
      "At random_state {60} the testing accuracy test is 0.9042056074766355\n",
      "\n",
      "\n",
      "At random_state {61} the training accuracy test is 1.0\n",
      "At random_state {61} the testing accuracy test is 0.9018691588785047\n",
      "\n",
      "\n",
      "At random_state {62} the training accuracy test is 1.0\n",
      "At random_state {62} the testing accuracy test is 0.9228971962616822\n",
      "\n",
      "\n",
      "At random_state {63} the training accuracy test is 1.0\n",
      "At random_state {63} the testing accuracy test is 0.8948598130841121\n",
      "\n",
      "\n",
      "At random_state {64} the training accuracy test is 1.0\n",
      "At random_state {64} the testing accuracy test is 0.9299065420560748\n",
      "\n",
      "\n",
      "At random_state {65} the training accuracy test is 1.0\n",
      "At random_state {65} the testing accuracy test is 0.8925233644859814\n",
      "\n",
      "\n",
      "At random_state {66} the training accuracy test is 1.0\n",
      "At random_state {66} the testing accuracy test is 0.9088785046728972\n",
      "\n",
      "\n",
      "At random_state {67} the training accuracy test is 1.0\n",
      "At random_state {67} the testing accuracy test is 0.9135514018691588\n",
      "\n",
      "\n",
      "At random_state {68} the training accuracy test is 1.0\n",
      "At random_state {68} the testing accuracy test is 0.9322429906542056\n",
      "\n",
      "\n",
      "At random_state {69} the training accuracy test is 1.0\n",
      "At random_state {69} the testing accuracy test is 0.897196261682243\n",
      "\n",
      "\n",
      "At random_state {70} the training accuracy test is 1.0\n",
      "At random_state {70} the testing accuracy test is 0.9088785046728972\n",
      "\n",
      "\n",
      "At random_state {71} the training accuracy test is 1.0\n",
      "At random_state {71} the testing accuracy test is 0.927570093457944\n",
      "\n",
      "\n",
      "At random_state {72} the training accuracy test is 1.0\n",
      "At random_state {72} the testing accuracy test is 0.9065420560747663\n",
      "\n",
      "\n",
      "At random_state {73} the training accuracy test is 1.0\n",
      "At random_state {73} the testing accuracy test is 0.9018691588785047\n",
      "\n",
      "\n",
      "At random_state {74} the training accuracy test is 1.0\n",
      "At random_state {74} the testing accuracy test is 0.9182242990654206\n",
      "\n",
      "\n",
      "At random_state {75} the training accuracy test is 1.0\n",
      "At random_state {75} the testing accuracy test is 0.9158878504672897\n",
      "\n",
      "\n",
      "At random_state {76} the training accuracy test is 1.0\n",
      "At random_state {76} the testing accuracy test is 0.9042056074766355\n",
      "\n",
      "\n",
      "At random_state {77} the training accuracy test is 1.0\n",
      "At random_state {77} the testing accuracy test is 0.9252336448598131\n",
      "\n",
      "\n",
      "At random_state {78} the training accuracy test is 1.0\n",
      "At random_state {78} the testing accuracy test is 0.9112149532710281\n",
      "\n",
      "\n",
      "At random_state {79} the training accuracy test is 1.0\n",
      "At random_state {79} the testing accuracy test is 0.9228971962616822\n",
      "\n",
      "\n",
      "At random_state {80} the training accuracy test is 1.0\n",
      "At random_state {80} the testing accuracy test is 0.9299065420560748\n",
      "\n",
      "\n",
      "At random_state {81} the training accuracy test is 1.0\n",
      "At random_state {81} the testing accuracy test is 0.9065420560747663\n",
      "\n",
      "\n",
      "At random_state {82} the training accuracy test is 1.0\n",
      "At random_state {82} the testing accuracy test is 0.9042056074766355\n",
      "\n",
      "\n",
      "At random_state {83} the training accuracy test is 1.0\n",
      "At random_state {83} the testing accuracy test is 0.927570093457944\n",
      "\n",
      "\n",
      "At random_state {84} the training accuracy test is 1.0\n",
      "At random_state {84} the testing accuracy test is 0.9369158878504673\n",
      "\n",
      "\n",
      "At random_state {85} the training accuracy test is 1.0\n",
      "At random_state {85} the testing accuracy test is 0.9252336448598131\n",
      "\n",
      "\n",
      "At random_state {86} the training accuracy test is 1.0\n",
      "At random_state {86} the testing accuracy test is 0.9158878504672897\n",
      "\n",
      "\n",
      "At random_state {87} the training accuracy test is 1.0\n",
      "At random_state {87} the testing accuracy test is 0.9322429906542056\n",
      "\n",
      "\n",
      "At random_state {88} the training accuracy test is 1.0\n",
      "At random_state {88} the testing accuracy test is 0.9322429906542056\n",
      "\n",
      "\n",
      "At random_state {89} the training accuracy test is 1.0\n",
      "At random_state {89} the testing accuracy test is 0.9018691588785047\n",
      "\n",
      "\n",
      "At random_state {90} the training accuracy test is 1.0\n",
      "At random_state {90} the testing accuracy test is 0.9392523364485982\n",
      "\n",
      "\n",
      "At random_state {91} the training accuracy test is 1.0\n",
      "At random_state {91} the testing accuracy test is 0.9509345794392523\n",
      "\n",
      "\n",
      "At random_state {92} the training accuracy test is 1.0\n",
      "At random_state {92} the testing accuracy test is 0.9182242990654206\n",
      "\n",
      "\n",
      "At random_state {93} the training accuracy test is 1.0\n",
      "At random_state {93} the testing accuracy test is 0.9228971962616822\n",
      "\n",
      "\n",
      "At random_state {94} the training accuracy test is 1.0\n",
      "At random_state {94} the testing accuracy test is 0.9182242990654206\n",
      "\n",
      "\n",
      "At random_state {95} the training accuracy test is 1.0\n",
      "At random_state {95} the testing accuracy test is 0.9392523364485982\n",
      "\n",
      "\n",
      "At random_state {96} the training accuracy test is 1.0\n",
      "At random_state {96} the testing accuracy test is 0.927570093457944\n",
      "\n",
      "\n",
      "At random_state {97} the training accuracy test is 1.0\n",
      "At random_state {97} the testing accuracy test is 0.9088785046728972\n",
      "\n",
      "\n",
      "At random_state {98} the training accuracy test is 1.0\n",
      "At random_state {98} the testing accuracy test is 0.9112149532710281\n",
      "\n",
      "\n",
      "At random_state {99} the training accuracy test is 1.0\n",
      "At random_state {99} the testing accuracy test is 0.9182242990654206\n",
      "\n",
      "\n"
     ]
    }
   ],
   "source": [
    "for i in range(0,100):\n",
    "    x_train,x_test,y_train,y_test=train_test_split(x3,yy,test_size=0.20,random_state=i)\n",
    "    rm.fit(x_train,y_train)\n",
    "    predrm=rm.predict(x_train)\n",
    "    predrm1=rm.predict(x_test)\n",
    "    print('At random_state' ,{i}, 'the training accuracy test is', accuracy_score(y_train,predrm))\n",
    "    print('At random_state' ,{i}, 'the testing accuracy test is', accuracy_score(y_test,predrm1))\n",
    "    print('\\n')"
   ]
  },
  {
   "cell_type": "markdown",
   "id": "f0146480",
   "metadata": {},
   "source": [
    "AT RANDOM STATE 91 (95.09%) THE MODEL IS GIVING THE HIGHEST TESTING ACCURACY HENCE WE ARE GOING AHEAD WITH THAT "
   ]
  },
  {
   "cell_type": "code",
   "execution_count": 157,
   "id": "71d39fb0",
   "metadata": {},
   "outputs": [],
   "source": [
    "rm=RandomForestClassifier()"
   ]
  },
  {
   "cell_type": "code",
   "execution_count": 163,
   "id": "7bb8867d",
   "metadata": {},
   "outputs": [],
   "source": [
    "x_train,x_test,y_train,y_test=train_test_split(x3,yy,test_size=0.20,random_state=91)"
   ]
  },
  {
   "cell_type": "code",
   "execution_count": 164,
   "id": "5e804e5b",
   "metadata": {},
   "outputs": [
    {
     "data": {
      "text/html": [
       "<style>#sk-container-id-11 {color: black;background-color: white;}#sk-container-id-11 pre{padding: 0;}#sk-container-id-11 div.sk-toggleable {background-color: white;}#sk-container-id-11 label.sk-toggleable__label {cursor: pointer;display: block;width: 100%;margin-bottom: 0;padding: 0.3em;box-sizing: border-box;text-align: center;}#sk-container-id-11 label.sk-toggleable__label-arrow:before {content: \"▸\";float: left;margin-right: 0.25em;color: #696969;}#sk-container-id-11 label.sk-toggleable__label-arrow:hover:before {color: black;}#sk-container-id-11 div.sk-estimator:hover label.sk-toggleable__label-arrow:before {color: black;}#sk-container-id-11 div.sk-toggleable__content {max-height: 0;max-width: 0;overflow: hidden;text-align: left;background-color: #f0f8ff;}#sk-container-id-11 div.sk-toggleable__content pre {margin: 0.2em;color: black;border-radius: 0.25em;background-color: #f0f8ff;}#sk-container-id-11 input.sk-toggleable__control:checked~div.sk-toggleable__content {max-height: 200px;max-width: 100%;overflow: auto;}#sk-container-id-11 input.sk-toggleable__control:checked~label.sk-toggleable__label-arrow:before {content: \"▾\";}#sk-container-id-11 div.sk-estimator input.sk-toggleable__control:checked~label.sk-toggleable__label {background-color: #d4ebff;}#sk-container-id-11 div.sk-label input.sk-toggleable__control:checked~label.sk-toggleable__label {background-color: #d4ebff;}#sk-container-id-11 input.sk-hidden--visually {border: 0;clip: rect(1px 1px 1px 1px);clip: rect(1px, 1px, 1px, 1px);height: 1px;margin: -1px;overflow: hidden;padding: 0;position: absolute;width: 1px;}#sk-container-id-11 div.sk-estimator {font-family: monospace;background-color: #f0f8ff;border: 1px dotted black;border-radius: 0.25em;box-sizing: border-box;margin-bottom: 0.5em;}#sk-container-id-11 div.sk-estimator:hover {background-color: #d4ebff;}#sk-container-id-11 div.sk-parallel-item::after {content: \"\";width: 100%;border-bottom: 1px solid gray;flex-grow: 1;}#sk-container-id-11 div.sk-label:hover label.sk-toggleable__label {background-color: #d4ebff;}#sk-container-id-11 div.sk-serial::before {content: \"\";position: absolute;border-left: 1px solid gray;box-sizing: border-box;top: 0;bottom: 0;left: 50%;z-index: 0;}#sk-container-id-11 div.sk-serial {display: flex;flex-direction: column;align-items: center;background-color: white;padding-right: 0.2em;padding-left: 0.2em;position: relative;}#sk-container-id-11 div.sk-item {position: relative;z-index: 1;}#sk-container-id-11 div.sk-parallel {display: flex;align-items: stretch;justify-content: center;background-color: white;position: relative;}#sk-container-id-11 div.sk-item::before, #sk-container-id-11 div.sk-parallel-item::before {content: \"\";position: absolute;border-left: 1px solid gray;box-sizing: border-box;top: 0;bottom: 0;left: 50%;z-index: -1;}#sk-container-id-11 div.sk-parallel-item {display: flex;flex-direction: column;z-index: 1;position: relative;background-color: white;}#sk-container-id-11 div.sk-parallel-item:first-child::after {align-self: flex-end;width: 50%;}#sk-container-id-11 div.sk-parallel-item:last-child::after {align-self: flex-start;width: 50%;}#sk-container-id-11 div.sk-parallel-item:only-child::after {width: 0;}#sk-container-id-11 div.sk-dashed-wrapped {border: 1px dashed gray;margin: 0 0.4em 0.5em 0.4em;box-sizing: border-box;padding-bottom: 0.4em;background-color: white;}#sk-container-id-11 div.sk-label label {font-family: monospace;font-weight: bold;display: inline-block;line-height: 1.2em;}#sk-container-id-11 div.sk-label-container {text-align: center;}#sk-container-id-11 div.sk-container {/* jupyter's `normalize.less` sets `[hidden] { display: none; }` but bootstrap.min.css set `[hidden] { display: none !important; }` so we also need the `!important` here to be able to override the default hidden behavior on the sphinx rendered scikit-learn.org. See: https://github.com/scikit-learn/scikit-learn/issues/21755 */display: inline-block !important;position: relative;}#sk-container-id-11 div.sk-text-repr-fallback {display: none;}</style><div id=\"sk-container-id-11\" class=\"sk-top-container\"><div class=\"sk-text-repr-fallback\"><pre>RandomForestClassifier()</pre><b>In a Jupyter environment, please rerun this cell to show the HTML representation or trust the notebook. <br />On GitHub, the HTML representation is unable to render, please try loading this page with nbviewer.org.</b></div><div class=\"sk-container\" hidden><div class=\"sk-item\"><div class=\"sk-estimator sk-toggleable\"><input class=\"sk-toggleable__control sk-hidden--visually\" id=\"sk-estimator-id-11\" type=\"checkbox\" checked><label for=\"sk-estimator-id-11\" class=\"sk-toggleable__label sk-toggleable__label-arrow\">RandomForestClassifier</label><div class=\"sk-toggleable__content\"><pre>RandomForestClassifier()</pre></div></div></div></div></div>"
      ],
      "text/plain": [
       "RandomForestClassifier()"
      ]
     },
     "execution_count": 164,
     "metadata": {},
     "output_type": "execute_result"
    }
   ],
   "source": [
    "rm.fit(x_train,y_train)"
   ]
  },
  {
   "cell_type": "code",
   "execution_count": 165,
   "id": "6b281070",
   "metadata": {},
   "outputs": [],
   "source": [
    "prerm=rm.predict(x_test)"
   ]
  },
  {
   "cell_type": "code",
   "execution_count": 166,
   "id": "4375052d",
   "metadata": {},
   "outputs": [
    {
     "name": "stdout",
     "output_type": "stream",
     "text": [
      "0.9462616822429907\n",
      "[[177  19]\n",
      " [  4 228]]\n",
      "              precision    recall  f1-score   support\n",
      "\n",
      "           0       0.98      0.90      0.94       196\n",
      "           1       0.92      0.98      0.95       232\n",
      "\n",
      "    accuracy                           0.95       428\n",
      "   macro avg       0.95      0.94      0.95       428\n",
      "weighted avg       0.95      0.95      0.95       428\n",
      "\n"
     ]
    }
   ],
   "source": [
    "print(accuracy_score(y_test,prerm))\n",
    "print(confusion_matrix(y_test,prerm))\n",
    "print(classification_report(y_test,prerm))"
   ]
  },
  {
   "cell_type": "code",
   "execution_count": 255,
   "id": "6e3189c6",
   "metadata": {},
   "outputs": [],
   "source": [
    "from sklearn.model_selection import cross_val_score"
   ]
  },
  {
   "cell_type": "code",
   "execution_count": 167,
   "id": "e9919a5b",
   "metadata": {},
   "outputs": [
    {
     "name": "stdout",
     "output_type": "stream",
     "text": [
      "CV is 0.8672897196261683\n",
      "CV is 0.9023364485981308\n",
      "CV is 0.8537383177570093\n",
      "CV is 0.8528037383177571\n",
      "CV is 0.8158878504672897\n"
     ]
    }
   ],
   "source": [
    "for m in [svm,rm,knn,dtc,lr]:\n",
    "    cv=cross_val_score(m,x3,yy,cv=5)\n",
    "    print('CV','is',(cv.mean()))"
   ]
  },
  {
   "cell_type": "markdown",
   "id": "57ffbe44",
   "metadata": {},
   "source": [
    "ACCURACY SCORE OF SVM-91.58 "
   ]
  },
  {
   "cell_type": "markdown",
   "id": "2e1ac494",
   "metadata": {},
   "source": [
    "ACCURACY SCORE OF RM- 94.62%"
   ]
  },
  {
   "cell_type": "markdown",
   "id": "cf410347",
   "metadata": {},
   "source": [
    "ACCURACY SCORE OF KNN-90.42%"
   ]
  },
  {
   "cell_type": "markdown",
   "id": "a671d744",
   "metadata": {},
   "source": [
    "ACCURACY SCORE OF DTC-89.01%"
   ]
  },
  {
   "cell_type": "markdown",
   "id": "66cf9a42",
   "metadata": {},
   "source": [
    "ACCURACY SCORE OF LR- 86.44%"
   ]
  },
  {
   "cell_type": "code",
   "execution_count": 170,
   "id": "55818b99",
   "metadata": {},
   "outputs": [
    {
     "data": {
      "text/plain": [
       "4.859999999999999"
      ]
     },
     "execution_count": 170,
     "metadata": {},
     "output_type": "execute_result"
    }
   ],
   "source": [
    "(91.58-86.72)"
   ]
  },
  {
   "cell_type": "code",
   "execution_count": 171,
   "id": "5ab97b77",
   "metadata": {},
   "outputs": [
    {
     "data": {
      "text/plain": [
       "4.390000000000001"
      ]
     },
     "execution_count": 171,
     "metadata": {},
     "output_type": "execute_result"
    }
   ],
   "source": [
    "(94.62-90.23)"
   ]
  },
  {
   "cell_type": "code",
   "execution_count": 172,
   "id": "33da0ac8",
   "metadata": {},
   "outputs": [
    {
     "data": {
      "text/plain": [
       "5.049999999999997"
      ]
     },
     "execution_count": 172,
     "metadata": {},
     "output_type": "execute_result"
    }
   ],
   "source": [
    "(90.42-85.37)"
   ]
  },
  {
   "cell_type": "code",
   "execution_count": 173,
   "id": "e96c1405",
   "metadata": {},
   "outputs": [
    {
     "data": {
      "text/plain": [
       "3.730000000000004"
      ]
     },
     "execution_count": 173,
     "metadata": {},
     "output_type": "execute_result"
    }
   ],
   "source": [
    "(89.01-85.28)"
   ]
  },
  {
   "cell_type": "code",
   "execution_count": 174,
   "id": "cc947997",
   "metadata": {},
   "outputs": [
    {
     "data": {
      "text/plain": [
       "4.859999999999999"
      ]
     },
     "execution_count": 174,
     "metadata": {},
     "output_type": "execute_result"
    }
   ],
   "source": [
    "(86.44-81.58)"
   ]
  },
  {
   "cell_type": "markdown",
   "id": "c9a99757",
   "metadata": {},
   "source": [
    "THERE IS A VERY SLIGHT CASE OF OVERFITTING IN ALL THE MODELS "
   ]
  },
  {
   "cell_type": "markdown",
   "id": "dcbfc539",
   "metadata": {},
   "source": [
    "THE CV ACCURACY FOR DTC IS 85.28% WHERE AS THE ACCURACY FOR DTC CLASSIFIER CAME TO 89.01%.\n",
    "ITS THE CLOSEST WE HAVE AS COMPARED TO OTHER MODELS .\n",
    "WE WILL DO HYPER TUNING ON THIS \n",
    "MOREOVER IF WE COMPARE IN TERMS OF ACCURACY SCORE, RMM HAS THE HIGHEST ACCURACY BOTH IN TERMS OF MODEL AND CV MEAN , AND THE DIFFEENCE IS 4.39 (ROUGHLY 0.66 MORE THAN THE CASE OF DTC, HENCE WE WILL DO HYPER TUNING ON THIS AS WELL)"
   ]
  },
  {
   "cell_type": "markdown",
   "id": "13c90be2",
   "metadata": {},
   "source": [
    "DECISION TREE CLASSIFIER- HYPER TUNING "
   ]
  },
  {
   "cell_type": "code",
   "execution_count": 175,
   "id": "c93ff38e",
   "metadata": {},
   "outputs": [],
   "source": [
    "DTC=DecisionTreeClassifier()"
   ]
  },
  {
   "cell_type": "code",
   "execution_count": 176,
   "id": "f06bc0be",
   "metadata": {},
   "outputs": [],
   "source": [
    "dict3={'criterion':['gini','entropy','logloss'],'splitter':['best','random'],'random_state':list(range(0,10)),'max_features':['auto','sqrt','log2','None'],'min_samples_split':[2,3,4,5]}"
   ]
  },
  {
   "cell_type": "code",
   "execution_count": 177,
   "id": "5a7faac7",
   "metadata": {},
   "outputs": [],
   "source": [
    "gd=GridSearchCV(DTC,dict3,cv=8,scoring='accuracy')"
   ]
  },
  {
   "cell_type": "code",
   "execution_count": 179,
   "id": "2f9e92c0",
   "metadata": {},
   "outputs": [
    {
     "data": {
      "text/html": [
       "<style>#sk-container-id-12 {color: black;background-color: white;}#sk-container-id-12 pre{padding: 0;}#sk-container-id-12 div.sk-toggleable {background-color: white;}#sk-container-id-12 label.sk-toggleable__label {cursor: pointer;display: block;width: 100%;margin-bottom: 0;padding: 0.3em;box-sizing: border-box;text-align: center;}#sk-container-id-12 label.sk-toggleable__label-arrow:before {content: \"▸\";float: left;margin-right: 0.25em;color: #696969;}#sk-container-id-12 label.sk-toggleable__label-arrow:hover:before {color: black;}#sk-container-id-12 div.sk-estimator:hover label.sk-toggleable__label-arrow:before {color: black;}#sk-container-id-12 div.sk-toggleable__content {max-height: 0;max-width: 0;overflow: hidden;text-align: left;background-color: #f0f8ff;}#sk-container-id-12 div.sk-toggleable__content pre {margin: 0.2em;color: black;border-radius: 0.25em;background-color: #f0f8ff;}#sk-container-id-12 input.sk-toggleable__control:checked~div.sk-toggleable__content {max-height: 200px;max-width: 100%;overflow: auto;}#sk-container-id-12 input.sk-toggleable__control:checked~label.sk-toggleable__label-arrow:before {content: \"▾\";}#sk-container-id-12 div.sk-estimator input.sk-toggleable__control:checked~label.sk-toggleable__label {background-color: #d4ebff;}#sk-container-id-12 div.sk-label input.sk-toggleable__control:checked~label.sk-toggleable__label {background-color: #d4ebff;}#sk-container-id-12 input.sk-hidden--visually {border: 0;clip: rect(1px 1px 1px 1px);clip: rect(1px, 1px, 1px, 1px);height: 1px;margin: -1px;overflow: hidden;padding: 0;position: absolute;width: 1px;}#sk-container-id-12 div.sk-estimator {font-family: monospace;background-color: #f0f8ff;border: 1px dotted black;border-radius: 0.25em;box-sizing: border-box;margin-bottom: 0.5em;}#sk-container-id-12 div.sk-estimator:hover {background-color: #d4ebff;}#sk-container-id-12 div.sk-parallel-item::after {content: \"\";width: 100%;border-bottom: 1px solid gray;flex-grow: 1;}#sk-container-id-12 div.sk-label:hover label.sk-toggleable__label {background-color: #d4ebff;}#sk-container-id-12 div.sk-serial::before {content: \"\";position: absolute;border-left: 1px solid gray;box-sizing: border-box;top: 0;bottom: 0;left: 50%;z-index: 0;}#sk-container-id-12 div.sk-serial {display: flex;flex-direction: column;align-items: center;background-color: white;padding-right: 0.2em;padding-left: 0.2em;position: relative;}#sk-container-id-12 div.sk-item {position: relative;z-index: 1;}#sk-container-id-12 div.sk-parallel {display: flex;align-items: stretch;justify-content: center;background-color: white;position: relative;}#sk-container-id-12 div.sk-item::before, #sk-container-id-12 div.sk-parallel-item::before {content: \"\";position: absolute;border-left: 1px solid gray;box-sizing: border-box;top: 0;bottom: 0;left: 50%;z-index: -1;}#sk-container-id-12 div.sk-parallel-item {display: flex;flex-direction: column;z-index: 1;position: relative;background-color: white;}#sk-container-id-12 div.sk-parallel-item:first-child::after {align-self: flex-end;width: 50%;}#sk-container-id-12 div.sk-parallel-item:last-child::after {align-self: flex-start;width: 50%;}#sk-container-id-12 div.sk-parallel-item:only-child::after {width: 0;}#sk-container-id-12 div.sk-dashed-wrapped {border: 1px dashed gray;margin: 0 0.4em 0.5em 0.4em;box-sizing: border-box;padding-bottom: 0.4em;background-color: white;}#sk-container-id-12 div.sk-label label {font-family: monospace;font-weight: bold;display: inline-block;line-height: 1.2em;}#sk-container-id-12 div.sk-label-container {text-align: center;}#sk-container-id-12 div.sk-container {/* jupyter's `normalize.less` sets `[hidden] { display: none; }` but bootstrap.min.css set `[hidden] { display: none !important; }` so we also need the `!important` here to be able to override the default hidden behavior on the sphinx rendered scikit-learn.org. See: https://github.com/scikit-learn/scikit-learn/issues/21755 */display: inline-block !important;position: relative;}#sk-container-id-12 div.sk-text-repr-fallback {display: none;}</style><div id=\"sk-container-id-12\" class=\"sk-top-container\"><div class=\"sk-text-repr-fallback\"><pre>GridSearchCV(cv=8, estimator=DecisionTreeClassifier(),\n",
       "             param_grid={&#x27;criterion&#x27;: [&#x27;gini&#x27;, &#x27;entropy&#x27;, &#x27;logloss&#x27;],\n",
       "                         &#x27;max_features&#x27;: [&#x27;auto&#x27;, &#x27;sqrt&#x27;, &#x27;log2&#x27;, &#x27;None&#x27;],\n",
       "                         &#x27;min_samples_split&#x27;: [2, 3, 4, 5],\n",
       "                         &#x27;random_state&#x27;: [0, 1, 2, 3, 4, 5, 6, 7, 8, 9],\n",
       "                         &#x27;splitter&#x27;: [&#x27;best&#x27;, &#x27;random&#x27;]},\n",
       "             scoring=&#x27;accuracy&#x27;)</pre><b>In a Jupyter environment, please rerun this cell to show the HTML representation or trust the notebook. <br />On GitHub, the HTML representation is unable to render, please try loading this page with nbviewer.org.</b></div><div class=\"sk-container\" hidden><div class=\"sk-item sk-dashed-wrapped\"><div class=\"sk-label-container\"><div class=\"sk-label sk-toggleable\"><input class=\"sk-toggleable__control sk-hidden--visually\" id=\"sk-estimator-id-12\" type=\"checkbox\" ><label for=\"sk-estimator-id-12\" class=\"sk-toggleable__label sk-toggleable__label-arrow\">GridSearchCV</label><div class=\"sk-toggleable__content\"><pre>GridSearchCV(cv=8, estimator=DecisionTreeClassifier(),\n",
       "             param_grid={&#x27;criterion&#x27;: [&#x27;gini&#x27;, &#x27;entropy&#x27;, &#x27;logloss&#x27;],\n",
       "                         &#x27;max_features&#x27;: [&#x27;auto&#x27;, &#x27;sqrt&#x27;, &#x27;log2&#x27;, &#x27;None&#x27;],\n",
       "                         &#x27;min_samples_split&#x27;: [2, 3, 4, 5],\n",
       "                         &#x27;random_state&#x27;: [0, 1, 2, 3, 4, 5, 6, 7, 8, 9],\n",
       "                         &#x27;splitter&#x27;: [&#x27;best&#x27;, &#x27;random&#x27;]},\n",
       "             scoring=&#x27;accuracy&#x27;)</pre></div></div></div><div class=\"sk-parallel\"><div class=\"sk-parallel-item\"><div class=\"sk-item\"><div class=\"sk-label-container\"><div class=\"sk-label sk-toggleable\"><input class=\"sk-toggleable__control sk-hidden--visually\" id=\"sk-estimator-id-13\" type=\"checkbox\" ><label for=\"sk-estimator-id-13\" class=\"sk-toggleable__label sk-toggleable__label-arrow\">estimator: DecisionTreeClassifier</label><div class=\"sk-toggleable__content\"><pre>DecisionTreeClassifier()</pre></div></div></div><div class=\"sk-serial\"><div class=\"sk-item\"><div class=\"sk-estimator sk-toggleable\"><input class=\"sk-toggleable__control sk-hidden--visually\" id=\"sk-estimator-id-14\" type=\"checkbox\" ><label for=\"sk-estimator-id-14\" class=\"sk-toggleable__label sk-toggleable__label-arrow\">DecisionTreeClassifier</label><div class=\"sk-toggleable__content\"><pre>DecisionTreeClassifier()</pre></div></div></div></div></div></div></div></div></div></div>"
      ],
      "text/plain": [
       "GridSearchCV(cv=8, estimator=DecisionTreeClassifier(),\n",
       "             param_grid={'criterion': ['gini', 'entropy', 'logloss'],\n",
       "                         'max_features': ['auto', 'sqrt', 'log2', 'None'],\n",
       "                         'min_samples_split': [2, 3, 4, 5],\n",
       "                         'random_state': [0, 1, 2, 3, 4, 5, 6, 7, 8, 9],\n",
       "                         'splitter': ['best', 'random']},\n",
       "             scoring='accuracy')"
      ]
     },
     "execution_count": 179,
     "metadata": {},
     "output_type": "execute_result"
    }
   ],
   "source": [
    "gd.fit(x_train,y_train)"
   ]
  },
  {
   "cell_type": "code",
   "execution_count": 180,
   "id": "9a14bb10",
   "metadata": {},
   "outputs": [
    {
     "data": {
      "text/plain": [
       "{'criterion': 'entropy',\n",
       " 'max_features': 'auto',\n",
       " 'min_samples_split': 3,\n",
       " 'random_state': 3,\n",
       " 'splitter': 'best'}"
      ]
     },
     "execution_count": 180,
     "metadata": {},
     "output_type": "execute_result"
    }
   ],
   "source": [
    "gd.best_params_"
   ]
  },
  {
   "cell_type": "code",
   "execution_count": 181,
   "id": "0a58f67e",
   "metadata": {},
   "outputs": [],
   "source": [
    "DTC1=DecisionTreeClassifier(criterion='entropy',max_features='auto',min_samples_split=3,random_state=3,splitter='best')"
   ]
  },
  {
   "cell_type": "code",
   "execution_count": 182,
   "id": "7e9014b8",
   "metadata": {},
   "outputs": [
    {
     "data": {
      "text/html": [
       "<style>#sk-container-id-13 {color: black;background-color: white;}#sk-container-id-13 pre{padding: 0;}#sk-container-id-13 div.sk-toggleable {background-color: white;}#sk-container-id-13 label.sk-toggleable__label {cursor: pointer;display: block;width: 100%;margin-bottom: 0;padding: 0.3em;box-sizing: border-box;text-align: center;}#sk-container-id-13 label.sk-toggleable__label-arrow:before {content: \"▸\";float: left;margin-right: 0.25em;color: #696969;}#sk-container-id-13 label.sk-toggleable__label-arrow:hover:before {color: black;}#sk-container-id-13 div.sk-estimator:hover label.sk-toggleable__label-arrow:before {color: black;}#sk-container-id-13 div.sk-toggleable__content {max-height: 0;max-width: 0;overflow: hidden;text-align: left;background-color: #f0f8ff;}#sk-container-id-13 div.sk-toggleable__content pre {margin: 0.2em;color: black;border-radius: 0.25em;background-color: #f0f8ff;}#sk-container-id-13 input.sk-toggleable__control:checked~div.sk-toggleable__content {max-height: 200px;max-width: 100%;overflow: auto;}#sk-container-id-13 input.sk-toggleable__control:checked~label.sk-toggleable__label-arrow:before {content: \"▾\";}#sk-container-id-13 div.sk-estimator input.sk-toggleable__control:checked~label.sk-toggleable__label {background-color: #d4ebff;}#sk-container-id-13 div.sk-label input.sk-toggleable__control:checked~label.sk-toggleable__label {background-color: #d4ebff;}#sk-container-id-13 input.sk-hidden--visually {border: 0;clip: rect(1px 1px 1px 1px);clip: rect(1px, 1px, 1px, 1px);height: 1px;margin: -1px;overflow: hidden;padding: 0;position: absolute;width: 1px;}#sk-container-id-13 div.sk-estimator {font-family: monospace;background-color: #f0f8ff;border: 1px dotted black;border-radius: 0.25em;box-sizing: border-box;margin-bottom: 0.5em;}#sk-container-id-13 div.sk-estimator:hover {background-color: #d4ebff;}#sk-container-id-13 div.sk-parallel-item::after {content: \"\";width: 100%;border-bottom: 1px solid gray;flex-grow: 1;}#sk-container-id-13 div.sk-label:hover label.sk-toggleable__label {background-color: #d4ebff;}#sk-container-id-13 div.sk-serial::before {content: \"\";position: absolute;border-left: 1px solid gray;box-sizing: border-box;top: 0;bottom: 0;left: 50%;z-index: 0;}#sk-container-id-13 div.sk-serial {display: flex;flex-direction: column;align-items: center;background-color: white;padding-right: 0.2em;padding-left: 0.2em;position: relative;}#sk-container-id-13 div.sk-item {position: relative;z-index: 1;}#sk-container-id-13 div.sk-parallel {display: flex;align-items: stretch;justify-content: center;background-color: white;position: relative;}#sk-container-id-13 div.sk-item::before, #sk-container-id-13 div.sk-parallel-item::before {content: \"\";position: absolute;border-left: 1px solid gray;box-sizing: border-box;top: 0;bottom: 0;left: 50%;z-index: -1;}#sk-container-id-13 div.sk-parallel-item {display: flex;flex-direction: column;z-index: 1;position: relative;background-color: white;}#sk-container-id-13 div.sk-parallel-item:first-child::after {align-self: flex-end;width: 50%;}#sk-container-id-13 div.sk-parallel-item:last-child::after {align-self: flex-start;width: 50%;}#sk-container-id-13 div.sk-parallel-item:only-child::after {width: 0;}#sk-container-id-13 div.sk-dashed-wrapped {border: 1px dashed gray;margin: 0 0.4em 0.5em 0.4em;box-sizing: border-box;padding-bottom: 0.4em;background-color: white;}#sk-container-id-13 div.sk-label label {font-family: monospace;font-weight: bold;display: inline-block;line-height: 1.2em;}#sk-container-id-13 div.sk-label-container {text-align: center;}#sk-container-id-13 div.sk-container {/* jupyter's `normalize.less` sets `[hidden] { display: none; }` but bootstrap.min.css set `[hidden] { display: none !important; }` so we also need the `!important` here to be able to override the default hidden behavior on the sphinx rendered scikit-learn.org. See: https://github.com/scikit-learn/scikit-learn/issues/21755 */display: inline-block !important;position: relative;}#sk-container-id-13 div.sk-text-repr-fallback {display: none;}</style><div id=\"sk-container-id-13\" class=\"sk-top-container\"><div class=\"sk-text-repr-fallback\"><pre>DecisionTreeClassifier(criterion=&#x27;entropy&#x27;, max_features=&#x27;auto&#x27;,\n",
       "                       min_samples_split=3, random_state=3)</pre><b>In a Jupyter environment, please rerun this cell to show the HTML representation or trust the notebook. <br />On GitHub, the HTML representation is unable to render, please try loading this page with nbviewer.org.</b></div><div class=\"sk-container\" hidden><div class=\"sk-item\"><div class=\"sk-estimator sk-toggleable\"><input class=\"sk-toggleable__control sk-hidden--visually\" id=\"sk-estimator-id-15\" type=\"checkbox\" checked><label for=\"sk-estimator-id-15\" class=\"sk-toggleable__label sk-toggleable__label-arrow\">DecisionTreeClassifier</label><div class=\"sk-toggleable__content\"><pre>DecisionTreeClassifier(criterion=&#x27;entropy&#x27;, max_features=&#x27;auto&#x27;,\n",
       "                       min_samples_split=3, random_state=3)</pre></div></div></div></div></div>"
      ],
      "text/plain": [
       "DecisionTreeClassifier(criterion='entropy', max_features='auto',\n",
       "                       min_samples_split=3, random_state=3)"
      ]
     },
     "execution_count": 182,
     "metadata": {},
     "output_type": "execute_result"
    }
   ],
   "source": [
    "DTC1.fit(x_train,y_train)"
   ]
  },
  {
   "cell_type": "code",
   "execution_count": 183,
   "id": "04312df6",
   "metadata": {},
   "outputs": [],
   "source": [
    "PREDTC1=DTC1.predict(x_test)"
   ]
  },
  {
   "cell_type": "code",
   "execution_count": 184,
   "id": "9436e593",
   "metadata": {},
   "outputs": [
    {
     "name": "stdout",
     "output_type": "stream",
     "text": [
      "0.8878504672897196\n",
      "[[173  23]\n",
      " [ 25 207]]\n",
      "              precision    recall  f1-score   support\n",
      "\n",
      "           0       0.87      0.88      0.88       196\n",
      "           1       0.90      0.89      0.90       232\n",
      "\n",
      "    accuracy                           0.89       428\n",
      "   macro avg       0.89      0.89      0.89       428\n",
      "weighted avg       0.89      0.89      0.89       428\n",
      "\n"
     ]
    }
   ],
   "source": [
    "print(accuracy_score(y_test,PREDTC1))\n",
    "print(confusion_matrix(y_test,PREDTC1))\n",
    "print(classification_report(y_test,PREDTC1))"
   ]
  },
  {
   "cell_type": "markdown",
   "id": "40cacb1c",
   "metadata": {},
   "source": [
    "THERE IS A SLIGHT IMPROVEMENT WRT TO CV MEAN SCORE (DTC)- IT HAS INCREASED TO 88.78%"
   ]
  },
  {
   "cell_type": "markdown",
   "id": "31982d9f",
   "metadata": {},
   "source": [
    "RANDOM FOREST CLASSIFIER- HYPER TUNING "
   ]
  },
  {
   "cell_type": "code",
   "execution_count": 186,
   "id": "ce8bd395",
   "metadata": {},
   "outputs": [],
   "source": [
    "RMM=RandomForestClassifier()"
   ]
  },
  {
   "cell_type": "code",
   "execution_count": 187,
   "id": "e484e4d0",
   "metadata": {},
   "outputs": [],
   "source": [
    "dd={'n_estimators':[50,100,150],'max_features':['log2','sqrt','auto'],'criterion':['gini','entropy'],'max_depth':[0,4,5,6,7,8,9],'min_samples_split':[2,3,4,5]}"
   ]
  },
  {
   "cell_type": "code",
   "execution_count": 188,
   "id": "e6b5d552",
   "metadata": {},
   "outputs": [],
   "source": [
    "gr=GridSearchCV(RMM,dd,cv=8,scoring='accuracy')"
   ]
  },
  {
   "cell_type": "code",
   "execution_count": 189,
   "id": "bb64ac63",
   "metadata": {},
   "outputs": [
    {
     "data": {
      "text/html": [
       "<style>#sk-container-id-14 {color: black;background-color: white;}#sk-container-id-14 pre{padding: 0;}#sk-container-id-14 div.sk-toggleable {background-color: white;}#sk-container-id-14 label.sk-toggleable__label {cursor: pointer;display: block;width: 100%;margin-bottom: 0;padding: 0.3em;box-sizing: border-box;text-align: center;}#sk-container-id-14 label.sk-toggleable__label-arrow:before {content: \"▸\";float: left;margin-right: 0.25em;color: #696969;}#sk-container-id-14 label.sk-toggleable__label-arrow:hover:before {color: black;}#sk-container-id-14 div.sk-estimator:hover label.sk-toggleable__label-arrow:before {color: black;}#sk-container-id-14 div.sk-toggleable__content {max-height: 0;max-width: 0;overflow: hidden;text-align: left;background-color: #f0f8ff;}#sk-container-id-14 div.sk-toggleable__content pre {margin: 0.2em;color: black;border-radius: 0.25em;background-color: #f0f8ff;}#sk-container-id-14 input.sk-toggleable__control:checked~div.sk-toggleable__content {max-height: 200px;max-width: 100%;overflow: auto;}#sk-container-id-14 input.sk-toggleable__control:checked~label.sk-toggleable__label-arrow:before {content: \"▾\";}#sk-container-id-14 div.sk-estimator input.sk-toggleable__control:checked~label.sk-toggleable__label {background-color: #d4ebff;}#sk-container-id-14 div.sk-label input.sk-toggleable__control:checked~label.sk-toggleable__label {background-color: #d4ebff;}#sk-container-id-14 input.sk-hidden--visually {border: 0;clip: rect(1px 1px 1px 1px);clip: rect(1px, 1px, 1px, 1px);height: 1px;margin: -1px;overflow: hidden;padding: 0;position: absolute;width: 1px;}#sk-container-id-14 div.sk-estimator {font-family: monospace;background-color: #f0f8ff;border: 1px dotted black;border-radius: 0.25em;box-sizing: border-box;margin-bottom: 0.5em;}#sk-container-id-14 div.sk-estimator:hover {background-color: #d4ebff;}#sk-container-id-14 div.sk-parallel-item::after {content: \"\";width: 100%;border-bottom: 1px solid gray;flex-grow: 1;}#sk-container-id-14 div.sk-label:hover label.sk-toggleable__label {background-color: #d4ebff;}#sk-container-id-14 div.sk-serial::before {content: \"\";position: absolute;border-left: 1px solid gray;box-sizing: border-box;top: 0;bottom: 0;left: 50%;z-index: 0;}#sk-container-id-14 div.sk-serial {display: flex;flex-direction: column;align-items: center;background-color: white;padding-right: 0.2em;padding-left: 0.2em;position: relative;}#sk-container-id-14 div.sk-item {position: relative;z-index: 1;}#sk-container-id-14 div.sk-parallel {display: flex;align-items: stretch;justify-content: center;background-color: white;position: relative;}#sk-container-id-14 div.sk-item::before, #sk-container-id-14 div.sk-parallel-item::before {content: \"\";position: absolute;border-left: 1px solid gray;box-sizing: border-box;top: 0;bottom: 0;left: 50%;z-index: -1;}#sk-container-id-14 div.sk-parallel-item {display: flex;flex-direction: column;z-index: 1;position: relative;background-color: white;}#sk-container-id-14 div.sk-parallel-item:first-child::after {align-self: flex-end;width: 50%;}#sk-container-id-14 div.sk-parallel-item:last-child::after {align-self: flex-start;width: 50%;}#sk-container-id-14 div.sk-parallel-item:only-child::after {width: 0;}#sk-container-id-14 div.sk-dashed-wrapped {border: 1px dashed gray;margin: 0 0.4em 0.5em 0.4em;box-sizing: border-box;padding-bottom: 0.4em;background-color: white;}#sk-container-id-14 div.sk-label label {font-family: monospace;font-weight: bold;display: inline-block;line-height: 1.2em;}#sk-container-id-14 div.sk-label-container {text-align: center;}#sk-container-id-14 div.sk-container {/* jupyter's `normalize.less` sets `[hidden] { display: none; }` but bootstrap.min.css set `[hidden] { display: none !important; }` so we also need the `!important` here to be able to override the default hidden behavior on the sphinx rendered scikit-learn.org. See: https://github.com/scikit-learn/scikit-learn/issues/21755 */display: inline-block !important;position: relative;}#sk-container-id-14 div.sk-text-repr-fallback {display: none;}</style><div id=\"sk-container-id-14\" class=\"sk-top-container\"><div class=\"sk-text-repr-fallback\"><pre>GridSearchCV(cv=8, estimator=RandomForestClassifier(),\n",
       "             param_grid={&#x27;criterion&#x27;: [&#x27;gini&#x27;, &#x27;entropy&#x27;],\n",
       "                         &#x27;max_depth&#x27;: [0, 4, 5, 6, 7, 8, 9],\n",
       "                         &#x27;max_features&#x27;: [&#x27;log2&#x27;, &#x27;sqrt&#x27;, &#x27;auto&#x27;],\n",
       "                         &#x27;min_samples_split&#x27;: [2, 3, 4, 5],\n",
       "                         &#x27;n_estimators&#x27;: [50, 100, 150]},\n",
       "             scoring=&#x27;accuracy&#x27;)</pre><b>In a Jupyter environment, please rerun this cell to show the HTML representation or trust the notebook. <br />On GitHub, the HTML representation is unable to render, please try loading this page with nbviewer.org.</b></div><div class=\"sk-container\" hidden><div class=\"sk-item sk-dashed-wrapped\"><div class=\"sk-label-container\"><div class=\"sk-label sk-toggleable\"><input class=\"sk-toggleable__control sk-hidden--visually\" id=\"sk-estimator-id-16\" type=\"checkbox\" ><label for=\"sk-estimator-id-16\" class=\"sk-toggleable__label sk-toggleable__label-arrow\">GridSearchCV</label><div class=\"sk-toggleable__content\"><pre>GridSearchCV(cv=8, estimator=RandomForestClassifier(),\n",
       "             param_grid={&#x27;criterion&#x27;: [&#x27;gini&#x27;, &#x27;entropy&#x27;],\n",
       "                         &#x27;max_depth&#x27;: [0, 4, 5, 6, 7, 8, 9],\n",
       "                         &#x27;max_features&#x27;: [&#x27;log2&#x27;, &#x27;sqrt&#x27;, &#x27;auto&#x27;],\n",
       "                         &#x27;min_samples_split&#x27;: [2, 3, 4, 5],\n",
       "                         &#x27;n_estimators&#x27;: [50, 100, 150]},\n",
       "             scoring=&#x27;accuracy&#x27;)</pre></div></div></div><div class=\"sk-parallel\"><div class=\"sk-parallel-item\"><div class=\"sk-item\"><div class=\"sk-label-container\"><div class=\"sk-label sk-toggleable\"><input class=\"sk-toggleable__control sk-hidden--visually\" id=\"sk-estimator-id-17\" type=\"checkbox\" ><label for=\"sk-estimator-id-17\" class=\"sk-toggleable__label sk-toggleable__label-arrow\">estimator: RandomForestClassifier</label><div class=\"sk-toggleable__content\"><pre>RandomForestClassifier()</pre></div></div></div><div class=\"sk-serial\"><div class=\"sk-item\"><div class=\"sk-estimator sk-toggleable\"><input class=\"sk-toggleable__control sk-hidden--visually\" id=\"sk-estimator-id-18\" type=\"checkbox\" ><label for=\"sk-estimator-id-18\" class=\"sk-toggleable__label sk-toggleable__label-arrow\">RandomForestClassifier</label><div class=\"sk-toggleable__content\"><pre>RandomForestClassifier()</pre></div></div></div></div></div></div></div></div></div></div>"
      ],
      "text/plain": [
       "GridSearchCV(cv=8, estimator=RandomForestClassifier(),\n",
       "             param_grid={'criterion': ['gini', 'entropy'],\n",
       "                         'max_depth': [0, 4, 5, 6, 7, 8, 9],\n",
       "                         'max_features': ['log2', 'sqrt', 'auto'],\n",
       "                         'min_samples_split': [2, 3, 4, 5],\n",
       "                         'n_estimators': [50, 100, 150]},\n",
       "             scoring='accuracy')"
      ]
     },
     "execution_count": 189,
     "metadata": {},
     "output_type": "execute_result"
    }
   ],
   "source": [
    "gr.fit(x_train,y_train)"
   ]
  },
  {
   "cell_type": "code",
   "execution_count": 190,
   "id": "f44c8d1e",
   "metadata": {},
   "outputs": [
    {
     "data": {
      "text/plain": [
       "{'criterion': 'entropy',\n",
       " 'max_depth': 9,\n",
       " 'max_features': 'log2',\n",
       " 'min_samples_split': 3,\n",
       " 'n_estimators': 100}"
      ]
     },
     "execution_count": 190,
     "metadata": {},
     "output_type": "execute_result"
    }
   ],
   "source": [
    "gr.best_params_"
   ]
  },
  {
   "cell_type": "code",
   "execution_count": 191,
   "id": "6aed8d52",
   "metadata": {},
   "outputs": [],
   "source": [
    "RM1=RandomForestClassifier(criterion='entropy',max_depth=9,max_features='log2',min_samples_split=3,n_estimators=100)"
   ]
  },
  {
   "cell_type": "code",
   "execution_count": 192,
   "id": "e918e500",
   "metadata": {},
   "outputs": [
    {
     "data": {
      "text/html": [
       "<style>#sk-container-id-15 {color: black;background-color: white;}#sk-container-id-15 pre{padding: 0;}#sk-container-id-15 div.sk-toggleable {background-color: white;}#sk-container-id-15 label.sk-toggleable__label {cursor: pointer;display: block;width: 100%;margin-bottom: 0;padding: 0.3em;box-sizing: border-box;text-align: center;}#sk-container-id-15 label.sk-toggleable__label-arrow:before {content: \"▸\";float: left;margin-right: 0.25em;color: #696969;}#sk-container-id-15 label.sk-toggleable__label-arrow:hover:before {color: black;}#sk-container-id-15 div.sk-estimator:hover label.sk-toggleable__label-arrow:before {color: black;}#sk-container-id-15 div.sk-toggleable__content {max-height: 0;max-width: 0;overflow: hidden;text-align: left;background-color: #f0f8ff;}#sk-container-id-15 div.sk-toggleable__content pre {margin: 0.2em;color: black;border-radius: 0.25em;background-color: #f0f8ff;}#sk-container-id-15 input.sk-toggleable__control:checked~div.sk-toggleable__content {max-height: 200px;max-width: 100%;overflow: auto;}#sk-container-id-15 input.sk-toggleable__control:checked~label.sk-toggleable__label-arrow:before {content: \"▾\";}#sk-container-id-15 div.sk-estimator input.sk-toggleable__control:checked~label.sk-toggleable__label {background-color: #d4ebff;}#sk-container-id-15 div.sk-label input.sk-toggleable__control:checked~label.sk-toggleable__label {background-color: #d4ebff;}#sk-container-id-15 input.sk-hidden--visually {border: 0;clip: rect(1px 1px 1px 1px);clip: rect(1px, 1px, 1px, 1px);height: 1px;margin: -1px;overflow: hidden;padding: 0;position: absolute;width: 1px;}#sk-container-id-15 div.sk-estimator {font-family: monospace;background-color: #f0f8ff;border: 1px dotted black;border-radius: 0.25em;box-sizing: border-box;margin-bottom: 0.5em;}#sk-container-id-15 div.sk-estimator:hover {background-color: #d4ebff;}#sk-container-id-15 div.sk-parallel-item::after {content: \"\";width: 100%;border-bottom: 1px solid gray;flex-grow: 1;}#sk-container-id-15 div.sk-label:hover label.sk-toggleable__label {background-color: #d4ebff;}#sk-container-id-15 div.sk-serial::before {content: \"\";position: absolute;border-left: 1px solid gray;box-sizing: border-box;top: 0;bottom: 0;left: 50%;z-index: 0;}#sk-container-id-15 div.sk-serial {display: flex;flex-direction: column;align-items: center;background-color: white;padding-right: 0.2em;padding-left: 0.2em;position: relative;}#sk-container-id-15 div.sk-item {position: relative;z-index: 1;}#sk-container-id-15 div.sk-parallel {display: flex;align-items: stretch;justify-content: center;background-color: white;position: relative;}#sk-container-id-15 div.sk-item::before, #sk-container-id-15 div.sk-parallel-item::before {content: \"\";position: absolute;border-left: 1px solid gray;box-sizing: border-box;top: 0;bottom: 0;left: 50%;z-index: -1;}#sk-container-id-15 div.sk-parallel-item {display: flex;flex-direction: column;z-index: 1;position: relative;background-color: white;}#sk-container-id-15 div.sk-parallel-item:first-child::after {align-self: flex-end;width: 50%;}#sk-container-id-15 div.sk-parallel-item:last-child::after {align-self: flex-start;width: 50%;}#sk-container-id-15 div.sk-parallel-item:only-child::after {width: 0;}#sk-container-id-15 div.sk-dashed-wrapped {border: 1px dashed gray;margin: 0 0.4em 0.5em 0.4em;box-sizing: border-box;padding-bottom: 0.4em;background-color: white;}#sk-container-id-15 div.sk-label label {font-family: monospace;font-weight: bold;display: inline-block;line-height: 1.2em;}#sk-container-id-15 div.sk-label-container {text-align: center;}#sk-container-id-15 div.sk-container {/* jupyter's `normalize.less` sets `[hidden] { display: none; }` but bootstrap.min.css set `[hidden] { display: none !important; }` so we also need the `!important` here to be able to override the default hidden behavior on the sphinx rendered scikit-learn.org. See: https://github.com/scikit-learn/scikit-learn/issues/21755 */display: inline-block !important;position: relative;}#sk-container-id-15 div.sk-text-repr-fallback {display: none;}</style><div id=\"sk-container-id-15\" class=\"sk-top-container\"><div class=\"sk-text-repr-fallback\"><pre>RandomForestClassifier(criterion=&#x27;entropy&#x27;, max_depth=9, max_features=&#x27;log2&#x27;,\n",
       "                       min_samples_split=3)</pre><b>In a Jupyter environment, please rerun this cell to show the HTML representation or trust the notebook. <br />On GitHub, the HTML representation is unable to render, please try loading this page with nbviewer.org.</b></div><div class=\"sk-container\" hidden><div class=\"sk-item\"><div class=\"sk-estimator sk-toggleable\"><input class=\"sk-toggleable__control sk-hidden--visually\" id=\"sk-estimator-id-19\" type=\"checkbox\" checked><label for=\"sk-estimator-id-19\" class=\"sk-toggleable__label sk-toggleable__label-arrow\">RandomForestClassifier</label><div class=\"sk-toggleable__content\"><pre>RandomForestClassifier(criterion=&#x27;entropy&#x27;, max_depth=9, max_features=&#x27;log2&#x27;,\n",
       "                       min_samples_split=3)</pre></div></div></div></div></div>"
      ],
      "text/plain": [
       "RandomForestClassifier(criterion='entropy', max_depth=9, max_features='log2',\n",
       "                       min_samples_split=3)"
      ]
     },
     "execution_count": 192,
     "metadata": {},
     "output_type": "execute_result"
    }
   ],
   "source": [
    "RM1.fit(x_train,y_train)"
   ]
  },
  {
   "cell_type": "code",
   "execution_count": 193,
   "id": "0050efc8",
   "metadata": {},
   "outputs": [],
   "source": [
    "PRERM1=RM1.predict(x_test)"
   ]
  },
  {
   "cell_type": "code",
   "execution_count": 194,
   "id": "943961dc",
   "metadata": {},
   "outputs": [
    {
     "name": "stdout",
     "output_type": "stream",
     "text": [
      "0.9205607476635514\n",
      "[[169  27]\n",
      " [  7 225]]\n",
      "              precision    recall  f1-score   support\n",
      "\n",
      "           0       0.96      0.86      0.91       196\n",
      "           1       0.89      0.97      0.93       232\n",
      "\n",
      "    accuracy                           0.92       428\n",
      "   macro avg       0.93      0.92      0.92       428\n",
      "weighted avg       0.92      0.92      0.92       428\n",
      "\n"
     ]
    }
   ],
   "source": [
    "print(accuracy_score(y_test,PRERM1))\n",
    "print(confusion_matrix(y_test,PRERM1))\n",
    "print(classification_report(y_test,PRERM1))"
   ]
  },
  {
   "cell_type": "markdown",
   "id": "3e4e448d",
   "metadata": {},
   "source": [
    "THERE IS A SLIGHT IMPORVEMENT WRT TO CV SCORE( RMC), IT HAS RISEN TO 92.05% AS COMPARED TO 90.23%"
   ]
  },
  {
   "cell_type": "markdown",
   "id": "8e44faad",
   "metadata": {},
   "source": [
    "HENCE WE WILL PROCEED WITH RANDOM FOREST CLASSIFIER MODEL ONLY"
   ]
  },
  {
   "cell_type": "markdown",
   "id": "feb14177",
   "metadata": {},
   "source": [
    "AUC ROC CURVE"
   ]
  },
  {
   "cell_type": "code",
   "execution_count": 195,
   "id": "cfe380e8",
   "metadata": {},
   "outputs": [],
   "source": [
    "from sklearn.metrics import roc_curve\n",
    "from sklearn.metrics import roc_auc_score"
   ]
  },
  {
   "cell_type": "code",
   "execution_count": 196,
   "id": "fbdf7e5a",
   "metadata": {},
   "outputs": [],
   "source": [
    "y_pred_prob=RM1.predict_proba(x_test)[:,1]"
   ]
  },
  {
   "cell_type": "code",
   "execution_count": 197,
   "id": "bca9f0d3",
   "metadata": {},
   "outputs": [
    {
     "data": {
      "text/plain": [
       "array([1.10434402e-01, 7.65857963e-01, 8.53207663e-01, 2.63026439e-01,\n",
       "       8.31415104e-01, 9.32612954e-01, 3.57352140e-01, 9.04558874e-01,\n",
       "       8.31285825e-01, 9.72771971e-01, 7.98937902e-01, 9.76332349e-01,\n",
       "       8.42140345e-01, 7.73864021e-02, 9.21168192e-01, 8.31055012e-01,\n",
       "       7.34468682e-01, 1.43878201e-01, 7.55165281e-01, 0.00000000e+00,\n",
       "       8.24797989e-01, 9.30149158e-01, 9.64267954e-01, 1.10637829e-01,\n",
       "       9.12963898e-01, 8.42693616e-01, 7.10129166e-01, 5.20568040e-01,\n",
       "       5.14383722e-01, 6.89962515e-01, 5.43283404e-01, 1.00000000e-02,\n",
       "       1.50000000e-02, 1.92274018e-02, 9.05791394e-01, 1.46542986e-02,\n",
       "       6.99751861e-04, 3.85714286e-02, 8.98736630e-01, 7.60132463e-01,\n",
       "       8.32219519e-01, 3.57648257e-02, 8.93525868e-01, 1.04251271e-01,\n",
       "       2.25304063e-01, 8.57970333e-01, 7.56639708e-01, 3.29017833e-01,\n",
       "       8.44155148e-01, 8.38695567e-01, 8.19528321e-01, 8.36050404e-01,\n",
       "       6.24583333e-02, 1.82994192e-01, 8.99348057e-01, 7.23076923e-02,\n",
       "       9.56679051e-01, 9.03414513e-01, 2.58837772e-02, 4.84297064e-01,\n",
       "       9.10853382e-01, 0.00000000e+00, 8.63185609e-01, 0.00000000e+00,\n",
       "       9.94761607e-01, 8.51932147e-01, 8.89817432e-02, 9.00599875e-01,\n",
       "       8.14984500e-01, 2.63440860e-03, 8.89406056e-01, 9.18960068e-01,\n",
       "       0.00000000e+00, 5.38461538e-04, 1.43582108e-01, 3.70130091e-02,\n",
       "       8.78636123e-01, 8.04981465e-02, 9.34881057e-01, 7.65973059e-01,\n",
       "       8.58341300e-01, 5.06638028e-01, 7.08245576e-01, 0.00000000e+00,\n",
       "       9.03668623e-01, 8.93970425e-01, 1.02582050e-01, 7.78598901e-02,\n",
       "       6.88453979e-02, 8.95499081e-01, 6.36363006e-01, 9.20213426e-01,\n",
       "       7.07813238e-01, 9.94761607e-01, 8.62074320e-01, 9.61820707e-01,\n",
       "       7.51047622e-01, 2.39887101e-01, 0.00000000e+00, 9.00349517e-01,\n",
       "       9.53919220e-01, 3.30933082e-01, 7.12097718e-02, 2.13651206e-01,\n",
       "       7.02035518e-01, 4.44654431e-01, 8.93241711e-01, 9.39513195e-01,\n",
       "       8.29217826e-01, 8.57627184e-01, 5.65112567e-01, 7.86659033e-01,\n",
       "       9.76602620e-01, 8.26793309e-01, 5.90084672e-02, 9.01458424e-01,\n",
       "       6.94994150e-01, 9.56680139e-01, 7.93814086e-01, 9.08195586e-01,\n",
       "       5.46337580e-01, 7.95960154e-01, 9.02126770e-01, 9.79681114e-01,\n",
       "       7.24424188e-01, 3.22563355e-01, 1.84759868e-01, 5.36687964e-01,\n",
       "       9.83862758e-01, 1.00000000e-03, 9.81300334e-01, 9.57554409e-01,\n",
       "       9.15780464e-01, 9.56139058e-01, 9.02142367e-01, 8.54480416e-01,\n",
       "       2.79065860e-03, 1.00000000e-02, 9.71170558e-01, 9.20226631e-01,\n",
       "       4.27656958e-01, 2.19039216e-02, 5.01424501e-02, 1.40147699e-01,\n",
       "       7.51347998e-01, 6.69152907e-01, 9.78980153e-01, 6.76765559e-01,\n",
       "       9.79980255e-01, 4.78571429e-02, 9.55216853e-01, 9.03123366e-01,\n",
       "       2.33631626e-02, 9.54217731e-01, 1.18070175e-01, 5.99717966e-01,\n",
       "       2.85688449e-01, 8.12113365e-01, 8.14572967e-01, 6.20368848e-01,\n",
       "       3.37894957e-01, 8.49894878e-01, 9.12614179e-01, 0.00000000e+00,\n",
       "       7.18984700e-01, 4.30820382e-02, 8.34366110e-01, 9.54982833e-01,\n",
       "       9.66650084e-01, 2.78694034e-01, 0.00000000e+00, 1.26344086e-02,\n",
       "       0.00000000e+00, 9.72102389e-01, 9.25338852e-01, 9.56660792e-01,\n",
       "       2.27272727e-03, 9.56697129e-01, 9.07153137e-01, 0.00000000e+00,\n",
       "       9.25797386e-02, 6.60971634e-01, 9.44907378e-01, 1.52709976e-01,\n",
       "       8.39756100e-02, 9.94761607e-01, 3.74956138e-01, 6.45244629e-01,\n",
       "       6.21428571e-02, 1.35384615e-02, 9.24736992e-01, 2.14637737e-02,\n",
       "       8.82288911e-01, 9.73830495e-01, 5.73458898e-01, 1.44013815e-01,\n",
       "       9.80111644e-01, 8.05077474e-01, 2.32065895e-01, 7.15443540e-01,\n",
       "       8.64932518e-01, 8.55819638e-01, 1.48915674e-01, 5.30134349e-02,\n",
       "       5.44395921e-01, 9.56020511e-01, 5.16868258e-02, 5.71385379e-01,\n",
       "       3.86201466e-01, 8.01545134e-01, 3.18840580e-03, 7.33952335e-01,\n",
       "       6.44535509e-02, 9.16357693e-01, 8.33333333e-03, 2.23163925e-01,\n",
       "       8.88938970e-01, 9.79363165e-01, 6.87115673e-01, 3.91713805e-01,\n",
       "       5.76561162e-02, 9.76602620e-01, 6.70171842e-01, 7.27061631e-01,\n",
       "       6.85464508e-01, 4.95264270e-01, 8.27406609e-02, 9.05746908e-01,\n",
       "       8.45397978e-01, 9.65475101e-01, 7.66753913e-01, 1.68748483e-01,\n",
       "       1.69491525e-04, 9.16339035e-01, 2.75621586e-01, 9.76062079e-01,\n",
       "       1.42624466e-01, 9.05963822e-01, 9.18685783e-01, 1.06909112e-01,\n",
       "       9.70912439e-01, 8.82090191e-01, 7.54580391e-01, 8.50282486e-03,\n",
       "       7.11418739e-01, 9.69937728e-01, 9.52293401e-01, 7.88960068e-01,\n",
       "       1.98342249e-01, 1.57380254e-03, 5.47022267e-01, 2.16949153e-03,\n",
       "       1.00000000e-02, 8.25635958e-01, 2.00000000e-02, 8.00852253e-01,\n",
       "       8.80265207e-01, 5.09834536e-02, 1.50000000e-02, 7.69653603e-01,\n",
       "       1.00000000e-02, 4.60311980e-01, 1.46948052e-01, 0.00000000e+00,\n",
       "       9.93758154e-01, 4.58502948e-02, 9.05603018e-01, 8.92867384e-01,\n",
       "       9.36471077e-01, 1.80769226e-01, 1.52083922e-01, 9.09122831e-01,\n",
       "       9.76757965e-01, 1.69491525e-04, 1.00000000e-02, 6.43777778e-02,\n",
       "       8.27121993e-01, 9.00038102e-01, 3.70549617e-01, 1.69412033e-01,\n",
       "       2.69815215e-01, 9.59964075e-01, 1.05384615e-02, 4.43853738e-01,\n",
       "       8.72354543e-01, 2.21008502e-01, 5.44615385e-03, 9.85152232e-01,\n",
       "       4.42220179e-02, 4.38848888e-01, 4.61218338e-01, 9.01386102e-01,\n",
       "       8.59828842e-01, 6.49987698e-01, 1.45083200e-01, 2.50000000e-02,\n",
       "       7.68142681e-01, 3.79778044e-01, 1.50684252e-01, 7.61298953e-01,\n",
       "       5.16129032e-03, 9.02206873e-01, 9.48841466e-01, 9.36775702e-01,\n",
       "       2.60062905e-01, 2.22797070e-01, 5.56731572e-01, 9.60888272e-01,\n",
       "       9.14198829e-01, 9.58071638e-01, 2.42886843e-01, 9.85675558e-01,\n",
       "       9.76568161e-01, 9.56992374e-01, 9.30000000e-02, 1.71009832e-01,\n",
       "       7.26614181e-01, 1.34352258e-02, 9.20753671e-01, 7.30475416e-01,\n",
       "       1.88486312e-02, 5.00000000e-03, 4.61551915e-01, 7.08501223e-01,\n",
       "       0.00000000e+00, 6.20065383e-01, 1.51944444e-01, 5.81316939e-01,\n",
       "       9.38338578e-01, 9.62935701e-01, 7.38134017e-01, 9.56115074e-01,\n",
       "       2.00000000e-02, 1.33313308e-02, 7.99606625e-01, 9.94761607e-01,\n",
       "       9.63960068e-01, 0.00000000e+00, 4.55274094e-02, 1.00300239e-01,\n",
       "       1.51628249e-01, 6.46996627e-01, 4.17491643e-01, 8.32822168e-03,\n",
       "       4.85288221e-02, 8.42711447e-01, 9.66390400e-01, 9.76602620e-01,\n",
       "       4.32413610e-01, 2.59398132e-01, 7.21720694e-01, 2.08213922e-01,\n",
       "       1.05468413e-01, 8.81046466e-01, 7.02646108e-01, 6.93407933e-01,\n",
       "       7.88238781e-01, 7.45474786e-01, 9.08267770e-01, 3.14689826e-02,\n",
       "       6.57755897e-01, 9.12283514e-01, 9.64516919e-01, 2.20908636e-01,\n",
       "       8.77085556e-01, 9.44788396e-01, 1.27533782e-01, 0.00000000e+00,\n",
       "       3.70230263e-02, 8.26081307e-01, 9.09421154e-01, 8.12731508e-01,\n",
       "       8.24000000e-02, 6.34006593e-02, 1.69491525e-04, 1.97455777e-01,\n",
       "       1.40703060e-02, 5.87877722e-01, 7.61189063e-01, 4.98043580e-01,\n",
       "       9.12160179e-01, 7.21484700e-01, 9.09123676e-01, 8.24159691e-01,\n",
       "       3.30294606e-01, 9.52961663e-01, 7.19717451e-01, 8.27695011e-01,\n",
       "       1.76024948e-01, 1.39205709e-01, 9.75894277e-01, 9.20102056e-01,\n",
       "       9.06982201e-01, 8.35872656e-01, 8.20972821e-01, 9.07490119e-01,\n",
       "       9.51256131e-01, 5.54968424e-01, 3.32894771e-01, 6.87305014e-01,\n",
       "       9.43700859e-01, 2.15555556e-03, 3.96487853e-01, 6.97979582e-01,\n",
       "       9.40555179e-01, 2.96153846e-02, 3.07605820e-02, 0.00000000e+00,\n",
       "       9.64895150e-01, 1.09064642e-02, 2.65114882e-01, 0.00000000e+00,\n",
       "       8.63496036e-01, 9.33780247e-02, 5.45195349e-02, 9.71738950e-01,\n",
       "       8.39603770e-01, 1.05263158e-03, 1.48000870e-01, 9.07215192e-01,\n",
       "       1.50756555e-01, 8.80367641e-01, 1.70676692e-02, 8.85636573e-01,\n",
       "       5.36091052e-01, 8.23812244e-01, 9.71846681e-01, 9.68451782e-01])"
      ]
     },
     "execution_count": 197,
     "metadata": {},
     "output_type": "execute_result"
    }
   ],
   "source": [
    "y_pred_prob"
   ]
  },
  {
   "cell_type": "code",
   "execution_count": 198,
   "id": "17d152a3",
   "metadata": {},
   "outputs": [],
   "source": [
    "tpr,fpr,thresholds=roc_curve(y_test,y_pred_prob)"
   ]
  },
  {
   "cell_type": "code",
   "execution_count": 199,
   "id": "dbdcd6fe",
   "metadata": {},
   "outputs": [
    {
     "data": {
      "text/plain": [
       "array([0.        , 0.        , 0.        , 0.        , 0.        ,\n",
       "       0.00510204, 0.00510204, 0.01020408, 0.01020408, 0.01530612,\n",
       "       0.01530612, 0.02040816, 0.02040816, 0.0255102 , 0.0255102 ,\n",
       "       0.03571429, 0.03571429, 0.04081633, 0.04081633, 0.05102041,\n",
       "       0.05102041, 0.06122449, 0.06122449, 0.07653061, 0.07653061,\n",
       "       0.08163265, 0.08163265, 0.08673469, 0.08673469, 0.09693878,\n",
       "       0.09693878, 0.10714286, 0.10714286, 0.1122449 , 0.1122449 ,\n",
       "       0.12244898, 0.12244898, 0.14285714, 0.14285714, 0.14795918,\n",
       "       0.14795918, 0.20408163, 0.20408163, 0.20918367, 0.20918367,\n",
       "       0.43367347, 0.43367347, 0.71428571, 0.7244898 , 0.73979592,\n",
       "       0.75      , 0.79081633, 0.81632653, 0.90306122, 0.91836735,\n",
       "       1.        ])"
      ]
     },
     "execution_count": 199,
     "metadata": {},
     "output_type": "execute_result"
    }
   ],
   "source": [
    "tpr"
   ]
  },
  {
   "cell_type": "code",
   "execution_count": 200,
   "id": "1801ea49",
   "metadata": {},
   "outputs": [
    {
     "data": {
      "text/plain": [
       "array([0.        , 0.01724138, 0.06465517, 0.07758621, 0.75      ,\n",
       "       0.75      , 0.76293103, 0.76293103, 0.7887931 , 0.7887931 ,\n",
       "       0.83189655, 0.83189655, 0.86637931, 0.86637931, 0.88362069,\n",
       "       0.88362069, 0.89224138, 0.89224138, 0.89655172, 0.89655172,\n",
       "       0.90948276, 0.90948276, 0.91810345, 0.91810345, 0.92672414,\n",
       "       0.92672414, 0.93965517, 0.93965517, 0.94827586, 0.94827586,\n",
       "       0.95258621, 0.95258621, 0.95689655, 0.95689655, 0.96551724,\n",
       "       0.96551724, 0.96982759, 0.96982759, 0.98275862, 0.98275862,\n",
       "       0.98706897, 0.98706897, 0.99137931, 0.99137931, 0.99568966,\n",
       "       0.99568966, 1.        , 1.        , 1.        , 1.        ,\n",
       "       1.        , 1.        , 1.        , 1.        , 1.        ,\n",
       "       1.        ])"
      ]
     },
     "execution_count": 200,
     "metadata": {},
     "output_type": "execute_result"
    }
   ],
   "source": [
    "fpr"
   ]
  },
  {
   "cell_type": "code",
   "execution_count": 201,
   "id": "14feb4a6",
   "metadata": {},
   "outputs": [
    {
     "data": {
      "text/plain": [
       "array([1.99476161e+00, 9.94761607e-01, 9.76757965e-01, 9.76602620e-01,\n",
       "       8.12113365e-01, 8.05077474e-01, 7.99606625e-01, 7.98937902e-01,\n",
       "       7.69653603e-01, 7.68142681e-01, 7.51347998e-01, 7.51047622e-01,\n",
       "       7.24424188e-01, 7.21720694e-01, 7.15443540e-01, 7.10129166e-01,\n",
       "       7.08245576e-01, 7.07813238e-01, 7.02646108e-01, 6.97979582e-01,\n",
       "       6.89962515e-01, 6.87115673e-01, 6.76765559e-01, 6.60971634e-01,\n",
       "       6.49987698e-01, 6.46996627e-01, 6.20368848e-01, 6.20065383e-01,\n",
       "       5.87877722e-01, 5.73458898e-01, 5.71385379e-01, 5.56731572e-01,\n",
       "       5.54968424e-01, 5.47022267e-01, 5.44395921e-01, 5.36687964e-01,\n",
       "       5.36091052e-01, 4.98043580e-01, 4.61551915e-01, 4.61218338e-01,\n",
       "       4.60311980e-01, 3.74956138e-01, 3.70549617e-01, 3.57352140e-01,\n",
       "       3.37894957e-01, 1.43878201e-01, 1.43582108e-01, 2.14637737e-02,\n",
       "       2.00000000e-02, 1.70676692e-02, 1.50000000e-02, 1.05384615e-02,\n",
       "       1.00000000e-02, 5.38461538e-04, 1.69491525e-04, 0.00000000e+00])"
      ]
     },
     "execution_count": 201,
     "metadata": {},
     "output_type": "execute_result"
    }
   ],
   "source": [
    "thresholds"
   ]
  },
  {
   "cell_type": "code",
   "execution_count": 202,
   "id": "ce20ad06",
   "metadata": {},
   "outputs": [
    {
     "data": {
      "image/png": "[encoded data removed]",
      "text/plain": [
       "<Figure size 432x288 with 1 Axes>"
      ]
     },
     "metadata": {
      "needs_background": "light"
     },
     "output_type": "display_data"
    }
   ],
   "source": [
    "plt.plot([0,1],[0,1],'k--')\n",
    "plt.plot(tpr,fpr,label='KNN')\n",
    "plt.xlabel('FALSE_POSITIVE_RATE')\n",
    "plt.ylabel('TRUE_POSITIVE_RATE')\n",
    "plt.title('KNN_CLASSIFIER')\n",
    "plt.show()"
   ]
  },
  {
   "cell_type": "code",
   "execution_count": 204,
   "id": "c9691e5e",
   "metadata": {},
   "outputs": [
    {
     "data": {
      "text/plain": [
       "0.9160362420830401"
      ]
     },
     "execution_count": 204,
     "metadata": {},
     "output_type": "execute_result"
    }
   ],
   "source": [
    "auc_score=roc_auc_score(y_test,(RM1.predict(x_test)))\n",
    "auc_score"
   ]
  },
  {
   "cell_type": "markdown",
   "id": "443e52d5",
   "metadata": {},
   "source": [
    "SAVING THE MODEL "
   ]
  },
  {
   "cell_type": "code",
   "execution_count": 205,
   "id": "23863dba",
   "metadata": {},
   "outputs": [],
   "source": [
    "import pickle"
   ]
  },
  {
   "cell_type": "code",
   "execution_count": 206,
   "id": "e85702b6",
   "metadata": {},
   "outputs": [],
   "source": [
    "filename='churn.pkl'\n",
    "pickle.dump(RM1,open(filename,'wb'))"
   ]
  },
  {
   "cell_type": "code",
   "execution_count": 207,
   "id": "4da28eec",
   "metadata": {},
   "outputs": [],
   "source": [
    "loaded_model=pickle.load(open('churn.pkl','rb'))"
   ]
  },
  {
   "cell_type": "code",
   "execution_count": 208,
   "id": "1fb7c698",
   "metadata": {},
   "outputs": [],
   "source": [
    "conclusion=pd.DataFrame([loaded_model.predict(x_test)[:],y_test[:]],index=['PREDICTED','ORIGINAL'])"
   ]
  },
  {
   "cell_type": "code",
   "execution_count": 209,
   "id": "c0301043",
   "metadata": {},
   "outputs": [
    {
     "data": {
      "text/html": [
       "<div>\n",
       "<style scoped>\n",
       "    .dataframe tbody tr th:only-of-type {\n",
       "        vertical-align: middle;\n",
       "    }\n",
       "\n",
       "    .dataframe tbody tr th {\n",
       "        vertical-align: top;\n",
       "    }\n",
       "\n",
       "    .dataframe thead th {\n",
       "        text-align: right;\n",
       "    }\n",
       "</style>\n",
       "<table border=\"1\" class=\"dataframe\">\n",
       "  <thead>\n",
       "    <tr style=\"text-align: right;\">\n",
       "      <th></th>\n",
       "      <th>0</th>\n",
       "      <th>1</th>\n",
       "      <th>2</th>\n",
       "      <th>3</th>\n",
       "      <th>4</th>\n",
       "      <th>5</th>\n",
       "      <th>6</th>\n",
       "      <th>7</th>\n",
       "      <th>8</th>\n",
       "      <th>9</th>\n",
       "      <th>...</th>\n",
       "      <th>418</th>\n",
       "      <th>419</th>\n",
       "      <th>420</th>\n",
       "      <th>421</th>\n",
       "      <th>422</th>\n",
       "      <th>423</th>\n",
       "      <th>424</th>\n",
       "      <th>425</th>\n",
       "      <th>426</th>\n",
       "      <th>427</th>\n",
       "    </tr>\n",
       "  </thead>\n",
       "  <tbody>\n",
       "    <tr>\n",
       "      <th>PREDICTED</th>\n",
       "      <td>0</td>\n",
       "      <td>1</td>\n",
       "      <td>1</td>\n",
       "      <td>0</td>\n",
       "      <td>1</td>\n",
       "      <td>1</td>\n",
       "      <td>0</td>\n",
       "      <td>1</td>\n",
       "      <td>1</td>\n",
       "      <td>1</td>\n",
       "      <td>...</td>\n",
       "      <td>0</td>\n",
       "      <td>1</td>\n",
       "      <td>0</td>\n",
       "      <td>1</td>\n",
       "      <td>0</td>\n",
       "      <td>1</td>\n",
       "      <td>1</td>\n",
       "      <td>1</td>\n",
       "      <td>1</td>\n",
       "      <td>1</td>\n",
       "    </tr>\n",
       "    <tr>\n",
       "      <th>ORIGINAL</th>\n",
       "      <td>0</td>\n",
       "      <td>1</td>\n",
       "      <td>1</td>\n",
       "      <td>0</td>\n",
       "      <td>1</td>\n",
       "      <td>1</td>\n",
       "      <td>0</td>\n",
       "      <td>1</td>\n",
       "      <td>1</td>\n",
       "      <td>1</td>\n",
       "      <td>...</td>\n",
       "      <td>0</td>\n",
       "      <td>1</td>\n",
       "      <td>0</td>\n",
       "      <td>1</td>\n",
       "      <td>0</td>\n",
       "      <td>1</td>\n",
       "      <td>1</td>\n",
       "      <td>1</td>\n",
       "      <td>1</td>\n",
       "      <td>1</td>\n",
       "    </tr>\n",
       "  </tbody>\n",
       "</table>\n",
       "<p>2 rows × 428 columns</p>\n",
       "</div>"
      ],
      "text/plain": [
       "           0    1    2    3    4    5    6    7    8    9    ...  418  419  \\\n",
       "PREDICTED    0    1    1    0    1    1    0    1    1    1  ...    0    1   \n",
       "ORIGINAL     0    1    1    0    1    1    0    1    1    1  ...    0    1   \n",
       "\n",
       "           420  421  422  423  424  425  426  427  \n",
       "PREDICTED    0    1    0    1    1    1    1    1  \n",
       "ORIGINAL     0    1    0    1    1    1    1    1  \n",
       "\n",
       "[2 rows x 428 columns]"
      ]
     },
     "execution_count": 209,
     "metadata": {},
     "output_type": "execute_result"
    }
   ],
   "source": [
    "conclusion"
   ]
  },
  {
   "cell_type": "code",
   "execution_count": null,
   "id": "13b40a15",
   "metadata": {},
   "outputs": [],
   "source": []
  }
 ],
 "metadata": {
  "kernelspec": {
   "display_name": "Python 3 (ipykernel)",
   "language": "python",
   "name": "python3"
  },
  "language_info": {
   "codemirror_mode": {
    "name": "ipython",
    "version": 3
   },
   "file_extension": ".py",
   "mimetype": "text/x-python",
   "name": "python",
   "nbconvert_exporter": "python",
   "pygments_lexer": "ipython3",
   "version": "3.9.7"
  }
 },
 "nbformat": 4,
 "nbformat_minor": 5
}
